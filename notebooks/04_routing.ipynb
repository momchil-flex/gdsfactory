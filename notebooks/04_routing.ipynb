{
 "cells": [
  {
   "cell_type": "markdown",
   "metadata": {},
   "source": [
    "# Routing optical and RF ports\n",
    "\n",
    "Optical and high speed RF ports have an orientation that routes need to follow to avoid sharp turns that produce reflections."
   ]
  },
  {
   "cell_type": "code",
   "execution_count": 1,
   "metadata": {
    "execution": {
     "iopub.execute_input": "2022-06-15T17:08:08.176635Z",
     "iopub.status.busy": "2022-06-15T17:08:08.176395Z",
     "iopub.status.idle": "2022-06-15T17:08:10.219283Z",
     "shell.execute_reply": "2022-06-15T17:08:10.218660Z"
    }
   },
   "outputs": [
    {
     "name": "stderr",
     "output_type": "stream",
     "text": [
      "2022-06-15 17:08:09.009 | INFO     | gdsfactory.config:<module>:52 - Load '/home/runner/work/gdsfactory/gdsfactory/gdsfactory' 5.10.3\n"
     ]
    }
   ],
   "source": [
    "import gdsfactory as gf\n",
    "\n",
    "gf.config.set_plot_options(show_subports=False)\n",
    "gf.CONF.plotter = \"matplotlib\""
   ]
  },
  {
   "cell_type": "code",
   "execution_count": 2,
   "metadata": {
    "execution": {
     "iopub.execute_input": "2022-06-15T17:08:10.222854Z",
     "iopub.status.busy": "2022-06-15T17:08:10.222383Z",
     "iopub.status.idle": "2022-06-15T17:08:10.354813Z",
     "shell.execute_reply": "2022-06-15T17:08:10.354237Z"
    }
   },
   "outputs": [
    {
     "name": "stderr",
     "output_type": "stream",
     "text": [
      "/home/runner/work/gdsfactory/gdsfactory/gdsfactory/component.py:1032: UserWarning: Component 'Unnamed_2bdb5a49' contains 1 Unnamed cells\n",
      "  warnings.warn(\n"
     ]
    },
    {
     "data": {
      "image/png": "[encoded data removed]",
      "text/plain": [
       "<Figure size 432x288 with 1 Axes>"
      ]
     },
     "metadata": {
      "needs_background": "light"
     },
     "output_type": "display_data"
    },
    {
     "data": {
      "text/html": [
       "Unnamed_2bdb5a49: uid 0, ports [], aliases [], 0 polygons, 2 references"
      ],
      "text/plain": [
       "Unnamed_2bdb5a49: uid 0, ports [], aliases [], 0 polygons, 2 references"
      ]
     },
     "execution_count": 2,
     "metadata": {},
     "output_type": "execute_result"
    }
   ],
   "source": [
    "c = gf.Component()\n",
    "mmi1 = c << gf.components.mmi1x2()\n",
    "mmi2 = c << gf.components.mmi1x2()\n",
    "mmi2.move((100, 50))\n",
    "c"
   ]
  },
  {
   "cell_type": "markdown",
   "metadata": {},
   "source": [
    "## get_route\n",
    "\n",
    "`get_route` returns a Manhattan route between 2 ports"
   ]
  },
  {
   "cell_type": "code",
   "execution_count": 3,
   "metadata": {
    "execution": {
     "iopub.execute_input": "2022-06-15T17:08:10.358421Z",
     "iopub.status.busy": "2022-06-15T17:08:10.358190Z",
     "iopub.status.idle": "2022-06-15T17:08:10.402904Z",
     "shell.execute_reply": "2022-06-15T17:08:10.401776Z"
    }
   },
   "outputs": [],
   "source": [
    "gf.routing.get_route?"
   ]
  },
  {
   "cell_type": "code",
   "execution_count": 4,
   "metadata": {
    "execution": {
     "iopub.execute_input": "2022-06-15T17:08:10.406057Z",
     "iopub.status.busy": "2022-06-15T17:08:10.405532Z",
     "iopub.status.idle": "2022-06-15T17:08:10.537522Z",
     "shell.execute_reply": "2022-06-15T17:08:10.537058Z"
    }
   },
   "outputs": [
    {
     "data": {
      "image/png": "[encoded data removed]",
      "text/plain": [
       "<Figure size 432x288 with 1 Axes>"
      ]
     },
     "metadata": {
      "needs_background": "light"
     },
     "output_type": "display_data"
    },
    {
     "data": {
      "text/html": [
       "sample_connect: uid 5, ports [], aliases [], 0 polygons, 7 references"
      ],
      "text/plain": [
       "sample_connect: uid 5, ports [], aliases [], 0 polygons, 7 references"
      ]
     },
     "execution_count": 4,
     "metadata": {},
     "output_type": "execute_result"
    }
   ],
   "source": [
    "c = gf.Component(\"sample_connect\")\n",
    "mmi1 = c << gf.components.mmi1x2()\n",
    "mmi2 = c << gf.components.mmi1x2()\n",
    "mmi2.move((100, 50))\n",
    "route = gf.routing.get_route(mmi1.ports[\"o2\"], mmi2.ports[\"o1\"])\n",
    "c.add(route.references)\n",
    "c"
   ]
  },
  {
   "cell_type": "code",
   "execution_count": 5,
   "metadata": {
    "execution": {
     "iopub.execute_input": "2022-06-15T17:08:10.540207Z",
     "iopub.status.busy": "2022-06-15T17:08:10.539868Z",
     "iopub.status.idle": "2022-06-15T17:08:10.544657Z",
     "shell.execute_reply": "2022-06-15T17:08:10.544225Z"
    }
   },
   "outputs": [
    {
     "data": {
      "text/plain": [
       "Route(references=[DeviceReference (parent Device \"bend_euler\", ports ['o1', 'o2'], origin [69.99   0.625], rotation 0, x_reflection False), DeviceReference (parent Device \"bend_euler\", ports ['o1', 'o2'], origin [79.99 40.  ], rotation 90.0, x_reflection True), DeviceReference (parent Device \"straight_89bf0bf0\", ports ['o1', 'o2'], origin [15.5    0.625], rotation 0, x_reflection False), DeviceReference (parent Device \"straight_7e83a799\", ports ['o1', 'o2'], origin [79.99  10.625], rotation 90.0, x_reflection False), DeviceReference (parent Device \"straight_77b336e2\", ports ['o1', 'o2'], origin [89.99 50.  ], rotation 0, x_reflection False)], labels=None, ports=(Port (name o1, midpoint [15.5    0.625], width 0.5, orientation 180, layer (1, 0), port_type optical), Port (name o2, midpoint [90. 50.], width 0.5, orientation 0.0, layer (1, 0), port_type optical)), length=117.149)"
      ]
     },
     "execution_count": 5,
     "metadata": {},
     "output_type": "execute_result"
    }
   ],
   "source": [
    "route"
   ]
  },
  {
   "cell_type": "markdown",
   "metadata": {},
   "source": [
    "**Problem**: get_route with obstacles\n",
    "\n",
    "sometimes there are obstacles that connect strip does not see!"
   ]
  },
  {
   "cell_type": "code",
   "execution_count": 6,
   "metadata": {
    "execution": {
     "iopub.execute_input": "2022-06-15T17:08:10.547597Z",
     "iopub.status.busy": "2022-06-15T17:08:10.547100Z",
     "iopub.status.idle": "2022-06-15T17:08:10.671616Z",
     "shell.execute_reply": "2022-06-15T17:08:10.671142Z"
    }
   },
   "outputs": [
    {
     "data": {
      "image/png": "[encoded data removed]",
      "text/plain": [
       "<Figure size 432x288 with 1 Axes>"
      ]
     },
     "metadata": {
      "needs_background": "light"
     },
     "output_type": "display_data"
    },
    {
     "data": {
      "text/html": [
       "sample_problem: uid 15, ports [], aliases [], 0 polygons, 8 references"
      ],
      "text/plain": [
       "sample_problem: uid 15, ports [], aliases [], 0 polygons, 8 references"
      ]
     },
     "execution_count": 6,
     "metadata": {},
     "output_type": "execute_result"
    }
   ],
   "source": [
    "c = gf.Component(\"sample_problem\")\n",
    "mmi1 = c << gf.components.mmi1x2()\n",
    "mmi2 = c << gf.components.mmi1x2()\n",
    "mmi2.move((110, 50))\n",
    "x = c << gf.components.cross(length=20)\n",
    "x.move((135, 20))\n",
    "route = gf.routing.get_route(mmi1.ports[\"o2\"], mmi2.ports[\"o2\"])\n",
    "c.add(route.references)\n",
    "c"
   ]
  },
  {
   "cell_type": "markdown",
   "metadata": {},
   "source": [
    "**Solutions:**\n",
    "\n",
    "- specify the route waypoints\n",
    "- specify the route steps"
   ]
  },
  {
   "cell_type": "code",
   "execution_count": 7,
   "metadata": {
    "execution": {
     "iopub.execute_input": "2022-06-15T17:08:10.674293Z",
     "iopub.status.busy": "2022-06-15T17:08:10.673951Z",
     "iopub.status.idle": "2022-06-15T17:08:10.889717Z",
     "shell.execute_reply": "2022-06-15T17:08:10.889240Z"
    }
   },
   "outputs": [
    {
     "data": {
      "image/png": "[encoded data removed]",
      "text/plain": [
       "<Figure size 432x288 with 1 Axes>"
      ]
     },
     "metadata": {
      "needs_background": "light"
     },
     "output_type": "display_data"
    },
    {
     "data": {
      "text/html": [
       "sample_avoid_obstacle: uid 23, ports [], aliases [], 0 polygons, 8 references"
      ],
      "text/plain": [
       "sample_avoid_obstacle: uid 23, ports [], aliases [], 0 polygons, 8 references"
      ]
     },
     "execution_count": 7,
     "metadata": {},
     "output_type": "execute_result"
    }
   ],
   "source": [
    "c = gf.Component(\"sample_avoid_obstacle\")\n",
    "mmi1 = c << gf.components.mmi1x2()\n",
    "mmi2 = c << gf.components.mmi1x2()\n",
    "mmi2.move((110, 50))\n",
    "x = c << gf.components.cross(length=20)\n",
    "x.move((135, 20))\n",
    "\n",
    "x0 = mmi1.ports[\"o3\"].x\n",
    "y0 = mmi1.ports[\"o3\"].y\n",
    "\n",
    "\n",
    "x2 = mmi2.ports[\"o3\"].x\n",
    "y2 = mmi2.ports[\"o3\"].y\n",
    "\n",
    "route = gf.routing.get_route_from_waypoints(\n",
    "    [(x0, y0), (x2 + 40, y0), (x2 + 40, y2), (x2, y2)]\n",
    ")\n",
    "c.add(route.references)\n",
    "c"
   ]
  },
  {
   "cell_type": "code",
   "execution_count": 8,
   "metadata": {
    "execution": {
     "iopub.execute_input": "2022-06-15T17:08:10.893001Z",
     "iopub.status.busy": "2022-06-15T17:08:10.892417Z",
     "iopub.status.idle": "2022-06-15T17:08:10.898041Z",
     "shell.execute_reply": "2022-06-15T17:08:10.897459Z"
    }
   },
   "outputs": [
    {
     "data": {
      "text/plain": [
       "233.274"
      ]
     },
     "execution_count": 8,
     "metadata": {},
     "output_type": "execute_result"
    }
   ],
   "source": [
    "route.length"
   ]
  },
  {
   "cell_type": "code",
   "execution_count": 9,
   "metadata": {
    "execution": {
     "iopub.execute_input": "2022-06-15T17:08:10.900542Z",
     "iopub.status.busy": "2022-06-15T17:08:10.900328Z",
     "iopub.status.idle": "2022-06-15T17:08:10.905594Z",
     "shell.execute_reply": "2022-06-15T17:08:10.905015Z"
    }
   },
   "outputs": [
    {
     "data": {
      "text/plain": [
       "(Port (name o1, midpoint [15.5   -0.625], width 0.5, orientation 180, layer (1, 0), port_type optical),\n",
       " Port (name o2, midpoint [125.5    49.375], width 0.5, orientation 180.0, layer (1, 0), port_type optical))"
      ]
     },
     "execution_count": 9,
     "metadata": {},
     "output_type": "execute_result"
    }
   ],
   "source": [
    "route.ports"
   ]
  },
  {
   "cell_type": "code",
   "execution_count": 10,
   "metadata": {
    "execution": {
     "iopub.execute_input": "2022-06-15T17:08:10.908146Z",
     "iopub.status.busy": "2022-06-15T17:08:10.907940Z",
     "iopub.status.idle": "2022-06-15T17:08:10.912897Z",
     "shell.execute_reply": "2022-06-15T17:08:10.912345Z"
    }
   },
   "outputs": [
    {
     "data": {
      "text/plain": [
       "[DeviceReference (parent Device \"bend_euler_44e21782\", ports ['o1', 'o2'], origin [155.5    -0.625], rotation 0, x_reflection False),\n",
       " DeviceReference (parent Device \"bend_euler_44e21782\", ports ['o1', 'o2'], origin [165.5    39.375], rotation 90, x_reflection False),\n",
       " DeviceReference (parent Device \"straight_20c5b743\", ports ['o1', 'o2'], origin [15.5   -0.625], rotation 0, x_reflection False),\n",
       " DeviceReference (parent Device \"straight_a0111d3a\", ports ['o1', 'o2'], origin [165.5     9.375], rotation 90.0, x_reflection False),\n",
       " DeviceReference (parent Device \"straight_a0111d3a\", ports ['o1', 'o2'], origin [155.5    49.375], rotation 180.0, x_reflection False)]"
      ]
     },
     "execution_count": 10,
     "metadata": {},
     "output_type": "execute_result"
    }
   ],
   "source": [
    "route.references"
   ]
  },
  {
   "cell_type": "markdown",
   "metadata": {},
   "source": [
    "Lets say that we want to extrude the waveguide using a different waveguide crosssection, for example using a different layer"
   ]
  },
  {
   "cell_type": "code",
   "execution_count": 11,
   "metadata": {
    "execution": {
     "iopub.execute_input": "2022-06-15T17:08:10.915385Z",
     "iopub.status.busy": "2022-06-15T17:08:10.915183Z",
     "iopub.status.idle": "2022-06-15T17:08:11.039643Z",
     "shell.execute_reply": "2022-06-15T17:08:11.039078Z"
    }
   },
   "outputs": [
    {
     "data": {
      "image/png": "[encoded data removed]",
      "text/plain": [
       "<Figure size 432x288 with 1 Axes>"
      ]
     },
     "metadata": {
      "needs_background": "light"
     },
     "output_type": "display_data"
    },
    {
     "data": {
      "text/html": [
       "sample_connect: uid 29, ports [], aliases [], 0 polygons, 7 references"
      ],
      "text/plain": [
       "sample_connect: uid 29, ports [], aliases [], 0 polygons, 7 references"
      ]
     },
     "execution_count": 11,
     "metadata": {},
     "output_type": "execute_result"
    }
   ],
   "source": [
    "import gdsfactory as gf\n",
    "\n",
    "c = gf.Component(\"sample_connect\")\n",
    "mmi1 = c << gf.components.mmi1x2()\n",
    "mmi2 = c << gf.components.mmi1x2()\n",
    "mmi2.move((100, 50))\n",
    "route = gf.routing.get_route(\n",
    "    mmi1.ports[\"o3\"], mmi2.ports[\"o1\"], cross_section=gf.cross_section.metal1\n",
    ")\n",
    "c.add(route.references)\n",
    "c"
   ]
  },
  {
   "cell_type": "markdown",
   "metadata": {},
   "source": [
    "## auto_widen\n",
    "\n",
    "To reduce loss and phase errors you can also auto-widen waveguide routes straight sections that are longer than a certain length."
   ]
  },
  {
   "cell_type": "code",
   "execution_count": 12,
   "metadata": {
    "execution": {
     "iopub.execute_input": "2022-06-15T17:08:11.043113Z",
     "iopub.status.busy": "2022-06-15T17:08:11.042776Z",
     "iopub.status.idle": "2022-06-15T17:08:11.176668Z",
     "shell.execute_reply": "2022-06-15T17:08:11.176100Z"
    }
   },
   "outputs": [
    {
     "data": {
      "image/png": "[encoded data removed]",
      "text/plain": [
       "<Figure size 432x288 with 1 Axes>"
      ]
     },
     "metadata": {
      "needs_background": "light"
     },
     "output_type": "display_data"
    },
    {
     "data": {
      "text/html": [
       "sample_connect: uid 39, ports [], aliases [], 0 polygons, 9 references"
      ],
      "text/plain": [
       "sample_connect: uid 39, ports [], aliases [], 0 polygons, 9 references"
      ]
     },
     "execution_count": 12,
     "metadata": {},
     "output_type": "execute_result"
    }
   ],
   "source": [
    "import gdsfactory as gf\n",
    "\n",
    "c = gf.Component(\"sample_connect\")\n",
    "mmi1 = c << gf.components.mmi1x2()\n",
    "mmi2 = c << gf.components.mmi1x2()\n",
    "mmi2.move((200, 50))\n",
    "\n",
    "route = gf.routing.get_route(\n",
    "    mmi1.ports[\"o3\"],\n",
    "    mmi2.ports[\"o1\"],\n",
    "    cross_section=gf.cross_section.strip,\n",
    "    auto_widen=True,\n",
    "    width_wide=2,\n",
    "    auto_widen_minimum_length=100,\n",
    ")\n",
    "c.add(route.references)\n",
    "c"
   ]
  },
  {
   "cell_type": "markdown",
   "metadata": {},
   "source": [
    "## get_route_from_waypoints\n",
    "\n",
    "Sometimes you need to set up a route with custom waypoints. `get_route_from_waypoints` is a manual version of `get_route`"
   ]
  },
  {
   "cell_type": "code",
   "execution_count": 13,
   "metadata": {
    "execution": {
     "iopub.execute_input": "2022-06-15T17:08:11.181541Z",
     "iopub.status.busy": "2022-06-15T17:08:11.181076Z",
     "iopub.status.idle": "2022-06-15T17:08:11.313214Z",
     "shell.execute_reply": "2022-06-15T17:08:11.312643Z"
    }
   },
   "outputs": [
    {
     "data": {
      "image/png": "[encoded data removed]",
      "text/plain": [
       "<Figure size 432x288 with 1 Axes>"
      ]
     },
     "metadata": {
      "needs_background": "light"
     },
     "output_type": "display_data"
    },
    {
     "data": {
      "text/html": [
       "waypoints_sample: uid 49, ports [], aliases [], 0 polygons, 10 references"
      ],
      "text/plain": [
       "waypoints_sample: uid 49, ports [], aliases [], 0 polygons, 10 references"
      ]
     },
     "execution_count": 13,
     "metadata": {},
     "output_type": "execute_result"
    }
   ],
   "source": [
    "import gdsfactory as gf\n",
    "\n",
    "c = gf.Component(\"waypoints_sample\")\n",
    "\n",
    "w = gf.components.straight()\n",
    "left = c << w\n",
    "right = c << w\n",
    "right.move((100, 80))\n",
    "\n",
    "obstacle = gf.components.rectangle(size=(100, 10))\n",
    "obstacle1 = c << obstacle\n",
    "obstacle2 = c << obstacle\n",
    "obstacle1.ymin = 40\n",
    "obstacle2.xmin = 25\n",
    "\n",
    "\n",
    "p0x, p0y = left.ports[\"o2\"].midpoint\n",
    "p1x, p1y = right.ports[\"o2\"].midpoint\n",
    "o = 10  # vertical offset to overcome bottom obstacle\n",
    "ytop = 20\n",
    "\n",
    "\n",
    "routes = gf.routing.get_route_from_waypoints(\n",
    "    [\n",
    "        (p0x, p0y),\n",
    "        (p0x + o, p0y),\n",
    "        (p0x + o, ytop),\n",
    "        (p1x + o, ytop),\n",
    "        (p1x + o, p1y),\n",
    "        (p1x, p1y),\n",
    "    ],\n",
    ")\n",
    "c.add(routes.references)\n",
    "c"
   ]
  },
  {
   "cell_type": "markdown",
   "metadata": {},
   "source": [
    "## get_route_from_steps\n",
    "\n",
    "As you can see waypoints can only change one point (x or y) at a time, making the waypoint definition a bit redundant.\n",
    "\n",
    "You can also use a `get_route_from_steps` which is a more concise route definition, that supports defining only the new steps `x` or `y` together with increments `dx` or `dy`\n",
    "\n",
    "`get_route_from_steps` is a manual version of `get_route` and a more concise and convenient version of `get_route_from_waypoints`"
   ]
  },
  {
   "cell_type": "code",
   "execution_count": 14,
   "metadata": {
    "execution": {
     "iopub.execute_input": "2022-06-15T17:08:11.316044Z",
     "iopub.status.busy": "2022-06-15T17:08:11.315694Z",
     "iopub.status.idle": "2022-06-15T17:08:11.432160Z",
     "shell.execute_reply": "2022-06-15T17:08:11.431668Z"
    }
   },
   "outputs": [
    {
     "data": {
      "image/png": "[encoded data removed]",
      "text/plain": [
       "<Figure size 432x288 with 1 Axes>"
      ]
     },
     "metadata": {
      "needs_background": "light"
     },
     "output_type": "display_data"
    },
    {
     "data": {
      "text/html": [
       "get_route_from_steps: uid 60, ports [], aliases [], 0 polygons, 10 references"
      ],
      "text/plain": [
       "get_route_from_steps: uid 60, ports [], aliases [], 0 polygons, 10 references"
      ]
     },
     "execution_count": 14,
     "metadata": {},
     "output_type": "execute_result"
    }
   ],
   "source": [
    "import gdsfactory as gf\n",
    "\n",
    "c = gf.Component(\"get_route_from_steps\")\n",
    "w = gf.components.straight()\n",
    "left = c << w\n",
    "right = c << w\n",
    "right.move((100, 80))\n",
    "\n",
    "obstacle = gf.components.rectangle(size=(100, 10))\n",
    "obstacle1 = c << obstacle\n",
    "obstacle2 = c << obstacle\n",
    "obstacle1.ymin = 40\n",
    "obstacle2.xmin = 25\n",
    "\n",
    "port1 = left.ports[\"o2\"]\n",
    "port2 = right.ports[\"o2\"]\n",
    "\n",
    "routes = gf.routing.get_route_from_steps(\n",
    "    port1=port1,\n",
    "    port2=port2,\n",
    "    steps=[\n",
    "        {\"x\": 20, \"y\": 0},\n",
    "        {\"x\": 20, \"y\": 20},\n",
    "        {\"x\": 120, \"y\": 20},\n",
    "        {\"x\": 120, \"y\": 80},\n",
    "    ],\n",
    ")\n",
    "c.add(routes.references)\n",
    "c"
   ]
  },
  {
   "cell_type": "code",
   "execution_count": 15,
   "metadata": {
    "execution": {
     "iopub.execute_input": "2022-06-15T17:08:11.434940Z",
     "iopub.status.busy": "2022-06-15T17:08:11.434553Z",
     "iopub.status.idle": "2022-06-15T17:08:11.550573Z",
     "shell.execute_reply": "2022-06-15T17:08:11.550086Z"
    }
   },
   "outputs": [
    {
     "data": {
      "image/png": "[encoded data removed]",
      "text/plain": [
       "<Figure size 432x288 with 1 Axes>"
      ]
     },
     "metadata": {
      "needs_background": "light"
     },
     "output_type": "display_data"
    },
    {
     "data": {
      "text/html": [
       "get_route_from_steps_shorter_syntax: uid 61, ports [], aliases [], 0 polygons, 10 references"
      ],
      "text/plain": [
       "get_route_from_steps_shorter_syntax: uid 61, ports [], aliases [], 0 polygons, 10 references"
      ]
     },
     "execution_count": 15,
     "metadata": {},
     "output_type": "execute_result"
    }
   ],
   "source": [
    "import gdsfactory as gf\n",
    "\n",
    "c = gf.Component(\"get_route_from_steps_shorter_syntax\")\n",
    "w = gf.components.straight()\n",
    "left = c << w\n",
    "right = c << w\n",
    "right.move((100, 80))\n",
    "\n",
    "obstacle = gf.components.rectangle(size=(100, 10))\n",
    "obstacle1 = c << obstacle\n",
    "obstacle2 = c << obstacle\n",
    "obstacle1.ymin = 40\n",
    "obstacle2.xmin = 25\n",
    "\n",
    "port1 = left.ports[\"o2\"]\n",
    "port2 = right.ports[\"o2\"]\n",
    "\n",
    "routes = gf.routing.get_route_from_steps(\n",
    "    port1=port1,\n",
    "    port2=port2,\n",
    "    steps=[\n",
    "        {\"x\": 20},\n",
    "        {\"y\": 20},\n",
    "        {\"x\": 120},\n",
    "        {\"y\": 80},\n",
    "    ],\n",
    ")\n",
    "c.add(routes.references)\n",
    "c"
   ]
  },
  {
   "cell_type": "markdown",
   "metadata": {},
   "source": [
    "## get_bundle\n",
    "\n",
    "**Problem**\n",
    "\n",
    "See the route collisions When connecting groups of ports using `get_route` manhattan single-route router"
   ]
  },
  {
   "cell_type": "code",
   "execution_count": 16,
   "metadata": {
    "execution": {
     "iopub.execute_input": "2022-06-15T17:08:11.553403Z",
     "iopub.status.busy": "2022-06-15T17:08:11.553015Z",
     "iopub.status.idle": "2022-06-15T17:08:11.713085Z",
     "shell.execute_reply": "2022-06-15T17:08:11.712594Z"
    }
   },
   "outputs": [
    {
     "data": {
      "image/png": "[encoded data removed]",
      "text/plain": [
       "<Figure size 432x288 with 1 Axes>"
      ]
     },
     "metadata": {
      "needs_background": "light"
     },
     "output_type": "display_data"
    },
    {
     "data": {
      "text/html": [
       "connect_bundle: uid 62, ports [], aliases [], 0 polygons, 30 references"
      ],
      "text/plain": [
       "connect_bundle: uid 62, ports [], aliases [], 0 polygons, 30 references"
      ]
     },
     "execution_count": 16,
     "metadata": {},
     "output_type": "execute_result"
    }
   ],
   "source": [
    "import gdsfactory as gf\n",
    "\n",
    "xs_top = [0, 10, 20, 40, 50, 80]\n",
    "pitch = 127\n",
    "N = len(xs_top)\n",
    "xs_bottom = [(i - N / 2) * pitch for i in range(N)]\n",
    "layer = (1, 0)\n",
    "\n",
    "top_ports = [\n",
    "    gf.Port(f\"top_{i}\", (xs_top[i], 0), 0.5, 270, layer=layer) for i in range(N)\n",
    "]\n",
    "\n",
    "bottom_ports = [\n",
    "    gf.Port(f\"bottom_{i}\", (xs_bottom[i], -100), 0.5, 90, layer=layer) for i in range(N)\n",
    "]\n",
    "\n",
    "c = gf.Component(name=\"connect_bundle\")\n",
    "\n",
    "for p1, p2 in zip(top_ports, bottom_ports):\n",
    "    route = gf.routing.get_route(p1, p2)\n",
    "    c.add(route.references)\n",
    "\n",
    "c"
   ]
  },
  {
   "cell_type": "markdown",
   "metadata": {},
   "source": [
    "**solution**\n",
    "\n",
    "`get_bundle` provides you with river routing capabilities, that you can use to route bundles of ports without collisions"
   ]
  },
  {
   "cell_type": "code",
   "execution_count": 17,
   "metadata": {
    "execution": {
     "iopub.execute_input": "2022-06-15T17:08:11.715873Z",
     "iopub.status.busy": "2022-06-15T17:08:11.715489Z",
     "iopub.status.idle": "2022-06-15T17:08:11.879248Z",
     "shell.execute_reply": "2022-06-15T17:08:11.878773Z"
    }
   },
   "outputs": [
    {
     "data": {
      "image/png": "[encoded data removed]",
      "text/plain": [
       "<Figure size 432x288 with 1 Axes>"
      ]
     },
     "metadata": {
      "needs_background": "light"
     },
     "output_type": "display_data"
    },
    {
     "data": {
      "text/html": [
       "connect_bundle: uid 77, ports [], aliases [], 0 polygons, 30 references"
      ],
      "text/plain": [
       "connect_bundle: uid 77, ports [], aliases [], 0 polygons, 30 references"
      ]
     },
     "execution_count": 17,
     "metadata": {},
     "output_type": "execute_result"
    }
   ],
   "source": [
    "c = gf.Component(name=\"connect_bundle\")\n",
    "routes = gf.routing.get_bundle(top_ports, bottom_ports)\n",
    "for route in routes:\n",
    "    c.add(route.references)\n",
    "\n",
    "c"
   ]
  },
  {
   "cell_type": "code",
   "execution_count": 18,
   "metadata": {
    "execution": {
     "iopub.execute_input": "2022-06-15T17:08:11.881992Z",
     "iopub.status.busy": "2022-06-15T17:08:11.881618Z",
     "iopub.status.idle": "2022-06-15T17:08:12.039972Z",
     "shell.execute_reply": "2022-06-15T17:08:12.039488Z"
    }
   },
   "outputs": [
    {
     "data": {
      "image/png": "[encoded data removed]",
      "text/plain": [
       "<Figure size 432x288 with 1 Axes>"
      ]
     },
     "metadata": {
      "needs_background": "light"
     },
     "output_type": "display_data"
    },
    {
     "data": {
      "text/html": [
       "connect_bundle2: uid 98, ports [], aliases [], 0 polygons, 30 references"
      ],
      "text/plain": [
       "connect_bundle2: uid 98, ports [], aliases [], 0 polygons, 30 references"
      ]
     },
     "execution_count": 18,
     "metadata": {},
     "output_type": "execute_result"
    }
   ],
   "source": [
    "import gdsfactory as gf\n",
    "\n",
    "ys_right = [0, 10, 20, 40, 50, 80]\n",
    "pitch = 127.0\n",
    "N = len(ys_right)\n",
    "ys_left = [(i - N / 2) * pitch for i in range(N)]\n",
    "layer = (1, 0)\n",
    "\n",
    "right_ports = [\n",
    "    gf.Port(f\"R_{i}\", (0, ys_right[i]), width=0.5, orientation=180, layer=layer)\n",
    "    for i in range(N)\n",
    "]\n",
    "left_ports = [\n",
    "    gf.Port(\n",
    "        f\"L_{i}\".format(i), (-200, ys_left[i]), width=0.5, orientation=0, layer=layer\n",
    "    )\n",
    "    for i in range(N)\n",
    "]\n",
    "\n",
    "# you can also mess up the port order and it will sort them by default\n",
    "left_ports.reverse()\n",
    "\n",
    "c = gf.Component(name=\"connect_bundle2\")\n",
    "routes = gf.routing.get_bundle(\n",
    "    left_ports, right_ports, sort_ports=True, start_straight_length=100\n",
    ")\n",
    "for route in routes:\n",
    "    c.add(route.references)\n",
    "c"
   ]
  },
  {
   "cell_type": "code",
   "execution_count": 19,
   "metadata": {
    "execution": {
     "iopub.execute_input": "2022-06-15T17:08:12.042547Z",
     "iopub.status.busy": "2022-06-15T17:08:12.042321Z",
     "iopub.status.idle": "2022-06-15T17:08:12.206416Z",
     "shell.execute_reply": "2022-06-15T17:08:12.205903Z"
    }
   },
   "outputs": [
    {
     "data": {
      "image/png": "[encoded data removed]",
      "text/plain": [
       "<Figure size 432x288 with 1 Axes>"
      ]
     },
     "metadata": {
      "needs_background": "light"
     },
     "output_type": "display_data"
    },
    {
     "data": {
      "text/html": [
       "connect_bundle: uid 107, ports [], aliases [], 0 polygons, 30 references"
      ],
      "text/plain": [
       "connect_bundle: uid 107, ports [], aliases [], 0 polygons, 30 references"
      ]
     },
     "execution_count": 19,
     "metadata": {},
     "output_type": "execute_result"
    }
   ],
   "source": [
    "xs_top = [0, 10, 20, 40, 50, 80]\n",
    "pitch = 127.0\n",
    "N = len(xs_top)\n",
    "xs_bottom = [(i - N / 2) * pitch for i in range(N)]\n",
    "layer = (1, 0)\n",
    "\n",
    "top_ports = [\n",
    "    gf.Port(\n",
    "        f\"top_{i}\", midpoint=(xs_top[i], 0), width=0.5, orientation=270, layer=layer\n",
    "    )\n",
    "    for i in range(N)\n",
    "]\n",
    "\n",
    "bot_ports = [\n",
    "    gf.Port(\n",
    "        f\"bot_{i}\",\n",
    "        midpoint=(xs_bottom[i], -300),\n",
    "        width=0.5,\n",
    "        orientation=90,\n",
    "        layer=layer,\n",
    "    )\n",
    "    for i in range(N)\n",
    "]\n",
    "\n",
    "c = gf.Component(name=\"connect_bundle\")\n",
    "routes = gf.routing.get_bundle(\n",
    "    top_ports, bot_ports, separation=5.0, end_straight_length=100\n",
    ")\n",
    "for route in routes:\n",
    "    c.add(route.references)\n",
    "\n",
    "c"
   ]
  },
  {
   "cell_type": "markdown",
   "metadata": {},
   "source": [
    "`get_bundle` can also route bundles through corners"
   ]
  },
  {
   "cell_type": "code",
   "execution_count": 20,
   "metadata": {
    "execution": {
     "iopub.execute_input": "2022-06-15T17:08:12.209981Z",
     "iopub.status.busy": "2022-06-15T17:08:12.209662Z",
     "iopub.status.idle": "2022-06-15T17:08:12.452947Z",
     "shell.execute_reply": "2022-06-15T17:08:12.452302Z"
    }
   },
   "outputs": [
    {
     "data": {
      "image/png": "[encoded data removed]",
      "text/plain": [
       "<Figure size 432x288 with 1 Axes>"
      ]
     },
     "metadata": {
      "needs_background": "light"
     },
     "output_type": "display_data"
    },
    {
     "data": {
      "text/html": [
       "test_connect_corner: uid 122, ports [], aliases [], 0 polygons, 72 references"
      ],
      "text/plain": [
       "test_connect_corner: uid 122, ports [], aliases [], 0 polygons, 72 references"
      ]
     },
     "execution_count": 20,
     "metadata": {},
     "output_type": "execute_result"
    }
   ],
   "source": [
    "import gdsfactory as gf\n",
    "from gdsfactory.cell import cell\n",
    "from gdsfactory.component import Component\n",
    "from gdsfactory.port import Port\n",
    "\n",
    "\n",
    "@cell\n",
    "def test_connect_corner(N=6, config=\"A\"):\n",
    "    d = 10.0\n",
    "    sep = 5.0\n",
    "    top_cell = gf.Component(name=\"connect_corner\")\n",
    "    layer = (1, 0)\n",
    "\n",
    "    if config in [\"A\", \"B\"]:\n",
    "        a = 100.0\n",
    "        ports_A_TR = [\n",
    "            Port(\n",
    "                f\"A_TR_{i}\",\n",
    "                midpoint=(d, a / 2 + i * sep),\n",
    "                width=0.5,\n",
    "                orientation=0,\n",
    "                layer=layer,\n",
    "            )\n",
    "            for i in range(N)\n",
    "        ]\n",
    "\n",
    "        ports_A_TL = [\n",
    "            Port(\n",
    "                f\"A_TL_{i}\",\n",
    "                midpoint=(-d, a / 2 + i * sep),\n",
    "                width=0.5,\n",
    "                orientation=180,\n",
    "                layer=layer,\n",
    "            )\n",
    "            for i in range(N)\n",
    "        ]\n",
    "\n",
    "        ports_A_BR = [\n",
    "            Port(\n",
    "                f\"A_BR_{i}\",\n",
    "                midpoint=(d, -a / 2 - i * sep),\n",
    "                width=0.5,\n",
    "                orientation=0,\n",
    "                layer=layer,\n",
    "            )\n",
    "            for i in range(N)\n",
    "        ]\n",
    "\n",
    "        ports_A_BL = [\n",
    "            Port(\n",
    "                f\"A_BL_{i}\",\n",
    "                midpoint=(-d, -a / 2 - i * sep),\n",
    "                width=0.5,\n",
    "                orientation=180,\n",
    "                layer=layer,\n",
    "            )\n",
    "            for i in range(N)\n",
    "        ]\n",
    "\n",
    "        ports_A = [ports_A_TR, ports_A_TL, ports_A_BR, ports_A_BL]\n",
    "\n",
    "        ports_B_TR = [\n",
    "            Port(\n",
    "                f\"B_TR_{i}\",\n",
    "                midpoint=(a / 2 + i * sep, d),\n",
    "                width=0.5,\n",
    "                orientation=90,\n",
    "                layer=layer,\n",
    "            )\n",
    "            for i in range(N)\n",
    "        ]\n",
    "\n",
    "        ports_B_TL = [\n",
    "            Port(\n",
    "                f\"B_TL_{i}\",\n",
    "                midpoint=(-a / 2 - i * sep, d),\n",
    "                width=0.5,\n",
    "                orientation=90,\n",
    "                layer=layer,\n",
    "            )\n",
    "            for i in range(N)\n",
    "        ]\n",
    "\n",
    "        ports_B_BR = [\n",
    "            Port(\n",
    "                f\"B_BR_{i}\",\n",
    "                midpoint=(a / 2 + i * sep, -d),\n",
    "                width=0.5,\n",
    "                orientation=270,\n",
    "                layer=layer,\n",
    "            )\n",
    "            for i in range(N)\n",
    "        ]\n",
    "\n",
    "        ports_B_BL = [\n",
    "            Port(\n",
    "                f\"B_BL_{i}\",\n",
    "                midpoint=(-a / 2 - i * sep, -d),\n",
    "                width=0.5,\n",
    "                orientation=270,\n",
    "                layer=layer,\n",
    "            )\n",
    "            for i in range(N)\n",
    "        ]\n",
    "\n",
    "        ports_B = [ports_B_TR, ports_B_TL, ports_B_BR, ports_B_BL]\n",
    "\n",
    "    elif config in [\"C\", \"D\"]:\n",
    "        a = N * sep + 2 * d\n",
    "        ports_A_TR = [\n",
    "            Port(\n",
    "                f\"A_TR_{i}\",\n",
    "                midpoint=(a, d + i * sep),\n",
    "                width=0.5,\n",
    "                orientation=0,\n",
    "                layer=layer,\n",
    "            )\n",
    "            for i in range(N)\n",
    "        ]\n",
    "\n",
    "        ports_A_TL = [\n",
    "            Port(\n",
    "                f\"A_TL_{i}\",\n",
    "                midpoint=(-a, d + i * sep),\n",
    "                width=0.5,\n",
    "                orientation=180,\n",
    "                layer=layer,\n",
    "            )\n",
    "            for i in range(N)\n",
    "        ]\n",
    "\n",
    "        ports_A_BR = [\n",
    "            Port(\n",
    "                f\"A_BR_{i}\",\n",
    "                midpoint=(a, -d - i * sep),\n",
    "                width=0.5,\n",
    "                orientation=0,\n",
    "                layer=layer,\n",
    "            )\n",
    "            for i in range(N)\n",
    "        ]\n",
    "\n",
    "        ports_A_BL = [\n",
    "            Port(\n",
    "                f\"A_BL_{i}\",\n",
    "                midpoint=(-a, -d - i * sep),\n",
    "                width=0.5,\n",
    "                orientation=180,\n",
    "                layer=layer,\n",
    "            )\n",
    "            for i in range(N)\n",
    "        ]\n",
    "\n",
    "        ports_A = [ports_A_TR, ports_A_TL, ports_A_BR, ports_A_BL]\n",
    "\n",
    "        ports_B_TR = [\n",
    "            Port(\n",
    "                f\"B_TR_{i}\",\n",
    "                midpoint=(d + i * sep, a),\n",
    "                width=0.5,\n",
    "                orientation=90,\n",
    "                layer=layer,\n",
    "            )\n",
    "            for i in range(N)\n",
    "        ]\n",
    "\n",
    "        ports_B_TL = [\n",
    "            Port(\n",
    "                f\"B_TL_{i}\",\n",
    "                midpoint=(-d - i * sep, a),\n",
    "                width=0.5,\n",
    "                orientation=90,\n",
    "                layer=layer,\n",
    "            )\n",
    "            for i in range(N)\n",
    "        ]\n",
    "\n",
    "        ports_B_BR = [\n",
    "            Port(\n",
    "                f\"B_BR_{i}\",\n",
    "                midpoint=(d + i * sep, -a),\n",
    "                width=0.5,\n",
    "                orientation=270,\n",
    "                layer=layer,\n",
    "            )\n",
    "            for i in range(N)\n",
    "        ]\n",
    "\n",
    "        ports_B_BL = [\n",
    "            Port(\n",
    "                f\"B_BL_{i}\",\n",
    "                midpoint=(-d - i * sep, -a),\n",
    "                width=0.5,\n",
    "                orientation=270,\n",
    "                layer=layer,\n",
    "            )\n",
    "            for i in range(N)\n",
    "        ]\n",
    "\n",
    "        ports_B = [ports_B_TR, ports_B_TL, ports_B_BR, ports_B_BL]\n",
    "\n",
    "    if config in [\"A\", \"C\"]:\n",
    "        for ports1, ports2 in zip(ports_A, ports_B):\n",
    "            routes = gf.routing.get_bundle(ports1, ports2, layer=(2, 0), radius=5)\n",
    "            for route in routes:\n",
    "                top_cell.add(route.references)\n",
    "\n",
    "    elif config in [\"B\", \"D\"]:\n",
    "        for ports1, ports2 in zip(ports_A, ports_B):\n",
    "            routes = gf.routing.get_bundle(ports2, ports1, layer=(2, 0), radius=5)\n",
    "            for route in routes:\n",
    "                top_cell.add(route.references)\n",
    "\n",
    "    return top_cell\n",
    "\n",
    "\n",
    "c = test_connect_corner(config=\"A\")\n",
    "c"
   ]
  },
  {
   "cell_type": "code",
   "execution_count": 21,
   "metadata": {
    "execution": {
     "iopub.execute_input": "2022-06-15T17:08:12.456336Z",
     "iopub.status.busy": "2022-06-15T17:08:12.456098Z",
     "iopub.status.idle": "2022-06-15T17:08:12.777102Z",
     "shell.execute_reply": "2022-06-15T17:08:12.776512Z"
    }
   },
   "outputs": [
    {
     "data": {
      "image/png": "[encoded data removed]",
      "text/plain": [
       "<Figure size 432x288 with 1 Axes>"
      ]
     },
     "metadata": {
      "needs_background": "light"
     },
     "output_type": "display_data"
    },
    {
     "data": {
      "text/html": [
       "test_connect_corner_configC: uid 137, ports [], aliases [], 0 polygons, 168 references"
      ],
      "text/plain": [
       "test_connect_corner_configC: uid 137, ports [], aliases [], 0 polygons, 168 references"
      ]
     },
     "execution_count": 21,
     "metadata": {},
     "output_type": "execute_result"
    }
   ],
   "source": [
    "c = test_connect_corner(config=\"C\")\n",
    "c"
   ]
  },
  {
   "cell_type": "code",
   "execution_count": 22,
   "metadata": {
    "execution": {
     "iopub.execute_input": "2022-06-15T17:08:12.780645Z",
     "iopub.status.busy": "2022-06-15T17:08:12.780292Z",
     "iopub.status.idle": "2022-06-15T17:08:13.017145Z",
     "shell.execute_reply": "2022-06-15T17:08:13.016323Z"
    }
   },
   "outputs": [
    {
     "data": {
      "image/png": "[encoded data removed]",
      "text/plain": [
       "<Figure size 432x288 with 1 Axes>"
      ]
     },
     "metadata": {
      "needs_background": "light"
     },
     "output_type": "display_data"
    },
    {
     "data": {
      "text/html": [
       "test_connect_bundle_udirect: uid 154, ports [], aliases [], 0 polygons, 50 references"
      ],
      "text/plain": [
       "test_connect_bundle_udirect: uid 154, ports [], aliases [], 0 polygons, 50 references"
      ]
     },
     "execution_count": 22,
     "metadata": {},
     "output_type": "execute_result"
    }
   ],
   "source": [
    "@cell\n",
    "def test_connect_bundle_udirect(dy=200, angle=270, layer=(1, 0)):\n",
    "\n",
    "    xs1 = [-100, -90, -80, -55, -35, 24, 0] + [200, 210, 240]\n",
    "\n",
    "    axis = \"X\" if angle in [0, 180] else \"Y\"\n",
    "\n",
    "    pitch = 10.0\n",
    "    N = len(xs1)\n",
    "    xs2 = [70 + i * pitch for i in range(N)]\n",
    "\n",
    "    if axis == \"X\":\n",
    "        ports1 = [\n",
    "            Port(f\"top_{i}\", (0, xs1[i]), 0.5, angle, layer=layer) for i in range(N)\n",
    "        ]\n",
    "\n",
    "        ports2 = [\n",
    "            Port(f\"bottom_{i}\", (dy, xs2[i]), 0.5, angle, layer=layer) for i in range(N)\n",
    "        ]\n",
    "\n",
    "    else:\n",
    "        ports1 = [\n",
    "            Port(f\"top_{i}\", (xs1[i], 0), 0.5, angle, layer=layer) for i in range(N)\n",
    "        ]\n",
    "\n",
    "        ports2 = [\n",
    "            Port(f\"bottom_{i}\", (xs2[i], dy), 0.5, angle, layer=layer) for i in range(N)\n",
    "        ]\n",
    "\n",
    "    top_cell = Component(name=\"connect_bundle_udirect\")\n",
    "    routes = gf.routing.get_bundle(ports1, ports2, radius=10.0)\n",
    "    for route in routes:\n",
    "        top_cell.add(route.references)\n",
    "\n",
    "    return top_cell\n",
    "\n",
    "\n",
    "c = test_connect_bundle_udirect()\n",
    "c"
   ]
  },
  {
   "cell_type": "code",
   "execution_count": 23,
   "metadata": {
    "execution": {
     "iopub.execute_input": "2022-06-15T17:08:13.020505Z",
     "iopub.status.busy": "2022-06-15T17:08:13.020165Z",
     "iopub.status.idle": "2022-06-15T17:08:13.410485Z",
     "shell.execute_reply": "2022-06-15T17:08:13.409909Z"
    }
   },
   "outputs": [
    {
     "data": {
      "image/png": "[encoded data removed]",
      "text/plain": [
       "<Figure size 432x288 with 1 Axes>"
      ]
     },
     "metadata": {
      "needs_background": "light"
     },
     "output_type": "display_data"
    },
    {
     "data": {
      "text/html": [
       "test_connect_bundle_u_i_d289aeae: uid 197, ports [], aliases [], 0 polygons, 72 references"
      ],
      "text/plain": [
       "test_connect_bundle_u_i_d289aeae: uid 197, ports [], aliases [], 0 polygons, 72 references"
      ]
     },
     "execution_count": 23,
     "metadata": {},
     "output_type": "execute_result"
    }
   ],
   "source": [
    "@cell\n",
    "def test_connect_bundle_u_indirect(dy=-200, angle=180, layer=(1, 0)):\n",
    "    xs1 = [-100, -90, -80, -55, -35] + [200, 210, 240]\n",
    "    axis = \"X\" if angle in [0, 180] else \"Y\"\n",
    "    pitch = 10.0\n",
    "    N = len(xs1)\n",
    "    xs2 = [50 + i * pitch for i in range(N)]\n",
    "\n",
    "    a1 = angle\n",
    "    a2 = a1 + 180\n",
    "\n",
    "    if axis == \"X\":\n",
    "        ports1 = [Port(f\"top_{i}\", (0, xs1[i]), 0.5, a1, layer=layer) for i in range(N)]\n",
    "\n",
    "        ports2 = [\n",
    "            Port(f\"bot_{i}\", (dy, xs2[i]), 0.5, a2, layer=layer) for i in range(N)\n",
    "        ]\n",
    "\n",
    "    else:\n",
    "        ports1 = [Port(f\"top_{i}\", (xs1[i], 0), 0.5, a1, layer=layer) for i in range(N)]\n",
    "\n",
    "        ports2 = [\n",
    "            Port(f\"bot_{i}\", (xs2[i], dy), 0.5, a2, layer=layer) for i in range(N)\n",
    "        ]\n",
    "\n",
    "    top_cell = Component(\"connect_bundle_u_indirect\")\n",
    "    routes = gf.routing.get_bundle(\n",
    "        ports1,\n",
    "        ports2,\n",
    "        bend=gf.components.bend_euler,\n",
    "        radius=5,\n",
    "    )\n",
    "    for route in routes:\n",
    "        top_cell.add(route.references)\n",
    "\n",
    "    return top_cell\n",
    "\n",
    "\n",
    "c = test_connect_bundle_u_indirect(angle=0)\n",
    "c"
   ]
  },
  {
   "cell_type": "code",
   "execution_count": 24,
   "metadata": {
    "execution": {
     "iopub.execute_input": "2022-06-15T17:08:13.413266Z",
     "iopub.status.busy": "2022-06-15T17:08:13.412906Z",
     "iopub.status.idle": "2022-06-15T17:08:13.658117Z",
     "shell.execute_reply": "2022-06-15T17:08:13.657472Z"
    }
   },
   "outputs": [
    {
     "data": {
      "image/png": "[encoded data removed]",
      "text/plain": [
       "<Figure size 432x288 with 1 Axes>"
      ]
     },
     "metadata": {
      "needs_background": "light"
     },
     "output_type": "display_data"
    },
    {
     "data": {
      "text/html": [
       "test_north_to_south: uid 254, ports [], aliases [], 0 polygons, 60 references"
      ],
      "text/plain": [
       "test_north_to_south: uid 254, ports [], aliases [], 0 polygons, 60 references"
      ]
     },
     "execution_count": 24,
     "metadata": {},
     "output_type": "execute_result"
    }
   ],
   "source": [
    "import gdsfactory as gf\n",
    "\n",
    "\n",
    "@gf.cell\n",
    "def test_north_to_south(layer=(1, 0)):\n",
    "    dy = 200.0\n",
    "    xs1 = [-500, -300, -100, -90, -80, -55, -35, 200, 210, 240, 500, 650]\n",
    "\n",
    "    pitch = 10.0\n",
    "    N = len(xs1)\n",
    "    xs2 = [-20 + i * pitch for i in range(N // 2)]\n",
    "    xs2 += [400 + i * pitch for i in range(N // 2)]\n",
    "\n",
    "    a1 = 90\n",
    "    a2 = a1 + 180\n",
    "\n",
    "    ports1 = [gf.Port(f\"top_{i}\", (xs1[i], 0), 0.5, a1, layer=layer) for i in range(N)]\n",
    "\n",
    "    ports2 = [gf.Port(f\"bot_{i}\", (xs2[i], dy), 0.5, a2, layer=layer) for i in range(N)]\n",
    "\n",
    "    c = gf.Component()\n",
    "    routes = gf.routing.get_bundle(ports1, ports2, auto_widen=False)\n",
    "    for route in routes:\n",
    "        c.add(route.references)\n",
    "\n",
    "    return c\n",
    "\n",
    "\n",
    "c = test_north_to_south()\n",
    "c"
   ]
  },
  {
   "cell_type": "code",
   "execution_count": 25,
   "metadata": {
    "execution": {
     "iopub.execute_input": "2022-06-15T17:08:13.662200Z",
     "iopub.status.busy": "2022-06-15T17:08:13.660941Z",
     "iopub.status.idle": "2022-06-15T17:08:15.258697Z",
     "shell.execute_reply": "2022-06-15T17:08:15.258062Z"
    }
   },
   "outputs": [
    {
     "data": {
      "image/png": "[encoded data removed]",
      "text/plain": [
       "<Figure size 432x288 with 1 Axes>"
      ]
     },
     "metadata": {
      "needs_background": "light"
     },
     "output_type": "display_data"
    },
    {
     "data": {
      "text/html": [
       "connect_bundle: uid 293, ports [], aliases [], 0 polygons, 20 references"
      ],
      "text/plain": [
       "connect_bundle: uid 293, ports [], aliases [], 0 polygons, 20 references"
      ]
     },
     "execution_count": 25,
     "metadata": {},
     "output_type": "execute_result"
    }
   ],
   "source": [
    "def demo_connect_bundle():\n",
    "    \"\"\"combines all the connect_bundle tests\"\"\"\n",
    "    y = 400.0\n",
    "    x = 500\n",
    "    y0 = 900\n",
    "    dy = 200.0\n",
    "    c = gf.Component(\"connect_bundle\")\n",
    "    for j, s in enumerate([-1, 1]):\n",
    "        for i, angle in enumerate([0, 90, 180, 270]):\n",
    "            ci = test_connect_bundle_u_indirect(dy=s * dy, angle=angle)\n",
    "            ref = ci.ref(position=(i * x, j * y))\n",
    "            c.add(ref)\n",
    "\n",
    "            ci = test_connect_bundle_udirect(dy=s * dy, angle=angle)\n",
    "            ref = ci.ref(position=(i * x, j * y + y0))\n",
    "            c.add(ref)\n",
    "\n",
    "    for i, config in enumerate([\"A\", \"B\", \"C\", \"D\"]):\n",
    "        ci = test_connect_corner(config=config)\n",
    "        ref = ci.ref(position=(i * x, 1700))\n",
    "        c.add(ref)\n",
    "\n",
    "    return c\n",
    "\n",
    "\n",
    "c = demo_connect_bundle()\n",
    "c"
   ]
  },
  {
   "cell_type": "code",
   "execution_count": 26,
   "metadata": {
    "execution": {
     "iopub.execute_input": "2022-06-15T17:08:15.261544Z",
     "iopub.status.busy": "2022-06-15T17:08:15.261188Z",
     "iopub.status.idle": "2022-06-15T17:08:15.395222Z",
     "shell.execute_reply": "2022-06-15T17:08:15.394643Z"
    }
   },
   "outputs": [
    {
     "data": {
      "image/png": "[encoded data removed]",
      "text/plain": [
       "<Figure size 432x288 with 1 Axes>"
      ]
     },
     "metadata": {
      "needs_background": "light"
     },
     "output_type": "display_data"
    },
    {
     "data": {
      "text/html": [
       "route_bend_5um: uid 392, ports [], aliases [], 0 polygons, 12 references"
      ],
      "text/plain": [
       "route_bend_5um: uid 392, ports [], aliases [], 0 polygons, 12 references"
      ]
     },
     "execution_count": 26,
     "metadata": {},
     "output_type": "execute_result"
    }
   ],
   "source": [
    "import gdsfactory as gf\n",
    "\n",
    "c = gf.Component(\"route_bend_5um\")\n",
    "c1 = c << gf.components.mmi2x2()\n",
    "c2 = c << gf.components.mmi2x2()\n",
    "\n",
    "c2.move((100, 50))\n",
    "routes = gf.routing.get_bundle(\n",
    "    [c1.ports[\"o4\"], c1.ports[\"o3\"]], [c2.ports[\"o1\"], c2.ports[\"o2\"]], radius=5\n",
    ")\n",
    "for route in routes:\n",
    "    c.add(route.references)\n",
    "c"
   ]
  },
  {
   "cell_type": "code",
   "execution_count": 27,
   "metadata": {
    "execution": {
     "iopub.execute_input": "2022-06-15T17:08:15.397824Z",
     "iopub.status.busy": "2022-06-15T17:08:15.397593Z",
     "iopub.status.idle": "2022-06-15T17:08:15.515029Z",
     "shell.execute_reply": "2022-06-15T17:08:15.514441Z"
    }
   },
   "outputs": [
    {
     "data": {
      "image/png": "[encoded data removed]",
      "text/plain": [
       "<Figure size 432x288 with 1 Axes>"
      ]
     },
     "metadata": {
      "needs_background": "light"
     },
     "output_type": "display_data"
    },
    {
     "data": {
      "text/html": [
       "electrical: uid 400, ports [], aliases [], 0 polygons, 7 references"
      ],
      "text/plain": [
       "electrical: uid 400, ports [], aliases [], 0 polygons, 7 references"
      ]
     },
     "execution_count": 27,
     "metadata": {},
     "output_type": "execute_result"
    }
   ],
   "source": [
    "import gdsfactory as gf\n",
    "\n",
    "c = gf.Component(\"electrical\")\n",
    "c1 = c << gf.components.pad()\n",
    "c2 = c << gf.components.pad()\n",
    "c2.move((200, 100))\n",
    "routes = gf.routing.get_bundle(\n",
    "    [c1.ports[\"e3\"]], [c2.ports[\"e1\"]], cross_section=gf.cross_section.metal1\n",
    ")\n",
    "for route in routes:\n",
    "    c.add(route.references)\n",
    "c"
   ]
  },
  {
   "cell_type": "code",
   "execution_count": 28,
   "metadata": {
    "execution": {
     "iopub.execute_input": "2022-06-15T17:08:15.517886Z",
     "iopub.status.busy": "2022-06-15T17:08:15.517595Z",
     "iopub.status.idle": "2022-06-15T17:08:15.690542Z",
     "shell.execute_reply": "2022-06-15T17:08:15.690070Z"
    }
   },
   "outputs": [
    {
     "data": {
      "image/png": "[encoded data removed]",
      "text/plain": [
       "<Figure size 432x288 with 1 Axes>"
      ]
     },
     "metadata": {
      "needs_background": "light"
     },
     "output_type": "display_data"
    },
    {
     "data": {
      "text/html": [
       "get_bundle_with_ubends_bend_from_top: uid 409, ports [], aliases [], 0 polygons, 26 references"
      ],
      "text/plain": [
       "get_bundle_with_ubends_bend_from_top: uid 409, ports [], aliases [], 0 polygons, 26 references"
      ]
     },
     "execution_count": 28,
     "metadata": {},
     "output_type": "execute_result"
    }
   ],
   "source": [
    "c = gf.Component(\"get_bundle_with_ubends_bend_from_top\")\n",
    "pad_array = gf.components.pad_array()\n",
    "\n",
    "c1 = c << pad_array\n",
    "c2 = c << pad_array\n",
    "c2.rotate(90)\n",
    "c2.movex(1000)\n",
    "c2.ymax = -200\n",
    "\n",
    "routes_bend180 = gf.routing.get_routes_bend180(\n",
    "    ports=c2.get_ports_list(),\n",
    "    radius=75 / 2,\n",
    "    cross_section=gf.cross_section.metal1,\n",
    "    bend_port1=\"e1\",\n",
    "    bend_port2=\"e2\",\n",
    ")\n",
    "c.add(routes_bend180.references)\n",
    "\n",
    "routes = gf.routing.get_bundle(\n",
    "    c1.get_ports_list(), routes_bend180.ports, cross_section=gf.cross_section.metal1\n",
    ")\n",
    "for route in routes:\n",
    "    c.add(route.references)\n",
    "c"
   ]
  },
  {
   "cell_type": "code",
   "execution_count": 29,
   "metadata": {
    "execution": {
     "iopub.execute_input": "2022-06-15T17:08:15.693249Z",
     "iopub.status.busy": "2022-06-15T17:08:15.692818Z",
     "iopub.status.idle": "2022-06-15T17:08:15.839830Z",
     "shell.execute_reply": "2022-06-15T17:08:15.839358Z"
    }
   },
   "outputs": [
    {
     "data": {
      "image/png": "[encoded data removed]",
      "text/plain": [
       "<Figure size 432x288 with 1 Axes>"
      ]
     },
     "metadata": {
      "needs_background": "light"
     },
     "output_type": "display_data"
    },
    {
     "data": {
      "text/html": [
       "get_bundle_with_ubends_bend_from_bottom: uid 437, ports [], aliases [], 0 polygons, 26 references"
      ],
      "text/plain": [
       "get_bundle_with_ubends_bend_from_bottom: uid 437, ports [], aliases [], 0 polygons, 26 references"
      ]
     },
     "execution_count": 29,
     "metadata": {},
     "output_type": "execute_result"
    }
   ],
   "source": [
    "c = gf.Component(\"get_bundle_with_ubends_bend_from_bottom\")\n",
    "pad_array = gf.components.pad_array()\n",
    "\n",
    "c1 = c << pad_array\n",
    "c2 = c << pad_array\n",
    "c2.rotate(90)\n",
    "c2.movex(1000)\n",
    "c2.ymax = -200\n",
    "\n",
    "routes_bend180 = gf.routing.get_routes_bend180(\n",
    "    ports=c2.get_ports_list(),\n",
    "    radius=75 / 2,\n",
    "    cross_section=gf.cross_section.metal1,\n",
    "    bend_port1=\"e2\",\n",
    "    bend_port2=\"e1\",\n",
    ")\n",
    "c.add(routes_bend180.references)\n",
    "\n",
    "routes = gf.routing.get_bundle(\n",
    "    c1.get_ports_list(), routes_bend180.ports, cross_section=gf.cross_section.metal1\n",
    ")\n",
    "for route in routes:\n",
    "    c.add(route.references)\n",
    "c"
   ]
  },
  {
   "cell_type": "markdown",
   "metadata": {},
   "source": [
    "**Problem**\n",
    "\n",
    "Sometimes 90 degrees routes do not have enough space for a Manhattan route"
   ]
  },
  {
   "cell_type": "code",
   "execution_count": 30,
   "metadata": {
    "execution": {
     "iopub.execute_input": "2022-06-15T17:08:15.842729Z",
     "iopub.status.busy": "2022-06-15T17:08:15.842176Z",
     "iopub.status.idle": "2022-06-15T17:08:15.952457Z",
     "shell.execute_reply": "2022-06-15T17:08:15.951982Z"
    }
   },
   "outputs": [
    {
     "data": {
      "image/png": "[encoded data removed]",
      "text/plain": [
       "<Figure size 432x288 with 1 Axes>"
      ]
     },
     "metadata": {
      "needs_background": "light"
     },
     "output_type": "display_data"
    },
    {
     "data": {
      "text/html": [
       "route_fail_1: uid 440, ports [], aliases [], 0 polygons, 2 references"
      ],
      "text/plain": [
       "route_fail_1: uid 440, ports [], aliases [], 0 polygons, 2 references"
      ]
     },
     "execution_count": 30,
     "metadata": {},
     "output_type": "execute_result"
    }
   ],
   "source": [
    "import gdsfactory as gf\n",
    "\n",
    "c = gf.Component(\"route_fail_1\")\n",
    "c1 = c << gf.components.nxn(east=3, ysize=20)\n",
    "c2 = c << gf.components.nxn(west=3)\n",
    "c2.move((80, 0))\n",
    "c"
   ]
  },
  {
   "cell_type": "code",
   "execution_count": 31,
   "metadata": {
    "execution": {
     "iopub.execute_input": "2022-06-15T17:08:15.956564Z",
     "iopub.status.busy": "2022-06-15T17:08:15.955543Z",
     "iopub.status.idle": "2022-06-15T17:08:16.101006Z",
     "shell.execute_reply": "2022-06-15T17:08:16.100275Z"
    }
   },
   "outputs": [
    {
     "data": {
      "image/png": "[encoded data removed]",
      "text/plain": [
       "<Figure size 432x288 with 1 Axes>"
      ]
     },
     "metadata": {
      "needs_background": "light"
     },
     "output_type": "display_data"
    },
    {
     "data": {
      "text/html": [
       "route_fail_1: uid 447, ports [], aliases [], 0 polygons, 21 references"
      ],
      "text/plain": [
       "route_fail_1: uid 447, ports [], aliases [], 0 polygons, 21 references"
      ]
     },
     "execution_count": 31,
     "metadata": {},
     "output_type": "execute_result"
    }
   ],
   "source": [
    "import gdsfactory as gf\n",
    "\n",
    "c = gf.Component(\"route_fail_1\")\n",
    "c1 = c << gf.components.nxn(east=3, ysize=20)\n",
    "c2 = c << gf.components.nxn(west=3)\n",
    "c2.move((80, 0))\n",
    "routes = gf.routing.get_bundle(\n",
    "    c1.get_ports_list(orientation=0),\n",
    "    c2.get_ports_list(orientation=180),\n",
    "    auto_widen=False,\n",
    ")\n",
    "for route in routes:\n",
    "    c.add(route.references)\n",
    "c"
   ]
  },
  {
   "cell_type": "code",
   "execution_count": 32,
   "metadata": {
    "execution": {
     "iopub.execute_input": "2022-06-15T17:08:16.105171Z",
     "iopub.status.busy": "2022-06-15T17:08:16.104133Z",
     "iopub.status.idle": "2022-06-15T17:08:16.250738Z",
     "shell.execute_reply": "2022-06-15T17:08:16.250247Z"
    }
   },
   "outputs": [
    {
     "data": {
      "image/png": "[encoded data removed]",
      "text/plain": [
       "<Figure size 432x288 with 1 Axes>"
      ]
     },
     "metadata": {
      "needs_background": "light"
     },
     "output_type": "display_data"
    },
    {
     "data": {
      "text/html": [
       "route_fail_2: uid 459, ports [], aliases [], 0 polygons, 19 references"
      ],
      "text/plain": [
       "route_fail_2: uid 459, ports [], aliases [], 0 polygons, 19 references"
      ]
     },
     "execution_count": 32,
     "metadata": {},
     "output_type": "execute_result"
    }
   ],
   "source": [
    "c = gf.Component(\"route_fail_2\")\n",
    "pitch = 2.0\n",
    "ys_left = [0, 10, 20]\n",
    "N = len(ys_left)\n",
    "ys_right = [(i - N / 2) * pitch for i in range(N)]\n",
    "layer = (1, 0)\n",
    "\n",
    "right_ports = [\n",
    "    gf.Port(f\"R_{i}\", (0, ys_right[i]), 0.5, 180, layer=layer) for i in range(N)\n",
    "]\n",
    "left_ports = [\n",
    "    gf.Port(f\"L_{i}\", (-50, ys_left[i]), 0.5, 0, layer=layer) for i in range(N)\n",
    "]\n",
    "left_ports.reverse()\n",
    "routes = gf.routing.get_bundle(right_ports, left_ports, radius=5)\n",
    "\n",
    "for route in routes:\n",
    "    c.add(route.references)\n",
    "c"
   ]
  },
  {
   "cell_type": "markdown",
   "metadata": {},
   "source": [
    "**Solution**\n",
    "\n",
    "Add Sbend routes using `get_bundle_sbend`"
   ]
  },
  {
   "cell_type": "code",
   "execution_count": 33,
   "metadata": {
    "execution": {
     "iopub.execute_input": "2022-06-15T17:08:16.254359Z",
     "iopub.status.busy": "2022-06-15T17:08:16.253771Z",
     "iopub.status.idle": "2022-06-15T17:08:16.373042Z",
     "shell.execute_reply": "2022-06-15T17:08:16.372454Z"
    }
   },
   "outputs": [
    {
     "name": "stderr",
     "output_type": "stream",
     "text": [
      "/home/runner/work/gdsfactory/gdsfactory/gdsfactory/components/bezier.py:99: RuntimeWarning: divide by zero encountered in double_scalars\n",
      "  min_bend_radius = gf.snap.snap_to_grid(1 / max(np.abs(curv)))\n"
     ]
    },
    {
     "data": {
      "image/png": "[encoded data removed]",
      "text/plain": [
       "<Figure size 432x288 with 1 Axes>"
      ]
     },
     "metadata": {
      "needs_background": "light"
     },
     "output_type": "display_data"
    },
    {
     "data": {
      "text/html": [
       "route_solution_1_get_bundle_sbend: uid 466, ports [], aliases [], 0 polygons, 5 references"
      ],
      "text/plain": [
       "route_solution_1_get_bundle_sbend: uid 466, ports [], aliases [], 0 polygons, 5 references"
      ]
     },
     "execution_count": 33,
     "metadata": {},
     "output_type": "execute_result"
    }
   ],
   "source": [
    "import gdsfactory as gf\n",
    "\n",
    "c = gf.Component(\"route_solution_1_get_bundle_sbend\")\n",
    "c1 = c << gf.components.nxn(east=3, ysize=20)\n",
    "c2 = c << gf.components.nxn(west=3)\n",
    "c2.move((80, 0))\n",
    "routes = gf.routing.get_bundle_sbend(\n",
    "    c1.get_ports_list(orientation=0), c2.get_ports_list(orientation=180)\n",
    ")\n",
    "c.add(routes.references)\n",
    "c"
   ]
  },
  {
   "cell_type": "code",
   "execution_count": 34,
   "metadata": {
    "execution": {
     "iopub.execute_input": "2022-06-15T17:08:16.376397Z",
     "iopub.status.busy": "2022-06-15T17:08:16.376156Z",
     "iopub.status.idle": "2022-06-15T17:08:16.382734Z",
     "shell.execute_reply": "2022-06-15T17:08:16.382205Z"
    }
   },
   "outputs": [
    {
     "data": {
      "text/plain": [
       "Routes(references=[DeviceReference (parent Device \"bezier_08c93533_bend_s__f3faaa5b\", ports ['o1', 'o2'], origin [8.   1.25], rotation 0, x_reflection False), DeviceReference (parent Device \"bezier_6f3b5e6e_bend_s__3daf6097\", ports ['o1', 'o2'], origin [ 8. 10.], rotation 0, x_reflection False), DeviceReference (parent Device \"bezier_5a820ac3_bend_s__6f6f9cd6\", ports ['o1', 'o2'], origin [ 8.   18.75], rotation 0, x_reflection False)], lengths=[72.0, 72.354, 73.398], ports=None, bend_radius=[inf, 159.432, 83.82])"
      ]
     },
     "execution_count": 34,
     "metadata": {},
     "output_type": "execute_result"
    }
   ],
   "source": [
    "routes"
   ]
  },
  {
   "cell_type": "code",
   "execution_count": 35,
   "metadata": {
    "execution": {
     "iopub.execute_input": "2022-06-15T17:08:16.385864Z",
     "iopub.status.busy": "2022-06-15T17:08:16.385545Z",
     "iopub.status.idle": "2022-06-15T17:08:16.400891Z",
     "shell.execute_reply": "2022-06-15T17:08:16.400340Z"
    }
   },
   "outputs": [],
   "source": [
    "c = gf.Component(\"route_solution_2_get_bundle_sbend\")\n",
    "route = gf.routing.get_bundle_sbend(right_ports, left_ports)\n",
    "c.add(route.references)"
   ]
  },
  {
   "cell_type": "markdown",
   "metadata": {},
   "source": [
    "## get_bundle_from_waypoints\n",
    "\n",
    "While `get_bundle` routes bundles of ports automatically, you can also use `get_bundle_from_waypoints` to manually specify the route waypoints.\n",
    "\n",
    "You can think of `get_bundle_from_waypoints` as a manual version of `get_bundle`\n"
   ]
  },
  {
   "cell_type": "code",
   "execution_count": 36,
   "metadata": {
    "execution": {
     "iopub.execute_input": "2022-06-15T17:08:16.403564Z",
     "iopub.status.busy": "2022-06-15T17:08:16.403358Z",
     "iopub.status.idle": "2022-06-15T17:08:16.715339Z",
     "shell.execute_reply": "2022-06-15T17:08:16.714771Z"
    }
   },
   "outputs": [
    {
     "data": {
      "image/png": "[encoded data removed]",
      "text/plain": [
       "<Figure size 432x288 with 1 Axes>"
      ]
     },
     "metadata": {
      "needs_background": "light"
     },
     "output_type": "display_data"
    },
    {
     "data": {
      "text/html": [
       "test_connect_bundle_waypoints: uid 486, ports ['A_0', 'A_1', 'A_2', 'A_3', 'A_4', 'A_5', 'A_6', 'A_7', 'B_0', 'B_1', 'B_2', 'B_3', 'B_4', 'B_5', 'B_6', 'B_7'], aliases [], 0 polygons, 72 references"
      ],
      "text/plain": [
       "test_connect_bundle_waypoints: uid 486, ports ['A_0', 'A_1', 'A_2', 'A_3', 'A_4', 'A_5', 'A_6', 'A_7', 'B_0', 'B_1', 'B_2', 'B_3', 'B_4', 'B_5', 'B_6', 'B_7'], aliases [], 0 polygons, 72 references"
      ]
     },
     "execution_count": 36,
     "metadata": {},
     "output_type": "execute_result"
    }
   ],
   "source": [
    "import numpy as np\n",
    "import gdsfactory as gf\n",
    "\n",
    "\n",
    "@gf.cell\n",
    "def test_connect_bundle_waypoints(layer=(1, 0)):\n",
    "    \"\"\"Connect bundle of ports with bundle of routes following a list of waypoints.\"\"\"\n",
    "    ys1 = np.array([0, 5, 10, 15, 30, 40, 50, 60]) + 0.0\n",
    "    ys2 = np.array([0, 10, 20, 30, 70, 90, 110, 120]) + 500.0\n",
    "    N = ys1.size\n",
    "\n",
    "    ports1 = [\n",
    "        gf.Port(\n",
    "            name=f\"A_{i}\", midpoint=(0, ys1[i]), width=0.5, orientation=0, layer=layer\n",
    "        )\n",
    "        for i in range(N)\n",
    "    ]\n",
    "    ports2 = [\n",
    "        gf.Port(\n",
    "            name=f\"B_{i}\",\n",
    "            midpoint=(500, ys2[i]),\n",
    "            width=0.5,\n",
    "            orientation=180,\n",
    "            layer=layer,\n",
    "        )\n",
    "        for i in range(N)\n",
    "    ]\n",
    "\n",
    "    p0 = ports1[0].position\n",
    "\n",
    "    c = gf.Component(\"B\")\n",
    "    c.add_ports(ports1)\n",
    "    c.add_ports(ports2)\n",
    "    waypoints = [\n",
    "        p0 + (200, 0),\n",
    "        p0 + (200, -200),\n",
    "        p0 + (400, -200),\n",
    "        (p0[0] + 400, ports2[0].y),\n",
    "    ]\n",
    "\n",
    "    routes = gf.routing.get_bundle_from_waypoints(ports1, ports2, waypoints)\n",
    "    lengths = {}\n",
    "    for i, route in enumerate(routes):\n",
    "        c.add(route.references)\n",
    "        lengths[i] = route.length\n",
    "\n",
    "    return c\n",
    "\n",
    "\n",
    "cell = test_connect_bundle_waypoints()\n",
    "cell"
   ]
  },
  {
   "cell_type": "code",
   "execution_count": 37,
   "metadata": {
    "execution": {
     "iopub.execute_input": "2022-06-15T17:08:16.718192Z",
     "iopub.status.busy": "2022-06-15T17:08:16.717969Z",
     "iopub.status.idle": "2022-06-15T17:08:16.970577Z",
     "shell.execute_reply": "2022-06-15T17:08:16.970075Z"
    }
   },
   "outputs": [
    {
     "name": "stderr",
     "output_type": "stream",
     "text": [
      "/home/runner/work/gdsfactory/gdsfactory/gdsfactory/component.py:1032: UserWarning: Component 'Unnamed_4295eb17' contains 1 Unnamed cells\n",
      "  warnings.warn(\n"
     ]
    },
    {
     "data": {
      "image/png": "[encoded data removed]",
      "text/plain": [
       "<Figure size 432x288 with 1 Axes>"
      ]
     },
     "metadata": {
      "needs_background": "light"
     },
     "output_type": "display_data"
    },
    {
     "data": {
      "text/html": [
       "Unnamed_4295eb17: uid 529, ports [], aliases [], 0 polygons, 13 references"
      ],
      "text/plain": [
       "Unnamed_4295eb17: uid 529, ports [], aliases [], 0 polygons, 13 references"
      ]
     },
     "execution_count": 37,
     "metadata": {},
     "output_type": "execute_result"
    }
   ],
   "source": [
    "import numpy as np\n",
    "import gdsfactory as gf\n",
    "\n",
    "c = gf.Component()\n",
    "r = c << gf.components.array(\n",
    "    component=gf.components.straight, rows=2, columns=1, spacing=(0, 20)\n",
    ")\n",
    "\n",
    "r.movex(60)\n",
    "r.movey(40)\n",
    "\n",
    "lt = c << gf.components.straight(length=15)\n",
    "lb = c << gf.components.straight(length=5)\n",
    "lt.movey(5)\n",
    "\n",
    "ports1 = lt.get_ports_list(orientation=0) + lb.get_ports_list(orientation=0)\n",
    "ports2 = r.get_ports_list(orientation=180)\n",
    "\n",
    "\n",
    "dx = 20\n",
    "p0 = ports1[0].midpoint + (dx, 0)\n",
    "p1 = (ports1[0].midpoint[0] + dx, ports2[0].midpoint[1])\n",
    "waypoints = (p0, p1)\n",
    "\n",
    "routes = gf.routing.get_bundle_from_waypoints(ports1, ports2, waypoints=waypoints)\n",
    "for route in routes:\n",
    "    c.add(route.references)\n",
    "c"
   ]
  },
  {
   "cell_type": "markdown",
   "metadata": {},
   "source": [
    "## get_bundle_from_steps"
   ]
  },
  {
   "cell_type": "code",
   "execution_count": 38,
   "metadata": {
    "execution": {
     "iopub.execute_input": "2022-06-15T17:08:16.973442Z",
     "iopub.status.busy": "2022-06-15T17:08:16.973038Z",
     "iopub.status.idle": "2022-06-15T17:08:17.106364Z",
     "shell.execute_reply": "2022-06-15T17:08:17.105874Z"
    }
   },
   "outputs": [
    {
     "data": {
      "image/png": "[encoded data removed]",
      "text/plain": [
       "<Figure size 432x288 with 1 Axes>"
      ]
     },
     "metadata": {
      "needs_background": "light"
     },
     "output_type": "display_data"
    },
    {
     "data": {
      "text/html": [
       "get_route_from_steps_sample: uid 538, ports [], aliases [], 0 polygons, 17 references"
      ],
      "text/plain": [
       "get_route_from_steps_sample: uid 538, ports [], aliases [], 0 polygons, 17 references"
      ]
     },
     "execution_count": 38,
     "metadata": {},
     "output_type": "execute_result"
    }
   ],
   "source": [
    "import gdsfactory as gf\n",
    "\n",
    "c = gf.Component(\"get_route_from_steps_sample\")\n",
    "w = gf.components.array(\n",
    "    gf.partial(gf.components.straight, layer=(2, 0)),\n",
    "    rows=3,\n",
    "    columns=1,\n",
    "    spacing=(0, 50),\n",
    ")\n",
    "\n",
    "left = c << w\n",
    "right = c << w\n",
    "right.move((200, 100))\n",
    "p1 = left.get_ports_list(orientation=0)\n",
    "p2 = right.get_ports_list(orientation=180)\n",
    "\n",
    "routes = gf.routing.get_bundle_from_steps(\n",
    "    p1,\n",
    "    p2,\n",
    "    steps=[{\"x\": 150}],\n",
    ")\n",
    "\n",
    "for route in routes:\n",
    "    c.add(route.references)\n",
    "\n",
    "c"
   ]
  },
  {
   "cell_type": "markdown",
   "metadata": {},
   "source": [
    "## get_bundle_path_length_match\n",
    "\n",
    "Sometimes you need to set up a route a bundle of ports that need to keep the same lengths"
   ]
  },
  {
   "cell_type": "code",
   "execution_count": 39,
   "metadata": {
    "execution": {
     "iopub.execute_input": "2022-06-15T17:08:17.109225Z",
     "iopub.status.busy": "2022-06-15T17:08:17.108827Z",
     "iopub.status.idle": "2022-06-15T17:08:17.501180Z",
     "shell.execute_reply": "2022-06-15T17:08:17.500292Z"
    }
   },
   "outputs": [
    {
     "name": "stdout",
     "output_type": "stream",
     "text": [
      "2659.822\n",
      "2659.822\n",
      "2659.822\n",
      "2659.822\n",
      "2659.822\n",
      "2659.822\n",
      "2659.822\n",
      "2659.822\n",
      "2659.822\n",
      "2659.822\n",
      "2659.822\n",
      "2659.822\n"
     ]
    },
    {
     "data": {
      "image/png": "[encoded data removed]",
      "text/plain": [
       "<Figure size 432x288 with 1 Axes>"
      ]
     },
     "metadata": {
      "needs_background": "light"
     },
     "output_type": "display_data"
    },
    {
     "data": {
      "text/html": [
       "path_length_match_sample: uid 547, ports [], aliases [], 0 polygons, 130 references"
      ],
      "text/plain": [
       "path_length_match_sample: uid 547, ports [], aliases [], 0 polygons, 130 references"
      ]
     },
     "execution_count": 39,
     "metadata": {},
     "output_type": "execute_result"
    }
   ],
   "source": [
    "import gdsfactory as gf\n",
    "\n",
    "c = gf.Component(\"path_length_match_sample\")\n",
    "dy = 2000.0\n",
    "xs1 = [-500, -300, -100, -90, -80, -55, -35, 200, 210, 240, 500, 650]\n",
    "\n",
    "pitch = 100.0\n",
    "N = len(xs1)\n",
    "xs2 = [-20 + i * pitch for i in range(N)]\n",
    "\n",
    "a1 = 90\n",
    "a2 = a1 + 180\n",
    "layer = (1, 0)\n",
    "\n",
    "ports1 = [gf.Port(f\"top_{i}\", (xs1[i], 0), 0.5, a1, layer=layer) for i in range(N)]\n",
    "ports2 = [gf.Port(f\"bot_{i}\", (xs2[i], dy), 0.5, a2, layer=layer) for i in range(N)]\n",
    "\n",
    "routes = gf.routing.get_bundle_path_length_match(ports1, ports2)\n",
    "\n",
    "for route in routes:\n",
    "    c.add(route.references)\n",
    "    print(route.length)\n",
    "c"
   ]
  },
  {
   "cell_type": "markdown",
   "metadata": {},
   "source": [
    "### Add extra length\n",
    "\n",
    "You can also add some extra length to all the routes"
   ]
  },
  {
   "cell_type": "code",
   "execution_count": 40,
   "metadata": {
    "execution": {
     "iopub.execute_input": "2022-06-15T17:08:17.504018Z",
     "iopub.status.busy": "2022-06-15T17:08:17.503798Z",
     "iopub.status.idle": "2022-06-15T17:08:17.892611Z",
     "shell.execute_reply": "2022-06-15T17:08:17.892058Z"
    }
   },
   "outputs": [
    {
     "name": "stdout",
     "output_type": "stream",
     "text": [
      "2703.822\n",
      "2703.822\n",
      "2703.822\n",
      "2703.822\n",
      "2703.822\n",
      "2703.822\n",
      "2703.822\n",
      "2703.822\n",
      "2703.822\n",
      "2703.822\n",
      "2703.822\n",
      "2703.822\n"
     ]
    },
    {
     "data": {
      "image/png": "[encoded data removed]",
      "text/plain": [
       "<Figure size 432x288 with 1 Axes>"
      ]
     },
     "metadata": {
      "needs_background": "light"
     },
     "output_type": "display_data"
    },
    {
     "data": {
      "text/html": [
       "path_length_match_sample: uid 619, ports [], aliases [], 0 polygons, 132 references"
      ],
      "text/plain": [
       "path_length_match_sample: uid 619, ports [], aliases [], 0 polygons, 132 references"
      ]
     },
     "execution_count": 40,
     "metadata": {},
     "output_type": "execute_result"
    }
   ],
   "source": [
    "import gdsfactory as gf\n",
    "\n",
    "c = gf.Component(\"path_length_match_sample\")\n",
    "\n",
    "dy = 2000.0\n",
    "xs1 = [-500, -300, -100, -90, -80, -55, -35, 200, 210, 240, 500, 650]\n",
    "\n",
    "pitch = 100.0\n",
    "N = len(xs1)\n",
    "xs2 = [-20 + i * pitch for i in range(N)]\n",
    "\n",
    "a1 = 90\n",
    "a2 = a1 + 180\n",
    "layer = (1, 0)\n",
    "\n",
    "ports1 = [gf.Port(f\"top_{i}\", (xs1[i], 0), 0.5, a1, layer=layer) for i in range(N)]\n",
    "ports2 = [gf.Port(f\"bot_{i}\", (xs2[i], dy), 0.5, a2, layer=layer) for i in range(N)]\n",
    "\n",
    "routes = gf.routing.get_bundle_path_length_match(ports1, ports2, extra_length=44)\n",
    "for route in routes:\n",
    "    c.add(route.references)\n",
    "    print(route.length)\n",
    "c"
   ]
  },
  {
   "cell_type": "markdown",
   "metadata": {},
   "source": [
    "### increase number of loops\n",
    "\n",
    "You can also increase the number of loops"
   ]
  },
  {
   "cell_type": "code",
   "execution_count": 41,
   "metadata": {
    "execution": {
     "iopub.execute_input": "2022-06-15T17:08:17.896183Z",
     "iopub.status.busy": "2022-06-15T17:08:17.895943Z",
     "iopub.status.idle": "2022-06-15T17:08:18.383698Z",
     "shell.execute_reply": "2022-06-15T17:08:18.383114Z"
    }
   },
   "outputs": [
    {
     "name": "stdout",
     "output_type": "stream",
     "text": [
      "3586.37\n",
      "3586.37\n",
      "3586.37\n",
      "3586.37\n",
      "3586.37\n",
      "3586.37\n",
      "3586.37\n",
      "3586.37\n",
      "3586.37\n",
      "3586.37\n",
      "3586.37\n",
      "3586.37\n"
     ]
    },
    {
     "data": {
      "image/png": "[encoded data removed]",
      "text/plain": [
       "<Figure size 432x288 with 1 Axes>"
      ]
     },
     "metadata": {
      "needs_background": "light"
     },
     "output_type": "display_data"
    },
    {
     "data": {
      "text/html": [
       "path_length_match_sample: uid 686, ports [], aliases [], 0 polygons, 200 references"
      ],
      "text/plain": [
       "path_length_match_sample: uid 686, ports [], aliases [], 0 polygons, 200 references"
      ]
     },
     "execution_count": 41,
     "metadata": {},
     "output_type": "execute_result"
    }
   ],
   "source": [
    "c = gf.Component(\"path_length_match_sample\")\n",
    "\n",
    "dy = 2000.0\n",
    "xs1 = [-500, -300, -100, -90, -80, -55, -35, 200, 210, 240, 500, 650]\n",
    "\n",
    "pitch = 200.0\n",
    "N = len(xs1)\n",
    "xs2 = [-20 + i * pitch for i in range(N)]\n",
    "\n",
    "a1 = 90\n",
    "a2 = a1 + 180\n",
    "layer = (1, 0)\n",
    "\n",
    "ports1 = [gf.Port(f\"top_{i}\", (xs1[i], 0), 0.5, a1, layer=layer) for i in range(N)]\n",
    "ports2 = [gf.Port(f\"bot_{i}\", (xs2[i], dy), 0.5, a2, layer=layer) for i in range(N)]\n",
    "\n",
    "routes = gf.routing.get_bundle_path_length_match(\n",
    "    ports1, ports2, nb_loops=2, auto_widen=False\n",
    ")\n",
    "for route in routes:\n",
    "    c.add(route.references)\n",
    "    print(route.length)\n",
    "c"
   ]
  },
  {
   "cell_type": "code",
   "execution_count": 42,
   "metadata": {
    "execution": {
     "iopub.execute_input": "2022-06-15T17:08:18.387833Z",
     "iopub.status.busy": "2022-06-15T17:08:18.386617Z",
     "iopub.status.idle": "2022-06-15T17:08:18.585715Z",
     "shell.execute_reply": "2022-06-15T17:08:18.585214Z"
    }
   },
   "outputs": [
    {
     "name": "stderr",
     "output_type": "stream",
     "text": [
      "/home/runner/work/gdsfactory/gdsfactory/gdsfactory/component.py:1032: UserWarning: Component 'Unnamed_aef12e44' contains 1 Unnamed cells\n",
      "  warnings.warn(\n"
     ]
    },
    {
     "data": {
      "image/png": "[encoded data removed]",
      "text/plain": [
       "<Figure size 432x288 with 1 Axes>"
      ]
     },
     "metadata": {
      "needs_background": "light"
     },
     "output_type": "display_data"
    },
    {
     "data": {
      "text/html": [
       "Unnamed_aef12e44: uid 753, ports [], aliases [], 0 polygons, 42 references"
      ],
      "text/plain": [
       "Unnamed_aef12e44: uid 753, ports [], aliases [], 0 polygons, 42 references"
      ]
     },
     "execution_count": 42,
     "metadata": {},
     "output_type": "execute_result"
    }
   ],
   "source": [
    "# Problem, sometimes when you do path length matching you need to increase the separation\n",
    "import gdsfactory as gf\n",
    "\n",
    "c = gf.Component()\n",
    "c1 = c << gf.components.straight_array(spacing=90)\n",
    "c2 = c << gf.components.straight_array(spacing=5)\n",
    "c2.movex(200)\n",
    "c1.y = 0\n",
    "c2.y = 0\n",
    "\n",
    "routes = gf.routing.get_bundle_path_length_match(\n",
    "    c1.get_ports_list(orientation=0),\n",
    "    c2.get_ports_list(orientation=180),\n",
    "    end_straight_length=0,\n",
    "    start_straight_length=0,\n",
    "    separation=30,\n",
    "    radius=5,\n",
    ")\n",
    "\n",
    "for route in routes:\n",
    "    c.add(route.references)\n",
    "c"
   ]
  },
  {
   "cell_type": "code",
   "execution_count": 43,
   "metadata": {
    "execution": {
     "iopub.execute_input": "2022-06-15T17:08:18.589143Z",
     "iopub.status.busy": "2022-06-15T17:08:18.588667Z",
     "iopub.status.idle": "2022-06-15T17:08:18.770878Z",
     "shell.execute_reply": "2022-06-15T17:08:18.770367Z"
    }
   },
   "outputs": [
    {
     "name": "stderr",
     "output_type": "stream",
     "text": [
      "/home/runner/work/gdsfactory/gdsfactory/gdsfactory/component.py:1032: UserWarning: Component 'Unnamed_514569b2' contains 1 Unnamed cells\n",
      "  warnings.warn(\n"
     ]
    },
    {
     "data": {
      "image/png": "[encoded data removed]",
      "text/plain": [
       "<Figure size 432x288 with 1 Axes>"
      ]
     },
     "metadata": {
      "needs_background": "light"
     },
     "output_type": "display_data"
    },
    {
     "data": {
      "text/html": [
       "Unnamed_514569b2: uid 771, ports [], aliases [], 0 polygons, 42 references"
      ],
      "text/plain": [
       "Unnamed_514569b2: uid 771, ports [], aliases [], 0 polygons, 42 references"
      ]
     },
     "execution_count": 43,
     "metadata": {},
     "output_type": "execute_result"
    }
   ],
   "source": [
    "# Solution: increase separation\n",
    "import gdsfactory as gf\n",
    "\n",
    "c = gf.Component()\n",
    "c1 = c << gf.components.straight_array(spacing=90)\n",
    "c2 = c << gf.components.straight_array(spacing=5)\n",
    "c2.movex(200)\n",
    "c1.y = 0\n",
    "c2.y = 0\n",
    "\n",
    "routes = gf.routing.get_bundle_path_length_match(\n",
    "    c1.get_ports_list(orientation=0),\n",
    "    c2.get_ports_list(orientation=180),\n",
    "    end_straight_length=0,\n",
    "    start_straight_length=0,\n",
    "    separation=80,  # increased\n",
    "    radius=5,\n",
    ")\n",
    "\n",
    "for route in routes:\n",
    "    c.add(route.references)\n",
    "c"
   ]
  },
  {
   "cell_type": "markdown",
   "metadata": {},
   "source": [
    "## Route to IO (Pads, grating couplers ...)\n",
    "\n",
    "\n",
    "### Route to electrical pads"
   ]
  },
  {
   "cell_type": "code",
   "execution_count": 44,
   "metadata": {
    "execution": {
     "iopub.execute_input": "2022-06-15T17:08:18.775267Z",
     "iopub.status.busy": "2022-06-15T17:08:18.774009Z",
     "iopub.status.idle": "2022-06-15T17:08:18.928933Z",
     "shell.execute_reply": "2022-06-15T17:08:18.928365Z"
    }
   },
   "outputs": [
    {
     "data": {
      "image/png": "[encoded data removed]",
      "text/plain": [
       "<Figure size 432x288 with 1 Axes>"
      ]
     },
     "metadata": {
      "needs_background": "light"
     },
     "output_type": "display_data"
    },
    {
     "data": {
      "text/html": [
       "straight_heater_metal_u_3ff09402: uid 784, ports ['o1', 'o2', 'e1', 'e2'], aliases [], 0 polygons, 5 references"
      ],
      "text/plain": [
       "straight_heater_metal_u_3ff09402: uid 784, ports ['o1', 'o2', 'e1', 'e2'], aliases [], 0 polygons, 5 references"
      ]
     },
     "execution_count": 44,
     "metadata": {},
     "output_type": "execute_result"
    }
   ],
   "source": [
    "import gdsfactory as gf\n",
    "\n",
    "mzi = gf.components.straight_heater_metal(length=30)\n",
    "mzi"
   ]
  },
  {
   "cell_type": "code",
   "execution_count": 45,
   "metadata": {
    "execution": {
     "iopub.execute_input": "2022-06-15T17:08:18.932150Z",
     "iopub.status.busy": "2022-06-15T17:08:18.931811Z",
     "iopub.status.idle": "2022-06-15T17:08:19.141876Z",
     "shell.execute_reply": "2022-06-15T17:08:19.141383Z"
    }
   },
   "outputs": [
    {
     "data": {
      "image/png": "[encoded data removed]",
      "text/plain": [
       "<Figure size 432x288 with 1 Axes>"
      ]
     },
     "metadata": {
      "needs_background": "light"
     },
     "output_type": "display_data"
    },
    {
     "data": {
      "text/html": [
       "mzi_5911ef5e_add_electr_89671652: uid 803, ports ['o1', 'o2'], aliases [], 0 polygons, 4 references"
      ],
      "text/plain": [
       "mzi_5911ef5e_add_electr_89671652: uid 803, ports ['o1', 'o2'], aliases [], 0 polygons, 4 references"
      ]
     },
     "execution_count": 45,
     "metadata": {},
     "output_type": "execute_result"
    }
   ],
   "source": [
    "import gdsfactory as gf\n",
    "\n",
    "mzi = gf.components.mzi_phase_shifter(\n",
    "    length_x=30, straight_x_top=gf.components.straight_heater_metal_90_90\n",
    ")\n",
    "mzi_te = gf.routing.add_electrical_pads_top(component=mzi, layer=(41, 0))\n",
    "mzi_te"
   ]
  },
  {
   "cell_type": "code",
   "execution_count": 46,
   "metadata": {
    "execution": {
     "iopub.execute_input": "2022-06-15T17:08:19.145890Z",
     "iopub.status.busy": "2022-06-15T17:08:19.145468Z",
     "iopub.status.idle": "2022-06-15T17:08:19.324570Z",
     "shell.execute_reply": "2022-06-15T17:08:19.324079Z"
    }
   },
   "outputs": [
    {
     "data": {
      "image/png": "[encoded data removed]",
      "text/plain": [
       "<Figure size 432x288 with 1 Axes>"
      ]
     },
     "metadata": {
      "needs_background": "light"
     },
     "output_type": "display_data"
    },
    {
     "data": {
      "text/html": [
       "straight_heater_metal_u_5ae73a40: uid 811, ports ['o1', 'o2'], aliases [], 2 polygons, 3 references"
      ],
      "text/plain": [
       "straight_heater_metal_u_5ae73a40: uid 811, ports ['o1', 'o2'], aliases [], 2 polygons, 3 references"
      ]
     },
     "execution_count": 46,
     "metadata": {},
     "output_type": "execute_result"
    }
   ],
   "source": [
    "import gdsfactory as gf\n",
    "\n",
    "hr = gf.components.straight_heater_metal()\n",
    "cc = gf.routing.add_electrical_pads_shortest(component=hr, layer=(41, 0))\n",
    "cc"
   ]
  },
  {
   "cell_type": "code",
   "execution_count": 47,
   "metadata": {
    "execution": {
     "iopub.execute_input": "2022-06-15T17:08:19.328099Z",
     "iopub.status.busy": "2022-06-15T17:08:19.327623Z",
     "iopub.status.idle": "2022-06-15T17:08:19.541838Z",
     "shell.execute_reply": "2022-06-15T17:08:19.541259Z"
    }
   },
   "outputs": [
    {
     "data": {
      "image/png": "[encoded data removed]",
      "text/plain": [
       "<Figure size 432x288 with 1 Axes>"
      ]
     },
     "metadata": {
      "needs_background": "light"
     },
     "output_type": "display_data"
    },
    {
     "data": {
      "text/html": [
       "mzi_78bded51_add_electr_3ac1f565: uid 821, ports ['o1', 'o2'], aliases [], 2 polygons, 3 references"
      ],
      "text/plain": [
       "mzi_78bded51_add_electr_3ac1f565: uid 821, ports ['o1', 'o2'], aliases [], 2 polygons, 3 references"
      ]
     },
     "execution_count": 47,
     "metadata": {},
     "output_type": "execute_result"
    }
   ],
   "source": [
    "# Problem: Sometimes the shortest path does not work well\n",
    "import gdsfactory as gf\n",
    "\n",
    "c = gf.components.mzi_phase_shifter_top_heater_metal(length_x=70)\n",
    "cc = gf.routing.add_electrical_pads_shortest(component=c, layer=(41, 0))\n",
    "cc"
   ]
  },
  {
   "cell_type": "code",
   "execution_count": 48,
   "metadata": {
    "execution": {
     "iopub.execute_input": "2022-06-15T17:08:19.545330Z",
     "iopub.status.busy": "2022-06-15T17:08:19.544686Z",
     "iopub.status.idle": "2022-06-15T17:08:19.682932Z",
     "shell.execute_reply": "2022-06-15T17:08:19.682369Z"
    }
   },
   "outputs": [
    {
     "data": {
      "image/png": "[encoded data removed]",
      "text/plain": [
       "<Figure size 432x288 with 1 Axes>"
      ]
     },
     "metadata": {
      "needs_background": "light"
     },
     "output_type": "display_data"
    },
    {
     "data": {
      "text/html": [
       "mzi_with_pads: uid 824, ports [], aliases [], 0 polygons, 2 references"
      ],
      "text/plain": [
       "mzi_with_pads: uid 824, ports [], aliases [], 0 polygons, 2 references"
      ]
     },
     "execution_count": 48,
     "metadata": {},
     "output_type": "execute_result"
    }
   ],
   "source": [
    "# Solution: you can use define the pads separate and route metal lines to them\n",
    "\n",
    "c = gf.Component(\"mzi_with_pads\")\n",
    "c1 = c << gf.components.mzi_phase_shifter_top_heater_metal(length_x=70)\n",
    "c2 = c << gf.components.pad_array(columns=2)\n",
    "\n",
    "c2.ymin = c1.ymax + 20\n",
    "c2.x = 0\n",
    "c1.x = 0\n",
    "c"
   ]
  },
  {
   "cell_type": "code",
   "execution_count": 49,
   "metadata": {
    "execution": {
     "iopub.execute_input": "2022-06-15T17:08:19.685894Z",
     "iopub.status.busy": "2022-06-15T17:08:19.685375Z",
     "iopub.status.idle": "2022-06-15T17:08:20.000493Z",
     "shell.execute_reply": "2022-06-15T17:08:19.999915Z"
    }
   },
   "outputs": [
    {
     "data": {
      "image/png": "[encoded data removed]",
      "text/plain": [
       "<Figure size 432x288 with 1 Axes>"
      ]
     },
     "metadata": {
      "needs_background": "light"
     },
     "output_type": "display_data"
    },
    {
     "data": {
      "text/html": [
       "mzi_with_pads: uid 825, ports [], aliases [], 0 polygons, 12 references"
      ],
      "text/plain": [
       "mzi_with_pads: uid 825, ports [], aliases [], 0 polygons, 12 references"
      ]
     },
     "execution_count": 49,
     "metadata": {},
     "output_type": "execute_result"
    }
   ],
   "source": [
    "c = gf.Component(\"mzi_with_pads\")\n",
    "c1 = c << gf.components.mzi_phase_shifter(\n",
    "    straight_x_top=gf.components.straight_heater_metal_90_90, length_x=70  # 150\n",
    ")\n",
    "c2 = c << gf.components.pad_array(columns=2, orientation=270)\n",
    "\n",
    "c2.ymin = c1.ymax + 30\n",
    "c2.x = 0\n",
    "c1.x = 0\n",
    "\n",
    "ports1 = c1.get_ports_list(port_type=\"electrical\")\n",
    "ports2 = c2.get_ports_list()\n",
    "\n",
    "routes = gf.routing.get_bundle(\n",
    "    ports1=ports1,\n",
    "    ports2=ports2,\n",
    "    cross_section=gf.cross_section.metal1,\n",
    "    width=10,\n",
    "    bend=gf.components.wire_corner,\n",
    ")\n",
    "for route in routes:\n",
    "    c.add(route.references)\n",
    "\n",
    "c"
   ]
  },
  {
   "cell_type": "markdown",
   "metadata": {},
   "source": [
    "### Route to Fiber Array\n",
    "\n",
    "Routing allows you to define routes to optical or electrical IO (grating couplers or electrical pads)"
   ]
  },
  {
   "cell_type": "code",
   "execution_count": 50,
   "metadata": {
    "attributes": {
     "classes": [],
     "id": "",
     "n": "1"
    },
    "execution": {
     "iopub.execute_input": "2022-06-15T17:08:20.003748Z",
     "iopub.status.busy": "2022-06-15T17:08:20.003507Z",
     "iopub.status.idle": "2022-06-15T17:08:21.205581Z",
     "shell.execute_reply": "2022-06-15T17:08:21.205009Z"
    }
   },
   "outputs": [
    {
     "data": {
      "image/png": "[encoded data removed]",
      "text/plain": [
       "<Figure size 432x288 with 1 Axes>"
      ]
     },
     "metadata": {
      "needs_background": "light"
     },
     "output_type": "display_data"
    },
    {
     "data": {
      "text/html": [
       "big_device_N10_add_fibe_3b5bb6e1: uid 840, ports ['vertical_te_00', 'vertical_te_01', 'vertical_te_02', 'vertical_te_03', 'vertical_te_04', 'vertical_te_05', 'vertical_te_06', 'vertical_te_07', 'vertical_te_08', 'vertical_te_09', 'vertical_te_010', 'vertical_te_011', 'vertical_te_012', 'vertical_te_013', 'vertical_te_014', 'vertical_te_015', 'vertical_te_016', 'vertical_te_017', 'vertical_te_018', 'vertical_te_019', 'vertical_te_020', 'vertical_te_021', 'vertical_te_022', 'vertical_te_023', 'vertical_te_024', 'vertical_te_025', 'vertical_te_026', 'vertical_te_027', 'vertical_te_028', 'vertical_te_029', 'vertical_te_030', 'vertical_te_031', 'vertical_te_032', 'vertical_te_033', 'vertical_te_034', 'vertical_te_035', 'vertical_te_036', 'vertical_te_037', 'vertical_te_038', 'vertical_te_039', 'vertical_te_10', 'vertical_te_20'], aliases [], 0 polygons, 364 references"
      ],
      "text/plain": [
       "big_device_N10_add_fibe_3b5bb6e1: uid 840, ports ['vertical_te_00', 'vertical_te_01', 'vertical_te_02', 'vertical_te_03', 'vertical_te_04', 'vertical_te_05', 'vertical_te_06', 'vertical_te_07', 'vertical_te_08', 'vertical_te_09', 'vertical_te_010', 'vertical_te_011', 'vertical_te_012', 'vertical_te_013', 'vertical_te_014', 'vertical_te_015', 'vertical_te_016', 'vertical_te_017', 'vertical_te_018', 'vertical_te_019', 'vertical_te_020', 'vertical_te_021', 'vertical_te_022', 'vertical_te_023', 'vertical_te_024', 'vertical_te_025', 'vertical_te_026', 'vertical_te_027', 'vertical_te_028', 'vertical_te_029', 'vertical_te_030', 'vertical_te_031', 'vertical_te_032', 'vertical_te_033', 'vertical_te_034', 'vertical_te_035', 'vertical_te_036', 'vertical_te_037', 'vertical_te_038', 'vertical_te_039', 'vertical_te_10', 'vertical_te_20'], aliases [], 0 polygons, 364 references"
      ]
     },
     "execution_count": 50,
     "metadata": {},
     "output_type": "execute_result"
    }
   ],
   "source": [
    "import numpy as np\n",
    "import gdsfactory as gf\n",
    "from gdsfactory import LAYER\n",
    "from gdsfactory import Port\n",
    "\n",
    "\n",
    "@gf.cell\n",
    "def big_device(w=400.0, h=400.0, N=16, port_pitch=15.0, layer=LAYER.WG, wg_width=0.5):\n",
    "    \"\"\"big component with N ports on each side\"\"\"\n",
    "    component = gf.Component()\n",
    "    p0 = np.array((0, 0))\n",
    "    dx = w / 2\n",
    "    dy = h / 2\n",
    "\n",
    "    points = [[dx, dy], [dx, -dy], [-dx, -dy], [-dx, dy]]\n",
    "    component.add_polygon(points, layer=layer)\n",
    "    port_params = {\"layer\": layer, \"width\": wg_width}\n",
    "    for i in range(N):\n",
    "        port = Port(\n",
    "            name=f\"W{i}\",\n",
    "            midpoint=p0 + (-dx, (i - N / 2) * port_pitch),\n",
    "            orientation=180,\n",
    "            **port_params,\n",
    "        )\n",
    "\n",
    "        component.add_port(port)\n",
    "\n",
    "    for i in range(N):\n",
    "        port = Port(\n",
    "            name=f\"E{i}\",\n",
    "            midpoint=p0 + (dx, (i - N / 2) * port_pitch),\n",
    "            orientation=0,\n",
    "            **port_params,\n",
    "        )\n",
    "\n",
    "        component.add_port(port)\n",
    "\n",
    "    for i in range(N):\n",
    "        port = Port(\n",
    "            name=f\"N{i}\",\n",
    "            midpoint=p0 + ((i - N / 2) * port_pitch, dy),\n",
    "            orientation=90,\n",
    "            **port_params,\n",
    "        )\n",
    "\n",
    "        component.add_port(port)\n",
    "\n",
    "    for i in range(N):\n",
    "        port = Port(\n",
    "            name=f\"S{i}\",\n",
    "            midpoint=p0 + ((i - N / 2) * port_pitch, -dy),\n",
    "            orientation=-90,\n",
    "            **port_params,\n",
    "        )\n",
    "\n",
    "        component.add_port(port)\n",
    "    return component\n",
    "\n",
    "\n",
    "component = big_device(N=10)\n",
    "c = gf.routing.add_fiber_array(component=component, radius=10.0, fanout_length=60.0)\n",
    "c"
   ]
  },
  {
   "cell_type": "code",
   "execution_count": 51,
   "metadata": {
    "execution": {
     "iopub.execute_input": "2022-06-15T17:08:21.208394Z",
     "iopub.status.busy": "2022-06-15T17:08:21.208170Z",
     "iopub.status.idle": "2022-06-15T17:08:21.501206Z",
     "shell.execute_reply": "2022-06-15T17:08:21.500630Z"
    }
   },
   "outputs": [
    {
     "data": {
      "image/png": "[encoded data removed]",
      "text/plain": [
       "<Figure size 432x288 with 1 Axes>"
      ]
     },
     "metadata": {
      "needs_background": "light"
     },
     "output_type": "display_data"
    },
    {
     "data": {
      "text/html": [
       "ring_double_width0p8_ad_f2e202b1: uid 1080, ports ['vertical_te_00', 'vertical_te_01', 'vertical_te_02', 'vertical_te_03', 'vertical_te_10', 'vertical_te_20'], aliases [], 0 polygons, 50 references"
      ],
      "text/plain": [
       "ring_double_width0p8_ad_f2e202b1: uid 1080, ports ['vertical_te_00', 'vertical_te_01', 'vertical_te_02', 'vertical_te_03', 'vertical_te_10', 'vertical_te_20'], aliases [], 0 polygons, 50 references"
      ]
     },
     "execution_count": 51,
     "metadata": {},
     "output_type": "execute_result"
    }
   ],
   "source": [
    "import gdsfactory as gf\n",
    "\n",
    "c = gf.components.ring_double(width=0.8)\n",
    "cc = gf.routing.add_fiber_array(component=c, taper_length=150)\n",
    "cc"
   ]
  },
  {
   "cell_type": "code",
   "execution_count": 52,
   "metadata": {
    "execution": {
     "iopub.execute_input": "2022-06-15T17:08:21.504611Z",
     "iopub.status.busy": "2022-06-15T17:08:21.504115Z",
     "iopub.status.idle": "2022-06-15T17:08:21.517975Z",
     "shell.execute_reply": "2022-06-15T17:08:21.517346Z"
    }
   },
   "outputs": [
    {
     "name": "stdout",
     "output_type": "stream",
     "text": [
      "name: ring_double_width0p8_ad_f2e202b1\n",
      "settings:\n",
      "  changed:\n",
      "    component:\n",
      "      name: ring_double_width0p8\n",
      "      settings:\n",
      "        changed: &id001\n",
      "          width: 0.8\n",
      "        child: null\n",
      "        default: &id002\n",
      "          bend: null\n",
      "          coupler_ring:\n",
      "            function: coupler_ring\n",
      "          cross_section:\n",
      "            function: cross_section\n",
      "            settings:\n",
      "              add_bbox:\n",
      "                function: add_bbox_siepic\n",
      "              add_pins:\n",
      "                function: add_pins_siepic\n",
      "                settings:\n",
      "                  pin_length: 0.002\n",
      "              cladding_layers:\n",
      "              - DEVREC\n",
      "              cladding_offsets:\n",
      "              - 0\n",
      "          gap: 0.2\n",
      "          length_x: 0.01\n",
      "          length_y: 0.01\n",
      "          radius: 10\n",
      "          straight:\n",
      "            function: straight\n",
      "        full: &id003\n",
      "          bend: null\n",
      "          coupler_ring:\n",
      "            function: coupler_ring\n",
      "          cross_section:\n",
      "            function: cross_section\n",
      "            settings:\n",
      "              add_bbox:\n",
      "                function: add_bbox_siepic\n",
      "              add_pins:\n",
      "                function: add_pins_siepic\n",
      "                settings:\n",
      "                  pin_length: 0.002\n",
      "              cladding_layers:\n",
      "              - DEVREC\n",
      "              cladding_offsets:\n",
      "              - 0\n",
      "          gap: 0.2\n",
      "          length_x: 0.01\n",
      "          length_y: 0.01\n",
      "          radius: 10\n",
      "          straight:\n",
      "            function: straight\n",
      "          width: 0.8\n",
      "        function_name: ring_double\n",
      "        info: &id004 {}\n",
      "        info_version: 2\n",
      "        module: gdsfactory.components.ring_double\n",
      "        name: ring_double_width0p8\n",
      "      version: 0.0.1\n",
      "    taper_length: 150\n",
      "  child:\n",
      "    changed:\n",
      "      width: 0.8\n",
      "    child: null\n",
      "    default:\n",
      "      bend: null\n",
      "      coupler_ring:\n",
      "        function: coupler_ring\n",
      "      cross_section:\n",
      "        function: cross_section\n",
      "        settings:\n",
      "          add_bbox:\n",
      "            function: add_bbox_siepic\n",
      "          add_pins:\n",
      "            function: add_pins_siepic\n",
      "            settings:\n",
      "              pin_length: 0.002\n",
      "          cladding_layers:\n",
      "          - DEVREC\n",
      "          cladding_offsets:\n",
      "          - 0\n",
      "      gap: 0.2\n",
      "      length_x: 0.01\n",
      "      length_y: 0.01\n",
      "      radius: 10\n",
      "      straight:\n",
      "        function: straight\n",
      "    full:\n",
      "      bend: null\n",
      "      coupler_ring:\n",
      "        function: coupler_ring\n",
      "      cross_section:\n",
      "        function: cross_section\n",
      "        settings:\n",
      "          add_bbox:\n",
      "            function: add_bbox_siepic\n",
      "          add_pins:\n",
      "            function: add_pins_siepic\n",
      "            settings:\n",
      "              pin_length: 0.002\n",
      "          cladding_layers:\n",
      "          - DEVREC\n",
      "          cladding_offsets:\n",
      "          - 0\n",
      "      gap: 0.2\n",
      "      length_x: 0.01\n",
      "      length_y: 0.01\n",
      "      radius: 10\n",
      "      straight:\n",
      "        function: straight\n",
      "      width: 0.8\n",
      "    function_name: ring_double\n",
      "    info: {}\n",
      "    info_version: 2\n",
      "    module: gdsfactory.components.ring_double\n",
      "    name: ring_double_width0p8\n",
      "  default:\n",
      "    component:\n",
      "      function: straight\n",
      "    component_name: null\n",
      "    cross_section: strip\n",
      "    gc_port_labels: null\n",
      "    gc_port_name: o1\n",
      "    get_input_labels_function:\n",
      "      function: get_input_labels\n",
      "    grating_coupler:\n",
      "      function: grating_coupler_elliptical_trenches\n",
      "      settings:\n",
      "        polarization: te\n",
      "        taper_angle: 35\n",
      "    layer_label: TEXT\n",
      "    select_ports:\n",
      "      function: select_ports\n",
      "      settings:\n",
      "        port_type: optical\n",
      "  full:\n",
      "    component:\n",
      "      name: ring_double_width0p8\n",
      "      settings:\n",
      "        changed: *id001\n",
      "        child: null\n",
      "        default: *id002\n",
      "        full: *id003\n",
      "        function_name: ring_double\n",
      "        info: *id004\n",
      "        info_version: 2\n",
      "        module: gdsfactory.components.ring_double\n",
      "        name: ring_double_width0p8\n",
      "      version: 0.0.1\n",
      "    component_name: null\n",
      "    cross_section: strip\n",
      "    gc_port_labels: null\n",
      "    gc_port_name: o1\n",
      "    get_input_labels_function:\n",
      "      function: get_input_labels\n",
      "    grating_coupler:\n",
      "      function: grating_coupler_elliptical_trenches\n",
      "      settings:\n",
      "        polarization: te\n",
      "        taper_angle: 35\n",
      "    layer_label: TEXT\n",
      "    select_ports:\n",
      "      function: select_ports\n",
      "      settings:\n",
      "        port_type: optical\n",
      "    taper_length: 150\n",
      "  function_name: add_fiber_array\n",
      "  info: {}\n",
      "  info_version: 2\n",
      "  module: gdsfactory.routing.add_fiber_array\n",
      "  name: ring_double_width0p8_ad_f2e202b1\n",
      "version: 0.0.1\n",
      "\n"
     ]
    }
   ],
   "source": [
    "cc.pprint()"
   ]
  },
  {
   "cell_type": "markdown",
   "metadata": {},
   "source": [
    "You can also mix and match `TE` and `TM` grating couplers"
   ]
  },
  {
   "cell_type": "code",
   "execution_count": 53,
   "metadata": {
    "execution": {
     "iopub.execute_input": "2022-06-15T17:08:21.521304Z",
     "iopub.status.busy": "2022-06-15T17:08:21.520753Z",
     "iopub.status.idle": "2022-06-15T17:08:21.822112Z",
     "shell.execute_reply": "2022-06-15T17:08:21.821463Z"
    }
   },
   "outputs": [
    {
     "data": {
      "image/png": "[encoded data removed]",
      "text/plain": [
       "<Figure size 432x288 with 1 Axes>"
      ]
     },
     "metadata": {
      "needs_background": "light"
     },
     "output_type": "display_data"
    },
    {
     "data": {
      "text/html": [
       "mzi_7a18d033_add_fiber__0ac301e9: uid 1125, ports ['e1', 'e2', 'vertical_tm_00', 'vertical_te_01', 'vertical_tm_10', 'vertical_tm_20'], aliases [], 0 polygons, 32 references"
      ],
      "text/plain": [
       "mzi_7a18d033_add_fiber__0ac301e9: uid 1125, ports ['e1', 'e2', 'vertical_tm_00', 'vertical_te_01', 'vertical_tm_10', 'vertical_tm_20'], aliases [], 0 polygons, 32 references"
      ]
     },
     "execution_count": 53,
     "metadata": {},
     "output_type": "execute_result"
    }
   ],
   "source": [
    "c = gf.components.mzi_phase_shifter()\n",
    "gcte = gf.components.grating_coupler_te\n",
    "gctm = gf.components.grating_coupler_tm\n",
    "\n",
    "cc = gf.routing.add_fiber_array(\n",
    "    component=c,\n",
    "    optical_routing_type=2,\n",
    "    grating_coupler=[gctm, gcte, gctm, gcte],\n",
    "    radius=20,\n",
    ")\n",
    "cc"
   ]
  },
  {
   "cell_type": "markdown",
   "metadata": {},
   "source": [
    "### Route to fiber single"
   ]
  },
  {
   "cell_type": "code",
   "execution_count": 54,
   "metadata": {
    "execution": {
     "iopub.execute_input": "2022-06-15T17:08:21.825206Z",
     "iopub.status.busy": "2022-06-15T17:08:21.824677Z",
     "iopub.status.idle": "2022-06-15T17:08:22.006955Z",
     "shell.execute_reply": "2022-06-15T17:08:22.006390Z"
    }
   },
   "outputs": [
    {
     "data": {
      "image/png": "[encoded data removed]",
      "text/plain": [
       "<Figure size 432x288 with 1 Axes>"
      ]
     },
     "metadata": {
      "needs_background": "light"
     },
     "output_type": "display_data"
    },
    {
     "data": {
      "text/html": [
       "ring_single_move_97d2b9_f24a6d84: uid 1159, ports ['vertical_te_00', 'vertical_te_1', 'loopback1', 'loopback2'], aliases [], 0 polygons, 8 references"
      ],
      "text/plain": [
       "ring_single_move_97d2b9_f24a6d84: uid 1159, ports ['vertical_te_00', 'vertical_te_1', 'loopback1', 'loopback2'], aliases [], 0 polygons, 8 references"
      ]
     },
     "execution_count": 54,
     "metadata": {},
     "output_type": "execute_result"
    }
   ],
   "source": [
    "import gdsfactory as gf\n",
    "\n",
    "c = gf.components.ring_single()\n",
    "cc = gf.routing.add_fiber_single(component=c)\n",
    "cc"
   ]
  },
  {
   "cell_type": "code",
   "execution_count": 55,
   "metadata": {
    "execution": {
     "iopub.execute_input": "2022-06-15T17:08:22.009885Z",
     "iopub.status.busy": "2022-06-15T17:08:22.009438Z",
     "iopub.status.idle": "2022-06-15T17:08:22.161916Z",
     "shell.execute_reply": "2022-06-15T17:08:22.161407Z"
    }
   },
   "outputs": [
    {
     "data": {
      "image/png": "[encoded data removed]",
      "text/plain": [
       "<Figure size 432x288 with 1 Axes>"
      ]
     },
     "metadata": {
      "needs_background": "light"
     },
     "output_type": "display_data"
    },
    {
     "data": {
      "text/html": [
       "ring_single_move_97d2b9_060c6fb1: uid 1168, ports ['vertical_te_00', 'vertical_te_1'], aliases [], 0 polygons, 5 references"
      ],
      "text/plain": [
       "ring_single_move_97d2b9_060c6fb1: uid 1168, ports ['vertical_te_00', 'vertical_te_1'], aliases [], 0 polygons, 5 references"
      ]
     },
     "execution_count": 55,
     "metadata": {},
     "output_type": "execute_result"
    }
   ],
   "source": [
    "import gdsfactory as gf\n",
    "\n",
    "c = gf.components.ring_single()\n",
    "cc = gf.routing.add_fiber_single(component=c, with_loopback=False)\n",
    "cc"
   ]
  },
  {
   "cell_type": "code",
   "execution_count": 56,
   "metadata": {
    "execution": {
     "iopub.execute_input": "2022-06-15T17:08:22.165569Z",
     "iopub.status.busy": "2022-06-15T17:08:22.164916Z",
     "iopub.status.idle": "2022-06-15T17:08:22.346712Z",
     "shell.execute_reply": "2022-06-15T17:08:22.346055Z"
    }
   },
   "outputs": [
    {
     "data": {
      "image/png": "[encoded data removed]",
      "text/plain": [
       "<Figure size 432x288 with 1 Axes>"
      ]
     },
     "metadata": {
      "needs_background": "light"
     },
     "output_type": "display_data"
    },
    {
     "data": {
      "text/html": [
       "mmi2x2_move_b00209b6_ad_d534314b: uid 1174, ports ['vertical_te_00', 'vertical_te_01', 'vertical_te_1', 'vertical_te_2'], aliases [], 0 polygons, 25 references"
      ],
      "text/plain": [
       "mmi2x2_move_b00209b6_ad_d534314b: uid 1174, ports ['vertical_te_00', 'vertical_te_01', 'vertical_te_1', 'vertical_te_2'], aliases [], 0 polygons, 25 references"
      ]
     },
     "execution_count": 56,
     "metadata": {},
     "output_type": "execute_result"
    }
   ],
   "source": [
    "c = gf.components.mmi2x2()\n",
    "cc = gf.routing.add_fiber_single(component=c, with_loopback=False)\n",
    "cc"
   ]
  },
  {
   "cell_type": "code",
   "execution_count": 57,
   "metadata": {
    "execution": {
     "iopub.execute_input": "2022-06-15T17:08:22.349573Z",
     "iopub.status.busy": "2022-06-15T17:08:22.349220Z",
     "iopub.status.idle": "2022-06-15T17:08:22.508800Z",
     "shell.execute_reply": "2022-06-15T17:08:22.508296Z"
    }
   },
   "outputs": [
    {
     "data": {
      "image/png": "[encoded data removed]",
      "text/plain": [
       "<Figure size 432x288 with 1 Axes>"
      ]
     },
     "metadata": {
      "needs_background": "light"
     },
     "output_type": "display_data"
    },
    {
     "data": {
      "text/html": [
       "mmi1x2_move_b408ca02_ad_dde6a792: uid 1186, ports ['vertical_te_00', 'vertical_te_1', 'vertical_te_2'], aliases [], 0 polygons, 15 references"
      ],
      "text/plain": [
       "mmi1x2_move_b408ca02_ad_dde6a792: uid 1186, ports ['vertical_te_00', 'vertical_te_1', 'vertical_te_2'], aliases [], 0 polygons, 15 references"
      ]
     },
     "execution_count": 57,
     "metadata": {},
     "output_type": "execute_result"
    }
   ],
   "source": [
    "c = gf.components.mmi1x2()\n",
    "cc = gf.routing.add_fiber_single(component=c, with_loopback=False, fiber_spacing=150)\n",
    "cc"
   ]
  },
  {
   "cell_type": "code",
   "execution_count": 58,
   "metadata": {
    "execution": {
     "iopub.execute_input": "2022-06-15T17:08:22.512019Z",
     "iopub.status.busy": "2022-06-15T17:08:22.511570Z",
     "iopub.status.idle": "2022-06-15T17:08:22.667491Z",
     "shell.execute_reply": "2022-06-15T17:08:22.666830Z"
    }
   },
   "outputs": [
    {
     "data": {
      "image/png": "[encoded data removed]",
      "text/plain": [
       "<Figure size 432x288 with 1 Axes>"
      ]
     },
     "metadata": {
      "needs_background": "light"
     },
     "output_type": "display_data"
    },
    {
     "data": {
      "text/html": [
       "mmi1x2_move_b408ca02_ad_58c798a9: uid 1195, ports ['vertical_te_00', 'vertical_te_1', 'vertical_te_2'], aliases [], 0 polygons, 15 references"
      ],
      "text/plain": [
       "mmi1x2_move_b408ca02_ad_58c798a9: uid 1195, ports ['vertical_te_00', 'vertical_te_1', 'vertical_te_2'], aliases [], 0 polygons, 15 references"
      ]
     },
     "execution_count": 58,
     "metadata": {},
     "output_type": "execute_result"
    }
   ],
   "source": [
    "c = gf.components.mmi1x2()\n",
    "cc = gf.routing.add_fiber_single(component=c, with_loopback=False, fiber_spacing=50)\n",
    "cc"
   ]
  },
  {
   "cell_type": "code",
   "execution_count": 59,
   "metadata": {
    "execution": {
     "iopub.execute_input": "2022-06-15T17:08:22.670663Z",
     "iopub.status.busy": "2022-06-15T17:08:22.670429Z",
     "iopub.status.idle": "2022-06-15T17:08:22.858903Z",
     "shell.execute_reply": "2022-06-15T17:08:22.858312Z"
    }
   },
   "outputs": [
    {
     "data": {
      "image/png": "[encoded data removed]",
      "text/plain": [
       "<Figure size 432x288 with 1 Axes>"
      ]
     },
     "metadata": {
      "needs_background": "light"
     },
     "output_type": "display_data"
    },
    {
     "data": {
      "text/html": [
       "crossing_move_5fbb1a97__7c0dc355: uid 1206, ports ['vertical_te_00', 'vertical_te_1', 'vertical_te_2', 'vertical_te_3'], aliases [], 0 polygons, 23 references"
      ],
      "text/plain": [
       "crossing_move_5fbb1a97__7c0dc355: uid 1206, ports ['vertical_te_00', 'vertical_te_1', 'vertical_te_2', 'vertical_te_3'], aliases [], 0 polygons, 23 references"
      ]
     },
     "execution_count": 59,
     "metadata": {},
     "output_type": "execute_result"
    }
   ],
   "source": [
    "c = gf.components.crossing()\n",
    "cc = gf.routing.add_fiber_single(component=c, with_loopback=False)\n",
    "cc"
   ]
  },
  {
   "cell_type": "code",
   "execution_count": 60,
   "metadata": {
    "execution": {
     "iopub.execute_input": "2022-06-15T17:08:22.861930Z",
     "iopub.status.busy": "2022-06-15T17:08:22.861491Z",
     "iopub.status.idle": "2022-06-15T17:08:23.199415Z",
     "shell.execute_reply": "2022-06-15T17:08:23.198849Z"
    }
   },
   "outputs": [
    {
     "data": {
      "image/png": "[encoded data removed]",
      "text/plain": [
       "<Figure size 432x288 with 1 Axes>"
      ]
     },
     "metadata": {
      "needs_background": "light"
     },
     "output_type": "display_data"
    },
    {
     "data": {
      "text/html": [
       "cross_9bc31ebd_move_a3a_fc48b898: uid 1225, ports ['vertical_te_00', 'vertical_te_1', 'vertical_te_2', 'vertical_te_3'], aliases [], 0 polygons, 23 references"
      ],
      "text/plain": [
       "cross_9bc31ebd_move_a3a_fc48b898: uid 1225, ports ['vertical_te_00', 'vertical_te_1', 'vertical_te_2', 'vertical_te_3'], aliases [], 0 polygons, 23 references"
      ]
     },
     "execution_count": 60,
     "metadata": {},
     "output_type": "execute_result"
    }
   ],
   "source": [
    "c = gf.components.cross(length=200, width=2, port_type=\"optical\")\n",
    "cc = gf.routing.add_fiber_single(component=c, with_loopback=False)\n",
    "cc"
   ]
  },
  {
   "cell_type": "code",
   "execution_count": 61,
   "metadata": {
    "execution": {
     "iopub.execute_input": "2022-06-15T17:08:23.202129Z",
     "iopub.status.busy": "2022-06-15T17:08:23.201909Z",
     "iopub.status.idle": "2022-06-15T17:08:23.890128Z",
     "shell.execute_reply": "2022-06-15T17:08:23.889474Z"
    }
   },
   "outputs": [
    {
     "data": {
      "image/png": "[encoded data removed]",
      "text/plain": [
       "<Figure size 432x288 with 1 Axes>"
      ]
     },
     "metadata": {
      "needs_background": "light"
     },
     "output_type": "display_data"
    },
    {
     "data": {
      "text/html": [
       "spiral_move_d4c326e7_ad_a5bac12d: uid 1242, ports ['vertical_te_0', 'vertical_te_1'], aliases [], 0 polygons, 3 references"
      ],
      "text/plain": [
       "spiral_move_d4c326e7_ad_a5bac12d: uid 1242, ports ['vertical_te_0', 'vertical_te_1'], aliases [], 0 polygons, 3 references"
      ]
     },
     "execution_count": 61,
     "metadata": {},
     "output_type": "execute_result"
    }
   ],
   "source": [
    "c = gf.components.spiral()\n",
    "cc = gf.routing.add_fiber_single(component=c, with_loopback=False)\n",
    "cc"
   ]
  }
 ],
 "metadata": {
  "kernelspec": {
   "display_name": "Python 3 (ipykernel)",
   "language": "python",
   "name": "python3"
  },
  "language_info": {
   "codemirror_mode": {
    "name": "ipython",
    "version": 3
   },
   "file_extension": ".py",
   "mimetype": "text/x-python",
   "name": "python",
   "nbconvert_exporter": "python",
   "pygments_lexer": "ipython3",
   "version": "3.9.13"
  }
 },
 "nbformat": 4,
 "nbformat_minor": 4
}
