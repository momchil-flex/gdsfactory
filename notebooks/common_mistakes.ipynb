{
 "cells": [
  {
   "cell_type": "markdown",
   "id": "5c1d509f-e060-4c6a-bd10-fbf1fe778dca",
   "metadata": {},
   "source": [
    "# Common mistakes\n",
    "\n",
    "## 1. Creating cells without `cell` decorator\n",
    "\n",
    "The cell decorator names cells deterministically and uniquely based on the name of the functions and its parameters.\n",
    "\n",
    "It also uses a caching mechanisms that improves performance and guards against duplicated names.\n",
    "\n",
    "### 1.a naming cells manually\n",
    "\n",
    "Naming cells manually is susceptible to name colisions\n",
    "\n",
    "in GDS you can't have two cells with the same name.\n",
    "\n",
    "For example: this code will raise a `duplicated cell name ValueError`\n",
    "\n",
    "```python\n",
    "\n",
    "import gdsfactory as gf\n",
    "\n",
    "c1 = gf.Component('wg')\n",
    "c1 << gf.components.straight(length = 5)\n",
    "\n",
    "\n",
    "c2 = gf.Component('wg')\n",
    "c2 << gf.components.straight(length = 50)\n",
    "\n",
    "\n",
    "c3 = gf.Component('waveguides')\n",
    "wg1 = c3 << c1\n",
    "wg2 = c3 << c2\n",
    "wg2.movey(10)\n",
    "c3\n",
    "\n",
    "```\n",
    "\n",
    "**Solution**: Use the `gf.cell` decorator for automatic naming your components."
   ]
  },
  {
   "cell_type": "code",
   "execution_count": 1,
   "id": "9f61a2c0-ce5d-412e-8950-af005d64ed4f",
   "metadata": {
    "execution": {
     "iopub.execute_input": "2022-06-15T17:09:57.797560Z",
     "iopub.status.busy": "2022-06-15T17:09:57.797321Z",
     "iopub.status.idle": "2022-06-15T17:09:59.856671Z",
     "shell.execute_reply": "2022-06-15T17:09:59.855882Z"
    }
   },
   "outputs": [
    {
     "name": "stderr",
     "output_type": "stream",
     "text": [
      "2022-06-15 17:09:58.633 | INFO     | gdsfactory.config:<module>:52 - Load '/home/runner/work/gdsfactory/gdsfactory/gdsfactory' 5.10.3\n"
     ]
    },
    {
     "name": "stdout",
     "output_type": "stream",
     "text": [
      "wg_length5: uid 2, ports ['o1', 'o2'], aliases [], 4 polygons, 0 references\n",
      "wg_length50: uid 5, ports ['o1', 'o2'], aliases [], 4 polygons, 0 references\n"
     ]
    }
   ],
   "source": [
    "import gdsfactory as gf\n",
    "\n",
    "\n",
    "@gf.cell\n",
    "def wg(length: float = 3):\n",
    "    return gf.components.straight(length=length)\n",
    "\n",
    "\n",
    "print(wg(length=5))\n",
    "print(wg(length=50))"
   ]
  },
  {
   "cell_type": "markdown",
   "id": "9749e1f7-f9a9-48e1-90e8-0c2d6e1c0292",
   "metadata": {},
   "source": [
    "### 1.b Not naming components with a unique and deterministic name\n",
    "\n",
    "In the case of not wrapping the function with `cell` you will get unique names thanks to the unique identifier `uuid`.\n",
    "\n",
    "This name will be different and non-deterministic for different invocations of the script.\n",
    "\n",
    "However it will be hard for you to know where that cell came from.\n",
    "\n"
   ]
  },
  {
   "cell_type": "code",
   "execution_count": 2,
   "id": "f94e5882-a93a-4e49-9822-0e45f434ac37",
   "metadata": {
    "execution": {
     "iopub.execute_input": "2022-06-15T17:09:59.860020Z",
     "iopub.status.busy": "2022-06-15T17:09:59.859582Z",
     "iopub.status.idle": "2022-06-15T17:09:59.864419Z",
     "shell.execute_reply": "2022-06-15T17:09:59.863822Z"
    }
   },
   "outputs": [
    {
     "name": "stdout",
     "output_type": "stream",
     "text": [
      "Unnamed_02860f9e\n",
      "Unnamed_97f6dd65\n"
     ]
    }
   ],
   "source": [
    "c1 = gf.Component()\n",
    "c2 = gf.Component()\n",
    "\n",
    "print(c1.name)\n",
    "print(c2.name)"
   ]
  },
  {
   "cell_type": "markdown",
   "id": "89e82378",
   "metadata": {},
   "source": [
    "Notice how gdsfactory raises a Warning when you save this `Unnamed` Components"
   ]
  },
  {
   "cell_type": "code",
   "execution_count": 3,
   "id": "dc5e092d",
   "metadata": {
    "execution": {
     "iopub.execute_input": "2022-06-15T17:09:59.867105Z",
     "iopub.status.busy": "2022-06-15T17:09:59.866894Z",
     "iopub.status.idle": "2022-06-15T17:09:59.876417Z",
     "shell.execute_reply": "2022-06-15T17:09:59.875826Z"
    }
   },
   "outputs": [
    {
     "name": "stderr",
     "output_type": "stream",
     "text": [
      "/home/runner/work/gdsfactory/gdsfactory/gdsfactory/component.py:1032: UserWarning: Component 'Unnamed_02860f9e' contains 1 Unnamed cells\n",
      "  warnings.warn(\n",
      "2022-06-15 17:09:59.869 | INFO     | gdsfactory.component:write_gds:1040 - Write GDS to '/tmp/tmp7jslvnsg/gdsfactory/Unnamed_02860f9e.gds'\n"
     ]
    },
    {
     "data": {
      "text/plain": [
       "PosixPath('/tmp/tmp7jslvnsg/gdsfactory/Unnamed_02860f9e.gds')"
      ]
     },
     "execution_count": 3,
     "metadata": {},
     "output_type": "execute_result"
    }
   ],
   "source": [
    "c1.write_gds()"
   ]
  },
  {
   "cell_type": "markdown",
   "id": "45162f9c-f940-4e96-a348-4596044dcd52",
   "metadata": {},
   "source": [
    "### 1.c Intermediate Unnamed cells\n",
    "\n",
    "While creating a cell, you should not create intermediate cells, because they won't get a name."
   ]
  },
  {
   "cell_type": "code",
   "execution_count": 4,
   "id": "69394512-4c02-43c0-a425-2c63b0ccd1e3",
   "metadata": {
    "execution": {
     "iopub.execute_input": "2022-06-15T17:09:59.879091Z",
     "iopub.status.busy": "2022-06-15T17:09:59.878890Z",
     "iopub.status.idle": "2022-06-15T17:10:00.003678Z",
     "shell.execute_reply": "2022-06-15T17:10:00.003187Z"
    }
   },
   "outputs": [
    {
     "name": "stdout",
     "output_type": "stream",
     "text": [
      "[DeviceReference (parent Device \"Unnamed_2d8afaad\", ports [], origin [-5.  0.], rotation 0, x_reflection False)]\n"
     ]
    },
    {
     "name": "stderr",
     "output_type": "stream",
     "text": [
      "/home/runner/work/gdsfactory/gdsfactory/gdsfactory/component.py:1032: UserWarning: Component 'die_bad' contains 1 Unnamed cells\n",
      "  warnings.warn(\n"
     ]
    },
    {
     "data": {
      "image/png": "[encoded data removed]",
      "text/plain": [
       "<Figure size 432x288 with 1 Axes>"
      ]
     },
     "metadata": {
      "needs_background": "light"
     },
     "output_type": "display_data"
    },
    {
     "data": {
      "text/html": [
       "die_bad: uid 12, ports [], aliases [], 4 polygons, 1 references"
      ],
      "text/plain": [
       "die_bad: uid 12, ports [], aliases [], 4 polygons, 1 references"
      ]
     },
     "execution_count": 4,
     "metadata": {},
     "output_type": "execute_result"
    }
   ],
   "source": [
    "@gf.cell\n",
    "def die_bad():\n",
    "    \"\"\"c1 is an intermediate Unnamed cell\"\"\"\n",
    "    c1 = gf.Component()\n",
    "    c1 << gf.components.straight(length=10)\n",
    "    c2 = gf.components.die_bbox(c1, street_width=10)\n",
    "    return c2\n",
    "\n",
    "\n",
    "c = die_bad(cache=False)\n",
    "print(c.references)\n",
    "c"
   ]
  },
  {
   "cell_type": "markdown",
   "id": "b9c9be50-551b-4b4f-b36b-46b6888afc9b",
   "metadata": {},
   "source": [
    "**Solution1** Don't use intermediate cells"
   ]
  },
  {
   "cell_type": "code",
   "execution_count": 5,
   "id": "01d33262-17a0-40da-bfa2-902f65ea2800",
   "metadata": {
    "execution": {
     "iopub.execute_input": "2022-06-15T17:10:00.006448Z",
     "iopub.status.busy": "2022-06-15T17:10:00.006099Z",
     "iopub.status.idle": "2022-06-15T17:10:00.126889Z",
     "shell.execute_reply": "2022-06-15T17:10:00.126396Z"
    }
   },
   "outputs": [
    {
     "name": "stdout",
     "output_type": "stream",
     "text": [
      "[DeviceReference (parent Device \"straight\", ports ['o1', 'o2'], origin (0, 0), rotation 0, x_reflection False), DeviceReference (parent Device \"die_bbox_frame_d6368d3a\", ports [], origin (0, 0), rotation 0, x_reflection False)]\n"
     ]
    },
    {
     "data": {
      "image/png": "[encoded data removed]",
      "text/plain": [
       "<Figure size 432x288 with 1 Axes>"
      ]
     },
     "metadata": {
      "needs_background": "light"
     },
     "output_type": "display_data"
    },
    {
     "data": {
      "text/html": [
       "die_good: uid 13, ports [], aliases [], 0 polygons, 2 references"
      ],
      "text/plain": [
       "die_good: uid 13, ports [], aliases [], 0 polygons, 2 references"
      ]
     },
     "execution_count": 5,
     "metadata": {},
     "output_type": "execute_result"
    }
   ],
   "source": [
    "@gf.cell\n",
    "def die_good():\n",
    "    c = gf.Component()\n",
    "    c << gf.components.straight(length=10)\n",
    "    c << gf.components.die_bbox_frame(c.bbox, street_width=10)\n",
    "    return c\n",
    "\n",
    "\n",
    "c = die_good(cache=False)\n",
    "print(c.references)\n",
    "c"
   ]
  },
  {
   "cell_type": "markdown",
   "id": "19b0376f-ea0b-411b-a7ea-fb6129530c32",
   "metadata": {},
   "source": [
    "**Solution2** You can flatten the cell, but you will lose the memory savings from cell references. Solution1 is more elegant."
   ]
  },
  {
   "cell_type": "code",
   "execution_count": 6,
   "id": "03f7d69f-7d4f-438b-8c8e-10c43cac0a89",
   "metadata": {
    "execution": {
     "iopub.execute_input": "2022-06-15T17:10:00.129711Z",
     "iopub.status.busy": "2022-06-15T17:10:00.129489Z",
     "iopub.status.idle": "2022-06-15T17:10:00.238306Z",
     "shell.execute_reply": "2022-06-15T17:10:00.237812Z"
    }
   },
   "outputs": [
    {
     "name": "stdout",
     "output_type": "stream",
     "text": [
      "[]\n"
     ]
    },
    {
     "data": {
      "image/png": "[encoded data removed]",
      "text/plain": [
       "<Figure size 432x288 with 1 Axes>"
      ]
     },
     "metadata": {
      "needs_background": "light"
     },
     "output_type": "display_data"
    },
    {
     "data": {
      "text/html": [
       "die_flat: uid 19, ports [], aliases [], 10 polygons, 0 references"
      ],
      "text/plain": [
       "die_flat: uid 19, ports [], aliases [], 10 polygons, 0 references"
      ]
     },
     "execution_count": 6,
     "metadata": {},
     "output_type": "execute_result"
    }
   ],
   "source": [
    "@gf.cell\n",
    "def die_flat():\n",
    "    \"\"\"c will be an intermediate unnamed cell\"\"\"\n",
    "    c = gf.Component()\n",
    "    c << gf.components.straight(length=10)\n",
    "    c2 = gf.components.die_bbox(c, street_width=10)\n",
    "    c2 = c2.flatten()\n",
    "    return c2\n",
    "\n",
    "\n",
    "c = die_flat(cache=False)\n",
    "print(c.references)\n",
    "c"
   ]
  },
  {
   "cell_type": "code",
   "execution_count": null,
   "id": "1b72b749-5759-4903-b1e8-eb2f0b94cfbe",
   "metadata": {},
   "outputs": [],
   "source": []
  }
 ],
 "metadata": {
  "kernelspec": {
   "display_name": "Python 3 (ipykernel)",
   "language": "python",
   "name": "python3"
  },
  "language_info": {
   "codemirror_mode": {
    "name": "ipython",
    "version": 3
   },
   "file_extension": ".py",
   "mimetype": "text/x-python",
   "name": "python",
   "nbconvert_exporter": "python",
   "pygments_lexer": "ipython3",
   "version": "3.9.13"
  }
 },
 "nbformat": 4,
 "nbformat_minor": 5
}
