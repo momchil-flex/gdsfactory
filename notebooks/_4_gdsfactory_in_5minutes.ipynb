{
 "cells": [
  {
   "cell_type": "markdown",
   "id": "334fb287-3f67-4828-8ea2-b9ca5bef58cf",
   "metadata": {},
   "source": [
    "# gdsfactory in 5 minutes\n",
    "\n",
    "## Component -> Circuit -> Mask\n",
    "\n",
    "gdsfactory easily enables you to go from a Component, to a higher level Component (circuit), or even higher level Component (Mask)\n",
    "\n",
    "For a component it's important that you spend some time early to parametrize it correctly. Don't be afraid to spend some time using pen and paper and choosing easy to understand names.\n",
    "\n",
    "Lets for example define a ring resonator, which is already a circuit made of waveguides, bends and couplers.\n",
    "\n",
    "Components, circuits and Masks are made in Parametric `cell` functions, that can also accept other ComponentSpec.\n",
    "\n",
    "A Component Spec can be:\n",
    "\n",
    "- a parametric cell function (decorated with `cell`)\n",
    "- a string. To get a cell registered in the active pdk.\n",
    "- a dict. `dict(component='mmi2x2', length_mmi=3)`"
   ]
  },
  {
   "cell_type": "code",
   "execution_count": 1,
   "id": "972040a8-0c59-43c0-89d4-aec5c8f527d6",
   "metadata": {
    "execution": {
     "iopub.execute_input": "2022-06-15T17:09:50.149890Z",
     "iopub.status.busy": "2022-06-15T17:09:50.149492Z",
     "iopub.status.idle": "2022-06-15T17:09:52.430119Z",
     "shell.execute_reply": "2022-06-15T17:09:52.429522Z"
    }
   },
   "outputs": [
    {
     "name": "stderr",
     "output_type": "stream",
     "text": [
      "2022-06-15 17:09:51.012 | INFO     | gdsfactory.config:<module>:52 - Load '/home/runner/work/gdsfactory/gdsfactory/gdsfactory' 5.10.3\n"
     ]
    },
    {
     "data": {
      "image/png": "[encoded data removed]",
      "text/plain": [
       "<Figure size 432x288 with 1 Axes>"
      ]
     },
     "metadata": {
      "needs_background": "light"
     },
     "output_type": "display_data"
    },
    {
     "data": {
      "text/html": [
       "coupler_ring: uid 0, ports ['o2', 'o1', 'o3', 'o4'], aliases [], 0 polygons, 3 references"
      ],
      "text/plain": [
       "coupler_ring: uid 0, ports ['o2', 'o1', 'o3', 'o4'], aliases [], 0 polygons, 3 references"
      ]
     },
     "execution_count": 1,
     "metadata": {},
     "output_type": "execute_result"
    }
   ],
   "source": [
    "from typing import Optional\n",
    "\n",
    "import gdsfactory as gf\n",
    "from gdsfactory.component import Component\n",
    "from gdsfactory.components.bend_euler import bend_euler\n",
    "from gdsfactory.components.coupler90 import coupler90 as coupler90function\n",
    "from gdsfactory.components.coupler_straight import (\n",
    "    coupler_straight as coupler_straight_function,\n",
    ")\n",
    "from gdsfactory.components.straight import straight as straight_function\n",
    "from gdsfactory.cross_section import strip\n",
    "from gdsfactory.snap import assert_on_2nm_grid\n",
    "from gdsfactory.types import ComponentSpec, CrossSectionSpec\n",
    "\n",
    "\n",
    "@gf.cell\n",
    "def coupler_ring(\n",
    "    gap: float = 0.2,\n",
    "    radius: float = 5.0,\n",
    "    length_x: float = 4.0,\n",
    "    coupler90: ComponentSpec = coupler90function,\n",
    "    bend: Optional[ComponentSpec] = None,\n",
    "    straight: ComponentSpec = straight_function,\n",
    "    coupler_straight: ComponentSpec = coupler_straight_function,\n",
    "    cross_section: CrossSectionSpec = strip,\n",
    "    bend_cross_section: Optional[CrossSectionSpec] = None,\n",
    "    **kwargs\n",
    ") -> Component:\n",
    "    r\"\"\"Coupler for ring.\n",
    "\n",
    "    Args:\n",
    "        gap: spacing between parallel coupled straight waveguides.\n",
    "        radius: of the bends.\n",
    "        length_x: length of the parallel coupled straight waveguides.\n",
    "        coupler90: straight coupled to a 90deg bend.\n",
    "        bend: bend spec.\n",
    "        coupler_straight: two parallel coupled straight waveguides.\n",
    "        cross_section: cross_section spec.\n",
    "        bend_cross_section: optional bend cross_section spec.\n",
    "        kwargs: cross_section settings for bend and coupler.\n",
    "\n",
    "    .. code::\n",
    "\n",
    "           2             3\n",
    "           |             |\n",
    "            \\           /\n",
    "             \\         /\n",
    "           ---=========---\n",
    "         1    length_x    4\n",
    "\n",
    "\n",
    "    \"\"\"\n",
    "    bend = bend or bend_euler\n",
    "\n",
    "    c = Component()\n",
    "    assert_on_2nm_grid(gap)\n",
    "\n",
    "    # define subcells\n",
    "    coupler90_component = gf.get_component(\n",
    "        coupler90,\n",
    "        gap=gap,\n",
    "        radius=radius,\n",
    "        bend=bend,\n",
    "        cross_section=cross_section,\n",
    "        bend_cross_section=bend_cross_section,\n",
    "        **kwargs\n",
    "    )\n",
    "    coupler_straight_component = gf.get_component(\n",
    "        coupler_straight,\n",
    "        gap=gap,\n",
    "        length=length_x,\n",
    "        cross_section=cross_section,\n",
    "        straight=straight,\n",
    "        **kwargs\n",
    "    )\n",
    "\n",
    "    # add references to subcells\n",
    "    cbl = c << coupler90_component\n",
    "    cbr = c << coupler90_component\n",
    "    cs = c << coupler_straight_component\n",
    "\n",
    "    # connect references\n",
    "    y = coupler90_component.y\n",
    "    cs.connect(port=\"o4\", destination=cbr.ports[\"o1\"])\n",
    "    cbl.reflect(p1=(0, y), p2=(1, y))\n",
    "    cbl.connect(port=\"o2\", destination=cs.ports[\"o2\"])\n",
    "\n",
    "    c.add_port(\"o1\", port=cbl.ports[\"o3\"])\n",
    "    c.add_port(\"o2\", port=cbl.ports[\"o4\"])\n",
    "    c.add_port(\"o3\", port=cbr.ports[\"o3\"])\n",
    "    c.add_port(\"o4\", port=cbr.ports[\"o4\"])\n",
    "    c.auto_rename_ports()\n",
    "    return c\n",
    "\n",
    "\n",
    "coupler = coupler_ring()\n",
    "coupler"
   ]
  },
  {
   "cell_type": "markdown",
   "id": "c5a7dd0c-67c7-461c-b067-cab22fcac287",
   "metadata": {},
   "source": [
    "Lets define a ring function that also accepts other component specs for the subcomponents (straight, coupler, bend)"
   ]
  },
  {
   "cell_type": "code",
   "execution_count": 2,
   "id": "08dd1c4b-d0bb-47d3-8af7-544e8a7810e5",
   "metadata": {
    "execution": {
     "iopub.execute_input": "2022-06-15T17:09:52.433230Z",
     "iopub.status.busy": "2022-06-15T17:09:52.432876Z",
     "iopub.status.idle": "2022-06-15T17:09:52.706667Z",
     "shell.execute_reply": "2022-06-15T17:09:52.706036Z"
    }
   },
   "outputs": [
    {
     "data": {
      "image/png": "[encoded data removed]",
      "text/plain": [
       "<Figure size 432x288 with 1 Axes>"
      ]
     },
     "metadata": {
      "needs_background": "light"
     },
     "output_type": "display_data"
    },
    {
     "data": {
      "text/html": [
       "ring_single: uid 9, ports ['o2', 'o1'], aliases [], 0 polygons, 6 references"
      ],
      "text/plain": [
       "ring_single: uid 9, ports ['o2', 'o1'], aliases [], 0 polygons, 6 references"
      ]
     },
     "execution_count": 2,
     "metadata": {},
     "output_type": "execute_result"
    }
   ],
   "source": [
    "import gdsfactory as gf\n",
    "\n",
    "\n",
    "@gf.cell\n",
    "def ring_single(\n",
    "    gap: float = 0.2,\n",
    "    radius: float = 10.0,\n",
    "    length_x: float = 4.0,\n",
    "    length_y: float = 0.6,\n",
    "    coupler_ring: ComponentSpec = coupler_ring,\n",
    "    straight: ComponentSpec = straight_function,\n",
    "    bend: ComponentSpec = bend_euler,\n",
    "    cross_section: ComponentSpec = \"strip\",\n",
    "    **kwargs\n",
    ") -> gf.Component:\n",
    "    \"\"\"Returns a single ring.\n",
    "\n",
    "    ring coupler (cb: bottom) connects to two vertical straights (sl: left, sr: right),\n",
    "    two bends (bl, br) and horizontal straight (wg: top)\n",
    "\n",
    "    Args:\n",
    "        gap: gap between for coupler.\n",
    "        radius: for the bend and coupler.\n",
    "        length_x: ring coupler length.\n",
    "        length_y: vertical straight length.\n",
    "        coupler_ring: ring coupler spec.\n",
    "        straight: straight spec.\n",
    "        bend: 90 degrees bend spec.\n",
    "        cross_section: cross_section spec.\n",
    "        kwargs: cross_section settings\n",
    "\n",
    "\n",
    "    .. code::\n",
    "\n",
    "          bl-st-br\n",
    "          |      |\n",
    "          sl     sr length_y\n",
    "          |      |\n",
    "         --==cb==-- gap\n",
    "\n",
    "          length_x\n",
    "\n",
    "    \"\"\"\n",
    "    gf.snap.assert_on_2nm_grid(gap)\n",
    "\n",
    "    c = gf.Component()\n",
    "    cb = c << gf.get_component(\n",
    "        coupler_ring,\n",
    "        bend=bend,\n",
    "        straight=straight,\n",
    "        gap=gap,\n",
    "        radius=radius,\n",
    "        length_x=length_x,\n",
    "        cross_section=cross_section,\n",
    "        **kwargs\n",
    "    )\n",
    "    sy = gf.get_component(\n",
    "        straight, length=length_y, cross_section=cross_section, **kwargs\n",
    "    )\n",
    "    b = gf.get_component(bend, cross_section=cross_section, radius=radius, **kwargs)\n",
    "    sx = gf.get_component(\n",
    "        straight, length=length_x, cross_section=cross_section, **kwargs\n",
    "    )\n",
    "    sl = c << sy\n",
    "    sr = c << sy\n",
    "    bl = c << b\n",
    "    br = c << b\n",
    "    st = c << sx\n",
    "\n",
    "    sl.connect(port=\"o1\", destination=cb.ports[\"o2\"])\n",
    "    bl.connect(port=\"o2\", destination=sl.ports[\"o2\"])\n",
    "\n",
    "    st.connect(port=\"o2\", destination=bl.ports[\"o1\"])\n",
    "    br.connect(port=\"o2\", destination=st.ports[\"o1\"])\n",
    "    sr.connect(port=\"o1\", destination=br.ports[\"o1\"])\n",
    "    sr.connect(port=\"o2\", destination=cb.ports[\"o3\"])\n",
    "\n",
    "    c.add_port(\"o2\", port=cb.ports[\"o4\"])\n",
    "    c.add_port(\"o1\", port=cb.ports[\"o1\"])\n",
    "    return c\n",
    "\n",
    "\n",
    "ring = ring_single()\n",
    "ring"
   ]
  },
  {
   "cell_type": "markdown",
   "id": "be6a2a0e-d35c-4e0c-be9c-cc16b1aa0bf9",
   "metadata": {},
   "source": [
    "How do you customize components?\n",
    "\n",
    "You can use `functools.partial` to customize the default settings from any component"
   ]
  },
  {
   "cell_type": "code",
   "execution_count": 3,
   "id": "2221442b-b501-4cb1-9af7-0249500179b6",
   "metadata": {
    "execution": {
     "iopub.execute_input": "2022-06-15T17:09:52.710156Z",
     "iopub.status.busy": "2022-06-15T17:09:52.709798Z",
     "iopub.status.idle": "2022-06-15T17:09:52.891253Z",
     "shell.execute_reply": "2022-06-15T17:09:52.890699Z"
    }
   },
   "outputs": [
    {
     "data": {
      "image/png": "[encoded data removed]",
      "text/plain": [
       "<Figure size 432x288 with 1 Axes>"
      ]
     },
     "metadata": {
      "needs_background": "light"
     },
     "output_type": "display_data"
    },
    {
     "data": {
      "text/html": [
       "ring_single_radius3: uid 20, ports ['o2', 'o1'], aliases [], 0 polygons, 6 references"
      ],
      "text/plain": [
       "ring_single_radius3: uid 20, ports ['o2', 'o1'], aliases [], 0 polygons, 6 references"
      ]
     },
     "execution_count": 3,
     "metadata": {},
     "output_type": "execute_result"
    }
   ],
   "source": [
    "ring_single3 = gf.partial(ring_single, radius=3)\n",
    "ring_single3()"
   ]
  },
  {
   "cell_type": "code",
   "execution_count": 4,
   "id": "9fcecdc1",
   "metadata": {
    "execution": {
     "iopub.execute_input": "2022-06-15T17:09:52.894051Z",
     "iopub.status.busy": "2022-06-15T17:09:52.893699Z",
     "iopub.status.idle": "2022-06-15T17:09:53.088632Z",
     "shell.execute_reply": "2022-06-15T17:09:53.088068Z"
    }
   },
   "outputs": [
    {
     "data": {
      "image/png": "[encoded data removed]",
      "text/plain": [
       "<Figure size 432x288 with 1 Axes>"
      ]
     },
     "metadata": {
      "needs_background": "light"
     },
     "output_type": "display_data"
    },
    {
     "data": {
      "text/html": [
       "ring_single_array_d7816013: uid 27, ports ['o1', 'o2'], aliases [], 0 polygons, 5 references"
      ],
      "text/plain": [
       "ring_single_array_d7816013: uid 27, ports ['o1', 'o2'], aliases [], 0 polygons, 5 references"
      ]
     },
     "execution_count": 4,
     "metadata": {},
     "output_type": "execute_result"
    }
   ],
   "source": [
    "ring_array = gf.components.ring_single_array(\n",
    "    list_of_dicts=[dict(radius=i) for i in [5, 6, 7]]\n",
    ")\n",
    "ring_array"
   ]
  },
  {
   "cell_type": "code",
   "execution_count": 5,
   "id": "1f3a362c",
   "metadata": {
    "execution": {
     "iopub.execute_input": "2022-06-15T17:09:53.091295Z",
     "iopub.status.busy": "2022-06-15T17:09:53.091069Z",
     "iopub.status.idle": "2022-06-15T17:09:53.494558Z",
     "shell.execute_reply": "2022-06-15T17:09:53.493968Z"
    }
   },
   "outputs": [
    {
     "data": {
      "image/png": "[encoded data removed]",
      "text/plain": [
       "<Figure size 432x288 with 1 Axes>"
      ]
     },
     "metadata": {
      "needs_background": "light"
     },
     "output_type": "display_data"
    },
    {
     "data": {
      "text/html": [
       "ring_single_array_d7816_34d867e1: uid 49, ports ['vertical_te_00', 'vertical_te_01', 'vertical_te_10', 'vertical_te_20'], aliases [], 0 polygons, 22 references"
      ],
      "text/plain": [
       "ring_single_array_d7816_34d867e1: uid 49, ports ['vertical_te_00', 'vertical_te_01', 'vertical_te_10', 'vertical_te_20'], aliases [], 0 polygons, 22 references"
      ]
     },
     "execution_count": 5,
     "metadata": {},
     "output_type": "execute_result"
    }
   ],
   "source": [
    "ring_with_grating_couplers = gf.routing.add_fiber_array(ring_array)\n",
    "ring_with_grating_couplers"
   ]
  },
  {
   "cell_type": "markdown",
   "id": "e68e75b2-625d-4bd5-adbb-5bfc22858bff",
   "metadata": {},
   "source": [
    "### Netlist driven flow\n",
    "\n",
    "You can define components as a Place and Route netlist.\n",
    "\n",
    "- instances\n",
    "- placements\n",
    "- routes\n"
   ]
  },
  {
   "cell_type": "code",
   "execution_count": 6,
   "id": "67bd29c0-a30d-4e30-8c36-f9a27abe27c4",
   "metadata": {
    "execution": {
     "iopub.execute_input": "2022-06-15T17:09:53.497436Z",
     "iopub.status.busy": "2022-06-15T17:09:53.497209Z",
     "iopub.status.idle": "2022-06-15T17:09:54.300016Z",
     "shell.execute_reply": "2022-06-15T17:09:54.299420Z"
    }
   },
   "outputs": [
    {
     "ename": "ValueError",
     "evalue": "Layer (31, 0) not in [(1, 0), (111, 0), (2, 0), (3, 0), (2, 6), (3, 6), (2, 9), (3, 1), (20, 0), (22, 0), (24, 0), (21, 0), (23, 0), (25, 0), (27, 0), (26, 0), (29, 0), (34, 0), (36, 0), (5, 0), (39, 0), (47, 0), (41, 0), (45, 0), (49, 0), (40, 0), (44, 0), (43, 0), (42, 0), (46, 0), (4, 0), (6, 0), (190, 0), (191, 0), (66, 0), (201, 0), (202, 0), (203, 0), (204, 0), (206, 0), (65, 0), (67, 0), (64, 0), (100, 0), (101, 0), (102, 0), (103, 0), (104, 0), (110, 0), (733, 0), (68, 0), (1, 10), (81, 0), (1, 11), (300, 0), (301, 0), (319, 0), (320, 0), (321, 0), (330, 0), (327, 0), (331, 0), (313, 0), (311, 0), (302, 0), (315, 0), (303, 0), (304, 0), (305, 0), (306, 0), (307, 0), (317, 0), (309, 0), (308, 0), (399, 0), (310, 0), (205, 0), (207, 0), (71, 0), (72, 0), (73, 0), (1, 12)]",
     "output_type": "error",
     "traceback": [
      "\u001b[0;31m---------------------------------------------------------------------------\u001b[0m",
      "\u001b[0;31mValueError\u001b[0m                                Traceback (most recent call last)",
      "File \u001b[0;32m/usr/share/miniconda/envs/anaconda-client-env/lib/python3.9/site-packages/IPython/core/formatters.py:343\u001b[0m, in \u001b[0;36mBaseFormatter.__call__\u001b[0;34m(self, obj)\u001b[0m\n\u001b[1;32m    341\u001b[0m     method \u001b[38;5;241m=\u001b[39m get_real_method(obj, \u001b[38;5;28mself\u001b[39m\u001b[38;5;241m.\u001b[39mprint_method)\n\u001b[1;32m    342\u001b[0m     \u001b[38;5;28;01mif\u001b[39;00m method \u001b[38;5;129;01mis\u001b[39;00m \u001b[38;5;129;01mnot\u001b[39;00m \u001b[38;5;28;01mNone\u001b[39;00m:\n\u001b[0;32m--> 343\u001b[0m         \u001b[38;5;28;01mreturn\u001b[39;00m \u001b[43mmethod\u001b[49m\u001b[43m(\u001b[49m\u001b[43m)\u001b[49m\n\u001b[1;32m    344\u001b[0m     \u001b[38;5;28;01mreturn\u001b[39;00m \u001b[38;5;28;01mNone\u001b[39;00m\n\u001b[1;32m    345\u001b[0m \u001b[38;5;28;01melse\u001b[39;00m:\n",
      "File \u001b[0;32m~/work/gdsfactory/gdsfactory/gdsfactory/component.py:785\u001b[0m, in \u001b[0;36mComponent._repr_html_\u001b[0;34m(self)\u001b[0m\n\u001b[1;32m    781\u001b[0m \u001b[38;5;124;03m\"\"\"Show geometry in klayout and in matplotlib\u001b[39;00m\n\u001b[1;32m    782\u001b[0m \u001b[38;5;124;03mfor jupyter notebooks\u001b[39;00m\n\u001b[1;32m    783\u001b[0m \u001b[38;5;124;03m\"\"\"\u001b[39;00m\n\u001b[1;32m    784\u001b[0m \u001b[38;5;28mself\u001b[39m\u001b[38;5;241m.\u001b[39mshow(show_ports\u001b[38;5;241m=\u001b[39m\u001b[38;5;28;01mFalse\u001b[39;00m)  \u001b[38;5;66;03m# show in klayout\u001b[39;00m\n\u001b[0;32m--> 785\u001b[0m \u001b[38;5;28;43mself\u001b[39;49m\u001b[38;5;241;43m.\u001b[39;49m\u001b[43mplot\u001b[49m\u001b[43m(\u001b[49m\u001b[43mplotter\u001b[49m\u001b[38;5;241;43m=\u001b[39;49m\u001b[38;5;124;43m\"\u001b[39;49m\u001b[38;5;124;43mmatplotlib\u001b[39;49m\u001b[38;5;124;43m\"\u001b[39;49m\u001b[43m)\u001b[49m\n\u001b[1;32m    786\u001b[0m \u001b[38;5;28;01mreturn\u001b[39;00m \u001b[38;5;28mself\u001b[39m\u001b[38;5;241m.\u001b[39m\u001b[38;5;21m__repr__\u001b[39m()\n",
      "File \u001b[0;32m~/work/gdsfactory/gdsfactory/gdsfactory/component.py:805\u001b[0m, in \u001b[0;36mComponent.plot\u001b[0;34m(self, plotter, **kwargs)\u001b[0m\n\u001b[1;32m    802\u001b[0m \u001b[38;5;28;01mif\u001b[39;00m plotter \u001b[38;5;241m==\u001b[39m \u001b[38;5;124m\"\u001b[39m\u001b[38;5;124mmatplotlib\u001b[39m\u001b[38;5;124m\"\u001b[39m:\n\u001b[1;32m    803\u001b[0m     \u001b[38;5;28;01mfrom\u001b[39;00m \u001b[38;5;21;01mgdsfactory\u001b[39;00m\u001b[38;5;21;01m.\u001b[39;00m\u001b[38;5;21;01mquickplotter\u001b[39;00m \u001b[38;5;28;01mimport\u001b[39;00m quickplot \u001b[38;5;28;01mas\u001b[39;00m plot\n\u001b[0;32m--> 805\u001b[0m     \u001b[38;5;28;01mreturn\u001b[39;00m \u001b[43mplot\u001b[49m\u001b[43m(\u001b[49m\u001b[38;5;28;43mself\u001b[39;49m\u001b[43m)\u001b[49m\n\u001b[1;32m    806\u001b[0m \u001b[38;5;28;01melif\u001b[39;00m plotter \u001b[38;5;241m==\u001b[39m \u001b[38;5;124m\"\u001b[39m\u001b[38;5;124mholoviews\u001b[39m\u001b[38;5;124m\"\u001b[39m:\n\u001b[1;32m    807\u001b[0m     \u001b[38;5;28;01mtry\u001b[39;00m:\n",
      "File \u001b[0;32m~/work/gdsfactory/gdsfactory/gdsfactory/quickplotter.py:237\u001b[0m, in \u001b[0;36mquickplot\u001b[0;34m(items)\u001b[0m\n\u001b[1;32m    235\u001b[0m \u001b[38;5;28;01mfor\u001b[39;00m key \u001b[38;5;129;01min\u001b[39;00m \u001b[38;5;28msorted\u001b[39m(polygons_spec):\n\u001b[1;32m    236\u001b[0m     polygons \u001b[38;5;241m=\u001b[39m polygons_spec[key]\n\u001b[0;32m--> 237\u001b[0m     layerprop \u001b[38;5;241m=\u001b[39m \u001b[43m_get_layerprop\u001b[49m\u001b[43m(\u001b[49m\u001b[43mlayer\u001b[49m\u001b[38;5;241;43m=\u001b[39;49m\u001b[43mkey\u001b[49m\u001b[43m[\u001b[49m\u001b[38;5;241;43m0\u001b[39;49m\u001b[43m]\u001b[49m\u001b[43m,\u001b[49m\u001b[43m \u001b[49m\u001b[43mdatatype\u001b[49m\u001b[38;5;241;43m=\u001b[39;49m\u001b[43mkey\u001b[49m\u001b[43m[\u001b[49m\u001b[38;5;241;43m1\u001b[39;49m\u001b[43m]\u001b[49m\u001b[43m)\u001b[49m\n\u001b[1;32m    238\u001b[0m     new_bbox \u001b[38;5;241m=\u001b[39m _draw_polygons(\n\u001b[1;32m    239\u001b[0m         polygons,\n\u001b[1;32m    240\u001b[0m         ax,\n\u001b[0;32m   (...)\u001b[0m\n\u001b[1;32m    243\u001b[0m         alpha\u001b[38;5;241m=\u001b[39mlayerprop[\u001b[38;5;124m\"\u001b[39m\u001b[38;5;124malpha\u001b[39m\u001b[38;5;124m\"\u001b[39m],\n\u001b[1;32m    244\u001b[0m     )\n\u001b[1;32m    245\u001b[0m     bbox \u001b[38;5;241m=\u001b[39m _update_bbox(bbox, new_bbox)\n",
      "File \u001b[0;32m~/work/gdsfactory/gdsfactory/gdsfactory/quickplotter.py:368\u001b[0m, in \u001b[0;36m_get_layerprop\u001b[0;34m(layer, datatype)\u001b[0m\n\u001b[1;32m    353\u001b[0m layer_colors \u001b[38;5;241m=\u001b[39m [\n\u001b[1;32m    354\u001b[0m     \u001b[38;5;124m\"\u001b[39m\u001b[38;5;124m#3dcc5c\u001b[39m\u001b[38;5;124m\"\u001b[39m,\n\u001b[1;32m    355\u001b[0m     \u001b[38;5;124m\"\u001b[39m\u001b[38;5;124m#2b0fff\u001b[39m\u001b[38;5;124m\"\u001b[39m,\n\u001b[0;32m   (...)\u001b[0m\n\u001b[1;32m    365\u001b[0m     \u001b[38;5;124m\"\u001b[39m\u001b[38;5;124m#e5520e\u001b[39m\u001b[38;5;124m\"\u001b[39m,\n\u001b[1;32m    366\u001b[0m ]\n\u001b[1;32m    367\u001b[0m LAYER_COLORS \u001b[38;5;241m=\u001b[39m get_layer_colors()\n\u001b[0;32m--> 368\u001b[0m _layer \u001b[38;5;241m=\u001b[39m \u001b[43mLAYER_COLORS\u001b[49m\u001b[38;5;241;43m.\u001b[39;49m\u001b[43mget_from_tuple\u001b[49m\u001b[43m(\u001b[49m\u001b[43m(\u001b[49m\u001b[43mlayer\u001b[49m\u001b[43m,\u001b[49m\u001b[43m \u001b[49m\u001b[43mdatatype\u001b[49m\u001b[43m)\u001b[49m\u001b[43m)\u001b[49m\n\u001b[1;32m    369\u001b[0m \u001b[38;5;28;01mif\u001b[39;00m _layer \u001b[38;5;129;01mis\u001b[39;00m \u001b[38;5;129;01mnot\u001b[39;00m \u001b[38;5;28;01mNone\u001b[39;00m:\n\u001b[1;32m    370\u001b[0m     color \u001b[38;5;241m=\u001b[39m _layer\u001b[38;5;241m.\u001b[39mcolor\n",
      "File \u001b[0;32m~/work/gdsfactory/gdsfactory/gdsfactory/layers.py:209\u001b[0m, in \u001b[0;36mLayerColors.get_from_tuple\u001b[0;34m(self, layer_tuple)\u001b[0m\n\u001b[1;32m    205\u001b[0m tuple_to_name \u001b[38;5;241m=\u001b[39m {\n\u001b[1;32m    206\u001b[0m     (v\u001b[38;5;241m.\u001b[39mgds_layer, v\u001b[38;5;241m.\u001b[39mgds_datatype): k \u001b[38;5;28;01mfor\u001b[39;00m k, v \u001b[38;5;129;01min\u001b[39;00m \u001b[38;5;28mself\u001b[39m\u001b[38;5;241m.\u001b[39mlayers\u001b[38;5;241m.\u001b[39mitems()\n\u001b[1;32m    207\u001b[0m }\n\u001b[1;32m    208\u001b[0m \u001b[38;5;28;01mif\u001b[39;00m layer_tuple \u001b[38;5;129;01mnot\u001b[39;00m \u001b[38;5;129;01min\u001b[39;00m tuple_to_name:\n\u001b[0;32m--> 209\u001b[0m     \u001b[38;5;28;01mraise\u001b[39;00m \u001b[38;5;167;01mValueError\u001b[39;00m(\u001b[38;5;124mf\u001b[39m\u001b[38;5;124m\"\u001b[39m\u001b[38;5;124mLayer \u001b[39m\u001b[38;5;132;01m{\u001b[39;00mlayer_tuple\u001b[38;5;132;01m}\u001b[39;00m\u001b[38;5;124m not in \u001b[39m\u001b[38;5;132;01m{\u001b[39;00m\u001b[38;5;28mlist\u001b[39m(tuple_to_name\u001b[38;5;241m.\u001b[39mkeys())\u001b[38;5;132;01m}\u001b[39;00m\u001b[38;5;124m\"\u001b[39m)\n\u001b[1;32m    211\u001b[0m name \u001b[38;5;241m=\u001b[39m tuple_to_name[layer_tuple]\n\u001b[1;32m    212\u001b[0m \u001b[38;5;28;01mreturn\u001b[39;00m \u001b[38;5;28mself\u001b[39m\u001b[38;5;241m.\u001b[39mlayers[name]\n",
      "\u001b[0;31mValueError\u001b[0m: Layer (31, 0) not in [(1, 0), (111, 0), (2, 0), (3, 0), (2, 6), (3, 6), (2, 9), (3, 1), (20, 0), (22, 0), (24, 0), (21, 0), (23, 0), (25, 0), (27, 0), (26, 0), (29, 0), (34, 0), (36, 0), (5, 0), (39, 0), (47, 0), (41, 0), (45, 0), (49, 0), (40, 0), (44, 0), (43, 0), (42, 0), (46, 0), (4, 0), (6, 0), (190, 0), (191, 0), (66, 0), (201, 0), (202, 0), (203, 0), (204, 0), (206, 0), (65, 0), (67, 0), (64, 0), (100, 0), (101, 0), (102, 0), (103, 0), (104, 0), (110, 0), (733, 0), (68, 0), (1, 10), (81, 0), (1, 11), (300, 0), (301, 0), (319, 0), (320, 0), (321, 0), (330, 0), (327, 0), (331, 0), (313, 0), (311, 0), (302, 0), (315, 0), (303, 0), (304, 0), (305, 0), (306, 0), (307, 0), (317, 0), (309, 0), (308, 0), (399, 0), (310, 0), (205, 0), (207, 0), (71, 0), (72, 0), (73, 0), (1, 12)]"
     ]
    },
    {
     "data": {
      "text/plain": [
       "sample_different_factor_20bddbe7: uid 64, ports [], aliases [], 0 polygons, 21 references"
      ]
     },
     "execution_count": 6,
     "metadata": {},
     "output_type": "execute_result"
    },
    {
     "data": {
      "image/png": "[encoded data removed]",
      "text/plain": [
       "<Figure size 432x288 with 1 Axes>"
      ]
     },
     "metadata": {
      "needs_background": "light"
     },
     "output_type": "display_data"
    }
   ],
   "source": [
    "import gdsfactory as gf\n",
    "\n",
    "yaml = \"\"\"\n",
    "name: sample_different_factory\n",
    "\n",
    "instances:\n",
    "    bl:\n",
    "      component: pad\n",
    "    tl:\n",
    "      component: pad\n",
    "    br:\n",
    "      component: pad\n",
    "    tr:\n",
    "      component: pad\n",
    "\n",
    "placements:\n",
    "    tl:\n",
    "        x: 0\n",
    "        y: 200\n",
    "\n",
    "    br:\n",
    "        x: 400\n",
    "        y: 400\n",
    "\n",
    "    tr:\n",
    "        x: 400\n",
    "        y: 600\n",
    "\n",
    "\n",
    "routes:\n",
    "    electrical:\n",
    "        settings:\n",
    "            separation: 20\n",
    "            layer: [31, 0]\n",
    "            width: 10\n",
    "        links:\n",
    "            tl,e3: tr,e1\n",
    "            bl,e3: br,e1\n",
    "    optical:\n",
    "        settings:\n",
    "            radius: 100\n",
    "        links:\n",
    "            bl,e4: br,e3\n",
    "\n",
    "\"\"\"\n",
    "\n",
    "mzi = gf.read.from_yaml(yaml)\n",
    "mzi"
   ]
  },
  {
   "cell_type": "markdown",
   "id": "631d78f4-bda9-4daf-aaa1-785765043ad8",
   "metadata": {},
   "source": [
    "## Mask\n",
    "\n",
    "Once you have your components and circuits defined, you can add them into a mask.\n",
    "\n",
    "You need to consider:\n",
    "\n",
    "- what design variations do you want to include in the mask? You need to define your Design Of Experiment or DOE\n",
    "- obey DRC (Design rule checking) foundry rules for manufacturability. Foundry usually provides those rules for each layer (min width, min space, min density, max density)\n",
    "- make sure you will be able to test te devices after fabrication. Obey DFT (design for testing) rules. For exammple, if your test setup works only for fiber array, what is the fiber array spacing (127 or 250um?)\n",
    "- if you plan to package your device, make sure you follow your packaging guidelines from your packaging house (min pad size, min pad pitch, max number of rows for wire bonding ...)"
   ]
  },
  {
   "cell_type": "code",
   "execution_count": 7,
   "id": "9f40780c-8be2-4f76-b412-b17f419a44b6",
   "metadata": {
    "execution": {
     "iopub.execute_input": "2022-06-15T17:09:54.306147Z",
     "iopub.status.busy": "2022-06-15T17:09:54.305900Z",
     "iopub.status.idle": "2022-06-15T17:09:54.651574Z",
     "shell.execute_reply": "2022-06-15T17:09:54.650427Z"
    }
   },
   "outputs": [
    {
     "ename": "ValueError",
     "evalue": "Layer (99, 0) not in [(1, 0), (111, 0), (2, 0), (3, 0), (2, 6), (3, 6), (2, 9), (3, 1), (20, 0), (22, 0), (24, 0), (21, 0), (23, 0), (25, 0), (27, 0), (26, 0), (29, 0), (34, 0), (36, 0), (5, 0), (39, 0), (47, 0), (41, 0), (45, 0), (49, 0), (40, 0), (44, 0), (43, 0), (42, 0), (46, 0), (4, 0), (6, 0), (190, 0), (191, 0), (66, 0), (201, 0), (202, 0), (203, 0), (204, 0), (206, 0), (65, 0), (67, 0), (64, 0), (100, 0), (101, 0), (102, 0), (103, 0), (104, 0), (110, 0), (733, 0), (68, 0), (1, 10), (81, 0), (1, 11), (300, 0), (301, 0), (319, 0), (320, 0), (321, 0), (330, 0), (327, 0), (331, 0), (313, 0), (311, 0), (302, 0), (315, 0), (303, 0), (304, 0), (305, 0), (306, 0), (307, 0), (317, 0), (309, 0), (308, 0), (399, 0), (310, 0), (205, 0), (207, 0), (71, 0), (72, 0), (73, 0), (1, 12)]",
     "output_type": "error",
     "traceback": [
      "\u001b[0;31m---------------------------------------------------------------------------\u001b[0m",
      "\u001b[0;31mValueError\u001b[0m                                Traceback (most recent call last)",
      "File \u001b[0;32m/usr/share/miniconda/envs/anaconda-client-env/lib/python3.9/site-packages/IPython/core/formatters.py:343\u001b[0m, in \u001b[0;36mBaseFormatter.__call__\u001b[0;34m(self, obj)\u001b[0m\n\u001b[1;32m    341\u001b[0m     method \u001b[38;5;241m=\u001b[39m get_real_method(obj, \u001b[38;5;28mself\u001b[39m\u001b[38;5;241m.\u001b[39mprint_method)\n\u001b[1;32m    342\u001b[0m     \u001b[38;5;28;01mif\u001b[39;00m method \u001b[38;5;129;01mis\u001b[39;00m \u001b[38;5;129;01mnot\u001b[39;00m \u001b[38;5;28;01mNone\u001b[39;00m:\n\u001b[0;32m--> 343\u001b[0m         \u001b[38;5;28;01mreturn\u001b[39;00m \u001b[43mmethod\u001b[49m\u001b[43m(\u001b[49m\u001b[43m)\u001b[49m\n\u001b[1;32m    344\u001b[0m     \u001b[38;5;28;01mreturn\u001b[39;00m \u001b[38;5;28;01mNone\u001b[39;00m\n\u001b[1;32m    345\u001b[0m \u001b[38;5;28;01melse\u001b[39;00m:\n",
      "File \u001b[0;32m~/work/gdsfactory/gdsfactory/gdsfactory/component.py:785\u001b[0m, in \u001b[0;36mComponent._repr_html_\u001b[0;34m(self)\u001b[0m\n\u001b[1;32m    781\u001b[0m \u001b[38;5;124;03m\"\"\"Show geometry in klayout and in matplotlib\u001b[39;00m\n\u001b[1;32m    782\u001b[0m \u001b[38;5;124;03mfor jupyter notebooks\u001b[39;00m\n\u001b[1;32m    783\u001b[0m \u001b[38;5;124;03m\"\"\"\u001b[39;00m\n\u001b[1;32m    784\u001b[0m \u001b[38;5;28mself\u001b[39m\u001b[38;5;241m.\u001b[39mshow(show_ports\u001b[38;5;241m=\u001b[39m\u001b[38;5;28;01mFalse\u001b[39;00m)  \u001b[38;5;66;03m# show in klayout\u001b[39;00m\n\u001b[0;32m--> 785\u001b[0m \u001b[38;5;28;43mself\u001b[39;49m\u001b[38;5;241;43m.\u001b[39;49m\u001b[43mplot\u001b[49m\u001b[43m(\u001b[49m\u001b[43mplotter\u001b[49m\u001b[38;5;241;43m=\u001b[39;49m\u001b[38;5;124;43m\"\u001b[39;49m\u001b[38;5;124;43mmatplotlib\u001b[39;49m\u001b[38;5;124;43m\"\u001b[39;49m\u001b[43m)\u001b[49m\n\u001b[1;32m    786\u001b[0m \u001b[38;5;28;01mreturn\u001b[39;00m \u001b[38;5;28mself\u001b[39m\u001b[38;5;241m.\u001b[39m\u001b[38;5;21m__repr__\u001b[39m()\n",
      "File \u001b[0;32m~/work/gdsfactory/gdsfactory/gdsfactory/component.py:805\u001b[0m, in \u001b[0;36mComponent.plot\u001b[0;34m(self, plotter, **kwargs)\u001b[0m\n\u001b[1;32m    802\u001b[0m \u001b[38;5;28;01mif\u001b[39;00m plotter \u001b[38;5;241m==\u001b[39m \u001b[38;5;124m\"\u001b[39m\u001b[38;5;124mmatplotlib\u001b[39m\u001b[38;5;124m\"\u001b[39m:\n\u001b[1;32m    803\u001b[0m     \u001b[38;5;28;01mfrom\u001b[39;00m \u001b[38;5;21;01mgdsfactory\u001b[39;00m\u001b[38;5;21;01m.\u001b[39;00m\u001b[38;5;21;01mquickplotter\u001b[39;00m \u001b[38;5;28;01mimport\u001b[39;00m quickplot \u001b[38;5;28;01mas\u001b[39;00m plot\n\u001b[0;32m--> 805\u001b[0m     \u001b[38;5;28;01mreturn\u001b[39;00m \u001b[43mplot\u001b[49m\u001b[43m(\u001b[49m\u001b[38;5;28;43mself\u001b[39;49m\u001b[43m)\u001b[49m\n\u001b[1;32m    806\u001b[0m \u001b[38;5;28;01melif\u001b[39;00m plotter \u001b[38;5;241m==\u001b[39m \u001b[38;5;124m\"\u001b[39m\u001b[38;5;124mholoviews\u001b[39m\u001b[38;5;124m\"\u001b[39m:\n\u001b[1;32m    807\u001b[0m     \u001b[38;5;28;01mtry\u001b[39;00m:\n",
      "File \u001b[0;32m~/work/gdsfactory/gdsfactory/gdsfactory/quickplotter.py:237\u001b[0m, in \u001b[0;36mquickplot\u001b[0;34m(items)\u001b[0m\n\u001b[1;32m    235\u001b[0m \u001b[38;5;28;01mfor\u001b[39;00m key \u001b[38;5;129;01min\u001b[39;00m \u001b[38;5;28msorted\u001b[39m(polygons_spec):\n\u001b[1;32m    236\u001b[0m     polygons \u001b[38;5;241m=\u001b[39m polygons_spec[key]\n\u001b[0;32m--> 237\u001b[0m     layerprop \u001b[38;5;241m=\u001b[39m \u001b[43m_get_layerprop\u001b[49m\u001b[43m(\u001b[49m\u001b[43mlayer\u001b[49m\u001b[38;5;241;43m=\u001b[39;49m\u001b[43mkey\u001b[49m\u001b[43m[\u001b[49m\u001b[38;5;241;43m0\u001b[39;49m\u001b[43m]\u001b[49m\u001b[43m,\u001b[49m\u001b[43m \u001b[49m\u001b[43mdatatype\u001b[49m\u001b[38;5;241;43m=\u001b[39;49m\u001b[43mkey\u001b[49m\u001b[43m[\u001b[49m\u001b[38;5;241;43m1\u001b[39;49m\u001b[43m]\u001b[49m\u001b[43m)\u001b[49m\n\u001b[1;32m    238\u001b[0m     new_bbox \u001b[38;5;241m=\u001b[39m _draw_polygons(\n\u001b[1;32m    239\u001b[0m         polygons,\n\u001b[1;32m    240\u001b[0m         ax,\n\u001b[0;32m   (...)\u001b[0m\n\u001b[1;32m    243\u001b[0m         alpha\u001b[38;5;241m=\u001b[39mlayerprop[\u001b[38;5;124m\"\u001b[39m\u001b[38;5;124malpha\u001b[39m\u001b[38;5;124m\"\u001b[39m],\n\u001b[1;32m    244\u001b[0m     )\n\u001b[1;32m    245\u001b[0m     bbox \u001b[38;5;241m=\u001b[39m _update_bbox(bbox, new_bbox)\n",
      "File \u001b[0;32m~/work/gdsfactory/gdsfactory/gdsfactory/quickplotter.py:368\u001b[0m, in \u001b[0;36m_get_layerprop\u001b[0;34m(layer, datatype)\u001b[0m\n\u001b[1;32m    353\u001b[0m layer_colors \u001b[38;5;241m=\u001b[39m [\n\u001b[1;32m    354\u001b[0m     \u001b[38;5;124m\"\u001b[39m\u001b[38;5;124m#3dcc5c\u001b[39m\u001b[38;5;124m\"\u001b[39m,\n\u001b[1;32m    355\u001b[0m     \u001b[38;5;124m\"\u001b[39m\u001b[38;5;124m#2b0fff\u001b[39m\u001b[38;5;124m\"\u001b[39m,\n\u001b[0;32m   (...)\u001b[0m\n\u001b[1;32m    365\u001b[0m     \u001b[38;5;124m\"\u001b[39m\u001b[38;5;124m#e5520e\u001b[39m\u001b[38;5;124m\"\u001b[39m,\n\u001b[1;32m    366\u001b[0m ]\n\u001b[1;32m    367\u001b[0m LAYER_COLORS \u001b[38;5;241m=\u001b[39m get_layer_colors()\n\u001b[0;32m--> 368\u001b[0m _layer \u001b[38;5;241m=\u001b[39m \u001b[43mLAYER_COLORS\u001b[49m\u001b[38;5;241;43m.\u001b[39;49m\u001b[43mget_from_tuple\u001b[49m\u001b[43m(\u001b[49m\u001b[43m(\u001b[49m\u001b[43mlayer\u001b[49m\u001b[43m,\u001b[49m\u001b[43m \u001b[49m\u001b[43mdatatype\u001b[49m\u001b[43m)\u001b[49m\u001b[43m)\u001b[49m\n\u001b[1;32m    369\u001b[0m \u001b[38;5;28;01mif\u001b[39;00m _layer \u001b[38;5;129;01mis\u001b[39;00m \u001b[38;5;129;01mnot\u001b[39;00m \u001b[38;5;28;01mNone\u001b[39;00m:\n\u001b[1;32m    370\u001b[0m     color \u001b[38;5;241m=\u001b[39m _layer\u001b[38;5;241m.\u001b[39mcolor\n",
      "File \u001b[0;32m~/work/gdsfactory/gdsfactory/gdsfactory/layers.py:209\u001b[0m, in \u001b[0;36mLayerColors.get_from_tuple\u001b[0;34m(self, layer_tuple)\u001b[0m\n\u001b[1;32m    205\u001b[0m tuple_to_name \u001b[38;5;241m=\u001b[39m {\n\u001b[1;32m    206\u001b[0m     (v\u001b[38;5;241m.\u001b[39mgds_layer, v\u001b[38;5;241m.\u001b[39mgds_datatype): k \u001b[38;5;28;01mfor\u001b[39;00m k, v \u001b[38;5;129;01min\u001b[39;00m \u001b[38;5;28mself\u001b[39m\u001b[38;5;241m.\u001b[39mlayers\u001b[38;5;241m.\u001b[39mitems()\n\u001b[1;32m    207\u001b[0m }\n\u001b[1;32m    208\u001b[0m \u001b[38;5;28;01mif\u001b[39;00m layer_tuple \u001b[38;5;129;01mnot\u001b[39;00m \u001b[38;5;129;01min\u001b[39;00m tuple_to_name:\n\u001b[0;32m--> 209\u001b[0m     \u001b[38;5;28;01mraise\u001b[39;00m \u001b[38;5;167;01mValueError\u001b[39;00m(\u001b[38;5;124mf\u001b[39m\u001b[38;5;124m\"\u001b[39m\u001b[38;5;124mLayer \u001b[39m\u001b[38;5;132;01m{\u001b[39;00mlayer_tuple\u001b[38;5;132;01m}\u001b[39;00m\u001b[38;5;124m not in \u001b[39m\u001b[38;5;132;01m{\u001b[39;00m\u001b[38;5;28mlist\u001b[39m(tuple_to_name\u001b[38;5;241m.\u001b[39mkeys())\u001b[38;5;132;01m}\u001b[39;00m\u001b[38;5;124m\"\u001b[39m)\n\u001b[1;32m    211\u001b[0m name \u001b[38;5;241m=\u001b[39m tuple_to_name[layer_tuple]\n\u001b[1;32m    212\u001b[0m \u001b[38;5;28;01mreturn\u001b[39;00m \u001b[38;5;28mself\u001b[39m\u001b[38;5;241m.\u001b[39mlayers[name]\n",
      "\u001b[0;31mValueError\u001b[0m: Layer (99, 0) not in [(1, 0), (111, 0), (2, 0), (3, 0), (2, 6), (3, 6), (2, 9), (3, 1), (20, 0), (22, 0), (24, 0), (21, 0), (23, 0), (25, 0), (27, 0), (26, 0), (29, 0), (34, 0), (36, 0), (5, 0), (39, 0), (47, 0), (41, 0), (45, 0), (49, 0), (40, 0), (44, 0), (43, 0), (42, 0), (46, 0), (4, 0), (6, 0), (190, 0), (191, 0), (66, 0), (201, 0), (202, 0), (203, 0), (204, 0), (206, 0), (65, 0), (67, 0), (64, 0), (100, 0), (101, 0), (102, 0), (103, 0), (104, 0), (110, 0), (733, 0), (68, 0), (1, 10), (81, 0), (1, 11), (300, 0), (301, 0), (319, 0), (320, 0), (321, 0), (330, 0), (327, 0), (331, 0), (313, 0), (311, 0), (302, 0), (315, 0), (303, 0), (304, 0), (305, 0), (306, 0), (307, 0), (317, 0), (309, 0), (308, 0), (399, 0), (310, 0), (205, 0), (207, 0), (71, 0), (72, 0), (73, 0), (1, 12)]"
     ]
    },
    {
     "data": {
      "text/plain": [
       "mask: uid 112, ports [], aliases [], 0 polygons, 2 references"
      ]
     },
     "execution_count": 7,
     "metadata": {},
     "output_type": "execute_result"
    },
    {
     "data": {
      "image/png": "[encoded data removed]",
      "text/plain": [
       "<Figure size 432x288 with 1 Axes>"
      ]
     },
     "metadata": {
      "needs_background": "light"
     },
     "output_type": "display_data"
    }
   ],
   "source": [
    "import toolz\n",
    "import gdsfactory as gf\n",
    "\n",
    "ring_te = toolz.compose(gf.routing.add_fiber_array, gf.components.ring_single)\n",
    "rings = gf.grid([ring_te(radius=r) for r in [10, 20, 50]])\n",
    "\n",
    "\n",
    "@gf.cell\n",
    "def mask(size=(1000, 1000)):\n",
    "    c = gf.Component()\n",
    "    c << gf.components.die(size=size)\n",
    "    c << rings\n",
    "    return c\n",
    "\n",
    "\n",
    "m = mask(cache=False)\n",
    "m"
   ]
  },
  {
   "cell_type": "code",
   "execution_count": 8,
   "id": "ca0e9788-4035-4585-96df-91d3d072625b",
   "metadata": {
    "execution": {
     "iopub.execute_input": "2022-06-15T17:09:54.654989Z",
     "iopub.status.busy": "2022-06-15T17:09:54.654753Z",
     "iopub.status.idle": "2022-06-15T17:09:55.007374Z",
     "shell.execute_reply": "2022-06-15T17:09:55.006748Z"
    }
   },
   "outputs": [
    {
     "name": "stderr",
     "output_type": "stream",
     "text": [
      "2022-06-15 17:09:54.662 | INFO     | gdsfactory.component:write_gds:1040 - Write GDS to 'mask.gds'\n"
     ]
    },
    {
     "name": "stderr",
     "output_type": "stream",
     "text": [
      "2022-06-15 17:09:55.003 | INFO     | gdsfactory.component:write_gds_with_metadata:1048 - Write YAML metadata to 'mask.yml'\n"
     ]
    }
   ],
   "source": [
    "gdspath = m.write_gds_with_metadata(gdspath=\"mask.gds\")"
   ]
  },
  {
   "cell_type": "markdown",
   "id": "a75d3e70-7821-4f70-b054-b95ede84a85f",
   "metadata": {},
   "source": [
    "Make sure you save the GDS with metadata so when the chip comes back you remember what you put on it\n",
    "\n",
    "You can also save the labels for automatic testing."
   ]
  },
  {
   "cell_type": "code",
   "execution_count": 9,
   "id": "67d8d3bb-1695-423b-89e3-b2abf473ced4",
   "metadata": {
    "execution": {
     "iopub.execute_input": "2022-06-15T17:09:55.011001Z",
     "iopub.status.busy": "2022-06-15T17:09:55.010768Z",
     "iopub.status.idle": "2022-06-15T17:09:55.020148Z",
     "shell.execute_reply": "2022-06-15T17:09:55.019582Z"
    }
   },
   "outputs": [
    {
     "name": "stderr",
     "output_type": "stream",
     "text": [
      "2022-06-15 17:09:55.014 | INFO     | gdsfactory.mask.write_labels:write_labels:84 - Wrote 12 labels to CSV /home/runner/work/gdsfactory/gdsfactory/docs/notebooks/mask.csv\n"
     ]
    },
    {
     "data": {
      "text/plain": [
       "PosixPath('mask.csv')"
      ]
     },
     "execution_count": 9,
     "metadata": {},
     "output_type": "execute_result"
    }
   ],
   "source": [
    "labels_path = gdspath.with_suffix(\".csv\")\n",
    "gf.mask.write_labels(gdspath=gdspath, layer_label=(66, 0))"
   ]
  },
  {
   "cell_type": "code",
   "execution_count": 10,
   "id": "f8823f78-0db8-4cd6-8164-db3268d4c68a",
   "metadata": {
    "execution": {
     "iopub.execute_input": "2022-06-15T17:09:55.023344Z",
     "iopub.status.busy": "2022-06-15T17:09:55.023126Z",
     "iopub.status.idle": "2022-06-15T17:09:55.464461Z",
     "shell.execute_reply": "2022-06-15T17:09:55.463750Z"
    }
   },
   "outputs": [],
   "source": [
    "mask_metadata = gf.mask.read_metadata(gdspath=gdspath)\n",
    "tm = gf.mask.merge_test_metadata(mask_metadata=mask_metadata, labels_path=labels_path)"
   ]
  },
  {
   "cell_type": "code",
   "execution_count": 11,
   "id": "a677753f-ae26-4aa6-8a89-4c87aa4e8bf6",
   "metadata": {
    "execution": {
     "iopub.execute_input": "2022-06-15T17:09:55.469022Z",
     "iopub.status.busy": "2022-06-15T17:09:55.468790Z",
     "iopub.status.idle": "2022-06-15T17:09:55.472513Z",
     "shell.execute_reply": "2022-06-15T17:09:55.472067Z"
    }
   },
   "outputs": [
    {
     "data": {
      "text/plain": [
       "dict_keys(['ring_single', 'ring_single_radius20', 'ring_single_radius50'])"
      ]
     },
     "execution_count": 11,
     "metadata": {},
     "output_type": "execute_result"
    }
   ],
   "source": [
    "tm.keys()"
   ]
  },
  {
   "cell_type": "markdown",
   "id": "b1ca6369",
   "metadata": {},
   "source": [
    "You want to learn more tutorials?\n",
    "\n",
    "- Routing: for complex routing.\n",
    "- Plugins: for simulation interfaces.\n",
    "    - Mode solvers.\n",
    "    - FDTD. For simulating Sparameters of each component.\n",
    "    - Circuit simulators."
   ]
  }
 ],
 "metadata": {
  "kernelspec": {
   "display_name": "Python 3 (ipykernel)",
   "language": "python",
   "name": "python3"
  },
  "language_info": {
   "codemirror_mode": {
    "name": "ipython",
    "version": 3
   },
   "file_extension": ".py",
   "mimetype": "text/x-python",
   "name": "python",
   "nbconvert_exporter": "python",
   "pygments_lexer": "ipython3",
   "version": "3.9.13"
  }
 },
 "nbformat": 4,
 "nbformat_minor": 5
}
