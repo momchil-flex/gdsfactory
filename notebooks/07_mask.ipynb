{
 "cells": [
  {
   "cell_type": "markdown",
   "id": "0fd5fd63-4798-4187-8315-f6112b7b4d7e",
   "metadata": {},
   "source": [
    "# Reticle assembly\n",
    "\n",
    "With gdsfactory you can easily go from a Component, to a Component sweep, to a top level Component full of subcomponents.\n",
    "\n",
    "## Test protocols\n",
    "\n",
    "To measure your reticle / die after fabrication you need to decide your test configurations. This includes things like:\n",
    "\n",
    "- `Individual input and output fibers` versus `fiber array`. I reccommend `fiber array` for easier testing and higher throughtput, but also understand the flexibility of single fibers for some cases.\n",
    "- Fiber array pitch (127um or 250um) if using a fiber array.\n",
    "- Pad pitch for DC and RF high speed probes (100, 125, 150, 200um). Probe configuration (GSG, GS ...)\n",
    "- Test layout for DC, RF and optical fibers.\n",
    "\n",
    "\n",
    "To enable automatic testing you need to add labels to all the devices that you want to test. GDS labels are not fabricated and are only visible in the GDS file.\n",
    "\n",
    "Lets show some different automatic labeling schemas:\n",
    "\n",
    "1. SiEPIC ubc Ebeam PDK schema, labels one of the grating couplers from the fiber array.\n",
    "2. `gf.dft.add_label_yaml` includes a YAML based Label with all testing information.\n",
    "3. EHVA automatic testers, include a Label component declaration as described in this [doc](https://drive.google.com/file/d/1kbQNrVLzPbefh3by7g2s865bcsA2vl5l/view)\n"
   ]
  },
  {
   "cell_type": "markdown",
   "id": "7faa794a",
   "metadata": {},
   "source": [
    "### 1. SiEPIC labels"
   ]
  },
  {
   "cell_type": "code",
   "execution_count": 1,
   "id": "c6d17c78",
   "metadata": {
    "execution": {
     "iopub.execute_input": "2022-06-15T17:08:40.936463Z",
     "iopub.status.busy": "2022-06-15T17:08:40.936039Z",
     "iopub.status.idle": "2022-06-15T17:08:43.001225Z",
     "shell.execute_reply": "2022-06-15T17:08:43.000203Z"
    }
   },
   "outputs": [
    {
     "name": "stderr",
     "output_type": "stream",
     "text": [
      "2022-06-15 17:08:41.774 | INFO     | gdsfactory.config:<module>:52 - Load '/home/runner/work/gdsfactory/gdsfactory/gdsfactory' 5.10.3\n"
     ]
    }
   ],
   "source": [
    "import gdsfactory as gf\n",
    "\n",
    "gf.config.set_plot_options(show_subports=False)"
   ]
  },
  {
   "cell_type": "code",
   "execution_count": 2,
   "id": "3054361e",
   "metadata": {
    "execution": {
     "iopub.execute_input": "2022-06-15T17:08:43.004815Z",
     "iopub.status.busy": "2022-06-15T17:08:43.004341Z",
     "iopub.status.idle": "2022-06-15T17:08:43.226831Z",
     "shell.execute_reply": "2022-06-15T17:08:43.226269Z"
    }
   },
   "outputs": [
    {
     "data": {
      "image/png": "[encoded data removed]",
      "text/plain": [
       "<Figure size 432x288 with 1 Axes>"
      ]
     },
     "metadata": {
      "needs_background": "light"
     },
     "output_type": "display_data"
    },
    {
     "data": {
      "text/html": [
       "mmi2x2_add_fiber_array__1f55acce: uid 4, ports ['vertical_te_00', 'vertical_te_01', 'vertical_te_02', 'vertical_te_03'], aliases [], 0 polygons, 1 references"
      ],
      "text/plain": [
       "mmi2x2_add_fiber_array__1f55acce: uid 4, ports ['vertical_te_00', 'vertical_te_01', 'vertical_te_02', 'vertical_te_03'], aliases [], 0 polygons, 1 references"
      ]
     },
     "execution_count": 2,
     "metadata": {},
     "output_type": "execute_result"
    }
   ],
   "source": [
    "mmi = gf.components.mmi2x2()\n",
    "mmi_te_siepic = gf.dft.add_fiber_array_siepic(component=mmi)\n",
    "mmi_te_siepic"
   ]
  },
  {
   "cell_type": "code",
   "execution_count": 3,
   "id": "e1d20c1e",
   "metadata": {
    "execution": {
     "iopub.execute_input": "2022-06-15T17:08:43.231068Z",
     "iopub.status.busy": "2022-06-15T17:08:43.229876Z",
     "iopub.status.idle": "2022-06-15T17:08:43.236392Z",
     "shell.execute_reply": "2022-06-15T17:08:43.235884Z"
    }
   },
   "outputs": [
    {
     "data": {
      "text/plain": [
       "[Label(\"opt_in_TE_1530_device_YourUserName_(mmi2x2)-1-o1\", (-23.69999999999999, 60.699999999999996), None, None, False, 10, 0)]"
      ]
     },
     "execution_count": 3,
     "metadata": {},
     "output_type": "execute_result"
    }
   ],
   "source": [
    "mmi_te_siepic.get_labels(depth=1)"
   ]
  },
  {
   "cell_type": "markdown",
   "id": "d6027b65",
   "metadata": {},
   "source": [
    "### 2. YAML labels"
   ]
  },
  {
   "cell_type": "code",
   "execution_count": 4,
   "id": "f151e1d6",
   "metadata": {
    "execution": {
     "iopub.execute_input": "2022-06-15T17:08:43.239605Z",
     "iopub.status.busy": "2022-06-15T17:08:43.239295Z",
     "iopub.status.idle": "2022-06-15T17:08:43.554116Z",
     "shell.execute_reply": "2022-06-15T17:08:43.553469Z"
    }
   },
   "outputs": [
    {
     "data": {
      "image/png": "[encoded data removed]",
      "text/plain": [
       "<Figure size 432x288 with 1 Axes>"
      ]
     },
     "metadata": {
      "needs_background": "light"
     },
     "output_type": "display_data"
    },
    {
     "data": {
      "text/html": [
       "mmi2x2_add_fiber_array_459c392f: uid 23, ports ['vertical_te_00', 'vertical_te_01', 'vertical_te_02', 'vertical_te_03', 'vertical_te_10', 'vertical_te_20'], aliases [], 0 polygons, 50 references"
      ],
      "text/plain": [
       "mmi2x2_add_fiber_array_459c392f: uid 23, ports ['vertical_te_00', 'vertical_te_01', 'vertical_te_02', 'vertical_te_03', 'vertical_te_10', 'vertical_te_20'], aliases [], 0 polygons, 50 references"
      ]
     },
     "execution_count": 4,
     "metadata": {},
     "output_type": "execute_result"
    }
   ],
   "source": [
    "mmi = gf.components.mmi2x2()\n",
    "mmi_te_yaml = gf.routing.add_fiber_array(mmi, get_input_labels_function=None)\n",
    "gf.dft.add_label_yaml(component=mmi_te_yaml)\n",
    "mmi_te_yaml"
   ]
  },
  {
   "cell_type": "code",
   "execution_count": 5,
   "id": "e64625d0",
   "metadata": {
    "execution": {
     "iopub.execute_input": "2022-06-15T17:08:43.556911Z",
     "iopub.status.busy": "2022-06-15T17:08:43.556680Z",
     "iopub.status.idle": "2022-06-15T17:08:43.561962Z",
     "shell.execute_reply": "2022-06-15T17:08:43.561411Z"
    }
   },
   "outputs": [
    {
     "data": {
      "text/plain": [
       "[Label(\"component_name: mmi2x2_add_fiber_array_459c392f\n",
       " polarization: None\n",
       " wavelength: None\n",
       " settings:\n",
       " ports:\n",
       "   vertical_te_20:\n",
       "     name: vertical_te_20    \n",
       "     width: 11.0    \n",
       "     midpoint:    \n",
       "     - 320.3    \n",
       "     - -80.96900000000001    \n",
       "     orientation: 270.0    \n",
       "     layer:    \n",
       "     - 203    \n",
       "     - 0    \n",
       "     port_type: vertical_te    \n",
       "     \n",
       "   vertical_te_03:\n",
       "     name: vertical_te_03    \n",
       "     width: 11.0    \n",
       "     midpoint:    \n",
       "     - 193.3    \n",
       "     - -80.96900000000001    \n",
       "     orientation: 270.0    \n",
       "     layer:    \n",
       "     - 203    \n",
       "     - 0    \n",
       "     port_type: vertical_te    \n",
       "     \n",
       "   vertical_te_02:\n",
       "     name: vertical_te_02    \n",
       "     width: 11.0    \n",
       "     midpoint:    \n",
       "     - 66.30000000000001    \n",
       "     - -80.96900000000001    \n",
       "     orientation: 270.0    \n",
       "     layer:    \n",
       "     - 203    \n",
       "     - 0    \n",
       "     port_type: vertical_te    \n",
       "     \n",
       "   vertical_te_01:\n",
       "     name: vertical_te_01    \n",
       "     width: 11.0    \n",
       "     midpoint:    \n",
       "     - -60.699999999999996    \n",
       "     - -80.96900000000001    \n",
       "     orientation: 270.0    \n",
       "     layer:    \n",
       "     - 203    \n",
       "     - 0    \n",
       "     port_type: vertical_te    \n",
       "     \n",
       "   vertical_te_00:\n",
       "     name: vertical_te_00    \n",
       "     width: 11.0    \n",
       "     midpoint:    \n",
       "     - -187.7    \n",
       "     - -80.96900000000001    \n",
       "     orientation: 270.0    \n",
       "     layer:    \n",
       "     - 203    \n",
       "     - 0    \n",
       "     port_type: vertical_te    \n",
       "     \n",
       "   vertical_te_10:\n",
       "     name: vertical_te_10    \n",
       "     width: 11.0    \n",
       "     midpoint:    \n",
       "     - -314.7    \n",
       "     - -80.96900000000001    \n",
       "     orientation: 270.0    \n",
       "     layer:    \n",
       "     - 203    \n",
       "     - 0    \n",
       "     port_type: vertical_te    \n",
       "     \", (0.0, 0.0), None, None, False, 66, 0)]"
      ]
     },
     "execution_count": 5,
     "metadata": {},
     "output_type": "execute_result"
    }
   ],
   "source": [
    "mmi_te_yaml.get_labels(depth=0)"
   ]
  },
  {
   "cell_type": "markdown",
   "id": "4cf473bf",
   "metadata": {},
   "source": [
    "### 3. EHVA labels"
   ]
  },
  {
   "cell_type": "code",
   "execution_count": 6,
   "id": "a8c06243",
   "metadata": {
    "execution": {
     "iopub.execute_input": "2022-06-15T17:08:43.564612Z",
     "iopub.status.busy": "2022-06-15T17:08:43.564410Z",
     "iopub.status.idle": "2022-06-15T17:08:43.842468Z",
     "shell.execute_reply": "2022-06-15T17:08:43.841899Z"
    }
   },
   "outputs": [
    {
     "data": {
      "image/png": "[encoded data removed]",
      "text/plain": [
       "<Figure size 432x288 with 1 Axes>"
      ]
     },
     "metadata": {
      "needs_background": "light"
     },
     "output_type": "display_data"
    },
    {
     "data": {
      "text/html": [
       "mmi2x2_add_fiber_array_459c392f: uid 23, ports ['vertical_te_00', 'vertical_te_01', 'vertical_te_02', 'vertical_te_03', 'vertical_te_10', 'vertical_te_20'], aliases [], 0 polygons, 50 references"
      ],
      "text/plain": [
       "mmi2x2_add_fiber_array_459c392f: uid 23, ports ['vertical_te_00', 'vertical_te_01', 'vertical_te_02', 'vertical_te_03', 'vertical_te_10', 'vertical_te_20'], aliases [], 0 polygons, 50 references"
      ]
     },
     "execution_count": 6,
     "metadata": {},
     "output_type": "execute_result"
    }
   ],
   "source": [
    "mmi_te_ehva = gf.routing.add_fiber_array(mmi, get_input_labels_function=None)\n",
    "mmi_te_ehva.remove_labels(lambda x: True)\n",
    "gf.dft.add_label_ehva(component=mmi_te_ehva, die=\"mpw1\")\n",
    "mmi_te_ehva"
   ]
  },
  {
   "cell_type": "code",
   "execution_count": 7,
   "id": "d1cd2659",
   "metadata": {
    "execution": {
     "iopub.execute_input": "2022-06-15T17:08:43.845648Z",
     "iopub.status.busy": "2022-06-15T17:08:43.845303Z",
     "iopub.status.idle": "2022-06-15T17:08:43.851639Z",
     "shell.execute_reply": "2022-06-15T17:08:43.850817Z"
    }
   },
   "outputs": [
    {
     "data": {
      "text/plain": [
       "[Label(\"DIE NAME:mpw1\n",
       " CIRCUIT NAME:mmi2x2_add_fiber_array_459c392f\n",
       " \n",
       " OPTICALPORT NAME: vertical_te_20 TYPE: vertical_te, POSITION RELATIVE:(320.3, -80.969), ORIENTATION: 270\n",
       " OPTICALPORT NAME: vertical_te_03 TYPE: vertical_te, POSITION RELATIVE:(193.3, -80.969), ORIENTATION: 270\n",
       " OPTICALPORT NAME: vertical_te_02 TYPE: vertical_te, POSITION RELATIVE:(66.3, -80.969), ORIENTATION: 270\n",
       " OPTICALPORT NAME: vertical_te_01 TYPE: vertical_te, POSITION RELATIVE:(-60.7, -80.969), ORIENTATION: 270\n",
       " OPTICALPORT NAME: vertical_te_00 TYPE: vertical_te, POSITION RELATIVE:(-187.7, -80.969), ORIENTATION: 270\n",
       " OPTICALPORT NAME: vertical_te_10 TYPE: vertical_te, POSITION RELATIVE:(-314.7, -80.969), ORIENTATION: 270\", (0.0, 0.0), None, None, False, 66, 0)]"
      ]
     },
     "execution_count": 7,
     "metadata": {},
     "output_type": "execute_result"
    }
   ],
   "source": [
    "mmi_te_ehva.get_labels(depth=0)"
   ]
  },
  {
   "cell_type": "markdown",
   "id": "ae8c6fe2",
   "metadata": {},
   "source": [
    "One advantage of the YAML and EHVA formats is that you can track any changes on the components directly from the GDS label, as the label already stores any changes of the child device, as well as any settings that you specify.\n",
    "\n",
    "Settings can have many levels of hierarchy, but you can still access any children setting with `:` notation.\n",
    "\n",
    "\n",
    "```\n",
    "grating_coupler:\n",
    "    function: grating_coupler_elliptical_trenches\n",
    "    settings:\n",
    "        polarization: te\n",
    "        taper_angle: 35\n",
    "\n",
    "```"
   ]
  },
  {
   "cell_type": "code",
   "execution_count": 8,
   "id": "d5be6d43",
   "metadata": {
    "execution": {
     "iopub.execute_input": "2022-06-15T17:08:43.854887Z",
     "iopub.status.busy": "2022-06-15T17:08:43.854309Z",
     "iopub.status.idle": "2022-06-15T17:08:44.101554Z",
     "shell.execute_reply": "2022-06-15T17:08:44.100986Z"
    }
   },
   "outputs": [
    {
     "data": {
      "image/png": "[encoded data removed]",
      "text/plain": [
       "<Figure size 432x288 with 1 Axes>"
      ]
     },
     "metadata": {
      "needs_background": "light"
     },
     "output_type": "display_data"
    },
    {
     "data": {
      "text/html": [
       "mmi2x2_length_mmi10_add_c7bd88ad: uid 60, ports ['vertical_te_00', 'vertical_te_01', 'vertical_te_02', 'vertical_te_03', 'vertical_te_10', 'vertical_te_20'], aliases [], 0 polygons, 50 references"
      ],
      "text/plain": [
       "mmi2x2_length_mmi10_add_c7bd88ad: uid 60, ports ['vertical_te_00', 'vertical_te_01', 'vertical_te_02', 'vertical_te_03', 'vertical_te_10', 'vertical_te_20'], aliases [], 0 polygons, 50 references"
      ]
     },
     "execution_count": 8,
     "metadata": {},
     "output_type": "execute_result"
    }
   ],
   "source": [
    "mmi = gf.components.mmi2x2(length_mmi=10)\n",
    "mmi_te_ehva = gf.routing.add_fiber_array(mmi, get_input_labels_function=None)\n",
    "mmi_te_ehva.remove_labels(lambda x: True)\n",
    "gf.dft.add_label_ehva(\n",
    "    component=mmi_te_ehva,\n",
    "    die=\"mpw1\",\n",
    "    metadata_include_parent=[\"grating_coupler:settings:polarization\"],\n",
    ")\n",
    "mmi_te_ehva"
   ]
  },
  {
   "cell_type": "code",
   "execution_count": 9,
   "id": "d021b96d",
   "metadata": {
    "execution": {
     "iopub.execute_input": "2022-06-15T17:08:44.104265Z",
     "iopub.status.busy": "2022-06-15T17:08:44.104042Z",
     "iopub.status.idle": "2022-06-15T17:08:44.109837Z",
     "shell.execute_reply": "2022-06-15T17:08:44.109347Z"
    }
   },
   "outputs": [
    {
     "data": {
      "text/plain": [
       "[Label(\"DIE NAME:mpw1\n",
       " CIRCUIT NAME:mmi2x2_length_mmi10_add_c7bd88ad\n",
       " CIRCUITINFO NAME: length_mmi, VALUE: 10\n",
       " CIRCUITINFO NAME: grating_coupler_settings_polarization, VALUE: te\n",
       " OPTICALPORT NAME: vertical_te_20 TYPE: vertical_te, POSITION RELATIVE:(322.5, -80.969), ORIENTATION: 270\n",
       " OPTICALPORT NAME: vertical_te_03 TYPE: vertical_te, POSITION RELATIVE:(195.5, -80.969), ORIENTATION: 270\n",
       " OPTICALPORT NAME: vertical_te_02 TYPE: vertical_te, POSITION RELATIVE:(68.5, -80.969), ORIENTATION: 270\n",
       " OPTICALPORT NAME: vertical_te_01 TYPE: vertical_te, POSITION RELATIVE:(-58.5, -80.969), ORIENTATION: 270\n",
       " OPTICALPORT NAME: vertical_te_00 TYPE: vertical_te, POSITION RELATIVE:(-185.5, -80.969), ORIENTATION: 270\n",
       " OPTICALPORT NAME: vertical_te_10 TYPE: vertical_te, POSITION RELATIVE:(-312.5, -80.969), ORIENTATION: 270\", (0.0, 0.0), None, None, False, 66, 0)]"
      ]
     },
     "execution_count": 9,
     "metadata": {},
     "output_type": "execute_result"
    }
   ],
   "source": [
    "mmi_te_ehva.get_labels(depth=0)"
   ]
  },
  {
   "cell_type": "markdown",
   "id": "54305dea",
   "metadata": {},
   "source": [
    "## Pack\n",
    "\n",
    "Lets start with a resistance sweep, where you change the resistance width to measure sheet resistance."
   ]
  },
  {
   "cell_type": "code",
   "execution_count": 10,
   "id": "624be8bc-9d7f-40e8-9217-c0d9071471e9",
   "metadata": {
    "execution": {
     "iopub.execute_input": "2022-06-15T17:08:44.112572Z",
     "iopub.status.busy": "2022-06-15T17:08:44.112346Z",
     "iopub.status.idle": "2022-06-15T17:08:44.565999Z",
     "shell.execute_reply": "2022-06-15T17:08:44.565446Z"
    }
   },
   "outputs": [
    {
     "data": {
      "image/png": "[encoded data removed]",
      "text/plain": [
       "<Figure size 432x288 with 1 Axes>"
      ]
     },
     "metadata": {
      "needs_background": "light"
     },
     "output_type": "display_data"
    },
    {
     "data": {
      "text/html": [
       "pack_0_fd986f34: uid 79, ports [], aliases [], 0 polygons, 3 references"
      ],
      "text/plain": [
       "pack_0_fd986f34: uid 79, ports [], aliases [], 0 polygons, 3 references"
      ]
     },
     "execution_count": 10,
     "metadata": {},
     "output_type": "execute_result"
    }
   ],
   "source": [
    "\n",
    "sweep = [gf.components.resistance_sheet(width=width) for width in [1, 10, 100]]\n",
    "m = gf.pack(sweep)\n",
    "c = m[0]\n",
    "c"
   ]
  },
  {
   "cell_type": "markdown",
   "id": "f5b98ad7",
   "metadata": {},
   "source": [
    "Then we add spirals with different lengths to measure waveguide propagation loss."
   ]
  },
  {
   "cell_type": "code",
   "execution_count": 11,
   "id": "c23b51c3",
   "metadata": {
    "execution": {
     "iopub.execute_input": "2022-06-15T17:08:44.568695Z",
     "iopub.status.busy": "2022-06-15T17:08:44.568483Z",
     "iopub.status.idle": "2022-06-15T17:08:44.864589Z",
     "shell.execute_reply": "2022-06-15T17:08:44.864030Z"
    }
   },
   "outputs": [
    {
     "data": {
      "image/png": "[encoded data removed]",
      "text/plain": [
       "<Figure size 432x288 with 1 Axes>"
      ]
     },
     "metadata": {
      "needs_background": "light"
     },
     "output_type": "display_data"
    },
    {
     "data": {
      "text/html": [
       "spiral_inner_io_50517bc_c5d5c76b: uid 80, ports ['o2', 'o1'], aliases [], 0 polygons, 3 references"
      ],
      "text/plain": [
       "spiral_inner_io_50517bc_c5d5c76b: uid 80, ports ['o2', 'o1'], aliases [], 0 polygons, 3 references"
      ]
     },
     "execution_count": 11,
     "metadata": {},
     "output_type": "execute_result"
    }
   ],
   "source": [
    "spiral = gf.components.spiral_inner_io_fiber_single()\n",
    "spiral"
   ]
  },
  {
   "cell_type": "code",
   "execution_count": 12,
   "id": "b5a870bf-69d0-4088-83dc-c2a911bbdf70",
   "metadata": {
    "execution": {
     "iopub.execute_input": "2022-06-15T17:08:44.868105Z",
     "iopub.status.busy": "2022-06-15T17:08:44.867570Z",
     "iopub.status.idle": "2022-06-15T17:08:45.146148Z",
     "shell.execute_reply": "2022-06-15T17:08:45.145481Z"
    }
   },
   "outputs": [
    {
     "data": {
      "image/png": "[encoded data removed]",
      "text/plain": [
       "<Figure size 432x288 with 1 Axes>"
      ]
     },
     "metadata": {
      "needs_background": "light"
     },
     "output_type": "display_data"
    },
    {
     "data": {
      "text/html": [
       "spiral_inner_io_50517bc_1d04a21c: uid 145, ports ['vertical_te_0', 'vertical_te_1', 'loopback1', 'loopback2'], aliases [], 0 polygons, 6 references"
      ],
      "text/plain": [
       "spiral_inner_io_50517bc_1d04a21c: uid 145, ports ['vertical_te_0', 'vertical_te_1', 'loopback1', 'loopback2'], aliases [], 0 polygons, 6 references"
      ]
     },
     "execution_count": 12,
     "metadata": {},
     "output_type": "execute_result"
    }
   ],
   "source": [
    "spiral_te = gf.routing.add_fiber_single(\n",
    "    gf.functions.rotate(gf.components.spiral_inner_io_fiber_single, 90)\n",
    ")\n",
    "spiral_te"
   ]
  },
  {
   "cell_type": "code",
   "execution_count": 13,
   "id": "292aeb23-52b7-4b95-af3f-1218fcb3e60e",
   "metadata": {
    "execution": {
     "iopub.execute_input": "2022-06-15T17:08:45.149024Z",
     "iopub.status.busy": "2022-06-15T17:08:45.148802Z",
     "iopub.status.idle": "2022-06-15T17:08:45.653739Z",
     "shell.execute_reply": "2022-06-15T17:08:45.653166Z"
    }
   },
   "outputs": [
    {
     "data": {
      "image/png": "[encoded data removed]",
      "text/plain": [
       "<Figure size 432x288 with 1 Axes>"
      ]
     },
     "metadata": {
      "needs_background": "light"
     },
     "output_type": "display_data"
    },
    {
     "data": {
      "text/html": [
       "spiral_inner_io_cff9290_2eed94e1: uid 226, ports ['vertical_te_0', 'vertical_te_1', 'loopback1', 'loopback2'], aliases [], 0 polygons, 6 references"
      ],
      "text/plain": [
       "spiral_inner_io_cff9290_2eed94e1: uid 226, ports ['vertical_te_0', 'vertical_te_1', 'loopback1', 'loopback2'], aliases [], 0 polygons, 6 references"
      ]
     },
     "execution_count": 13,
     "metadata": {},
     "output_type": "execute_result"
    }
   ],
   "source": [
    "# which is equivalent to\n",
    "spiral_te = gf.compose(\n",
    "    gf.routing.add_fiber_single,\n",
    "    gf.functions.rotate90,\n",
    "    gf.components.spiral_inner_io_fiber_single,\n",
    ")\n",
    "c = spiral_te(length=10e3)\n",
    "c"
   ]
  },
  {
   "cell_type": "code",
   "execution_count": 14,
   "id": "28642192-edaa-47de-a70c-0a6b1c60ec87",
   "metadata": {
    "execution": {
     "iopub.execute_input": "2022-06-15T17:08:45.656450Z",
     "iopub.status.busy": "2022-06-15T17:08:45.656221Z",
     "iopub.status.idle": "2022-06-15T17:08:46.801140Z",
     "shell.execute_reply": "2022-06-15T17:08:46.800563Z"
    }
   },
   "outputs": [
    {
     "data": {
      "image/png": "[encoded data removed]",
      "text/plain": [
       "<Figure size 432x288 with 1 Axes>"
      ]
     },
     "metadata": {
      "needs_background": "light"
     },
     "output_type": "display_data"
    },
    {
     "data": {
      "text/html": [
       "pack_0_0a464ab2: uid 292, ports [], aliases [], 0 polygons, 3 references"
      ],
      "text/plain": [
       "pack_0_0a464ab2: uid 292, ports [], aliases [], 0 polygons, 3 references"
      ]
     },
     "execution_count": 14,
     "metadata": {},
     "output_type": "execute_result"
    }
   ],
   "source": [
    "import gdsfactory as gf\n",
    "\n",
    "add_label_ehva_mpw1 = gf.partial(gf.dft.add_label_ehva, die=\"mpw1\")\n",
    "add_fiber_single_no_labels = gf.partial(\n",
    "    gf.routing.add_fiber_single, get_input_label_text_function=None\n",
    ")\n",
    "\n",
    "spiral_te = gf.compose(\n",
    "    add_label_ehva_mpw1,\n",
    "    add_fiber_single_no_labels,\n",
    "    gf.functions.rotate90,\n",
    "    gf.components.spiral_inner_io_fiber_single,\n",
    ")\n",
    "sweep = [spiral_te(length=length) for length in [10e3, 20e3, 30e3]]\n",
    "m = gf.pack(sweep)\n",
    "c = m[0]\n",
    "c"
   ]
  },
  {
   "cell_type": "code",
   "execution_count": 15,
   "id": "50f82ccf",
   "metadata": {
    "execution": {
     "iopub.execute_input": "2022-06-15T17:08:46.804148Z",
     "iopub.status.busy": "2022-06-15T17:08:46.803922Z",
     "iopub.status.idle": "2022-06-15T17:08:46.850383Z",
     "shell.execute_reply": "2022-06-15T17:08:46.849543Z"
    }
   },
   "outputs": [
    {
     "data": {
      "text/plain": [
       "[Label(\"DIE NAME:mpw1\n",
       " CIRCUIT NAME:spiral_inner_io_1554034_f43c1b43\n",
       " CIRCUITINFO NAME: grating_spacing, VALUE: 200\n",
       " CIRCUITINFO NAME: length, VALUE: 30000\n",
       " CIRCUITINFO NAME: x_straight_inner_left, VALUE: 75\n",
       " CIRCUITINFO NAME: x_straight_inner_right, VALUE: 40\n",
       " CIRCUITINFO NAME: y_straight_inner_bottom, VALUE: 0\n",
       " CIRCUITINFO NAME: y_straight_inner_top, VALUE: 10\n",
       " OPTICALPORT NAME: vertical_te_1 TYPE: vertical_te, POSITION RELATIVE:(0.0, 26.269), ORIENTATION: 90.0\n",
       " OPTICALPORT NAME: vertical_te_0 TYPE: vertical_te, POSITION RELATIVE:(-0.0, -246.269), ORIENTATION: 270.0\n",
       " OPTICALPORT NAME: loopback2 TYPE: loopback, POSITION RELATIVE:(-99.5, 1011.739), ORIENTATION: 90.0\n",
       " OPTICALPORT NAME: loopback1 TYPE: loopback, POSITION RELATIVE:(-99.5, -289.437), ORIENTATION: 270\", (117.5215, 308.2995000000001), None, None, False, 66, 0),\n",
       " Label(\"o1\", (130.5215, 298.2995000000001), None, None, False, 1, 10),\n",
       " Label(\"o2\", (140.5215, 288.2995000000001), None, None, False, 1, 10),\n",
       " Label(\"o1\", (140.52149999999995, 45.29950000000008), None, None, False, 1, 10),\n",
       " Label(\"o2\", (130.52149999999995, 35.29950000000008), None, None, False, 1, 10),\n",
       " Label(\"o1\", (108.52149999999996, 35.29950000000008), None, None, False, 1, 10),\n",
       " Label(\"o2\", (98.52149999999996, 45.29950000000008), None, None, False, 1, 10),\n",
       " Label(\"o1\", (98.52150000000019, 1276.5995), None, None, False, 1, 10),\n",
       " Label(\"o2\", (108.52150000000019, 1286.5995), None, None, False, 1, 10),\n",
       " Label(\"o1\", (136.52150000000017, 1286.5995), None, None, False, 1, 10),\n",
       " Label(\"o2\", (146.52150000000017, 1276.5995), None, None, False, 1, 10),\n",
       " Label(\"o1\", (146.52149999999995, 39.29950000000008), None, None, False, 1, 10),\n",
       " Label(\"o2\", (136.52149999999995, 29.29950000000008), None, None, False, 1, 10),\n",
       " Label(\"o1\", (102.52149999999995, 29.29950000000008), None, None, False, 1, 10),\n",
       " Label(\"o2\", (92.52149999999996, 39.29950000000008), None, None, False, 1, 10),\n",
       " Label(\"o1\", (92.52150000000019, 1282.5995), None, None, False, 1, 10),\n",
       " Label(\"o2\", (102.52150000000019, 1292.5995), None, None, False, 1, 10),\n",
       " Label(\"o1\", (142.52150000000017, 1292.5995), None, None, False, 1, 10),\n",
       " Label(\"o2\", (152.52150000000017, 1282.5995), None, None, False, 1, 10),\n",
       " Label(\"o1\", (152.52149999999995, 33.29950000000008), None, None, False, 1, 10),\n",
       " Label(\"o2\", (142.52149999999995, 23.29950000000008), None, None, False, 1, 10),\n",
       " Label(\"o1\", (96.52149999999995, 23.29950000000008), None, None, False, 1, 10),\n",
       " Label(\"o2\", (86.52149999999995, 33.29950000000008), None, None, False, 1, 10),\n",
       " Label(\"o1\", (86.52150000000019, 1288.5995), None, None, False, 1, 10),\n",
       " Label(\"o2\", (96.52150000000019, 1298.5995), None, None, False, 1, 10),\n",
       " Label(\"o1\", (148.52150000000017, 1298.5995), None, None, False, 1, 10),\n",
       " Label(\"o2\", (158.52150000000017, 1288.5995), None, None, False, 1, 10),\n",
       " Label(\"o1\", (158.52149999999995, 27.29950000000008), None, None, False, 1, 10),\n",
       " Label(\"o2\", (148.52149999999995, 17.29950000000008), None, None, False, 1, 10),\n",
       " Label(\"o1\", (90.52149999999995, 17.29950000000008), None, None, False, 1, 10),\n",
       " Label(\"o2\", (80.52149999999996, 27.29950000000008), None, None, False, 1, 10),\n",
       " Label(\"o1\", (80.52150000000019, 1294.5995), None, None, False, 1, 10),\n",
       " Label(\"o2\", (90.52150000000019, 1304.5995), None, None, False, 1, 10),\n",
       " Label(\"o1\", (154.5215000000002, 1304.5995), None, None, False, 1, 10),\n",
       " Label(\"o2\", (164.52150000000017, 1294.5995), None, None, False, 1, 10),\n",
       " Label(\"o1\", (164.52149999999995, 21.29950000000008), None, None, False, 1, 10),\n",
       " Label(\"o2\", (154.52149999999995, 11.29950000000008), None, None, False, 1, 10),\n",
       " Label(\"o1\", (84.52149999999995, 11.29950000000008), None, None, False, 1, 10),\n",
       " Label(\"o2\", (74.52149999999996, 21.29950000000008), None, None, False, 1, 10),\n",
       " Label(\"o1\", (74.5215000000002, 1300.5995), None, None, False, 1, 10),\n",
       " Label(\"o2\", (84.5215000000002, 1310.5995), None, None, False, 1, 10),\n",
       " Label(\"o1\", (160.5215000000002, 1310.5995), None, None, False, 1, 10),\n",
       " Label(\"o2\", (170.5215000000002, 1300.5995), None, None, False, 1, 10),\n",
       " Label(\"o1\", (170.52149999999995, 15.29950000000008), None, None, False, 1, 10),\n",
       " Label(\"o2\", (160.52149999999995, 5.29950000000008), None, None, False, 1, 10),\n",
       " Label(\"o1\", (78.52149999999995, 5.29950000000008), None, None, False, 1, 10),\n",
       " Label(\"o2\", (68.52149999999995, 15.29950000000008), None, None, False, 1, 10),\n",
       " Label(\"o1\", (68.5215000000002, 1323.5995), None, None, False, 1, 10),\n",
       " Label(\"o2\", (78.5215000000002, 1333.5995), None, None, False, 1, 10),\n",
       " Label(\"o1\", (127.5215, 298.2995000000001), None, None, False, 1, 10),\n",
       " Label(\"o2\", (130.5215, 298.2995000000001), None, None, False, 1, 10),\n",
       " Label(\"o1\", (140.5215, 288.2995000000001), None, None, False, 1, 10),\n",
       " Label(\"o2\", (140.52149999999995, 45.29950000000008), None, None, False, 1, 10),\n",
       " Label(\"o1\", (130.52149999999995, 35.29950000000008), None, None, False, 1, 10),\n",
       " Label(\"o2\", (108.52149999999996, 35.29950000000008), None, None, False, 1, 10),\n",
       " Label(\"o1\", (98.52149999999996, 45.29950000000008), None, None, False, 1, 10),\n",
       " Label(\"o2\", (98.52150000000033, 1276.5995), None, None, False, 1, 10),\n",
       " Label(\"o1\", (108.52150000000019, 1286.5995), None, None, False, 1, 10),\n",
       " Label(\"o2\", (136.52150000000017, 1286.5995), None, None, False, 1, 10),\n",
       " Label(\"o1\", (146.52150000000017, 1276.5995), None, None, False, 1, 10),\n",
       " Label(\"o2\", (146.52149999999995, 39.29950000000008), None, None, False, 1, 10),\n",
       " Label(\"o1\", (136.52149999999995, 29.29950000000008), None, None, False, 1, 10),\n",
       " Label(\"o2\", (102.52149999999995, 29.29950000000008), None, None, False, 1, 10),\n",
       " Label(\"o1\", (92.52149999999996, 39.29950000000008), None, None, False, 1, 10),\n",
       " Label(\"o2\", (92.52150000000034, 1282.5995), None, None, False, 1, 10),\n",
       " Label(\"o1\", (102.52150000000019, 1292.5995), None, None, False, 1, 10),\n",
       " Label(\"o2\", (142.52150000000017, 1292.5995), None, None, False, 1, 10),\n",
       " Label(\"o1\", (152.52150000000017, 1282.5995), None, None, False, 1, 10),\n",
       " Label(\"o2\", (152.52149999999995, 33.29950000000008), None, None, False, 1, 10),\n",
       " Label(\"o1\", (142.52149999999995, 23.29950000000008), None, None, False, 1, 10),\n",
       " Label(\"o2\", (96.52149999999995, 23.29950000000008), None, None, False, 1, 10),\n",
       " Label(\"o1\", (86.52149999999995, 33.29950000000008), None, None, False, 1, 10),\n",
       " Label(\"o2\", (86.52150000000034, 1288.5995), None, None, False, 1, 10),\n",
       " Label(\"o1\", (96.52150000000019, 1298.5995), None, None, False, 1, 10),\n",
       " Label(\"o2\", (148.52150000000017, 1298.5995), None, None, False, 1, 10),\n",
       " Label(\"o1\", (158.52150000000017, 1288.5995), None, None, False, 1, 10),\n",
       " Label(\"o2\", (158.52149999999995, 27.29950000000008), None, None, False, 1, 10),\n",
       " Label(\"o1\", (148.52149999999995, 17.29950000000008), None, None, False, 1, 10),\n",
       " Label(\"o2\", (90.52149999999995, 17.29950000000008), None, None, False, 1, 10),\n",
       " Label(\"o1\", (80.52149999999996, 27.29950000000008), None, None, False, 1, 10),\n",
       " Label(\"o2\", (80.52150000000034, 1294.5995), None, None, False, 1, 10),\n",
       " Label(\"o1\", (90.52150000000019, 1304.5995), None, None, False, 1, 10),\n",
       " Label(\"o2\", (154.5215000000002, 1304.5995), None, None, False, 1, 10),\n",
       " Label(\"o1\", (164.52150000000017, 1294.5995), None, None, False, 1, 10),\n",
       " Label(\"o2\", (164.52149999999995, 21.29950000000008), None, None, False, 1, 10),\n",
       " Label(\"o1\", (154.52149999999995, 11.29950000000008), None, None, False, 1, 10),\n",
       " Label(\"o2\", (84.52149999999995, 11.29950000000008), None, None, False, 1, 10),\n",
       " Label(\"o1\", (74.52149999999996, 21.29950000000008), None, None, False, 1, 10),\n",
       " Label(\"o2\", (74.52150000000034, 1300.5995), None, None, False, 1, 10),\n",
       " Label(\"o1\", (84.5215000000002, 1310.5995), None, None, False, 1, 10),\n",
       " Label(\"o2\", (160.5215000000002, 1310.5995), None, None, False, 1, 10),\n",
       " Label(\"o1\", (170.5215000000002, 1300.5995), None, None, False, 1, 10),\n",
       " Label(\"o2\", (170.52149999999995, 15.29950000000008), None, None, False, 1, 10),\n",
       " Label(\"o1\", (160.52149999999995, 5.29950000000008), None, None, False, 1, 10),\n",
       " Label(\"o2\", (78.52149999999995, 5.29950000000008), None, None, False, 1, 10),\n",
       " Label(\"o1\", (68.52149999999995, 15.29950000000008), None, None, False, 1, 10),\n",
       " Label(\"o2\", (68.52150000000036, 1323.5995), None, None, False, 1, 10),\n",
       " Label(\"o1\", (78.5215000000002, 1333.5995), None, None, False, 1, 10),\n",
       " Label(\"o2\", (117.52150000000019, 1333.5995), None, None, False, 1, 10),\n",
       " Label(\"o1\", (117.52150000000019, 1313.5995), None, None, False, 1, 10),\n",
       " Label(\"o2\", (117.52150000000019, 1333.5995), None, None, False, 1, 10),\n",
       " Label(\"o1\", (127.52149999999996, 98.29950000000008), None, None, False, 1, 10),\n",
       " Label(\"o2\", (137.52149999999995, 88.29950000000008), None, None, False, 1, 10),\n",
       " Label(\"o1\", (137.52149999999995, 48.29950000000008), None, None, False, 1, 10),\n",
       " Label(\"o2\", (127.52149999999996, 38.29950000000008), None, None, False, 1, 10),\n",
       " Label(\"o1\", (111.52149999999995, 38.29950000000008), None, None, False, 1, 10),\n",
       " Label(\"o2\", (101.52149999999996, 48.29950000000008), None, None, False, 1, 10),\n",
       " Label(\"o1\", (101.52150000000019, 1273.5995), None, None, False, 1, 10),\n",
       " Label(\"o2\", (111.52150000000019, 1283.5995), None, None, False, 1, 10),\n",
       " Label(\"o1\", (133.52150000000017, 1283.5995), None, None, False, 1, 10),\n",
       " Label(\"o2\", (143.52150000000017, 1273.5995), None, None, False, 1, 10),\n",
       " Label(\"o1\", (143.52149999999995, 42.29950000000008), None, None, False, 1, 10),\n",
       " Label(\"o2\", (133.52149999999995, 32.29950000000008), None, None, False, 1, 10),\n",
       " Label(\"o1\", (105.52149999999995, 32.29950000000008), None, None, False, 1, 10),\n",
       " Label(\"o2\", (95.52149999999996, 42.29950000000008), None, None, False, 1, 10),\n",
       " Label(\"o1\", (95.52150000000019, 1279.5995), None, None, False, 1, 10),\n",
       " Label(\"o2\", (105.52150000000019, 1289.5995), None, None, False, 1, 10),\n",
       " Label(\"o1\", (139.52150000000017, 1289.5995), None, None, False, 1, 10),\n",
       " Label(\"o2\", (149.52150000000017, 1279.5995), None, None, False, 1, 10),\n",
       " Label(\"o1\", (149.52149999999995, 36.29950000000008), None, None, False, 1, 10),\n",
       " Label(\"o2\", (139.52149999999995, 26.29950000000008), None, None, False, 1, 10),\n",
       " Label(\"o1\", (99.52149999999995, 26.29950000000008), None, None, False, 1, 10),\n",
       " Label(\"o2\", (89.52149999999995, 36.29950000000008), None, None, False, 1, 10),\n",
       " Label(\"o1\", (89.52150000000019, 1285.5995), None, None, False, 1, 10),\n",
       " Label(\"o2\", (99.52150000000019, 1295.5995), None, None, False, 1, 10),\n",
       " Label(\"o1\", (145.52150000000017, 1295.5995), None, None, False, 1, 10),\n",
       " Label(\"o2\", (155.52150000000017, 1285.5995), None, None, False, 1, 10),\n",
       " Label(\"o1\", (155.52149999999995, 30.29950000000008), None, None, False, 1, 10),\n",
       " Label(\"o2\", (145.52149999999995, 20.29950000000008), None, None, False, 1, 10),\n",
       " Label(\"o1\", (93.52149999999995, 20.29950000000008), None, None, False, 1, 10),\n",
       " Label(\"o2\", (83.52149999999996, 30.29950000000008), None, None, False, 1, 10),\n",
       " Label(\"o1\", (83.52150000000019, 1291.5995), None, None, False, 1, 10),\n",
       " Label(\"o2\", (93.52150000000019, 1301.5995), None, None, False, 1, 10),\n",
       " Label(\"o1\", (151.5215000000002, 1301.5995), None, None, False, 1, 10),\n",
       " Label(\"o2\", (161.52150000000017, 1291.5995), None, None, False, 1, 10),\n",
       " Label(\"o1\", (161.52149999999995, 24.29950000000008), None, None, False, 1, 10),\n",
       " Label(\"o2\", (151.52149999999995, 14.29950000000008), None, None, False, 1, 10),\n",
       " Label(\"o1\", (87.52149999999995, 14.29950000000008), None, None, False, 1, 10),\n",
       " Label(\"o2\", (77.52149999999996, 24.29950000000008), None, None, False, 1, 10),\n",
       " Label(\"o1\", (77.5215000000002, 1297.5995), None, None, False, 1, 10),\n",
       " Label(\"o2\", (87.52150000000019, 1307.5995), None, None, False, 1, 10),\n",
       " Label(\"o1\", (157.5215000000002, 1307.5995), None, None, False, 1, 10),\n",
       " Label(\"o2\", (167.5215000000002, 1297.5995), None, None, False, 1, 10),\n",
       " Label(\"o1\", (167.52149999999995, 18.29950000000008), None, None, False, 1, 10),\n",
       " Label(\"o2\", (157.52149999999995, 8.29950000000008), None, None, False, 1, 10),\n",
       " Label(\"o1\", (81.52149999999995, 8.29950000000008), None, None, False, 1, 10),\n",
       " Label(\"o2\", (71.52149999999996, 18.29950000000008), None, None, False, 1, 10),\n",
       " Label(\"o1\", (71.5215000000002, 1303.5995), None, None, False, 1, 10),\n",
       " Label(\"o2\", (81.5215000000002, 1313.5995), None, None, False, 1, 10),\n",
       " Label(\"o1\", (137.52149999999995, 88.29950000000008), None, None, False, 1, 10),\n",
       " Label(\"o2\", (137.52149999999995, 48.29950000000008), None, None, False, 1, 10),\n",
       " Label(\"o1\", (127.52149999999996, 38.29950000000008), None, None, False, 1, 10),\n",
       " Label(\"o2\", (111.52149999999995, 38.29950000000008), None, None, False, 1, 10),\n",
       " Label(\"o1\", (101.52149999999996, 48.29950000000008), None, None, False, 1, 10),\n",
       " Label(\"o2\", (101.52150000000033, 1273.5995), None, None, False, 1, 10),\n",
       " Label(\"o1\", (111.52150000000019, 1283.5995), None, None, False, 1, 10),\n",
       " Label(\"o2\", (133.52150000000017, 1283.5995), None, None, False, 1, 10),\n",
       " Label(\"o1\", (143.52150000000017, 1273.5995), None, None, False, 1, 10),\n",
       " Label(\"o2\", (143.52149999999995, 42.29950000000008), None, None, False, 1, 10),\n",
       " Label(\"o1\", (133.52149999999995, 32.29950000000008), None, None, False, 1, 10),\n",
       " Label(\"o2\", (105.52149999999995, 32.29950000000008), None, None, False, 1, 10),\n",
       " Label(\"o1\", (95.52149999999996, 42.29950000000008), None, None, False, 1, 10),\n",
       " Label(\"o2\", (95.52150000000034, 1279.5995), None, None, False, 1, 10),\n",
       " Label(\"o1\", (105.52150000000019, 1289.5995), None, None, False, 1, 10),\n",
       " Label(\"o2\", (139.52150000000017, 1289.5995), None, None, False, 1, 10),\n",
       " Label(\"o1\", (149.52150000000017, 1279.5995), None, None, False, 1, 10),\n",
       " Label(\"o2\", (149.52149999999995, 36.29950000000008), None, None, False, 1, 10),\n",
       " Label(\"o1\", (139.52149999999995, 26.29950000000008), None, None, False, 1, 10),\n",
       " Label(\"o2\", (99.52149999999995, 26.29950000000008), None, None, False, 1, 10),\n",
       " Label(\"o1\", (89.52149999999995, 36.29950000000008), None, None, False, 1, 10),\n",
       " Label(\"o2\", (89.52150000000034, 1285.5995), None, None, False, 1, 10),\n",
       " Label(\"o1\", (99.52150000000019, 1295.5995), None, None, False, 1, 10),\n",
       " Label(\"o2\", (145.52150000000017, 1295.5995), None, None, False, 1, 10),\n",
       " Label(\"o1\", (155.52150000000017, 1285.5995), None, None, False, 1, 10),\n",
       " Label(\"o2\", (155.52149999999995, 30.29950000000008), None, None, False, 1, 10),\n",
       " Label(\"o1\", (145.52149999999995, 20.29950000000008), None, None, False, 1, 10),\n",
       " Label(\"o2\", (93.52149999999995, 20.29950000000008), None, None, False, 1, 10),\n",
       " Label(\"o1\", (83.52149999999996, 30.29950000000008), None, None, False, 1, 10),\n",
       " Label(\"o2\", (83.52150000000034, 1291.5995), None, None, False, 1, 10),\n",
       " Label(\"o1\", (93.52150000000019, 1301.5995), None, None, False, 1, 10),\n",
       " Label(\"o2\", (151.5215000000002, 1301.5995), None, None, False, 1, 10),\n",
       " Label(\"o1\", (161.52150000000017, 1291.5995), None, None, False, 1, 10),\n",
       " Label(\"o2\", (161.52149999999995, 24.29950000000008), None, None, False, 1, 10),\n",
       " Label(\"o1\", (151.52149999999995, 14.29950000000008), None, None, False, 1, 10),\n",
       " Label(\"o2\", (87.52149999999995, 14.29950000000008), None, None, False, 1, 10),\n",
       " Label(\"o1\", (77.52149999999996, 24.29950000000008), None, None, False, 1, 10),\n",
       " Label(\"o2\", (77.52150000000034, 1297.5995), None, None, False, 1, 10),\n",
       " Label(\"o1\", (87.52150000000019, 1307.5995), None, None, False, 1, 10),\n",
       " Label(\"o2\", (157.5215000000002, 1307.5995), None, None, False, 1, 10),\n",
       " Label(\"o1\", (167.5215000000002, 1297.5995), None, None, False, 1, 10),\n",
       " Label(\"o2\", (167.52149999999995, 18.29950000000008), None, None, False, 1, 10),\n",
       " Label(\"o1\", (157.52149999999995, 8.29950000000008), None, None, False, 1, 10),\n",
       " Label(\"o2\", (81.52149999999995, 8.29950000000008), None, None, False, 1, 10),\n",
       " Label(\"o1\", (71.52149999999996, 18.29950000000008), None, None, False, 1, 10),\n",
       " Label(\"o2\", (71.52150000000034, 1303.5995), None, None, False, 1, 10),\n",
       " Label(\"o1\", (81.5215000000002, 1313.5995), None, None, False, 1, 10),\n",
       " Label(\"o2\", (117.52150000000019, 1313.5995), None, None, False, 1, 10),\n",
       " Label(\"o1\", (127.52149999999996, 98.29950000000008), None, None, False, 1, 10),\n",
       " Label(\"o2\", (117.52149999999996, 88.29950000000008), None, None, False, 1, 10),\n",
       " Label(\"o1\", (117.5215, 308.2995000000001), None, None, False, 1, 10),\n",
       " Label(\"o2\", (127.5215, 298.2995000000001), None, None, False, 1, 10),\n",
       " Label(\"o1\", (117.52149999999996, 88.29950000000008), None, None, False, 1, 10),\n",
       " Label(\"o1\", (117.5215, 308.2995000000001), None, None, False, 1, 10),\n",
       " Label(\"o1\", (18.021500000000003, 45.131500000000074), None, None, False, 1, 10),\n",
       " Label(\"o2\", (18.021500000000074, 1293.7694999999999), None, None, False, 1, 10),\n",
       " Label(\"o1\", (18.021500000000003, 45.131500000000074), None, None, False, 1, 10),\n",
       " Label(\"o1\", (18.021500000000074, 1293.7694999999999), None, None, False, 1, 10),\n",
       " Label(\"DIE NAME:mpw1\n",
       " CIRCUIT NAME:spiral_inner_io_5388707_8507b82d\n",
       " CIRCUITINFO NAME: grating_spacing, VALUE: 200\n",
       " CIRCUITINFO NAME: length, VALUE: 20000\n",
       " CIRCUITINFO NAME: x_straight_inner_left, VALUE: 75\n",
       " CIRCUITINFO NAME: x_straight_inner_right, VALUE: 40\n",
       " CIRCUITINFO NAME: y_straight_inner_bottom, VALUE: 0\n",
       " CIRCUITINFO NAME: y_straight_inner_top, VALUE: 10\n",
       " OPTICALPORT NAME: vertical_te_1 TYPE: vertical_te, POSITION RELATIVE:(0.0, 26.269), ORIENTATION: 90.0\n",
       " OPTICALPORT NAME: vertical_te_0 TYPE: vertical_te, POSITION RELATIVE:(-0.0, -246.269), ORIENTATION: 270.0\n",
       " OPTICALPORT NAME: loopback2 TYPE: loopback, POSITION RELATIVE:(-99.5, 557.194), ORIENTATION: 90.0\n",
       " OPTICALPORT NAME: loopback1 TYPE: loopback, POSITION RELATIVE:(-99.5, -289.437), ORIENTATION: 270\", (293.2415, 308.297), None, None, False, 66, 0),\n",
       " Label(\"o1\", (306.2415, 298.297), None, None, False, 1, 10),\n",
       " Label(\"o2\", (316.2415, 288.297), None, None, False, 1, 10),\n",
       " Label(\"o1\", (316.2414999999999, 45.297000000000025), None, None, False, 1, 10),\n",
       " Label(\"o2\", (306.2414999999999, 35.297000000000025), None, None, False, 1, 10),\n",
       " Label(\"o1\", (284.2414999999999, 35.297000000000025), None, None, False, 1, 10),\n",
       " Label(\"o2\", (274.2414999999999, 45.297000000000025), None, None, False, 1, 10),\n",
       " Label(\"o1\", (274.2415000000001, 822.052), None, None, False, 1, 10),\n",
       " Label(\"o2\", (284.2415000000001, 832.052), None, None, False, 1, 10),\n",
       " Label(\"o1\", (312.2415000000001, 832.052), None, None, False, 1, 10),\n",
       " Label(\"o2\", (322.2415000000001, 822.052), None, None, False, 1, 10),\n",
       " Label(\"o1\", (322.2414999999999, 39.297000000000025), None, None, False, 1, 10),\n",
       " Label(\"o2\", (312.2414999999999, 29.297000000000025), None, None, False, 1, 10),\n",
       " Label(\"o1\", (278.2414999999999, 29.297000000000025), None, None, False, 1, 10),\n",
       " Label(\"o2\", (268.2414999999999, 39.297000000000025), None, None, False, 1, 10),\n",
       " Label(\"o1\", (268.2415000000001, 828.052), None, None, False, 1, 10),\n",
       " Label(\"o2\", (278.2415000000001, 838.052), None, None, False, 1, 10),\n",
       " Label(\"o1\", (318.2415000000001, 838.052), None, None, False, 1, 10),\n",
       " Label(\"o2\", (328.2415000000001, 828.052), None, None, False, 1, 10),\n",
       " Label(\"o1\", (328.2414999999999, 33.297000000000025), None, None, False, 1, 10),\n",
       " Label(\"o2\", (318.2414999999999, 23.297000000000025), None, None, False, 1, 10),\n",
       " Label(\"o1\", (272.2414999999999, 23.297000000000025), None, None, False, 1, 10),\n",
       " Label(\"o2\", (262.2414999999999, 33.297000000000025), None, None, False, 1, 10),\n",
       " Label(\"o1\", (262.2415000000001, 834.052), None, None, False, 1, 10),\n",
       " Label(\"o2\", (272.2415000000001, 844.052), None, None, False, 1, 10),\n",
       " Label(\"o1\", (324.2415000000001, 844.052), None, None, False, 1, 10),\n",
       " Label(\"o2\", (334.2415000000001, 834.052), None, None, False, 1, 10),\n",
       " Label(\"o1\", (334.2414999999999, 27.297000000000025), None, None, False, 1, 10),\n",
       " Label(\"o2\", (324.2414999999999, 17.297000000000025), None, None, False, 1, 10),\n",
       " Label(\"o1\", (266.2414999999999, 17.297000000000025), None, None, False, 1, 10),\n",
       " Label(\"o2\", (256.2414999999999, 27.297000000000025), None, None, False, 1, 10),\n",
       " Label(\"o1\", (256.2415000000001, 840.052), None, None, False, 1, 10),\n",
       " Label(\"o2\", (266.2415000000001, 850.052), None, None, False, 1, 10),\n",
       " Label(\"o1\", (330.2415000000001, 850.052), None, None, False, 1, 10),\n",
       " Label(\"o2\", (340.2415000000001, 840.052), None, None, False, 1, 10),\n",
       " Label(\"o1\", (340.2414999999999, 21.297000000000025), None, None, False, 1, 10),\n",
       " Label(\"o2\", (330.2414999999999, 11.297000000000025), None, None, False, 1, 10),\n",
       " Label(\"o1\", (260.2414999999999, 11.297000000000025), None, None, False, 1, 10),\n",
       " Label(\"o2\", (250.24149999999992, 21.297000000000025), None, None, False, 1, 10),\n",
       " Label(\"o1\", (250.2415000000001, 846.052), None, None, False, 1, 10),\n",
       " Label(\"o2\", (260.2415000000001, 856.052), None, None, False, 1, 10),\n",
       " Label(\"o1\", (336.2415000000001, 856.052), None, None, False, 1, 10),\n",
       " Label(\"o2\", (346.2415000000001, 846.052), None, None, False, 1, 10),\n",
       " Label(\"o1\", (346.2414999999999, 15.297000000000025), None, None, False, 1, 10),\n",
       " Label(\"o2\", (336.2414999999999, 5.2970000000000255), None, None, False, 1, 10),\n",
       " Label(\"o1\", (254.24149999999992, 5.2970000000000255), None, None, False, 1, 10),\n",
       " Label(\"o2\", (244.24149999999992, 15.297000000000025), None, None, False, 1, 10),\n",
       " Label(\"o1\", (244.2415000000001, 869.052), None, None, False, 1, 10),\n",
       " Label(\"o2\", (254.2415000000001, 879.052), None, None, False, 1, 10),\n",
       " Label(\"o1\", (303.2415, 298.297), None, None, False, 1, 10),\n",
       " Label(\"o2\", (306.2415, 298.297), None, None, False, 1, 10),\n",
       " Label(\"o1\", (316.2415, 288.297), None, None, False, 1, 10),\n",
       " Label(\"o2\", (316.2414999999999, 45.297000000000025), None, None, False, 1, 10),\n",
       " Label(\"o1\", (306.2414999999999, 35.297000000000025), None, None, False, 1, 10),\n",
       " Label(\"o2\", (284.2414999999999, 35.297000000000025), None, None, False, 1, 10),\n",
       " Label(\"o1\", (274.2414999999999, 45.297000000000025), None, None, False, 1, 10),\n",
       " Label(\"o2\", (274.24150000000014, 822.052), None, None, False, 1, 10),\n",
       " Label(\"o1\", (284.2415000000001, 832.052), None, None, False, 1, 10),\n",
       " Label(\"o2\", (312.2415000000001, 832.052), None, None, False, 1, 10),\n",
       " Label(\"o1\", (322.2415000000001, 822.052), None, None, False, 1, 10),\n",
       " Label(\"o2\", (322.2414999999999, 39.297000000000025), None, None, False, 1, 10),\n",
       " Label(\"o1\", (312.2414999999999, 29.297000000000025), None, None, False, 1, 10),\n",
       " Label(\"o2\", (278.2414999999999, 29.297000000000025), None, None, False, 1, 10),\n",
       " Label(\"o1\", (268.2414999999999, 39.297000000000025), None, None, False, 1, 10),\n",
       " Label(\"o2\", (268.24150000000014, 828.052), None, None, False, 1, 10),\n",
       " Label(\"o1\", (278.2415000000001, 838.052), None, None, False, 1, 10),\n",
       " Label(\"o2\", (318.2415000000001, 838.052), None, None, False, 1, 10),\n",
       " Label(\"o1\", (328.2415000000001, 828.052), None, None, False, 1, 10),\n",
       " Label(\"o2\", (328.2414999999999, 33.297000000000025), None, None, False, 1, 10),\n",
       " Label(\"o1\", (318.2414999999999, 23.297000000000025), None, None, False, 1, 10),\n",
       " Label(\"o2\", (272.2414999999999, 23.297000000000025), None, None, False, 1, 10),\n",
       " Label(\"o1\", (262.2414999999999, 33.297000000000025), None, None, False, 1, 10),\n",
       " Label(\"o2\", (262.24150000000014, 834.052), None, None, False, 1, 10),\n",
       " Label(\"o1\", (272.2415000000001, 844.052), None, None, False, 1, 10),\n",
       " Label(\"o2\", (324.2415000000001, 844.052), None, None, False, 1, 10),\n",
       " Label(\"o1\", (334.2415000000001, 834.052), None, None, False, 1, 10),\n",
       " Label(\"o2\", (334.2414999999999, 27.297000000000025), None, None, False, 1, 10),\n",
       " Label(\"o1\", (324.2414999999999, 17.297000000000025), None, None, False, 1, 10),\n",
       " Label(\"o2\", (266.2414999999999, 17.297000000000025), None, None, False, 1, 10),\n",
       " Label(\"o1\", (256.2414999999999, 27.297000000000025), None, None, False, 1, 10),\n",
       " Label(\"o2\", (256.2415000000002, 840.052), None, None, False, 1, 10),\n",
       " Label(\"o1\", (266.2415000000001, 850.052), None, None, False, 1, 10),\n",
       " Label(\"o2\", (330.2415000000001, 850.052), None, None, False, 1, 10),\n",
       " Label(\"o1\", (340.2415000000001, 840.052), None, None, False, 1, 10),\n",
       " Label(\"o2\", (340.2414999999999, 21.297000000000025), None, None, False, 1, 10),\n",
       " Label(\"o1\", (330.2414999999999, 11.297000000000025), None, None, False, 1, 10),\n",
       " Label(\"o2\", (260.2414999999999, 11.297000000000025), None, None, False, 1, 10),\n",
       " Label(\"o1\", (250.24149999999992, 21.297000000000025), None, None, False, 1, 10),\n",
       " Label(\"o2\", (250.24150000000017, 846.052), None, None, False, 1, 10),\n",
       " Label(\"o1\", (260.2415000000001, 856.052), None, None, False, 1, 10),\n",
       " Label(\"o2\", (336.2415000000001, 856.052), None, None, False, 1, 10),\n",
       " Label(\"o1\", (346.2415000000001, 846.052), None, None, False, 1, 10),\n",
       " Label(\"o2\", (346.2414999999999, 15.297000000000025), None, None, False, 1, 10),\n",
       " Label(\"o1\", (336.2414999999999, 5.2970000000000255), None, None, False, 1, 10),\n",
       " Label(\"o2\", (254.24149999999992, 5.2970000000000255), None, None, False, 1, 10),\n",
       " Label(\"o1\", (244.24149999999992, 15.297000000000025), None, None, False, 1, 10),\n",
       " Label(\"o2\", (244.2415000000002, 869.052), None, None, False, 1, 10),\n",
       " Label(\"o1\", (254.2415000000001, 879.052), None, None, False, 1, 10),\n",
       " Label(\"o2\", (293.2415000000001, 879.052), None, None, False, 1, 10),\n",
       " Label(\"o1\", (293.2415000000001, 859.052), None, None, False, 1, 10),\n",
       " Label(\"o2\", (293.2415000000001, 879.052), None, None, False, 1, 10),\n",
       " Label(\"o1\", (303.2414999999999, 98.29700000000003), None, None, False, 1, 10),\n",
       " Label(\"o2\", (313.2414999999999, 88.29700000000003), None, None, False, 1, 10),\n",
       " Label(\"o1\", (313.2414999999999, 48.297000000000025), None, None, False, 1, 10),\n",
       " Label(\"o2\", (303.2414999999999, 38.297000000000025), None, None, False, 1, 10),\n",
       " Label(\"o1\", (287.2414999999999, 38.297000000000025), None, None, False, 1, 10),\n",
       " Label(\"o2\", (277.2414999999999, 48.297000000000025), None, None, False, 1, 10),\n",
       " Label(\"o1\", (277.2415000000001, 819.052), None, None, False, 1, 10),\n",
       " Label(\"o2\", (287.2415000000001, 829.052), None, None, False, 1, 10),\n",
       " Label(\"o1\", (309.2415000000001, 829.052), None, None, False, 1, 10),\n",
       " Label(\"o2\", (319.2415000000001, 819.052), None, None, False, 1, 10),\n",
       " Label(\"o1\", (319.2414999999999, 42.297000000000025), None, None, False, 1, 10),\n",
       " Label(\"o2\", (309.2414999999999, 32.297000000000025), None, None, False, 1, 10),\n",
       " Label(\"o1\", (281.2414999999999, 32.297000000000025), None, None, False, 1, 10),\n",
       " Label(\"o2\", (271.2414999999999, 42.297000000000025), None, None, False, 1, 10),\n",
       " Label(\"o1\", (271.2415000000001, 825.052), None, None, False, 1, 10),\n",
       " Label(\"o2\", (281.2415000000001, 835.052), None, None, False, 1, 10),\n",
       " Label(\"o1\", (315.2415000000001, 835.052), None, None, False, 1, 10),\n",
       " Label(\"o2\", (325.2415000000001, 825.052), None, None, False, 1, 10),\n",
       " Label(\"o1\", (325.2414999999999, 36.297000000000025), None, None, False, 1, 10),\n",
       " Label(\"o2\", (315.2414999999999, 26.297000000000025), None, None, False, 1, 10),\n",
       " Label(\"o1\", (275.2414999999999, 26.297000000000025), None, None, False, 1, 10),\n",
       " Label(\"o2\", (265.2414999999999, 36.297000000000025), None, None, False, 1, 10),\n",
       " Label(\"o1\", (265.2415000000001, 831.052), None, None, False, 1, 10),\n",
       " Label(\"o2\", (275.2415000000001, 841.052), None, None, False, 1, 10),\n",
       " Label(\"o1\", (321.2415000000001, 841.052), None, None, False, 1, 10),\n",
       " Label(\"o2\", (331.2415000000001, 831.052), None, None, False, 1, 10),\n",
       " Label(\"o1\", (331.2414999999999, 30.297000000000025), None, None, False, 1, 10),\n",
       " Label(\"o2\", (321.2414999999999, 20.297000000000025), None, None, False, 1, 10),\n",
       " Label(\"o1\", (269.2414999999999, 20.297000000000025), None, None, False, 1, 10),\n",
       " Label(\"o2\", (259.2414999999999, 30.297000000000025), None, None, False, 1, 10),\n",
       " Label(\"o1\", (259.2415000000001, 837.052), None, None, False, 1, 10),\n",
       " Label(\"o2\", (269.2415000000001, 847.052), None, None, False, 1, 10),\n",
       " Label(\"o1\", (327.2415000000001, 847.052), None, None, False, 1, 10),\n",
       " Label(\"o2\", (337.2415000000001, 837.052), None, None, False, 1, 10),\n",
       " Label(\"o1\", (337.2414999999999, 24.297000000000025), None, None, False, 1, 10),\n",
       " Label(\"o2\", (327.2414999999999, 14.297000000000025), None, None, False, 1, 10),\n",
       " Label(\"o1\", (263.2414999999999, 14.297000000000025), None, None, False, 1, 10),\n",
       " Label(\"o2\", (253.24149999999992, 24.297000000000025), None, None, False, 1, 10),\n",
       " Label(\"o1\", (253.2415000000001, 843.052), None, None, False, 1, 10),\n",
       " Label(\"o2\", (263.2415000000001, 853.052), None, None, False, 1, 10),\n",
       " Label(\"o1\", (333.2415000000001, 853.052), None, None, False, 1, 10),\n",
       " Label(\"o2\", (343.2415000000001, 843.052), None, None, False, 1, 10),\n",
       " Label(\"o1\", (343.2414999999999, 18.297000000000025), None, None, False, 1, 10),\n",
       " Label(\"o2\", (333.2414999999999, 8.297000000000025), None, None, False, 1, 10),\n",
       " Label(\"o1\", (257.2414999999999, 8.297000000000025), None, None, False, 1, 10),\n",
       " Label(\"o2\", (247.24149999999992, 18.297000000000025), None, None, False, 1, 10),\n",
       " Label(\"o1\", (247.2415000000001, 849.052), None, None, False, 1, 10),\n",
       " Label(\"o2\", (257.2415000000001, 859.052), None, None, False, 1, 10),\n",
       " Label(\"o1\", (313.2414999999999, 88.29700000000003), None, None, False, 1, 10),\n",
       " Label(\"o2\", (313.2414999999999, 48.297000000000025), None, None, False, 1, 10),\n",
       " Label(\"o1\", (303.2414999999999, 38.297000000000025), None, None, False, 1, 10),\n",
       " Label(\"o2\", (287.2414999999999, 38.297000000000025), None, None, False, 1, 10),\n",
       " Label(\"o1\", (277.2414999999999, 48.297000000000025), None, None, False, 1, 10),\n",
       " Label(\"o2\", (277.24150000000014, 819.052), None, None, False, 1, 10),\n",
       " Label(\"o1\", (287.2415000000001, 829.052), None, None, False, 1, 10),\n",
       " Label(\"o2\", (309.2415000000001, 829.052), None, None, False, 1, 10),\n",
       " Label(\"o1\", (319.2415000000001, 819.052), None, None, False, 1, 10),\n",
       " Label(\"o2\", (319.2414999999999, 42.297000000000025), None, None, False, 1, 10),\n",
       " Label(\"o1\", (309.2414999999999, 32.297000000000025), None, None, False, 1, 10),\n",
       " Label(\"o2\", (281.2414999999999, 32.297000000000025), None, None, False, 1, 10),\n",
       " Label(\"o1\", (271.2414999999999, 42.297000000000025), None, None, False, 1, 10),\n",
       " Label(\"o2\", (271.24150000000014, 825.052), None, None, False, 1, 10),\n",
       " Label(\"o1\", (281.2415000000001, 835.052), None, None, False, 1, 10),\n",
       " Label(\"o2\", (315.2415000000001, 835.052), None, None, False, 1, 10),\n",
       " Label(\"o1\", (325.2415000000001, 825.052), None, None, False, 1, 10),\n",
       " Label(\"o2\", (325.2414999999999, 36.297000000000025), None, None, False, 1, 10),\n",
       " Label(\"o1\", (315.2414999999999, 26.297000000000025), None, None, False, 1, 10),\n",
       " Label(\"o2\", (275.2414999999999, 26.297000000000025), None, None, False, 1, 10),\n",
       " Label(\"o1\", (265.2414999999999, 36.297000000000025), None, None, False, 1, 10),\n",
       " Label(\"o2\", (265.24150000000014, 831.052), None, None, False, 1, 10),\n",
       " Label(\"o1\", (275.2415000000001, 841.052), None, None, False, 1, 10),\n",
       " Label(\"o2\", (321.2415000000001, 841.052), None, None, False, 1, 10),\n",
       " Label(\"o1\", (331.2415000000001, 831.052), None, None, False, 1, 10),\n",
       " Label(\"o2\", (331.2414999999999, 30.297000000000025), None, None, False, 1, 10),\n",
       " Label(\"o1\", (321.2414999999999, 20.297000000000025), None, None, False, 1, 10),\n",
       " Label(\"o2\", (269.2414999999999, 20.297000000000025), None, None, False, 1, 10),\n",
       " Label(\"o1\", (259.2414999999999, 30.297000000000025), None, None, False, 1, 10),\n",
       " Label(\"o2\", (259.2415000000002, 837.052), None, None, False, 1, 10),\n",
       " Label(\"o1\", (269.2415000000001, 847.052), None, None, False, 1, 10),\n",
       " Label(\"o2\", (327.2415000000001, 847.052), None, None, False, 1, 10),\n",
       " Label(\"o1\", (337.2415000000001, 837.052), None, None, False, 1, 10),\n",
       " Label(\"o2\", (337.2414999999999, 24.297000000000025), None, None, False, 1, 10),\n",
       " Label(\"o1\", (327.2414999999999, 14.297000000000025), None, None, False, 1, 10),\n",
       " Label(\"o2\", (263.2414999999999, 14.297000000000025), None, None, False, 1, 10),\n",
       " Label(\"o1\", (253.24149999999992, 24.297000000000025), None, None, False, 1, 10),\n",
       " Label(\"o2\", (253.24150000000017, 843.052), None, None, False, 1, 10),\n",
       " Label(\"o1\", (263.2415000000001, 853.052), None, None, False, 1, 10),\n",
       " Label(\"o2\", (333.2415000000001, 853.052), None, None, False, 1, 10),\n",
       " Label(\"o1\", (343.2415000000001, 843.052), None, None, False, 1, 10),\n",
       " Label(\"o2\", (343.2414999999999, 18.297000000000025), None, None, False, 1, 10),\n",
       " Label(\"o1\", (333.2414999999999, 8.297000000000025), None, None, False, 1, 10),\n",
       " Label(\"o2\", (257.2414999999999, 8.297000000000025), None, None, False, 1, 10),\n",
       " Label(\"o1\", (247.24149999999992, 18.297000000000025), None, None, False, 1, 10),\n",
       " Label(\"o2\", (247.24150000000017, 849.052), None, None, False, 1, 10),\n",
       " Label(\"o1\", (257.2415000000001, 859.052), None, None, False, 1, 10),\n",
       " Label(\"o2\", (293.2415000000001, 859.052), None, None, False, 1, 10),\n",
       " Label(\"o1\", (303.2414999999999, 98.29700000000003), None, None, False, 1, 10),\n",
       " Label(\"o2\", (293.2414999999999, 88.29700000000003), None, None, False, 1, 10),\n",
       " Label(\"o1\", (293.2415, 308.297), None, None, False, 1, 10),\n",
       " Label(\"o2\", (303.2415, 298.297), None, None, False, 1, 10),\n",
       " Label(\"o1\", (293.2414999999999, 88.29700000000003), None, None, False, 1, 10),\n",
       " Label(\"o1\", (293.2415, 308.297), None, None, False, 1, 10),\n",
       " Label(\"o1\", (193.74149999999997, 45.12900000000002), None, None, False, 1, 10),\n",
       " Label(\"o2\", (193.74150000000003, 839.222), None, None, False, 1, 10),\n",
       " Label(\"o1\", (193.74149999999997, 45.12900000000002), None, None, False, 1, 10),\n",
       " Label(\"o1\", (193.74150000000003, 839.222), None, None, False, 1, 10),\n",
       " Label(\"DIE NAME:mpw1\n",
       " CIRCUIT NAME:spiral_inner_io_cff9290_7253b303\n",
       " CIRCUITINFO NAME: grating_spacing, VALUE: 200\n",
       " CIRCUITINFO NAME: length, VALUE: 10000\n",
       " CIRCUITINFO NAME: x_straight_inner_left, VALUE: 75\n",
       " CIRCUITINFO NAME: x_straight_inner_right, VALUE: 40\n",
       " CIRCUITINFO NAME: y_straight_inner_bottom, VALUE: 0\n",
       " CIRCUITINFO NAME: y_straight_inner_top, VALUE: 10\n",
       " OPTICALPORT NAME: vertical_te_1 TYPE: vertical_te, POSITION RELATIVE:(0.0, 26.269), ORIENTATION: 90.0\n",
       " OPTICALPORT NAME: vertical_te_0 TYPE: vertical_te, POSITION RELATIVE:(-0.0, -246.269), ORIENTATION: 270.0\n",
       " OPTICALPORT NAME: loopback2 TYPE: loopback, POSITION RELATIVE:(-99.5, 102.648), ORIENTATION: 90.0\n",
       " OPTICALPORT NAME: loopback1 TYPE: loopback, POSITION RELATIVE:(-99.5, -289.437), ORIENTATION: 270\", (468.9615, 308.3), None, None, False, 66, 0),\n",
       " Label(\"o1\", (481.9615, 298.3), None, None, False, 1, 10),\n",
       " Label(\"o2\", (491.9615, 288.3), None, None, False, 1, 10),\n",
       " Label(\"o1\", (491.96149999999994, 45.30000000000001), None, None, False, 1, 10),\n",
       " Label(\"o2\", (481.96149999999994, 35.30000000000001), None, None, False, 1, 10),\n",
       " Label(\"o1\", (459.96149999999994, 35.30000000000001), None, None, False, 1, 10),\n",
       " Label(\"o2\", (449.96149999999994, 45.30000000000001), None, None, False, 1, 10),\n",
       " Label(\"o1\", (449.9615, 367.509), None, None, False, 1, 10),\n",
       " Label(\"o2\", (459.9615, 377.509), None, None, False, 1, 10),\n",
       " Label(\"o1\", (487.9615, 377.509), None, None, False, 1, 10),\n",
       " Label(\"o2\", (497.9615, 367.509), None, None, False, 1, 10),\n",
       " Label(\"o1\", (497.96149999999994, 39.30000000000001), None, None, False, 1, 10),\n",
       " Label(\"o2\", (487.96149999999994, 29.30000000000001), None, None, False, 1, 10),\n",
       " Label(\"o1\", (453.96149999999994, 29.30000000000001), None, None, False, 1, 10),\n",
       " Label(\"o2\", (443.96149999999994, 39.30000000000001), None, None, False, 1, 10),\n",
       " Label(\"o1\", (443.9615, 373.509), None, None, False, 1, 10),\n",
       " Label(\"o2\", (453.9615, 383.509), None, None, False, 1, 10),\n",
       " Label(\"o1\", (493.9615, 383.509), None, None, False, 1, 10),\n",
       " Label(\"o2\", (503.9615, 373.509), None, None, False, 1, 10),\n",
       " Label(\"o1\", (503.96149999999994, 33.30000000000001), None, None, False, 1, 10),\n",
       " Label(\"o2\", (493.96149999999994, 23.30000000000001), None, None, False, 1, 10),\n",
       " Label(\"o1\", (447.96149999999994, 23.30000000000001), None, None, False, 1, 10),\n",
       " Label(\"o2\", (437.96149999999994, 33.30000000000001), None, None, False, 1, 10),\n",
       " Label(\"o1\", (437.9615, 379.509), None, None, False, 1, 10),\n",
       " Label(\"o2\", (447.9615, 389.509), None, None, False, 1, 10),\n",
       " Label(\"o1\", (499.9615, 389.509), None, None, False, 1, 10),\n",
       " Label(\"o2\", (509.9615, 379.509), None, None, False, 1, 10),\n",
       " Label(\"o1\", (509.96149999999994, 27.30000000000001), None, None, False, 1, 10),\n",
       " Label(\"o2\", (499.96149999999994, 17.30000000000001), None, None, False, 1, 10),\n",
       " Label(\"o1\", (441.96149999999994, 17.30000000000001), None, None, False, 1, 10),\n",
       " Label(\"o2\", (431.96149999999994, 27.30000000000001), None, None, False, 1, 10),\n",
       " Label(\"o1\", (431.9615, 385.509), None, None, False, 1, 10),\n",
       " Label(\"o2\", (441.9615, 395.509), None, None, False, 1, 10),\n",
       " Label(\"o1\", (505.9615, 395.509), None, None, False, 1, 10),\n",
       " Label(\"o2\", (515.9615, 385.509), None, None, False, 1, 10),\n",
       " Label(\"o1\", (515.9615, 21.30000000000001), None, None, False, 1, 10),\n",
       " Label(\"o2\", (505.96149999999994, 11.300000000000011), None, None, False, 1, 10),\n",
       " Label(\"o1\", (435.96149999999994, 11.300000000000011), None, None, False, 1, 10),\n",
       " Label(\"o2\", (425.96149999999994, 21.30000000000001), None, None, False, 1, 10),\n",
       " Label(\"o1\", (425.9615, 391.509), None, None, False, 1, 10),\n",
       " Label(\"o2\", (435.9615, 401.509), None, None, False, 1, 10),\n",
       " Label(\"o1\", (511.9615, 401.509), None, None, False, 1, 10),\n",
       " Label(\"o2\", (521.9615, 391.509), None, None, False, 1, 10),\n",
       " Label(\"o1\", (521.9615, 15.300000000000011), None, None, False, 1, 10),\n",
       " Label(\"o2\", (511.96149999999994, 5.300000000000011), None, None, False, 1, 10),\n",
       " Label(\"o1\", (429.96149999999994, 5.300000000000011), None, None, False, 1, 10),\n",
       " Label(\"o2\", (419.96149999999994, 15.300000000000011), None, None, False, 1, 10),\n",
       " Label(\"o1\", (419.9615, 414.509), None, None, False, 1, 10),\n",
       " Label(\"o2\", (429.9615, 424.509), None, None, False, 1, 10),\n",
       " Label(\"o1\", (478.9615, 298.3), None, None, False, 1, 10),\n",
       " Label(\"o2\", (481.9615, 298.3), None, None, False, 1, 10),\n",
       " Label(\"o1\", (491.9615, 288.3), None, None, False, 1, 10),\n",
       " Label(\"o2\", (491.96149999999994, 45.30000000000001), None, None, False, 1, 10),\n",
       " Label(\"o1\", (481.96149999999994, 35.30000000000001), None, None, False, 1, 10),\n",
       " Label(\"o2\", (459.96149999999994, 35.30000000000001), None, None, False, 1, 10),\n",
       " Label(\"o1\", (449.96149999999994, 45.30000000000001), None, None, False, 1, 10),\n",
       " Label(\"o2\", (449.96150000000006, 367.509), None, None, False, 1, 10),\n",
       " Label(\"o1\", (459.9615, 377.509), None, None, False, 1, 10),\n",
       " Label(\"o2\", (487.9615, 377.509), None, None, False, 1, 10),\n",
       " Label(\"o1\", (497.9615, 367.509), None, None, False, 1, 10),\n",
       " Label(\"o2\", (497.96149999999994, 39.30000000000001), None, None, False, 1, 10),\n",
       " Label(\"o1\", (487.96149999999994, 29.30000000000001), None, None, False, 1, 10),\n",
       " Label(\"o2\", (453.96149999999994, 29.30000000000001), None, None, False, 1, 10),\n",
       " Label(\"o1\", (443.96149999999994, 39.30000000000001), None, None, False, 1, 10),\n",
       " Label(\"o2\", (443.96150000000006, 373.509), None, None, False, 1, 10),\n",
       " Label(\"o1\", (453.9615, 383.509), None, None, False, 1, 10),\n",
       " Label(\"o2\", (493.9615, 383.509), None, None, False, 1, 10),\n",
       " Label(\"o1\", (503.9615, 373.509), None, None, False, 1, 10),\n",
       " Label(\"o2\", (503.96149999999994, 33.30000000000001), None, None, False, 1, 10),\n",
       " Label(\"o1\", (493.96149999999994, 23.30000000000001), None, None, False, 1, 10),\n",
       " Label(\"o2\", (447.96149999999994, 23.30000000000001), None, None, False, 1, 10),\n",
       " Label(\"o1\", (437.96149999999994, 33.30000000000001), None, None, False, 1, 10),\n",
       " Label(\"o2\", (437.96150000000006, 379.509), None, None, False, 1, 10),\n",
       " Label(\"o1\", (447.9615, 389.509), None, None, False, 1, 10),\n",
       " Label(\"o2\", (499.9615, 389.509), None, None, False, 1, 10),\n",
       " Label(\"o1\", (509.9615, 379.509), None, None, False, 1, 10),\n",
       " Label(\"o2\", (509.96149999999994, 27.30000000000001), None, None, False, 1, 10),\n",
       " Label(\"o1\", (499.96149999999994, 17.30000000000001), None, None, False, 1, 10),\n",
       " Label(\"o2\", (441.96149999999994, 17.30000000000001), None, None, False, 1, 10),\n",
       " Label(\"o1\", (431.96149999999994, 27.30000000000001), None, None, False, 1, 10),\n",
       " Label(\"o2\", (431.96150000000006, 385.509), None, None, False, 1, 10),\n",
       " Label(\"o1\", (441.9615, 395.509), None, None, False, 1, 10),\n",
       " Label(\"o2\", (505.9615, 395.509), None, None, False, 1, 10),\n",
       " Label(\"o1\", (515.9615, 385.509), None, None, False, 1, 10),\n",
       " Label(\"o2\", (515.9615, 21.30000000000001), None, None, False, 1, 10),\n",
       " Label(\"o1\", (505.96149999999994, 11.300000000000011), None, None, False, 1, 10),\n",
       " Label(\"o2\", (435.96149999999994, 11.300000000000011), None, None, False, 1, 10),\n",
       " Label(\"o1\", (425.96149999999994, 21.30000000000001), None, None, False, 1, 10),\n",
       " Label(\"o2\", (425.96150000000006, 391.509), None, None, False, 1, 10),\n",
       " Label(\"o1\", (435.9615, 401.509), None, None, False, 1, 10),\n",
       " Label(\"o2\", (511.9615, 401.509), None, None, False, 1, 10),\n",
       " Label(\"o1\", (521.9615, 391.509), None, None, False, 1, 10),\n",
       " Label(\"o2\", (521.9615, 15.300000000000011), None, None, False, 1, 10),\n",
       " Label(\"o1\", (511.96149999999994, 5.300000000000011), None, None, False, 1, 10),\n",
       " Label(\"o2\", (429.96149999999994, 5.300000000000011), None, None, False, 1, 10),\n",
       " Label(\"o1\", (419.96149999999994, 15.300000000000011), None, None, False, 1, 10),\n",
       " Label(\"o2\", (419.96150000000006, 414.509), None, None, False, 1, 10),\n",
       " Label(\"o1\", (429.9615, 424.509), None, None, False, 1, 10),\n",
       " Label(\"o2\", (468.9615, 424.509), None, None, False, 1, 10),\n",
       " Label(\"o1\", (468.9615, 404.509), None, None, False, 1, 10),\n",
       " Label(\"o2\", (468.9615, 424.509), None, None, False, 1, 10),\n",
       " Label(\"o1\", (478.96149999999994, 98.30000000000001), None, None, False, 1, 10),\n",
       " Label(\"o2\", (488.96149999999994, 88.30000000000001), None, None, False, 1, 10),\n",
       " Label(\"o1\", (488.96149999999994, 48.30000000000001), None, None, False, 1, 10),\n",
       " Label(\"o2\", (478.96149999999994, 38.30000000000001), None, None, False, 1, 10),\n",
       " Label(\"o1\", (462.96149999999994, 38.30000000000001), None, None, False, 1, 10),\n",
       " Label(\"o2\", (452.96149999999994, 48.30000000000001), None, None, False, 1, 10),\n",
       " Label(\"o1\", (452.9615, 364.509), None, None, False, 1, 10),\n",
       " Label(\"o2\", (462.9615, 374.509), None, None, False, 1, 10),\n",
       " Label(\"o1\", (484.9615, 374.509), None, None, False, 1, 10),\n",
       " Label(\"o2\", (494.9615, 364.509), None, None, False, 1, 10),\n",
       " Label(\"o1\", (494.96149999999994, 42.30000000000001), None, None, False, 1, 10),\n",
       " Label(\"o2\", (484.96149999999994, 32.30000000000001), None, None, False, 1, 10),\n",
       " Label(\"o1\", (456.96149999999994, 32.30000000000001), None, None, False, 1, 10),\n",
       " Label(\"o2\", (446.96149999999994, 42.30000000000001), None, None, False, 1, 10),\n",
       " Label(\"o1\", (446.9615, 370.509), None, None, False, 1, 10),\n",
       " Label(\"o2\", (456.9615, 380.509), None, None, False, 1, 10),\n",
       " Label(\"o1\", (490.9615, 380.509), None, None, False, 1, 10),\n",
       " Label(\"o2\", (500.9615, 370.509), None, None, False, 1, 10),\n",
       " Label(\"o1\", (500.96149999999994, 36.30000000000001), None, None, False, 1, 10),\n",
       " Label(\"o2\", (490.96149999999994, 26.30000000000001), None, None, False, 1, 10),\n",
       " Label(\"o1\", (450.96149999999994, 26.30000000000001), None, None, False, 1, 10),\n",
       " Label(\"o2\", (440.96149999999994, 36.30000000000001), None, None, False, 1, 10),\n",
       " Label(\"o1\", (440.9615, 376.509), None, None, False, 1, 10),\n",
       " Label(\"o2\", (450.9615, 386.509), None, None, False, 1, 10),\n",
       " Label(\"o1\", (496.9615, 386.509), None, None, False, 1, 10),\n",
       " Label(\"o2\", (506.9615, 376.509), None, None, False, 1, 10),\n",
       " Label(\"o1\", (506.96149999999994, 30.30000000000001), None, None, False, 1, 10),\n",
       " Label(\"o2\", (496.96149999999994, 20.30000000000001), None, None, False, 1, 10),\n",
       " Label(\"o1\", (444.96149999999994, 20.30000000000001), None, None, False, 1, 10),\n",
       " Label(\"o2\", (434.96149999999994, 30.30000000000001), None, None, False, 1, 10),\n",
       " Label(\"o1\", (434.9615, 382.509), None, None, False, 1, 10),\n",
       " Label(\"o2\", (444.9615, 392.509), None, None, False, 1, 10),\n",
       " Label(\"o1\", (502.9615, 392.509), None, None, False, 1, 10),\n",
       " Label(\"o2\", (512.9615, 382.509), None, None, False, 1, 10),\n",
       " Label(\"o1\", (512.9615, 24.30000000000001), None, None, False, 1, 10),\n",
       " Label(\"o2\", (502.96149999999994, 14.300000000000011), None, None, False, 1, 10),\n",
       " Label(\"o1\", (438.96149999999994, 14.300000000000011), None, None, False, 1, 10),\n",
       " Label(\"o2\", (428.96149999999994, 24.30000000000001), None, None, False, 1, 10),\n",
       " Label(\"o1\", (428.9615, 388.509), None, None, False, 1, 10),\n",
       " Label(\"o2\", (438.9615, 398.509), None, None, False, 1, 10),\n",
       " Label(\"o1\", (508.9615, 398.509), None, None, False, 1, 10),\n",
       " Label(\"o2\", (518.9615, 388.509), None, None, False, 1, 10),\n",
       " Label(\"o1\", (518.9615, 18.30000000000001), None, None, False, 1, 10),\n",
       " Label(\"o2\", (508.96149999999994, 8.300000000000011), None, None, False, 1, 10),\n",
       " Label(\"o1\", (432.96149999999994, 8.300000000000011), None, None, False, 1, 10),\n",
       " Label(\"o2\", (422.96149999999994, 18.30000000000001), None, None, False, 1, 10),\n",
       " Label(\"o1\", (422.9615, 394.509), None, None, False, 1, 10),\n",
       " Label(\"o2\", (432.9615, 404.509), None, None, False, 1, 10),\n",
       " Label(\"o1\", (488.96149999999994, 88.30000000000001), None, None, False, 1, 10),\n",
       " Label(\"o2\", (488.96149999999994, 48.30000000000001), None, None, False, 1, 10),\n",
       " Label(\"o1\", (478.96149999999994, 38.30000000000001), None, None, False, 1, 10),\n",
       " Label(\"o2\", (462.96149999999994, 38.30000000000001), None, None, False, 1, 10),\n",
       " Label(\"o1\", (452.96149999999994, 48.30000000000001), None, None, False, 1, 10),\n",
       " Label(\"o2\", (452.96150000000006, 364.509), None, None, False, 1, 10),\n",
       " Label(\"o1\", (462.9615, 374.509), None, None, False, 1, 10),\n",
       " Label(\"o2\", (484.9615, 374.509), None, None, False, 1, 10),\n",
       " Label(\"o1\", (494.9615, 364.509), None, None, False, 1, 10),\n",
       " Label(\"o2\", (494.96149999999994, 42.30000000000001), None, None, False, 1, 10),\n",
       " Label(\"o1\", (484.96149999999994, 32.30000000000001), None, None, False, 1, 10),\n",
       " Label(\"o2\", (456.96149999999994, 32.30000000000001), None, None, False, 1, 10),\n",
       " Label(\"o1\", (446.96149999999994, 42.30000000000001), None, None, False, 1, 10),\n",
       " Label(\"o2\", (446.96150000000006, 370.509), None, None, False, 1, 10),\n",
       " Label(\"o1\", (456.9615, 380.509), None, None, False, 1, 10),\n",
       " Label(\"o2\", (490.9615, 380.509), None, None, False, 1, 10),\n",
       " Label(\"o1\", (500.9615, 370.509), None, None, False, 1, 10),\n",
       " Label(\"o2\", (500.96149999999994, 36.30000000000001), None, None, False, 1, 10),\n",
       " Label(\"o1\", (490.96149999999994, 26.30000000000001), None, None, False, 1, 10),\n",
       " Label(\"o2\", (450.96149999999994, 26.30000000000001), None, None, False, 1, 10),\n",
       " Label(\"o1\", (440.96149999999994, 36.30000000000001), None, None, False, 1, 10),\n",
       " Label(\"o2\", (440.96150000000006, 376.509), None, None, False, 1, 10),\n",
       " Label(\"o1\", (450.9615, 386.509), None, None, False, 1, 10),\n",
       " Label(\"o2\", (496.9615, 386.509), None, None, False, 1, 10),\n",
       " Label(\"o1\", (506.9615, 376.509), None, None, False, 1, 10),\n",
       " Label(\"o2\", (506.96149999999994, 30.30000000000001), None, None, False, 1, 10),\n",
       " Label(\"o1\", (496.96149999999994, 20.30000000000001), None, None, False, 1, 10),\n",
       " Label(\"o2\", (444.96149999999994, 20.30000000000001), None, None, False, 1, 10),\n",
       " Label(\"o1\", (434.96149999999994, 30.30000000000001), None, None, False, 1, 10),\n",
       " Label(\"o2\", (434.96150000000006, 382.509), None, None, False, 1, 10),\n",
       " Label(\"o1\", (444.9615, 392.509), None, None, False, 1, 10),\n",
       " Label(\"o2\", (502.9615, 392.509), None, None, False, 1, 10),\n",
       " Label(\"o1\", (512.9615, 382.509), None, None, False, 1, 10),\n",
       " Label(\"o2\", (512.9615, 24.30000000000001), None, None, False, 1, 10),\n",
       " Label(\"o1\", (502.96149999999994, 14.300000000000011), None, None, False, 1, 10),\n",
       " Label(\"o2\", (438.96149999999994, 14.300000000000011), None, None, False, 1, 10),\n",
       " Label(\"o1\", (428.96149999999994, 24.30000000000001), None, None, False, 1, 10),\n",
       " Label(\"o2\", (428.96150000000006, 388.509), None, None, False, 1, 10),\n",
       " Label(\"o1\", (438.9615, 398.509), None, None, False, 1, 10),\n",
       " Label(\"o2\", (508.9615, 398.509), None, None, False, 1, 10),\n",
       " Label(\"o1\", (518.9615, 388.509), None, None, False, 1, 10),\n",
       " Label(\"o2\", (518.9615, 18.30000000000001), None, None, False, 1, 10),\n",
       " Label(\"o1\", (508.96149999999994, 8.300000000000011), None, None, False, 1, 10),\n",
       " Label(\"o2\", (432.96149999999994, 8.300000000000011), None, None, False, 1, 10),\n",
       " Label(\"o1\", (422.96149999999994, 18.30000000000001), None, None, False, 1, 10),\n",
       " Label(\"o2\", (422.96150000000006, 394.509), None, None, False, 1, 10),\n",
       " Label(\"o1\", (432.9615, 404.509), None, None, False, 1, 10),\n",
       " Label(\"o2\", (468.9615, 404.509), None, None, False, 1, 10),\n",
       " Label(\"o1\", (478.96149999999994, 98.30000000000001), None, None, False, 1, 10),\n",
       " Label(\"o2\", (468.96149999999994, 88.30000000000001), None, None, False, 1, 10),\n",
       " Label(\"o1\", (468.9615, 308.3), None, None, False, 1, 10),\n",
       " Label(\"o2\", (478.9615, 298.3), None, None, False, 1, 10),\n",
       " Label(\"o1\", (468.96149999999994, 88.30000000000001), None, None, False, 1, 10),\n",
       " Label(\"o1\", (468.9615, 308.3), None, None, False, 1, 10),\n",
       " Label(\"o1\", (369.4615, 45.132000000000005), None, None, False, 1, 10),\n",
       " Label(\"o2\", (369.4615, 384.67900000000003), None, None, False, 1, 10),\n",
       " Label(\"o1\", (369.4615, 45.132000000000005), None, None, False, 1, 10),\n",
       " Label(\"o1\", (369.4615, 384.67900000000003), None, None, False, 1, 10)]"
      ]
     },
     "execution_count": 15,
     "metadata": {},
     "output_type": "execute_result"
    }
   ],
   "source": [
    "c.get_labels()"
   ]
  },
  {
   "cell_type": "markdown",
   "id": "de11e81e-fed1-49c1-b3b1-3f38ca1d7e4b",
   "metadata": {},
   "source": [
    "Together with GDS labels that are not fabricated, you can also add some physical labels that will be fabricated.\n",
    "\n",
    "For example you can add prefix `S` at the `north-center` of each spiral using `text_rectangular` which is DRC clean and anchored on `nc` (north-center)"
   ]
  },
  {
   "cell_type": "code",
   "execution_count": 16,
   "id": "163625c7-3446-43fb-9d79-21ba1b2ef84f",
   "metadata": {
    "execution": {
     "iopub.execute_input": "2022-06-15T17:08:46.853848Z",
     "iopub.status.busy": "2022-06-15T17:08:46.853509Z",
     "iopub.status.idle": "2022-06-15T17:08:47.261404Z",
     "shell.execute_reply": "2022-06-15T17:08:47.260827Z"
    }
   },
   "outputs": [
    {
     "data": {
      "image/png": "[encoded data removed]",
      "text/plain": [
       "<Figure size 432x288 with 1 Axes>"
      ]
     },
     "metadata": {
      "needs_background": "light"
     },
     "output_type": "display_data"
    },
    {
     "data": {
      "text/html": [
       "pack_0_df93f393: uid 293, ports [], aliases [], 0 polygons, 6 references"
      ],
      "text/plain": [
       "pack_0_df93f393: uid 293, ports [], aliases [], 0 polygons, 6 references"
      ]
     },
     "execution_count": 16,
     "metadata": {},
     "output_type": "execute_result"
    }
   ],
   "source": [
    "text_metal3 = gf.partial(\n",
    "    gf.components.text_rectangular_multi_layer, layers=(gf.LAYER.M3,)\n",
    ")\n",
    "\n",
    "m = gf.pack(sweep, text=text_metal3, text_anchors=(\"nc\",), text_prefix=\"s\")\n",
    "c = m[0]\n",
    "c"
   ]
  },
  {
   "cell_type": "code",
   "execution_count": 17,
   "id": "67d3167c-9820-43a8-a8c3-d7db3f6bbb42",
   "metadata": {
    "execution": {
     "iopub.execute_input": "2022-06-15T17:08:47.265452Z",
     "iopub.status.busy": "2022-06-15T17:08:47.264922Z",
     "iopub.status.idle": "2022-06-15T17:08:47.658756Z",
     "shell.execute_reply": "2022-06-15T17:08:47.658139Z"
    }
   },
   "outputs": [
    {
     "data": {
      "image/png": "[encoded data removed]",
      "text/plain": [
       "<Figure size 432x288 with 1 Axes>"
      ]
     },
     "metadata": {
      "needs_background": "light"
     },
     "output_type": "display_data"
    },
    {
     "data": {
      "text/html": [
       "pack_0_85fd2252: uid 304, ports [], aliases [], 0 polygons, 6 references"
      ],
      "text/plain": [
       "pack_0_85fd2252: uid 304, ports [], aliases [], 0 polygons, 6 references"
      ]
     },
     "execution_count": 17,
     "metadata": {},
     "output_type": "execute_result"
    }
   ],
   "source": [
    "text_metal2 = gf.partial(gf.components.text, layer=gf.LAYER.M2)\n",
    "\n",
    "m = gf.pack(sweep, text=text_metal2, text_anchors=(\"nc\",), text_prefix=\"s\")\n",
    "c = m[0]\n",
    "c"
   ]
  },
  {
   "cell_type": "markdown",
   "id": "202f96c4-3534-492d-beb1-739b75a0caa2",
   "metadata": {},
   "source": [
    "## Grid\n",
    "\n",
    "You can also pack components with a constant spacing."
   ]
  },
  {
   "cell_type": "code",
   "execution_count": 18,
   "id": "c0510675-a6a0-48ab-868b-147548c9baa9",
   "metadata": {
    "execution": {
     "iopub.execute_input": "2022-06-15T17:08:47.661816Z",
     "iopub.status.busy": "2022-06-15T17:08:47.661301Z",
     "iopub.status.idle": "2022-06-15T17:08:48.098775Z",
     "shell.execute_reply": "2022-06-15T17:08:48.098176Z"
    }
   },
   "outputs": [
    {
     "data": {
      "image/png": "[encoded data removed]",
      "text/plain": [
       "<Figure size 432x288 with 1 Axes>"
      ]
     },
     "metadata": {
      "needs_background": "light"
     },
     "output_type": "display_data"
    },
    {
     "data": {
      "text/html": [
       "grid_dff359ef: uid 311, ports [], aliases [(0, 0), (1, 0), (2, 0)], 0 polygons, 3 references"
      ],
      "text/plain": [
       "grid_dff359ef: uid 311, ports [], aliases [(0, 0), (1, 0), (2, 0)], 0 polygons, 3 references"
      ]
     },
     "execution_count": 18,
     "metadata": {},
     "output_type": "execute_result"
    }
   ],
   "source": [
    "g = gf.grid(sweep)\n",
    "g"
   ]
  },
  {
   "cell_type": "code",
   "execution_count": 19,
   "id": "ef5c0177-ba7d-4763-bd19-25b094dcaaa1",
   "metadata": {
    "execution": {
     "iopub.execute_input": "2022-06-15T17:08:48.102225Z",
     "iopub.status.busy": "2022-06-15T17:08:48.101711Z",
     "iopub.status.idle": "2022-06-15T17:08:48.666109Z",
     "shell.execute_reply": "2022-06-15T17:08:48.665495Z"
    }
   },
   "outputs": [
    {
     "data": {
      "image/png": "[encoded data removed]",
      "text/plain": [
       "<Figure size 432x288 with 1 Axes>"
      ]
     },
     "metadata": {
      "needs_background": "light"
     },
     "output_type": "display_data"
    },
    {
     "data": {
      "text/html": [
       "grid_744b5748: uid 313, ports [], aliases [(0, 0), (0, 1), (0, 2)], 0 polygons, 3 references"
      ],
      "text/plain": [
       "grid_744b5748: uid 313, ports [], aliases [(0, 0), (0, 1), (0, 2)], 0 polygons, 3 references"
      ]
     },
     "execution_count": 19,
     "metadata": {},
     "output_type": "execute_result"
    }
   ],
   "source": [
    "gh = gf.grid(sweep, shape=(1, len(sweep)))\n",
    "gh"
   ]
  },
  {
   "cell_type": "code",
   "execution_count": 20,
   "id": "f1b19b3c-ef2a-4684-a961-057e71d057fa",
   "metadata": {
    "execution": {
     "iopub.execute_input": "2022-06-15T17:08:48.669593Z",
     "iopub.status.busy": "2022-06-15T17:08:48.669082Z",
     "iopub.status.idle": "2022-06-15T17:08:49.115531Z",
     "shell.execute_reply": "2022-06-15T17:08:49.114782Z"
    }
   },
   "outputs": [
    {
     "data": {
      "image/png": "[encoded data removed]",
      "text/plain": [
       "<Figure size 432x288 with 1 Axes>"
      ]
     },
     "metadata": {
      "needs_background": "light"
     },
     "output_type": "display_data"
    },
    {
     "data": {
      "text/html": [
       "grid_32591b99: uid 315, ports [], aliases [(0, 0), (0, 1), (0, 2)], 0 polygons, 3 references"
      ],
      "text/plain": [
       "grid_32591b99: uid 315, ports [], aliases [(0, 0), (0, 1), (0, 2)], 0 polygons, 3 references"
      ]
     },
     "execution_count": 20,
     "metadata": {},
     "output_type": "execute_result"
    }
   ],
   "source": [
    "gh_ymin = gf.grid(sweep, shape=(1, len(sweep)), align_y=\"ymin\")\n",
    "gh_ymin"
   ]
  },
  {
   "cell_type": "markdown",
   "id": "c906630b-d340-4f1f-9b6a-c88c39205d9d",
   "metadata": {},
   "source": [
    "You can also add text labels to each element of the sweep"
   ]
  },
  {
   "cell_type": "code",
   "execution_count": 21,
   "id": "28809b6e-2fa1-4ee0-96f8-9efec4a4c871",
   "metadata": {
    "execution": {
     "iopub.execute_input": "2022-06-15T17:08:49.118751Z",
     "iopub.status.busy": "2022-06-15T17:08:49.118536Z",
     "iopub.status.idle": "2022-06-15T17:08:49.689342Z",
     "shell.execute_reply": "2022-06-15T17:08:49.688686Z"
    },
    "vscode": {
     "languageId": "markdown"
    }
   },
   "outputs": [
    {
     "data": {
      "image/png": "[encoded data removed]",
      "text/plain": [
       "<Figure size 432x288 with 1 Axes>"
      ]
     },
     "metadata": {
      "needs_background": "light"
     },
     "output_type": "display_data"
    },
    {
     "data": {
      "text/html": [
       "grid_with_text_bfb3bf0a: uid 317, ports [], aliases [], 0 polygons, 4 references"
      ],
      "text/plain": [
       "grid_with_text_bfb3bf0a: uid 317, ports [], aliases [], 0 polygons, 4 references"
      ]
     },
     "execution_count": 21,
     "metadata": {},
     "output_type": "execute_result"
    }
   ],
   "source": [
    "gh_ymin = gf.grid_with_text(\n",
    "    sweep, shape=(1, len(sweep)), align_y=\"ymin\", text=text_metal3\n",
    ")\n",
    "gh_ymin"
   ]
  },
  {
   "cell_type": "markdown",
   "id": "0f736cb1",
   "metadata": {},
   "source": [
    "You can modify the text by customizing the `text_function` that you pass to `grid_with_text`"
   ]
  },
  {
   "cell_type": "code",
   "execution_count": 22,
   "id": "7ebc2c96",
   "metadata": {
    "execution": {
     "iopub.execute_input": "2022-06-15T17:08:49.692676Z",
     "iopub.status.busy": "2022-06-15T17:08:49.692348Z",
     "iopub.status.idle": "2022-06-15T17:08:50.371773Z",
     "shell.execute_reply": "2022-06-15T17:08:50.371205Z"
    },
    "vscode": {
     "languageId": "markdown"
    }
   },
   "outputs": [
    {
     "data": {
      "image/png": "[encoded data removed]",
      "text/plain": [
       "<Figure size 432x288 with 1 Axes>"
      ]
     },
     "metadata": {
      "needs_background": "light"
     },
     "output_type": "display_data"
    },
    {
     "data": {
      "text/html": [
       "grid_with_text_89e29f39: uid 324, ports [], aliases [], 0 polygons, 4 references"
      ],
      "text/plain": [
       "grid_with_text_89e29f39: uid 324, ports [], aliases [], 0 polygons, 4 references"
      ]
     },
     "execution_count": 22,
     "metadata": {},
     "output_type": "execute_result"
    }
   ],
   "source": [
    "gh_ymin_m2 = gf.grid_with_text(\n",
    "    sweep, shape=(1, len(sweep)), align_y=\"ymin\", text=text_metal2\n",
    ")\n",
    "gh_ymin_m2"
   ]
  },
  {
   "cell_type": "markdown",
   "id": "3b997412-a382-4ec5-8161-0598ea6ee774",
   "metadata": {},
   "source": [
    "You have 2 ways of defining a mask:\n",
    "\n",
    "1. in python\n",
    "2. in YAML\n",
    "\n",
    "\n",
    "## Component in python\n",
    "\n",
    "You can define a Component top cell reticle or die using `grid` and `pack` python functions."
   ]
  },
  {
   "cell_type": "code",
   "execution_count": 23,
   "id": "60bcbcf0-503d-43b9-ac9f-6bd8a744cea7",
   "metadata": {
    "execution": {
     "iopub.execute_input": "2022-06-15T17:08:50.374676Z",
     "iopub.status.busy": "2022-06-15T17:08:50.374441Z",
     "iopub.status.idle": "2022-06-15T17:08:50.537460Z",
     "shell.execute_reply": "2022-06-15T17:08:50.536892Z"
    },
    "vscode": {
     "languageId": "markdown"
    }
   },
   "outputs": [
    {
     "data": {
      "image/png": "[encoded data removed]",
      "text/plain": [
       "<Figure size 432x288 with 1 Axes>"
      ]
     },
     "metadata": {
      "needs_background": "light"
     },
     "output_type": "display_data"
    },
    {
     "data": {
      "text/html": [
       "grid_with_text_eae496e4: uid 334, ports [], aliases [], 0 polygons, 1 references"
      ],
      "text/plain": [
       "grid_with_text_eae496e4: uid 334, ports [], aliases [], 0 polygons, 1 references"
      ]
     },
     "execution_count": 23,
     "metadata": {},
     "output_type": "execute_result"
    }
   ],
   "source": [
    "import gdsfactory as gf\n",
    "\n",
    "text_metal3 = gf.partial(\n",
    "    gf.components.text_rectangular_multi_layer, layers=(gf.LAYER.M3,)\n",
    ")\n",
    "grid = gf.partial(gf.grid_with_text, text=text_metal3)\n",
    "pack = gf.partial(gf.pack, text=text_metal3)\n",
    "\n",
    "gratings_sweep = [\n",
    "    gf.components.grating_coupler_elliptical(taper_angle=taper_angle)\n",
    "    for taper_angle in [20, 30, 40]\n",
    "]\n",
    "gratings = grid(gratings_sweep, text=None)\n",
    "gratings"
   ]
  },
  {
   "cell_type": "code",
   "execution_count": 24,
   "id": "e689a444-8af9-45f7-b068-2411a3c1277f",
   "metadata": {
    "execution": {
     "iopub.execute_input": "2022-06-15T17:08:50.540225Z",
     "iopub.status.busy": "2022-06-15T17:08:50.540002Z",
     "iopub.status.idle": "2022-06-15T17:08:50.754865Z",
     "shell.execute_reply": "2022-06-15T17:08:50.754282Z"
    }
   },
   "outputs": [
    {
     "data": {
      "image/png": "[encoded data removed]",
      "text/plain": [
       "<Figure size 432x288 with 1 Axes>"
      ]
     },
     "metadata": {
      "needs_background": "light"
     },
     "output_type": "display_data"
    },
    {
     "data": {
      "text/html": [
       "grid_with_text_b6edda8c: uid 360, ports [], aliases [], 0 polygons, 4 references"
      ],
      "text/plain": [
       "grid_with_text_b6edda8c: uid 360, ports [], aliases [], 0 polygons, 4 references"
      ]
     },
     "execution_count": 24,
     "metadata": {},
     "output_type": "execute_result"
    }
   ],
   "source": [
    "gratings_sweep = [\n",
    "    gf.components.grating_coupler_elliptical(taper_angle=taper_angle)\n",
    "    for taper_angle in [20, 30, 40]\n",
    "]\n",
    "gratings_loss_sweep = [\n",
    "    gf.components.grating_coupler_loss_fiber_single(grating_coupler=grating)\n",
    "    for grating in gratings_sweep\n",
    "]\n",
    "gratings = grid(\n",
    "    gratings_loss_sweep, shape=(1, len(gratings_loss_sweep)), spacing=(40, 0)\n",
    ")\n",
    "gratings"
   ]
  },
  {
   "cell_type": "code",
   "execution_count": 25,
   "id": "d25e85bf-4b7d-4cbe-8b83-1f096438cd14",
   "metadata": {
    "execution": {
     "iopub.execute_input": "2022-06-15T17:08:50.757663Z",
     "iopub.status.busy": "2022-06-15T17:08:50.757434Z",
     "iopub.status.idle": "2022-06-15T17:08:51.178900Z",
     "shell.execute_reply": "2022-06-15T17:08:51.178337Z"
    }
   },
   "outputs": [
    {
     "data": {
      "image/png": "[encoded data removed]",
      "text/plain": [
       "<Figure size 432x288 with 1 Axes>"
      ]
     },
     "metadata": {
      "needs_background": "light"
     },
     "output_type": "display_data"
    },
    {
     "data": {
      "text/html": [
       "pack_0_bbba452a: uid 363, ports [], aliases [], 0 polygons, 3 references"
      ],
      "text/plain": [
       "pack_0_bbba452a: uid 363, ports [], aliases [], 0 polygons, 3 references"
      ]
     },
     "execution_count": 25,
     "metadata": {},
     "output_type": "execute_result"
    }
   ],
   "source": [
    "sweep_resistance = [\n",
    "    gf.components.resistance_sheet(width=width) for width in [1, 10, 100]\n",
    "]\n",
    "resistance = gf.pack(sweep_resistance)[0]\n",
    "resistance"
   ]
  },
  {
   "cell_type": "code",
   "execution_count": 26,
   "id": "8080baf6-5426-4f0c-87e4-a4be3b1a455b",
   "metadata": {
    "execution": {
     "iopub.execute_input": "2022-06-15T17:08:51.182395Z",
     "iopub.status.busy": "2022-06-15T17:08:51.181882Z",
     "iopub.status.idle": "2022-06-15T17:08:51.742441Z",
     "shell.execute_reply": "2022-06-15T17:08:51.741869Z"
    }
   },
   "outputs": [
    {
     "data": {
      "image/png": "[encoded data removed]",
      "text/plain": [
       "<Figure size 432x288 with 1 Axes>"
      ]
     },
     "metadata": {
      "needs_background": "light"
     },
     "output_type": "display_data"
    },
    {
     "data": {
      "text/html": [
       "pack_0_d12cebb0: uid 366, ports [], aliases [], 0 polygons, 3 references"
      ],
      "text/plain": [
       "pack_0_d12cebb0: uid 366, ports [], aliases [], 0 polygons, 3 references"
      ]
     },
     "execution_count": 26,
     "metadata": {},
     "output_type": "execute_result"
    }
   ],
   "source": [
    "spiral_te = gf.compose(\n",
    "    gf.routing.add_fiber_single,\n",
    "    gf.functions.rotate90,\n",
    "    gf.components.spiral_inner_io_fiber_single,\n",
    ")\n",
    "sweep_spirals = [spiral_te(length=length) for length in [10e3, 20e3, 30e3]]\n",
    "spirals = gf.pack(sweep_spirals)[0]\n",
    "spirals"
   ]
  },
  {
   "cell_type": "code",
   "execution_count": 27,
   "id": "247f7734-9691-4e0b-92ab-27b6eb0d88f5",
   "metadata": {
    "execution": {
     "iopub.execute_input": "2022-06-15T17:08:51.745558Z",
     "iopub.status.busy": "2022-06-15T17:08:51.745318Z",
     "iopub.status.idle": "2022-06-15T17:08:52.534826Z",
     "shell.execute_reply": "2022-06-15T17:08:52.534202Z"
    }
   },
   "outputs": [
    {
     "data": {
      "image/png": "[encoded data removed]",
      "text/plain": [
       "<Figure size 432x288 with 1 Axes>"
      ]
     },
     "metadata": {
      "needs_background": "light"
     },
     "output_type": "display_data"
    },
    {
     "data": {
      "text/html": [
       "pack_0_b482e206: uid 367, ports [], aliases [], 0 polygons, 3 references"
      ],
      "text/plain": [
       "pack_0_b482e206: uid 367, ports [], aliases [], 0 polygons, 3 references"
      ]
     },
     "execution_count": 27,
     "metadata": {},
     "output_type": "execute_result"
    }
   ],
   "source": [
    "mask = gf.pack([spirals, resistance, gratings])[0]\n",
    "mask"
   ]
  },
  {
   "cell_type": "markdown",
   "id": "09a22557-34bc-42fe-8fcc-31cd887a2ee5",
   "metadata": {},
   "source": [
    "As you can see you can define your mask in a single line.\n",
    "\n",
    "For more complex mask, you can also create a new cell to build up more complexity"
   ]
  },
  {
   "cell_type": "code",
   "execution_count": 28,
   "id": "e78cf725-1243-42c4-b945-f1ab4464080e",
   "metadata": {
    "execution": {
     "iopub.execute_input": "2022-06-15T17:08:52.538226Z",
     "iopub.status.busy": "2022-06-15T17:08:52.537879Z",
     "iopub.status.idle": "2022-06-15T17:08:54.100606Z",
     "shell.execute_reply": "2022-06-15T17:08:54.100065Z"
    }
   },
   "outputs": [
    {
     "data": {
      "image/png": "[encoded data removed]",
      "text/plain": [
       "<Figure size 432x288 with 1 Axes>"
      ]
     },
     "metadata": {
      "needs_background": "light"
     },
     "output_type": "display_data"
    },
    {
     "data": {
      "text/html": [
       "mask: uid 368, ports [], aliases [], 0 polygons, 2 references"
      ],
      "text/plain": [
       "mask: uid 368, ports [], aliases [], 0 polygons, 2 references"
      ]
     },
     "execution_count": 28,
     "metadata": {},
     "output_type": "execute_result"
    }
   ],
   "source": [
    "@gf.cell\n",
    "def mask():\n",
    "    c = gf.Component()\n",
    "    c << gf.pack([spirals, resistance, gratings])[0]\n",
    "    c << gf.components.seal_ring(c.bbox)\n",
    "    return c\n",
    "\n",
    "\n",
    "c = mask(cache=False)\n",
    "c"
   ]
  },
  {
   "cell_type": "markdown",
   "id": "8c8bfba4",
   "metadata": {},
   "source": [
    "## Metadata\n",
    "\n",
    "When saving GDS files is also convenient to store the metadata settings that you used to generate the GDS file."
   ]
  },
  {
   "cell_type": "code",
   "execution_count": 29,
   "id": "3d7a73db-0d7b-446a-b43d-05e64d002bb1",
   "metadata": {
    "execution": {
     "iopub.execute_input": "2022-06-15T17:08:54.103480Z",
     "iopub.status.busy": "2022-06-15T17:08:54.103259Z",
     "iopub.status.idle": "2022-06-15T17:08:55.966348Z",
     "shell.execute_reply": "2022-06-15T17:08:55.965372Z"
    }
   },
   "outputs": [
    {
     "name": "stderr",
     "output_type": "stream",
     "text": [
      "2022-06-15 17:08:54.118 | INFO     | gdsfactory.component:write_gds:1040 - Write GDS to 'extra/mask.gds'\n"
     ]
    },
    {
     "name": "stderr",
     "output_type": "stream",
     "text": [
      "2022-06-15 17:08:55.962 | INFO     | gdsfactory.component:write_gds_with_metadata:1048 - Write YAML metadata to 'extra/mask.yml'\n"
     ]
    }
   ],
   "source": [
    "gdspath = c.write_gds_with_metadata(gdsdir=\"extra\")"
   ]
  },
  {
   "cell_type": "code",
   "execution_count": 30,
   "id": "b36c5ad4-e2de-4751-8d02-5f5510ee6346",
   "metadata": {
    "execution": {
     "iopub.execute_input": "2022-06-15T17:08:55.969625Z",
     "iopub.status.busy": "2022-06-15T17:08:55.969102Z",
     "iopub.status.idle": "2022-06-15T17:08:55.973292Z",
     "shell.execute_reply": "2022-06-15T17:08:55.972761Z"
    }
   },
   "outputs": [],
   "source": [
    "yaml_path = gdspath.with_suffix(\".yml\")"
   ]
  },
  {
   "cell_type": "code",
   "execution_count": 31,
   "id": "849dbc8a-d702-4163-bd33-68acf300928b",
   "metadata": {
    "execution": {
     "iopub.execute_input": "2022-06-15T17:08:55.976240Z",
     "iopub.status.busy": "2022-06-15T17:08:55.975751Z",
     "iopub.status.idle": "2022-06-15T17:08:55.986280Z",
     "shell.execute_reply": "2022-06-15T17:08:55.985733Z"
    }
   },
   "outputs": [
    {
     "name": "stderr",
     "output_type": "stream",
     "text": [
      "2022-06-15 17:08:55.983 | INFO     | gdsfactory.mask.write_labels:write_labels:84 - Wrote 18 labels to CSV /home/runner/work/gdsfactory/gdsfactory/docs/notebooks/extra/mask.csv\n"
     ]
    }
   ],
   "source": [
    "labels_path = gf.mask.write_labels(gdspath=gdspath, layer_label=(201, 0))"
   ]
  },
  {
   "cell_type": "code",
   "execution_count": 32,
   "id": "18d44fd2-b9d9-42a5-a563-c8eedf6fa723",
   "metadata": {
    "execution": {
     "iopub.execute_input": "2022-06-15T17:08:55.989154Z",
     "iopub.status.busy": "2022-06-15T17:08:55.988842Z",
     "iopub.status.idle": "2022-06-15T17:08:58.443581Z",
     "shell.execute_reply": "2022-06-15T17:08:58.442481Z"
    }
   },
   "outputs": [],
   "source": [
    "from omegaconf import OmegaConf\n",
    "\n",
    "mask_metadata = OmegaConf.load(yaml_path)"
   ]
  },
  {
   "cell_type": "code",
   "execution_count": 33,
   "id": "92de97d6-064b-45ea-91c5-c8125dba4bb2",
   "metadata": {
    "execution": {
     "iopub.execute_input": "2022-06-15T17:08:58.447382Z",
     "iopub.status.busy": "2022-06-15T17:08:58.446869Z",
     "iopub.status.idle": "2022-06-15T17:08:58.490412Z",
     "shell.execute_reply": "2022-06-15T17:08:58.489435Z"
    }
   },
   "outputs": [],
   "source": [
    "test_metadata = tm = gf.mask.merge_test_metadata(\n",
    "    labels_path=labels_path, mask_metadata=mask_metadata\n",
    ")"
   ]
  },
  {
   "cell_type": "code",
   "execution_count": 34,
   "id": "60c84507-5366-4fa9-8fc8-8850ba344f15",
   "metadata": {
    "execution": {
     "iopub.execute_input": "2022-06-15T17:08:58.493440Z",
     "iopub.status.busy": "2022-06-15T17:08:58.492951Z",
     "iopub.status.idle": "2022-06-15T17:08:58.497860Z",
     "shell.execute_reply": "2022-06-15T17:08:58.497317Z"
    }
   },
   "outputs": [
    {
     "data": {
      "text/plain": [
       "dict_keys(['spiral_inner_io_1554034d', 'spiral_inner_io_53887075', 'spiral_inner_io_cff9290e', 'grating_coupler_ellipti_396d882b', 'grating_coupler_ellipti_54408399', 'grating_coupler_elliptical'])"
      ]
     },
     "execution_count": 34,
     "metadata": {},
     "output_type": "execute_result"
    }
   ],
   "source": [
    "tm.keys()"
   ]
  },
  {
   "cell_type": "markdown",
   "id": "29417bda-84bd-44f2-b562-eead25e70645",
   "metadata": {},
   "source": [
    "```\n",
    "\n",
    "CSV labels  ------|\n",
    "                  |--> merge_test_metadata dict\n",
    "                  |\n",
    "YAML metatada  ---\n",
    "\n",
    "```"
   ]
  },
  {
   "cell_type": "code",
   "execution_count": 35,
   "id": "30a2031d-780d-4ea5-b2df-d06aa170b4c0",
   "metadata": {
    "execution": {
     "iopub.execute_input": "2022-06-15T17:08:58.500848Z",
     "iopub.status.busy": "2022-06-15T17:08:58.500572Z",
     "iopub.status.idle": "2022-06-15T17:08:58.504874Z",
     "shell.execute_reply": "2022-06-15T17:08:58.504312Z"
    }
   },
   "outputs": [
    {
     "data": {
      "text/plain": [
       "['spiral_inner_io_1554034d',\n",
       " 'spiral_inner_io_53887075',\n",
       " 'spiral_inner_io_cff9290e']"
      ]
     },
     "execution_count": 35,
     "metadata": {},
     "output_type": "execute_result"
    }
   ],
   "source": [
    "spiral_names = [s for s in test_metadata.keys() if s.startswith(\"spiral\")]\n",
    "spiral_names"
   ]
  },
  {
   "cell_type": "code",
   "execution_count": 36,
   "id": "ec394506-143b-4831-ae38-06a1d8d5896b",
   "metadata": {
    "execution": {
     "iopub.execute_input": "2022-06-15T17:08:58.507828Z",
     "iopub.status.busy": "2022-06-15T17:08:58.507634Z",
     "iopub.status.idle": "2022-06-15T17:08:58.511753Z",
     "shell.execute_reply": "2022-06-15T17:08:58.511185Z"
    }
   },
   "outputs": [
    {
     "data": {
      "text/plain": [
       "[29999.994, 20000.004, 9999.992]"
      ]
     },
     "execution_count": 36,
     "metadata": {},
     "output_type": "execute_result"
    }
   ],
   "source": [
    "spiral_lengths = [\n",
    "    test_metadata[spiral_name].info.length for spiral_name in spiral_names\n",
    "]\n",
    "spiral_lengths"
   ]
  },
  {
   "cell_type": "code",
   "execution_count": 37,
   "id": "ef3bbdfc-026b-49a6-a5a9-b9c2c7142df5",
   "metadata": {
    "execution": {
     "iopub.execute_input": "2022-06-15T17:08:58.514549Z",
     "iopub.status.busy": "2022-06-15T17:08:58.514343Z",
     "iopub.status.idle": "2022-06-15T17:08:58.518339Z",
     "shell.execute_reply": "2022-06-15T17:08:58.517776Z"
    }
   },
   "outputs": [
    {
     "data": {
      "text/plain": [
       "['grating_coupler_ellipti_396d882b',\n",
       " 'grating_coupler_ellipti_54408399',\n",
       " 'grating_coupler_elliptical']"
      ]
     },
     "execution_count": 37,
     "metadata": {},
     "output_type": "execute_result"
    }
   ],
   "source": [
    "gc_names = [s for s in test_metadata.keys() if s.startswith(\"grating\")]\n",
    "gc_names"
   ]
  },
  {
   "cell_type": "code",
   "execution_count": 38,
   "id": "88fb84ba-b7fb-41e3-956c-b9fb55454f38",
   "metadata": {
    "execution": {
     "iopub.execute_input": "2022-06-15T17:08:58.521127Z",
     "iopub.status.busy": "2022-06-15T17:08:58.520927Z",
     "iopub.status.idle": "2022-06-15T17:08:58.524943Z",
     "shell.execute_reply": "2022-06-15T17:08:58.524378Z"
    }
   },
   "outputs": [
    {
     "data": {
      "text/plain": [
       "[20, 30, 40]"
      ]
     },
     "execution_count": 38,
     "metadata": {},
     "output_type": "execute_result"
    }
   ],
   "source": [
    "gc_taper_angles = [test_metadata[name].full.taper_angle for name in gc_names]\n",
    "gc_taper_angles"
   ]
  },
  {
   "cell_type": "markdown",
   "id": "0c911100-991c-4f6f-8eb9-a3a35704c633",
   "metadata": {},
   "source": [
    "## Component in YAML\n",
    "\n",
    "You can also define your component in YAML format thanks to `gdsfactory.read.from_yaml`\n",
    "\n",
    "You need to define:\n",
    "\n",
    "- instances\n",
    "- placements\n",
    "\n",
    "and you can leverage:\n",
    "\n",
    "1. `pack_doe`\n",
    "2. `pack_doe_grid`"
   ]
  },
  {
   "cell_type": "markdown",
   "id": "7a6853f9-1a3e-4b33-906d-2b11cc2580d8",
   "metadata": {},
   "source": [
    "### 1. pack_doe\n",
    "\n",
    "`pack_doe` places components as compact as possible"
   ]
  },
  {
   "cell_type": "markdown",
   "id": "d2cbd3c8",
   "metadata": {},
   "source": [
    "When running this tutorial make sure you UNCOMMENT this line `%matplotlib widget` so you can live update your changes in the YAML file\n",
    "\n",
    "`# %matplotlib widget`  -> `%matplotlib widget`"
   ]
  },
  {
   "cell_type": "code",
   "execution_count": 39,
   "id": "8c6dbf81",
   "metadata": {
    "execution": {
     "iopub.execute_input": "2022-06-15T17:08:58.528057Z",
     "iopub.status.busy": "2022-06-15T17:08:58.527861Z",
     "iopub.status.idle": "2022-06-15T17:08:59.606938Z",
     "shell.execute_reply": "2022-06-15T17:08:59.606358Z"
    }
   },
   "outputs": [
    {
     "data": {
      "application/vnd.jupyter.widget-view+json": {
       "model_id": "b77b50f1b8bb468593a7234f60d3f4f9",
       "version_major": 2,
       "version_minor": 0
      },
      "text/plain": [
       "Textarea(value='\\nname: mask_grid\\n\\ninstances:\\n  rings:\\n    component: pack_doe\\n    settings:\\n      doe: …"
      ]
     },
     "metadata": {},
     "output_type": "display_data"
    },
    {
     "data": {
      "application/vnd.jupyter.widget-view+json": {
       "model_id": "766bb3f2839e45568ee900631e92f20d",
       "version_major": 2,
       "version_minor": 0
      },
      "text/plain": [
       "Output()"
      ]
     },
     "metadata": {},
     "output_type": "display_data"
    },
    {
     "data": {
      "image/png": "[encoded data removed]",
      "text/plain": [
       "<Figure size 432x288 with 1 Axes>"
      ]
     },
     "metadata": {
      "needs_background": "light"
     },
     "output_type": "display_data"
    }
   ],
   "source": [
    "# %matplotlib widget\n",
    "\n",
    "import ipywidgets\n",
    "from IPython.display import clear_output\n",
    "import matplotlib.pyplot as plt\n",
    "import gdsfactory as gf\n",
    "\n",
    "x = ipywidgets.Textarea(rows=20, columns=480)\n",
    "\n",
    "x.value = \"\"\"\n",
    "name: mask_grid\n",
    "\n",
    "instances:\n",
    "  rings:\n",
    "    component: pack_doe\n",
    "    settings:\n",
    "      doe: ring_single\n",
    "      settings:\n",
    "        radius: [30, 50, 20, 40]\n",
    "        length_x: [1, 2, 3]\n",
    "      do_permutations: True\n",
    "      function:\n",
    "        function: add_fiber_array\n",
    "        settings:\n",
    "            fanout_length: 200\n",
    "\n",
    "  mzis:\n",
    "    component: pack_doe\n",
    "    settings:\n",
    "      doe: mzi\n",
    "      settings:\n",
    "        delta_length: [10, 100]\n",
    "      function: add_fiber_array\n",
    "\n",
    "placements:\n",
    "  rings:\n",
    "    xmin: 50\n",
    "\n",
    "  mzis:\n",
    "    xmin: rings,east\n",
    "\"\"\"\n",
    "\n",
    "out = ipywidgets.Output()\n",
    "display(x, out)\n",
    "\n",
    "\n",
    "def f(change, out=out):\n",
    "    try:\n",
    "        c = gf.read.from_yaml(change[\"new\"])\n",
    "        # clear_output()\n",
    "        fig = c.plot()\n",
    "        c.show()\n",
    "        out.clear_output()\n",
    "    except Exception as e:\n",
    "        out.clear_output()\n",
    "        with out:\n",
    "            display(e)\n",
    "\n",
    "\n",
    "x.observe(f, \"value\")\n",
    "f({\"new\": x.value})"
   ]
  },
  {
   "cell_type": "markdown",
   "id": "6e29d5f3-8ba7-48e8-91a4-3578d7ff18b3",
   "metadata": {},
   "source": [
    "### 2. pack_doe_grid\n",
    "\n",
    "`pack_doe_grid` places each component on a regular grid"
   ]
  },
  {
   "cell_type": "code",
   "execution_count": 40,
   "id": "4c472fea-7a10-46ba-ac63-ae624df8081f",
   "metadata": {
    "execution": {
     "iopub.execute_input": "2022-06-15T17:08:59.611335Z",
     "iopub.status.busy": "2022-06-15T17:08:59.610798Z",
     "iopub.status.idle": "2022-06-15T17:09:00.205632Z",
     "shell.execute_reply": "2022-06-15T17:09:00.205097Z"
    }
   },
   "outputs": [
    {
     "data": {
      "image/png": "[encoded data removed]",
      "text/plain": [
       "<Figure size 432x288 with 1 Axes>"
      ]
     },
     "metadata": {
      "needs_background": "light"
     },
     "output_type": "display_data"
    },
    {
     "data": {
      "application/vnd.jupyter.widget-view+json": {
       "model_id": "b77b50f1b8bb468593a7234f60d3f4f9",
       "version_major": 2,
       "version_minor": 0
      },
      "text/plain": [
       "Textarea(value='\\nname: mask_compact\\n\\ninstances:\\n  rings:\\n    component: pack_doe\\n    settings:\\n      do…"
      ]
     },
     "metadata": {},
     "output_type": "display_data"
    },
    {
     "data": {
      "application/vnd.jupyter.widget-view+json": {
       "model_id": "766bb3f2839e45568ee900631e92f20d",
       "version_major": 2,
       "version_minor": 0
      },
      "text/plain": [
       "Output()"
      ]
     },
     "metadata": {},
     "output_type": "display_data"
    }
   ],
   "source": [
    "x.value = \"\"\"\n",
    "name: mask_compact\n",
    "\n",
    "instances:\n",
    "  rings:\n",
    "    component: pack_doe\n",
    "    settings:\n",
    "      doe: ring_single\n",
    "      settings:\n",
    "        radius: [30, 50, 20, 40]\n",
    "        length_x: [1, 2, 3]\n",
    "      do_permutations: True\n",
    "      function:\n",
    "        function: add_fiber_array\n",
    "        settings:\n",
    "            fanout_length: 200\n",
    "\n",
    "\n",
    "  mzis:\n",
    "    component: pack_doe_grid\n",
    "    settings:\n",
    "      doe: mzi\n",
    "      settings:\n",
    "        delta_length: [10, 100]\n",
    "      do_permutations: True\n",
    "      spacing: [10, 10]\n",
    "      function: add_fiber_array\n",
    "\n",
    "placements:\n",
    "  rings:\n",
    "    xmin: 50\n",
    "\n",
    "  mzis:\n",
    "    xmin: rings,east\n",
    "\"\"\"\n",
    "\n",
    "display(x, out)"
   ]
  }
 ],
 "metadata": {
  "kernelspec": {
   "display_name": "Python 3 (ipykernel)",
   "language": "python",
   "name": "python3"
  },
  "language_info": {
   "codemirror_mode": {
    "name": "ipython",
    "version": 3
   },
   "file_extension": ".py",
   "mimetype": "text/x-python",
   "name": "python",
   "nbconvert_exporter": "python",
   "pygments_lexer": "ipython3",
   "version": "3.9.13"
  },
  "widgets": {
   "application/vnd.jupyter.widget-state+json": {
    "state": {
     "454edadf5dab4645977701f2240f6679": {
      "model_module": "@jupyter-widgets/base",
      "model_module_version": "1.2.0",
      "model_name": "LayoutModel",
      "state": {
       "_model_module": "@jupyter-widgets/base",
       "_model_module_version": "1.2.0",
       "_model_name": "LayoutModel",
       "_view_count": null,
       "_view_module": "@jupyter-widgets/base",
       "_view_module_version": "1.2.0",
       "_view_name": "LayoutView",
       "align_content": null,
       "align_items": null,
       "align_self": null,
       "border": null,
       "bottom": null,
       "display": null,
       "flex": null,
       "flex_flow": null,
       "grid_area": null,
       "grid_auto_columns": null,
       "grid_auto_flow": null,
       "grid_auto_rows": null,
       "grid_column": null,
       "grid_gap": null,
       "grid_row": null,
       "grid_template_areas": null,
       "grid_template_columns": null,
       "grid_template_rows": null,
       "height": null,
       "justify_content": null,
       "justify_items": null,
       "left": null,
       "margin": null,
       "max_height": null,
       "max_width": null,
       "min_height": null,
       "min_width": null,
       "object_fit": null,
       "object_position": null,
       "order": null,
       "overflow": null,
       "overflow_x": null,
       "overflow_y": null,
       "padding": null,
       "right": null,
       "top": null,
       "visibility": null,
       "width": null
      }
     },
     "69993b19867b4fc99c1b496449be3dc4": {
      "model_module": "@jupyter-widgets/controls",
      "model_module_version": "1.5.0",
      "model_name": "DescriptionStyleModel",
      "state": {
       "_model_module": "@jupyter-widgets/controls",
       "_model_module_version": "1.5.0",
       "_model_name": "DescriptionStyleModel",
       "_view_count": null,
       "_view_module": "@jupyter-widgets/base",
       "_view_module_version": "1.2.0",
       "_view_name": "StyleView",
       "description_width": ""
      }
     },
     "766bb3f2839e45568ee900631e92f20d": {
      "model_module": "@jupyter-widgets/output",
      "model_module_version": "1.0.0",
      "model_name": "OutputModel",
      "state": {
       "_dom_classes": [],
       "_model_module": "@jupyter-widgets/output",
       "_model_module_version": "1.0.0",
       "_model_name": "OutputModel",
       "_view_count": null,
       "_view_module": "@jupyter-widgets/output",
       "_view_module_version": "1.0.0",
       "_view_name": "OutputView",
       "layout": "IPY_MODEL_7ae162eaa2234656818cc765e6e6e209",
       "msg_id": "",
       "outputs": []
      }
     },
     "7ae162eaa2234656818cc765e6e6e209": {
      "model_module": "@jupyter-widgets/base",
      "model_module_version": "1.2.0",
      "model_name": "LayoutModel",
      "state": {
       "_model_module": "@jupyter-widgets/base",
       "_model_module_version": "1.2.0",
       "_model_name": "LayoutModel",
       "_view_count": null,
       "_view_module": "@jupyter-widgets/base",
       "_view_module_version": "1.2.0",
       "_view_name": "LayoutView",
       "align_content": null,
       "align_items": null,
       "align_self": null,
       "border": null,
       "bottom": null,
       "display": null,
       "flex": null,
       "flex_flow": null,
       "grid_area": null,
       "grid_auto_columns": null,
       "grid_auto_flow": null,
       "grid_auto_rows": null,
       "grid_column": null,
       "grid_gap": null,
       "grid_row": null,
       "grid_template_areas": null,
       "grid_template_columns": null,
       "grid_template_rows": null,
       "height": null,
       "justify_content": null,
       "justify_items": null,
       "left": null,
       "margin": null,
       "max_height": null,
       "max_width": null,
       "min_height": null,
       "min_width": null,
       "object_fit": null,
       "object_position": null,
       "order": null,
       "overflow": null,
       "overflow_x": null,
       "overflow_y": null,
       "padding": null,
       "right": null,
       "top": null,
       "visibility": null,
       "width": null
      }
     },
     "b77b50f1b8bb468593a7234f60d3f4f9": {
      "model_module": "@jupyter-widgets/controls",
      "model_module_version": "1.5.0",
      "model_name": "TextareaModel",
      "state": {
       "_dom_classes": [],
       "_model_module": "@jupyter-widgets/controls",
       "_model_module_version": "1.5.0",
       "_model_name": "TextareaModel",
       "_view_count": null,
       "_view_module": "@jupyter-widgets/controls",
       "_view_module_version": "1.5.0",
       "_view_name": "TextareaView",
       "continuous_update": true,
       "description": "",
       "description_tooltip": null,
       "disabled": false,
       "layout": "IPY_MODEL_454edadf5dab4645977701f2240f6679",
       "placeholder": "​",
       "rows": 20,
       "style": "IPY_MODEL_69993b19867b4fc99c1b496449be3dc4",
       "value": "\nname: mask_compact\n\ninstances:\n  rings:\n    component: pack_doe\n    settings:\n      doe: ring_single\n      settings:\n        radius: [30, 50, 20, 40]\n        length_x: [1, 2, 3]\n      do_permutations: True\n      function:\n        function: add_fiber_array\n        settings:\n            fanout_length: 200\n\n\n  mzis:\n    component: pack_doe_grid\n    settings:\n      doe: mzi\n      settings:\n        delta_length: [10, 100]\n      do_permutations: True\n      spacing: [10, 10]\n      function: add_fiber_array\n\nplacements:\n  rings:\n    xmin: 50\n\n  mzis:\n    xmin: rings,east\n"
      }
     }
    },
    "version_major": 2,
    "version_minor": 0
   }
  }
 },
 "nbformat": 4,
 "nbformat_minor": 5
}
