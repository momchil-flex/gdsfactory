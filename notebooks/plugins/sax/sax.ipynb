{
 "cells": [
  {
   "cell_type": "markdown",
   "id": "1fa09f47-ec17-4d2f-abf1-94400b45731a",
   "metadata": {},
   "source": [
    "# SAX circuit simulator\n",
    "\n",
    "[SAX](https://flaport.github.io/sax/) is a circuit solver written in JAX, writing your component models in SAX enables you not only to get the function values but the gradients, this is useful for circuit optimization.\n",
    "\n",
    "This tutorial has been adapted from SAX tutorial.\n",
    "\n",
    "Note that SAX does not work on Windows, so if you use windows you'll need to run from [WSL](https://docs.microsoft.com/en-us/windows/wsl/) or using docker.\n",
    "\n",
    "You can install sax with pip\n",
    "\n",
    "```\n",
    "! pip install sax\n",
    "```"
   ]
  },
  {
   "cell_type": "code",
   "execution_count": 1,
   "id": "0cbb9797-1aa0-4864-8fd4-bdf6b8718b0c",
   "metadata": {
    "execution": {
     "iopub.execute_input": "2022-06-15T17:10:43.963981Z",
     "iopub.status.busy": "2022-06-15T17:10:43.963737Z",
     "iopub.status.idle": "2022-06-15T17:10:46.574153Z",
     "shell.execute_reply": "2022-06-15T17:10:46.573675Z"
    }
   },
   "outputs": [
    {
     "name": "stderr",
     "output_type": "stream",
     "text": [
      "2022-06-15 17:10:44.800 | INFO     | gdsfactory.config:<module>:52 - Load '/home/runner/work/gdsfactory/gdsfactory/gdsfactory' 5.10.3\n"
     ]
    },
    {
     "name": "stderr",
     "output_type": "stream",
     "text": [
      "2022-06-15 17:10:46.571 | INFO     | gdsfactory.simulation.gmeep:<module>:28 - Meep '1.23.0' installed at ['/usr/share/miniconda/envs/anaconda-client-env/lib/python3.9/site-packages/meep']\n"
     ]
    },
    {
     "name": "stdout",
     "output_type": "stream",
     "text": [
      "Using MPI version 4.0, 1 processes\n"
     ]
    }
   ],
   "source": [
    "import gdsfactory as gf\n",
    "import gdsfactory.simulation.sax as gs\n",
    "import gdsfactory.simulation.modes as gm\n",
    "import matplotlib.pyplot as plt\n",
    "import sax"
   ]
  },
  {
   "cell_type": "markdown",
   "id": "acb023da-1990-4e35-b760-e837ca799d1c",
   "metadata": {},
   "source": [
    "## Scatter *dictionaries*\n",
    "\n",
    "The core datastructure for specifying scatter parameters in SAX is a dictionary... more specifically a dictionary which maps a port combination (2-tuple) to a scatter parameter (or an array of scatter parameters when considering multiple wavelengths for example). Such a specific dictionary mapping is called ann `SDict` in SAX (`SDict ≈ Dict[Tuple[str,str], float]`).\n",
    "\n",
    "Dictionaries are in fact much better suited for characterizing S-parameters than, say, (jax-)numpy arrays due to the inherent sparse nature of scatter parameters. Moreover, dictonaries allow for string indexing, which makes them much more pleasant to use in this context.\n",
    "\n",
    "```\n",
    "o2            o3\n",
    "   \\        /\n",
    "    ========\n",
    "   /        \\\n",
    "o1            o4\n",
    "```"
   ]
  },
  {
   "cell_type": "code",
   "execution_count": 2,
   "id": "2baac9ad-7e2d-4c8e-993c-528928c9f35a",
   "metadata": {
    "execution": {
     "iopub.execute_input": "2022-06-15T17:10:46.577468Z",
     "iopub.status.busy": "2022-06-15T17:10:46.576967Z",
     "iopub.status.idle": "2022-06-15T17:10:46.589311Z",
     "shell.execute_reply": "2022-06-15T17:10:46.588750Z"
    }
   },
   "outputs": [
    {
     "data": {
      "text/plain": [
       "{('o1', 'o4'): 0.7071067811865476,\n",
       " ('o4', 'o1'): 0.7071067811865476,\n",
       " ('o1', 'o3'): 0.7071067811865476j,\n",
       " ('o3', 'o1'): 0.7071067811865476j,\n",
       " ('o2', 'o4'): 0.7071067811865476j,\n",
       " ('o4', 'o2'): 0.7071067811865476j,\n",
       " ('o2', 'o3'): 0.7071067811865476,\n",
       " ('o3', 'o2'): 0.7071067811865476}"
      ]
     },
     "execution_count": 2,
     "metadata": {},
     "output_type": "execute_result"
    }
   ],
   "source": [
    "coupling = 0.5\n",
    "kappa = coupling**0.5\n",
    "tau = (1 - coupling) ** 0.5\n",
    "coupler_dict = {\n",
    "    (\"o1\", \"o4\"): tau,\n",
    "    (\"o4\", \"o1\"): tau,\n",
    "    (\"o1\", \"o3\"): 1j * kappa,\n",
    "    (\"o3\", \"o1\"): 1j * kappa,\n",
    "    (\"o2\", \"o4\"): 1j * kappa,\n",
    "    (\"o4\", \"o2\"): 1j * kappa,\n",
    "    (\"o2\", \"o3\"): tau,\n",
    "    (\"o3\", \"o2\"): tau,\n",
    "}\n",
    "coupler_dict"
   ]
  },
  {
   "cell_type": "markdown",
   "id": "fb6213ba-b169-4b16-8a9b-f38fb1bd918a",
   "metadata": {},
   "source": [
    " it can still be tedious to specify every port in the circuit manually. SAX therefore offers the `reciprocal` function, which auto-fills the reverse connection if the forward connection exist. For example:"
   ]
  },
  {
   "cell_type": "code",
   "execution_count": 3,
   "id": "f62d8110-7f6f-4b88-8167-ffbcdad36019",
   "metadata": {
    "execution": {
     "iopub.execute_input": "2022-06-15T17:10:46.593359Z",
     "iopub.status.busy": "2022-06-15T17:10:46.592130Z",
     "iopub.status.idle": "2022-06-15T17:10:46.599197Z",
     "shell.execute_reply": "2022-06-15T17:10:46.598683Z"
    }
   },
   "outputs": [
    {
     "data": {
      "text/plain": [
       "{('o1', 'o4'): 0.7071067811865476,\n",
       " ('o1', 'o3'): 0.7071067811865476j,\n",
       " ('o2', 'o4'): 0.7071067811865476j,\n",
       " ('o2', 'o3'): 0.7071067811865476,\n",
       " ('o4', 'o1'): 0.7071067811865476,\n",
       " ('o3', 'o1'): 0.7071067811865476j,\n",
       " ('o4', 'o2'): 0.7071067811865476j,\n",
       " ('o3', 'o2'): 0.7071067811865476}"
      ]
     },
     "execution_count": 3,
     "metadata": {},
     "output_type": "execute_result"
    }
   ],
   "source": [
    "coupler_dict = sax.reciprocal(\n",
    "    {\n",
    "        (\"o1\", \"o4\"): tau,\n",
    "        (\"o1\", \"o3\"): 1j * kappa,\n",
    "        (\"o2\", \"o4\"): 1j * kappa,\n",
    "        (\"o2\", \"o3\"): tau,\n",
    "    }\n",
    ")\n",
    "\n",
    "coupler_dict"
   ]
  },
  {
   "cell_type": "markdown",
   "id": "12f9ab3f-8645-4aee-80ac-c6946a9d657e",
   "metadata": {},
   "source": [
    "## Parametrized Models\n",
    "\n",
    "Constructing such an `SDict` is easy, however, usually we're more interested in having parametrized models for our components. To parametrize the coupler `SDict`, just wrap it in a function to obtain a SAX `Model`, which is a keyword-only function mapping to an `SDict`:"
   ]
  },
  {
   "cell_type": "code",
   "execution_count": 4,
   "id": "9aacbe90-b8d7-4cbd-bdad-309e7d34cffa",
   "metadata": {
    "execution": {
     "iopub.execute_input": "2022-06-15T17:10:46.601916Z",
     "iopub.status.busy": "2022-06-15T17:10:46.601700Z",
     "iopub.status.idle": "2022-06-15T17:10:46.608939Z",
     "shell.execute_reply": "2022-06-15T17:10:46.608390Z"
    }
   },
   "outputs": [
    {
     "data": {
      "text/plain": [
       "{('o1', 'o4'): 0.8366600265340756,\n",
       " ('o1', 'o3'): 0.5477225575051661j,\n",
       " ('o2', 'o4'): 0.5477225575051661j,\n",
       " ('o2', 'o3'): 0.8366600265340756,\n",
       " ('o4', 'o1'): 0.8366600265340756,\n",
       " ('o3', 'o1'): 0.5477225575051661j,\n",
       " ('o4', 'o2'): 0.5477225575051661j,\n",
       " ('o3', 'o2'): 0.8366600265340756}"
      ]
     },
     "execution_count": 4,
     "metadata": {},
     "output_type": "execute_result"
    }
   ],
   "source": [
    "def coupler(coupling=0.5) -> sax.SDict:\n",
    "    kappa = coupling**0.5\n",
    "    tau = (1 - coupling) ** 0.5\n",
    "    return sax.reciprocal(\n",
    "        {\n",
    "            (\"o1\", \"o4\"): tau,\n",
    "            (\"o1\", \"o3\"): 1j * kappa,\n",
    "            (\"o2\", \"o4\"): 1j * kappa,\n",
    "            (\"o2\", \"o3\"): tau,\n",
    "        }\n",
    "    )\n",
    "\n",
    "\n",
    "coupler(coupling=0.3)"
   ]
  },
  {
   "cell_type": "code",
   "execution_count": 5,
   "id": "cc3ccb8f-6154-4cd7-8ce0-9b1a5aa8f581",
   "metadata": {
    "execution": {
     "iopub.execute_input": "2022-06-15T17:10:46.611516Z",
     "iopub.status.busy": "2022-06-15T17:10:46.611319Z",
     "iopub.status.idle": "2022-06-15T17:10:46.616295Z",
     "shell.execute_reply": "2022-06-15T17:10:46.615766Z"
    }
   },
   "outputs": [],
   "source": [
    "def waveguide(wl=1.55, wl0=1.55, neff=2.34, ng=3.4, length=10.0, loss=0.0) -> sax.SDict:\n",
    "    dwl = wl - wl0\n",
    "    dneff_dwl = (ng - neff) / wl0\n",
    "    neff = neff - dwl * dneff_dwl\n",
    "    phase = 2 * jnp.pi * neff * length / wl\n",
    "    transmission = 10 ** (-loss * length / 20) * jnp.exp(1j * phase)\n",
    "    return sax.reciprocal(\n",
    "        {\n",
    "            (\"o1\", \"o2\"): transmission,\n",
    "        }\n",
    "    )"
   ]
  },
  {
   "cell_type": "markdown",
   "id": "7e9ca43d-8182-4443-be8d-8c7213a26ed7",
   "metadata": {},
   "source": [
    "## Component Models\n",
    "\n",
    "### Waveguide model\n",
    "\n",
    "You can create a dispersive waveguide model in SAX."
   ]
  },
  {
   "cell_type": "markdown",
   "id": "1432d022-d9da-4f5c-8089-0ace00c1461d",
   "metadata": {},
   "source": [
    "Lets compute the effective index `neff` and group index `ng` for a 1550nm 500nm straight waveguide"
   ]
  },
  {
   "cell_type": "code",
   "execution_count": 6,
   "id": "b9dd95bd-8942-480a-97e2-b481bf256499",
   "metadata": {
    "execution": {
     "iopub.execute_input": "2022-06-15T17:10:46.618883Z",
     "iopub.status.busy": "2022-06-15T17:10:46.618674Z",
     "iopub.status.idle": "2022-06-15T17:10:46.630494Z",
     "shell.execute_reply": "2022-06-15T17:10:46.630035Z"
    }
   },
   "outputs": [
    {
     "name": "stdout",
     "output_type": "stream",
     "text": [
      "2.3638584286954814 4.251242165908622\n"
     ]
    }
   ],
   "source": [
    "m = gm.find_mode_dispersion(wavelength=1.55)\n",
    "print(m.neff, m.ng)"
   ]
  },
  {
   "cell_type": "code",
   "execution_count": 7,
   "id": "c2c01486-7d98-4240-9c82-ef6ae112bc34",
   "metadata": {
    "execution": {
     "iopub.execute_input": "2022-06-15T17:10:46.633215Z",
     "iopub.status.busy": "2022-06-15T17:10:46.632845Z",
     "iopub.status.idle": "2022-06-15T17:10:46.636156Z",
     "shell.execute_reply": "2022-06-15T17:10:46.635563Z"
    }
   },
   "outputs": [],
   "source": [
    "straight_sc = gf.partial(gs.models.straight, neff=m.neff, ng=m.ng)"
   ]
  },
  {
   "cell_type": "code",
   "execution_count": 8,
   "id": "b984b918-7b58-44b7-b8f1-32a19ad7f46a",
   "metadata": {
    "execution": {
     "iopub.execute_input": "2022-06-15T17:10:46.638787Z",
     "iopub.status.busy": "2022-06-15T17:10:46.638285Z",
     "iopub.status.idle": "2022-06-15T17:10:46.806629Z",
     "shell.execute_reply": "2022-06-15T17:10:46.806085Z"
    }
   },
   "outputs": [
    {
     "name": "stderr",
     "output_type": "stream",
     "text": [
      "/usr/share/miniconda/envs/anaconda-client-env/lib/python3.9/site-packages/jax/_src/numpy/lax_numpy.py:1882: UserWarning: Explicitly requested dtype <class 'complex'> requested in asarray is not available, and will be truncated to dtype complex64. To enable more dtypes, set the jax_enable_x64 configuration option or the JAX_ENABLE_X64 shell environment variable. See https://github.com/google/jax#current-gotchas for more.\n",
      "  lax_internal._check_user_dtype_supported(dtype, \"asarray\")\n",
      "WARNING:absl:No GPU/TPU found, falling back to CPU. (Set TF_CPP_MIN_LOG_LEVEL=0 and rerun for more info.)\n"
     ]
    },
    {
     "data": {
      "text/plain": [
       "(-1.0, 1.0)"
      ]
     },
     "execution_count": 8,
     "metadata": {},
     "output_type": "execute_result"
    },
    {
     "data": {
      "image/png": "[encoded data removed]",
      "text/plain": [
       "<Figure size 432x288 with 1 Axes>"
      ]
     },
     "metadata": {
      "needs_background": "light"
     },
     "output_type": "display_data"
    }
   ],
   "source": [
    "gs.plot_model(straight_sc)\n",
    "plt.ylim(-1, 1)"
   ]
  },
  {
   "cell_type": "code",
   "execution_count": 9,
   "id": "cd9cf620-92df-4e3a-a584-7417223a062c",
   "metadata": {
    "execution": {
     "iopub.execute_input": "2022-06-15T17:10:46.809800Z",
     "iopub.status.busy": "2022-06-15T17:10:46.809582Z",
     "iopub.status.idle": "2022-06-15T17:10:46.909628Z",
     "shell.execute_reply": "2022-06-15T17:10:46.909121Z"
    }
   },
   "outputs": [
    {
     "data": {
      "text/plain": [
       "<AxesSubplot:title={'center':'o1'}, xlabel='wavelength (nm)', ylabel='angle (rad)'>"
      ]
     },
     "execution_count": 9,
     "metadata": {},
     "output_type": "execute_result"
    },
    {
     "data": {
      "image/png": "[encoded data removed]",
      "text/plain": [
       "<Figure size 432x288 with 1 Axes>"
      ]
     },
     "metadata": {
      "needs_background": "light"
     },
     "output_type": "display_data"
    }
   ],
   "source": [
    "gs.plot_model(straight_sc, phase=True)"
   ]
  },
  {
   "cell_type": "markdown",
   "id": "4f665628-5cab-4e25-80a7-35642cbe92d5",
   "metadata": {},
   "source": [
    "### Coupler model"
   ]
  },
  {
   "cell_type": "code",
   "execution_count": 10,
   "id": "281b0de1-ceae-4e04-a004-4de0c94b3bdd",
   "metadata": {
    "execution": {
     "iopub.execute_input": "2022-06-15T17:10:46.912500Z",
     "iopub.status.busy": "2022-06-15T17:10:46.912093Z",
     "iopub.status.idle": "2022-06-15T17:10:46.952890Z",
     "shell.execute_reply": "2022-06-15T17:10:46.952267Z"
    }
   },
   "outputs": [],
   "source": [
    "gm.find_coupling_vs_gap?"
   ]
  },
  {
   "cell_type": "code",
   "execution_count": 11,
   "id": "fb877b9f-a86c-4aa9-973b-5ee361b6dbd5",
   "metadata": {
    "execution": {
     "iopub.execute_input": "2022-06-15T17:10:46.955642Z",
     "iopub.status.busy": "2022-06-15T17:10:46.955436Z",
     "iopub.status.idle": "2022-06-15T17:10:46.993514Z",
     "shell.execute_reply": "2022-06-15T17:10:46.992950Z"
    }
   },
   "outputs": [
    {
     "name": "stderr",
     "output_type": "stream",
     "text": [
      "\r",
      "  0%|          | 0/12 [00:00<?, ?it/s]"
     ]
    },
    {
     "name": "stderr",
     "output_type": "stream",
     "text": [
      "\r",
      "100%|██████████| 12/12 [00:00<00:00, 551.65it/s]"
     ]
    },
    {
     "name": "stderr",
     "output_type": "stream",
     "text": [
      "\n"
     ]
    },
    {
     "data": {
      "text/html": [
       "<div>\n",
       "<style scoped>\n",
       "    .dataframe tbody tr th:only-of-type {\n",
       "        vertical-align: middle;\n",
       "    }\n",
       "\n",
       "    .dataframe tbody tr th {\n",
       "        vertical-align: top;\n",
       "    }\n",
       "\n",
       "    .dataframe thead th {\n",
       "        text-align: right;\n",
       "    }\n",
       "</style>\n",
       "<table border=\"1\" class=\"dataframe\">\n",
       "  <thead>\n",
       "    <tr style=\"text-align: right;\">\n",
       "      <th></th>\n",
       "      <th>gap</th>\n",
       "      <th>ne</th>\n",
       "      <th>no</th>\n",
       "      <th>lc</th>\n",
       "      <th>dn</th>\n",
       "    </tr>\n",
       "  </thead>\n",
       "  <tbody>\n",
       "    <tr>\n",
       "      <th>0</th>\n",
       "      <td>0.200000</td>\n",
       "      <td>2.457894</td>\n",
       "      <td>2.437607</td>\n",
       "      <td>38.201198</td>\n",
       "      <td>0.020287</td>\n",
       "    </tr>\n",
       "    <tr>\n",
       "      <th>1</th>\n",
       "      <td>0.218182</td>\n",
       "      <td>2.459028</td>\n",
       "      <td>2.441121</td>\n",
       "      <td>43.278893</td>\n",
       "      <td>0.017907</td>\n",
       "    </tr>\n",
       "    <tr>\n",
       "      <th>2</th>\n",
       "      <td>0.236364</td>\n",
       "      <td>2.452195</td>\n",
       "      <td>2.437659</td>\n",
       "      <td>53.318206</td>\n",
       "      <td>0.014535</td>\n",
       "    </tr>\n",
       "    <tr>\n",
       "      <th>3</th>\n",
       "      <td>0.254545</td>\n",
       "      <td>2.451946</td>\n",
       "      <td>2.439549</td>\n",
       "      <td>62.514018</td>\n",
       "      <td>0.012397</td>\n",
       "    </tr>\n",
       "    <tr>\n",
       "      <th>4</th>\n",
       "      <td>0.272727</td>\n",
       "      <td>2.451248</td>\n",
       "      <td>2.441058</td>\n",
       "      <td>76.053858</td>\n",
       "      <td>0.010190</td>\n",
       "    </tr>\n",
       "    <tr>\n",
       "      <th>5</th>\n",
       "      <td>0.290909</td>\n",
       "      <td>2.451491</td>\n",
       "      <td>2.442325</td>\n",
       "      <td>84.553535</td>\n",
       "      <td>0.009166</td>\n",
       "    </tr>\n",
       "    <tr>\n",
       "      <th>6</th>\n",
       "      <td>0.309091</td>\n",
       "      <td>2.449447</td>\n",
       "      <td>2.441517</td>\n",
       "      <td>97.723696</td>\n",
       "      <td>0.007931</td>\n",
       "    </tr>\n",
       "    <tr>\n",
       "      <th>7</th>\n",
       "      <td>0.327273</td>\n",
       "      <td>2.447256</td>\n",
       "      <td>2.440698</td>\n",
       "      <td>118.168160</td>\n",
       "      <td>0.006558</td>\n",
       "    </tr>\n",
       "    <tr>\n",
       "      <th>8</th>\n",
       "      <td>0.345455</td>\n",
       "      <td>2.451715</td>\n",
       "      <td>2.446248</td>\n",
       "      <td>141.751936</td>\n",
       "      <td>0.005467</td>\n",
       "    </tr>\n",
       "    <tr>\n",
       "      <th>9</th>\n",
       "      <td>0.363636</td>\n",
       "      <td>2.451128</td>\n",
       "      <td>2.446210</td>\n",
       "      <td>157.608710</td>\n",
       "      <td>0.004917</td>\n",
       "    </tr>\n",
       "    <tr>\n",
       "      <th>10</th>\n",
       "      <td>0.381818</td>\n",
       "      <td>2.445577</td>\n",
       "      <td>2.441408</td>\n",
       "      <td>185.893679</td>\n",
       "      <td>0.004169</td>\n",
       "    </tr>\n",
       "    <tr>\n",
       "      <th>11</th>\n",
       "      <td>0.400000</td>\n",
       "      <td>2.445128</td>\n",
       "      <td>2.441678</td>\n",
       "      <td>224.665375</td>\n",
       "      <td>0.003450</td>\n",
       "    </tr>\n",
       "  </tbody>\n",
       "</table>\n",
       "</div>"
      ],
      "text/plain": [
       "         gap        ne        no          lc        dn\n",
       "0   0.200000  2.457894  2.437607   38.201198  0.020287\n",
       "1   0.218182  2.459028  2.441121   43.278893  0.017907\n",
       "2   0.236364  2.452195  2.437659   53.318206  0.014535\n",
       "3   0.254545  2.451946  2.439549   62.514018  0.012397\n",
       "4   0.272727  2.451248  2.441058   76.053858  0.010190\n",
       "5   0.290909  2.451491  2.442325   84.553535  0.009166\n",
       "6   0.309091  2.449447  2.441517   97.723696  0.007931\n",
       "7   0.327273  2.447256  2.440698  118.168160  0.006558\n",
       "8   0.345455  2.451715  2.446248  141.751936  0.005467\n",
       "9   0.363636  2.451128  2.446210  157.608710  0.004917\n",
       "10  0.381818  2.445577  2.441408  185.893679  0.004169\n",
       "11  0.400000  2.445128  2.441678  224.665375  0.003450"
      ]
     },
     "execution_count": 11,
     "metadata": {},
     "output_type": "execute_result"
    }
   ],
   "source": [
    "df = gm.find_coupling_vs_gap()\n",
    "df"
   ]
  },
  {
   "cell_type": "markdown",
   "id": "3cc34541-5f73-462f-a3e6-42b56d7f3b7b",
   "metadata": {},
   "source": [
    "For a 200nm gap the effective index difference `dn` is `0.02`, which means that there is 100% power coupling over 38.2um"
   ]
  },
  {
   "cell_type": "code",
   "execution_count": 12,
   "id": "6b041d26-1246-4c3d-80c9-60c5eb838e08",
   "metadata": {
    "execution": {
     "iopub.execute_input": "2022-06-15T17:10:46.996320Z",
     "iopub.status.busy": "2022-06-15T17:10:46.996100Z",
     "iopub.status.idle": "2022-06-15T17:10:47.170707Z",
     "shell.execute_reply": "2022-06-15T17:10:47.170186Z"
    }
   },
   "outputs": [
    {
     "data": {
      "text/plain": [
       "<AxesSubplot:title={'center':'o1'}, xlabel='wavelength (nm)', ylabel='|S (dB)|'>"
      ]
     },
     "execution_count": 12,
     "metadata": {},
     "output_type": "execute_result"
    },
    {
     "data": {
      "image/png": "[encoded data removed]",
      "text/plain": [
       "<Figure size 432x288 with 1 Axes>"
      ]
     },
     "metadata": {
      "needs_background": "light"
     },
     "output_type": "display_data"
    }
   ],
   "source": [
    "coupler_sc = gf.partial(gs.models.coupler, dn=0.02, length=0, coupling0=0)\n",
    "gs.plot_model(coupler_sc)"
   ]
  },
  {
   "cell_type": "markdown",
   "id": "054c1248-bd96-4192-892f-981b4c6f121d",
   "metadata": {},
   "source": [
    "If we ignore the coupling from the bend `coupling0 = 0` we know that for a 3dB coupling we need half of the `lc` length, which is the length needed to coupler `100%` of power."
   ]
  },
  {
   "cell_type": "code",
   "execution_count": 13,
   "id": "193184a3-ff6c-403c-b456-d43f45b1b1cd",
   "metadata": {
    "execution": {
     "iopub.execute_input": "2022-06-15T17:10:47.174158Z",
     "iopub.status.busy": "2022-06-15T17:10:47.173796Z",
     "iopub.status.idle": "2022-06-15T17:10:47.283885Z",
     "shell.execute_reply": "2022-06-15T17:10:47.283377Z"
    }
   },
   "outputs": [
    {
     "data": {
      "text/plain": [
       "<AxesSubplot:title={'center':'o1'}, xlabel='wavelength (nm)', ylabel='|S (dB)|'>"
      ]
     },
     "execution_count": 13,
     "metadata": {},
     "output_type": "execute_result"
    },
    {
     "data": {
      "image/png": "[encoded data removed]",
      "text/plain": [
       "<Figure size 432x288 with 1 Axes>"
      ]
     },
     "metadata": {
      "needs_background": "light"
     },
     "output_type": "display_data"
    }
   ],
   "source": [
    "coupler_sc = gf.partial(gs.models.coupler, dn=0.02, length=38.2 / 2, coupling0=0)\n",
    "gs.plot_model(coupler_sc)"
   ]
  },
  {
   "cell_type": "markdown",
   "id": "9e0c22d4-16f7-4150-bb27-da05a6b8a003",
   "metadata": {},
   "source": [
    "### FDTD Sparameters model\n",
    "\n",
    "You can also fit a model from Sparameter FDTD simulation data."
   ]
  },
  {
   "cell_type": "code",
   "execution_count": 14,
   "id": "fe47c03f-ee34-44d5-a5d7-1e2c9cb5cd4b",
   "metadata": {
    "execution": {
     "iopub.execute_input": "2022-06-15T17:10:47.287183Z",
     "iopub.status.busy": "2022-06-15T17:10:47.286540Z",
     "iopub.status.idle": "2022-06-15T17:10:47.421701Z",
     "shell.execute_reply": "2022-06-15T17:10:47.421117Z"
    }
   },
   "outputs": [
    {
     "data": {
      "text/plain": [
       "<AxesSubplot:title={'center':'o1'}, xlabel='wavelength (nm)', ylabel='|S (dB)|'>"
      ]
     },
     "execution_count": 14,
     "metadata": {},
     "output_type": "execute_result"
    },
    {
     "data": {
      "image/png": "[encoded data removed]",
      "text/plain": [
       "<Figure size 432x288 with 1 Axes>"
      ]
     },
     "metadata": {
      "needs_background": "light"
     },
     "output_type": "display_data"
    }
   ],
   "source": [
    "from gdsfactory.simulation.get_sparameters_path import get_sparameters_path_lumerical\n",
    "\n",
    "filepath = get_sparameters_path_lumerical(gf.c.mmi1x2)\n",
    "mmi1x2 = gf.partial(gs.read.sdict_from_csv, filepath=filepath)\n",
    "gs.plot_model(mmi1x2)"
   ]
  },
  {
   "cell_type": "markdown",
   "id": "9e30b544-85d7-4285-ac4e-d5c43140d139",
   "metadata": {},
   "source": [
    "## Circuit Models\n",
    "\n",
    "You can combine component models into a circuit using `sax.circuit`, which basically creates a new `Model` function:\n",
    "\n",
    "Lets define an [MZI interferometer](https://en.wikipedia.org/wiki/Mach%E2%80%93Zehnder_interferometer)\n",
    "\n",
    "- two couplers (rgt, lft) right and left\n",
    "- two waveguides (top, bot)\n",
    " \n",
    "```\n",
    "           _________\n",
    "          |  top    |\n",
    "          |         |\n",
    "    lft===|         |===rgt\n",
    "          |         |\n",
    "          |_________|\n",
    "             bot\n",
    "\n",
    "               o1    top   o2\n",
    "                 ----------\n",
    "o2            o3           o2            o3\n",
    "   \\        /                 \\        /\n",
    "    ========                   ========\n",
    "   /        \\                 /        \\\n",
    "o1     lft    04           o1    rgt     04\n",
    "                 ----------\n",
    "               o1   bot    o2\n",
    "```"
   ]
  },
  {
   "cell_type": "code",
   "execution_count": 15,
   "id": "1bd9e29e-2fed-4f56-b0c9-a9ef32069fd6",
   "metadata": {
    "execution": {
     "iopub.execute_input": "2022-06-15T17:10:47.424667Z",
     "iopub.status.busy": "2022-06-15T17:10:47.424455Z",
     "iopub.status.idle": "2022-06-15T17:10:47.442353Z",
     "shell.execute_reply": "2022-06-15T17:10:47.441213Z"
    }
   },
   "outputs": [],
   "source": [
    "waveguide = straight_sc\n",
    "coupler = coupler_sc\n",
    "\n",
    "mzi = sax.circuit(\n",
    "    instances={\n",
    "        \"lft\": coupler,\n",
    "        \"top\": waveguide,\n",
    "        \"bot\": waveguide,\n",
    "        \"rgt\": coupler,\n",
    "    },\n",
    "    connections={\n",
    "        \"lft,o4\": \"bot,o1\",\n",
    "        \"bot,o2\": \"rgt,o1\",\n",
    "        \"lft,o3\": \"top,o1\",\n",
    "        \"top,o2\": \"rgt,o2\",\n",
    "    },\n",
    "    ports={\n",
    "        \"o1\": \"lft,o1\",\n",
    "        \"o2\": \"lft,o2\",\n",
    "        \"o4\": \"rgt,o4\",\n",
    "        \"o3\": \"rgt,o3\",\n",
    "    },\n",
    ")"
   ]
  },
  {
   "cell_type": "markdown",
   "id": "fe8a8187-0388-4990-b00b-bdae4dbda0db",
   "metadata": {},
   "source": [
    "The `circuit` function just creates a similar function as we created for the waveguide and the coupler, but instead of taking parameters directly it takes parameter *dictionaries* for each of the instances in the circuit. The keys in these parameter dictionaries should correspond to the keyword arguments of each individual subcomponent.\n",
    "\n",
    "You can simulate the MZI "
   ]
  },
  {
   "cell_type": "code",
   "execution_count": 16,
   "id": "bf497c1a-9f19-459a-adf5-b468b37564c3",
   "metadata": {
    "execution": {
     "iopub.execute_input": "2022-06-15T17:10:47.444994Z",
     "iopub.status.busy": "2022-06-15T17:10:47.444783Z",
     "iopub.status.idle": "2022-06-15T17:10:49.612020Z",
     "shell.execute_reply": "2022-06-15T17:10:49.611430Z"
    }
   },
   "outputs": [
    {
     "name": "stderr",
     "output_type": "stream",
     "text": [
      "/usr/share/miniconda/envs/anaconda-client-env/lib/python3.9/site-packages/jax/_src/numpy/lax_numpy.py:1882: UserWarning: Explicitly requested dtype <class 'complex'> requested in asarray is not available, and will be truncated to dtype complex64. To enable more dtypes, set the jax_enable_x64 configuration option or the JAX_ENABLE_X64 shell environment variable. See https://github.com/google/jax#current-gotchas for more.\n",
      "  lax_internal._check_user_dtype_supported(dtype, \"asarray\")\n"
     ]
    },
    {
     "name": "stdout",
     "output_type": "stream",
     "text": [
      "CPU times: user 2.13 s, sys: 8.12 ms, total: 2.14 s\n",
      "Wall time: 2.14 s\n"
     ]
    },
    {
     "data": {
      "text/plain": [
       "{('o2', 'o2'): 0j,\n",
       " ('o2', 'o1'): 0j,\n",
       " ('o1', 'o2'): 0j,\n",
       " ('o1', 'o1'): 0j,\n",
       " ('o3', 'o3'): 0j,\n",
       " ('o3', 'o4'): 0j,\n",
       " ('o3', 'o2'): -9.807199239730835e-05+0.02229j,\n",
       " ('o3', 'o1'): 0.99974+0.0044j,\n",
       " ('o4', 'o3'): 0j,\n",
       " ('o4', 'o4'): 0j,\n",
       " ('o4', 'o2'): 0.99974+0.0044j,\n",
       " ('o4', 'o1'): -9.807199239730835e-05+0.02229j,\n",
       " ('o2', 'o3'): -9.807199239730835e-05+0.02229j,\n",
       " ('o2', 'o4'): 0.99974+0.0044j,\n",
       " ('o1', 'o3'): 0.99974+0.0044j,\n",
       " ('o1', 'o4'): -9.807199239730835e-05+0.02229j}"
      ]
     },
     "execution_count": 16,
     "metadata": {},
     "output_type": "execute_result"
    }
   ],
   "source": [
    "%time mzi()"
   ]
  },
  {
   "cell_type": "code",
   "execution_count": 17,
   "id": "d770b5f0-441b-4a5e-984f-46f4c1746163",
   "metadata": {
    "execution": {
     "iopub.execute_input": "2022-06-15T17:10:49.614821Z",
     "iopub.status.busy": "2022-06-15T17:10:49.614591Z",
     "iopub.status.idle": "2022-06-15T17:10:49.619121Z",
     "shell.execute_reply": "2022-06-15T17:10:49.618581Z"
    }
   },
   "outputs": [],
   "source": [
    "import jax\n",
    "import jax.example_libraries.optimizers as opt\n",
    "import jax.numpy as jnp\n",
    "import matplotlib.pyplot as plt  # plotting\n",
    "\n",
    "mzi2 = jax.jit(mzi)"
   ]
  },
  {
   "cell_type": "code",
   "execution_count": 18,
   "id": "9184478c-b5da-4a40-911f-efe75f8395a0",
   "metadata": {
    "execution": {
     "iopub.execute_input": "2022-06-15T17:10:49.621637Z",
     "iopub.status.busy": "2022-06-15T17:10:49.621427Z",
     "iopub.status.idle": "2022-06-15T17:10:52.408428Z",
     "shell.execute_reply": "2022-06-15T17:10:52.407845Z"
    }
   },
   "outputs": [
    {
     "name": "stdout",
     "output_type": "stream",
     "text": [
      "CPU times: user 2.77 s, sys: 48.3 ms, total: 2.82 s\n",
      "Wall time: 2.78 s\n"
     ]
    },
    {
     "data": {
      "text/plain": [
       "{('o1', 'o1'): 0j,\n",
       " ('o1', 'o2'): 0j,\n",
       " ('o1', 'o3'): 0.99974+0.0044j,\n",
       " ('o1', 'o4'): -9.807199239730835e-05+0.02229j,\n",
       " ('o2', 'o1'): 0j,\n",
       " ('o2', 'o2'): 0j,\n",
       " ('o2', 'o3'): -9.807199239730835e-05+0.02229j,\n",
       " ('o2', 'o4'): 0.99974+0.0044j,\n",
       " ('o3', 'o1'): 0.99974+0.0044j,\n",
       " ('o3', 'o2'): -9.807199239730835e-05+0.02229j,\n",
       " ('o3', 'o3'): 0j,\n",
       " ('o3', 'o4'): 0j,\n",
       " ('o4', 'o1'): -9.807199239730835e-05+0.02229j,\n",
       " ('o4', 'o2'): 0.99974+0.0044j,\n",
       " ('o4', 'o3'): 0j,\n",
       " ('o4', 'o4'): 0j}"
      ]
     },
     "execution_count": 18,
     "metadata": {},
     "output_type": "execute_result"
    }
   ],
   "source": [
    "%time mzi2()"
   ]
  },
  {
   "cell_type": "code",
   "execution_count": 19,
   "id": "bd363622-a0e9-40cd-a94b-e01877e52e9c",
   "metadata": {
    "execution": {
     "iopub.execute_input": "2022-06-15T17:10:52.411346Z",
     "iopub.status.busy": "2022-06-15T17:10:52.410931Z",
     "iopub.status.idle": "2022-06-15T17:10:52.424151Z",
     "shell.execute_reply": "2022-06-15T17:10:52.423610Z"
    }
   },
   "outputs": [
    {
     "data": {
      "text/plain": [
       "{('o2', 'o2'): 0j,\n",
       " ('o2', 'o1'): 0j,\n",
       " ('o1', 'o2'): 0j,\n",
       " ('o1', 'o1'): 0j,\n",
       " ('o3', 'o3'): 0j,\n",
       " ('o3', 'o4'): 0j,\n",
       " ('o3', 'o2'): 0.35958-0.12346j,\n",
       " ('o3', 'o1'): 0.85721-0.34735j,\n",
       " ('o4', 'o3'): 0j,\n",
       " ('o4', 'o4'): 0j,\n",
       " ('o4', 'o2'): 0.85721-0.34735j,\n",
       " ('o4', 'o1'): -0.34409+0.16169j,\n",
       " ('o2', 'o3'): 0.35958-0.12346j,\n",
       " ('o2', 'o4'): 0.85721-0.34735j,\n",
       " ('o1', 'o3'): 0.85721-0.34735j,\n",
       " ('o1', 'o4'): -0.34409+0.16169j}"
      ]
     },
     "execution_count": 19,
     "metadata": {},
     "output_type": "execute_result"
    }
   ],
   "source": [
    "mzi(top={\"length\": 25.0}, btm={\"length\": 15.0})"
   ]
  },
  {
   "cell_type": "code",
   "execution_count": 20,
   "id": "a87486a6-b353-4988-9d8e-81b68bb7834f",
   "metadata": {
    "execution": {
     "iopub.execute_input": "2022-06-15T17:10:52.426807Z",
     "iopub.status.busy": "2022-06-15T17:10:52.426589Z",
     "iopub.status.idle": "2022-06-15T17:10:54.827155Z",
     "shell.execute_reply": "2022-06-15T17:10:54.826472Z"
    }
   },
   "outputs": [
    {
     "name": "stderr",
     "output_type": "stream",
     "text": [
      "/usr/share/miniconda/envs/anaconda-client-env/lib/python3.9/site-packages/numpy/core/getlimits.py:499: UserWarning: The value of the smallest subnormal for <class 'numpy.float32'> type is zero.\n",
      "  setattr(self, word, getattr(machar, word).flat[0])\n",
      "/usr/share/miniconda/envs/anaconda-client-env/lib/python3.9/site-packages/numpy/core/getlimits.py:89: UserWarning: The value of the smallest subnormal for <class 'numpy.float32'> type is zero.\n",
      "  return self._float_to_str(self.smallest_subnormal)\n"
     ]
    },
    {
     "name": "stdout",
     "output_type": "stream",
     "text": [
      "CPU times: user 2.37 s, sys: 129 µs, total: 2.37 s\n",
      "Wall time: 2.37 s\n"
     ]
    }
   ],
   "source": [
    "wl = jnp.linspace(1.51, 1.59, 1000)\n",
    "%time S = mzi(wl=wl, top={\"length\": 25.0}, btm={\"length\": 15.0})"
   ]
  },
  {
   "cell_type": "code",
   "execution_count": 21,
   "id": "e0ffcad8-2d62-4484-98ef-8932ccf3a1bb",
   "metadata": {
    "execution": {
     "iopub.execute_input": "2022-06-15T17:10:54.830046Z",
     "iopub.status.busy": "2022-06-15T17:10:54.829829Z",
     "iopub.status.idle": "2022-06-15T17:10:55.304392Z",
     "shell.execute_reply": "2022-06-15T17:10:55.303782Z"
    }
   },
   "outputs": [
    {
     "data": {
      "image/png": "[encoded data removed]",
      "text/plain": [
       "<Figure size 432x288 with 1 Axes>"
      ]
     },
     "metadata": {
      "needs_background": "light"
     },
     "output_type": "display_data"
    }
   ],
   "source": [
    "plt.plot(wl * 1e3, abs(S[\"o1\", \"o3\"]) ** 2, label=\"o3\")\n",
    "plt.plot(wl * 1e3, abs(S[\"o1\", \"o4\"]) ** 2, label=\"o4\")\n",
    "plt.ylim(-0.05, 1.05)\n",
    "plt.xlabel(\"λ [nm]\")\n",
    "plt.ylabel(\"T\")\n",
    "plt.ylim(-0.05, 1.05)\n",
    "plt.legend()\n",
    "plt.show()"
   ]
  },
  {
   "cell_type": "markdown",
   "id": "ceffc432-a4b8-46f6-a21c-61cf788c21ec",
   "metadata": {},
   "source": [
    "## Optimization\n",
    "\n",
    "You can optimize an MZI to get T=0 at 1550nm.\n",
    "To do this, you need to define a loss function for the circuit at 1550nm.\n",
    "This function should take the parameters that you want to optimize as positional arguments:"
   ]
  },
  {
   "cell_type": "code",
   "execution_count": 22,
   "id": "faf315c7-096e-47f3-ba9c-24a8fe4e37a5",
   "metadata": {
    "execution": {
     "iopub.execute_input": "2022-06-15T17:10:55.307395Z",
     "iopub.status.busy": "2022-06-15T17:10:55.307170Z",
     "iopub.status.idle": "2022-06-15T17:10:55.310861Z",
     "shell.execute_reply": "2022-06-15T17:10:55.310259Z"
    }
   },
   "outputs": [],
   "source": [
    "@jax.jit\n",
    "def loss(delta_length):\n",
    "    S = mzi(wl=1.55, top={\"length\": 15.0 + delta_length}, btm={\"length\": 15.0})\n",
    "    return (abs(S[\"o1\", \"o4\"]) ** 2).mean()"
   ]
  },
  {
   "cell_type": "code",
   "execution_count": 23,
   "id": "081e9a8d-3c21-435b-a960-35018e7bc174",
   "metadata": {
    "execution": {
     "iopub.execute_input": "2022-06-15T17:10:55.313474Z",
     "iopub.status.busy": "2022-06-15T17:10:55.313271Z",
     "iopub.status.idle": "2022-06-15T17:10:58.073625Z",
     "shell.execute_reply": "2022-06-15T17:10:58.073018Z"
    }
   },
   "outputs": [
    {
     "name": "stdout",
     "output_type": "stream",
     "text": [
      "CPU times: user 2.78 s, sys: 4.07 ms, total: 2.78 s\n",
      "Wall time: 2.75 s\n"
     ]
    },
    {
     "data": {
      "text/plain": [
       "0.14454"
      ]
     },
     "execution_count": 23,
     "metadata": {},
     "output_type": "execute_result"
    }
   ],
   "source": [
    "%time loss(10.0)"
   ]
  },
  {
   "cell_type": "markdown",
   "id": "9250a346-3fc8-49aa-9bf8-9dd06ba2d69e",
   "metadata": {},
   "source": [
    "You can use this loss function to define a grad function which works on the parameters of the loss function:"
   ]
  },
  {
   "cell_type": "code",
   "execution_count": 24,
   "id": "681cbec3-d0cb-4002-b756-58562ae3362a",
   "metadata": {
    "execution": {
     "iopub.execute_input": "2022-06-15T17:10:58.076517Z",
     "iopub.status.busy": "2022-06-15T17:10:58.076297Z",
     "iopub.status.idle": "2022-06-15T17:10:58.079830Z",
     "shell.execute_reply": "2022-06-15T17:10:58.079221Z"
    }
   },
   "outputs": [],
   "source": [
    "grad = jax.jit(\n",
    "    jax.grad(\n",
    "        loss,\n",
    "        argnums=0,  # JAX gradient function for the first positional argument, jitted\n",
    "    )\n",
    ")"
   ]
  },
  {
   "cell_type": "markdown",
   "id": "4f2fc61b-b946-4ffd-893f-428ec9764b10",
   "metadata": {},
   "source": [
    "Next, you need to define a JAX optimizer, which on its own is nothing more than three more functions:\n",
    "\n",
    "1. an initialization function with which to initialize the optimizer state\n",
    "2. an update function which will update the optimizer state (and with it the model parameters).\n",
    "3. a function with the model parameters given the optimizer state."
   ]
  },
  {
   "cell_type": "code",
   "execution_count": 25,
   "id": "cfc972de-9f6d-45fd-9a31-30e98432e52a",
   "metadata": {
    "execution": {
     "iopub.execute_input": "2022-06-15T17:10:58.082584Z",
     "iopub.status.busy": "2022-06-15T17:10:58.082369Z",
     "iopub.status.idle": "2022-06-15T17:10:58.099499Z",
     "shell.execute_reply": "2022-06-15T17:10:58.098939Z"
    }
   },
   "outputs": [],
   "source": [
    "initial_delta_length = 10.0\n",
    "optim_init, optim_update, optim_params = opt.adam(step_size=0.1)\n",
    "optim_state = optim_init(initial_delta_length)"
   ]
  },
  {
   "cell_type": "code",
   "execution_count": 26,
   "id": "bbf6243e-25b6-43ae-abd0-9911846fd282",
   "metadata": {
    "execution": {
     "iopub.execute_input": "2022-06-15T17:10:58.102368Z",
     "iopub.status.busy": "2022-06-15T17:10:58.101860Z",
     "iopub.status.idle": "2022-06-15T17:10:58.105493Z",
     "shell.execute_reply": "2022-06-15T17:10:58.104902Z"
    }
   },
   "outputs": [],
   "source": [
    "def train_step(step, optim_state):\n",
    "    settings = optim_params(optim_state)\n",
    "    lossvalue = loss(settings)\n",
    "    gradvalue = grad(settings)\n",
    "    optim_state = optim_update(step, gradvalue, optim_state)\n",
    "    return lossvalue, optim_state"
   ]
  },
  {
   "cell_type": "code",
   "execution_count": 27,
   "id": "6427fb3e-defc-41ca-82cb-5692c6f504fc",
   "metadata": {
    "execution": {
     "iopub.execute_input": "2022-06-15T17:10:58.108049Z",
     "iopub.status.busy": "2022-06-15T17:10:58.107722Z",
     "iopub.status.idle": "2022-06-15T17:11:12.621999Z",
     "shell.execute_reply": "2022-06-15T17:11:12.621348Z"
    }
   },
   "outputs": [
    {
     "name": "stderr",
     "output_type": "stream",
     "text": [
      "\r",
      "  0%|          | 0/300 [00:00<?, ?it/s]"
     ]
    },
    {
     "name": "stderr",
     "output_type": "stream",
     "text": [
      "\r",
      "  0%|          | 0/300 [00:03<?, ?it/s, loss=0.144537]"
     ]
    },
    {
     "name": "stderr",
     "output_type": "stream",
     "text": [
      "\r",
      "  0%|          | 1/300 [00:03<17:54,  3.59s/it, loss=0.144537]"
     ]
    },
    {
     "name": "stderr",
     "output_type": "stream",
     "text": [
      "\r",
      "  0%|          | 1/300 [00:09<17:54,  3.59s/it, loss=0.008521]"
     ]
    },
    {
     "name": "stderr",
     "output_type": "stream",
     "text": [
      "\r",
      "  1%|          | 2/300 [00:09<25:12,  5.08s/it, loss=0.008521]"
     ]
    },
    {
     "name": "stderr",
     "output_type": "stream",
     "text": [
      "\r",
      "  1%|          | 2/300 [00:09<25:12,  5.08s/it, loss=0.095274]"
     ]
    },
    {
     "name": "stderr",
     "output_type": "stream",
     "text": [
      "\r",
      "  1%|          | 2/300 [00:09<25:12,  5.08s/it, loss=0.063922]"
     ]
    },
    {
     "name": "stderr",
     "output_type": "stream",
     "text": [
      "\r",
      "  1%|          | 2/300 [00:09<25:12,  5.08s/it, loss=0.007386]"
     ]
    },
    {
     "name": "stderr",
     "output_type": "stream",
     "text": [
      "\r",
      "  1%|          | 2/300 [00:09<25:12,  5.08s/it, loss=0.010611]"
     ]
    },
    {
     "name": "stderr",
     "output_type": "stream",
     "text": [
      "\r",
      "  1%|          | 2/300 [00:09<25:12,  5.08s/it, loss=0.044013]"
     ]
    },
    {
     "name": "stderr",
     "output_type": "stream",
     "text": [
      "\r",
      "  1%|          | 2/300 [00:09<25:12,  5.08s/it, loss=0.045545]"
     ]
    },
    {
     "name": "stderr",
     "output_type": "stream",
     "text": [
      "\r",
      "  1%|          | 2/300 [00:09<25:12,  5.08s/it, loss=0.019057]"
     ]
    },
    {
     "name": "stderr",
     "output_type": "stream",
     "text": [
      "\r",
      "  3%|▎         | 9/300 [00:09<03:38,  1.33it/s, loss=0.019057]"
     ]
    },
    {
     "name": "stderr",
     "output_type": "stream",
     "text": [
      "\r",
      "  3%|▎         | 9/300 [00:09<03:38,  1.33it/s, loss=0.000873]"
     ]
    },
    {
     "name": "stderr",
     "output_type": "stream",
     "text": [
      "\r",
      "  3%|▎         | 9/300 [00:09<03:38,  1.33it/s, loss=0.009007]"
     ]
    },
    {
     "name": "stderr",
     "output_type": "stream",
     "text": [
      "\r",
      "  3%|▎         | 9/300 [00:09<03:38,  1.33it/s, loss=0.025268]"
     ]
    },
    {
     "name": "stderr",
     "output_type": "stream",
     "text": [
      "\r",
      "  3%|▎         | 9/300 [00:09<03:38,  1.33it/s, loss=0.026025]"
     ]
    },
    {
     "name": "stderr",
     "output_type": "stream",
     "text": [
      "\r",
      "  3%|▎         | 9/300 [00:09<03:38,  1.33it/s, loss=0.012185]"
     ]
    },
    {
     "name": "stderr",
     "output_type": "stream",
     "text": [
      "\r",
      "  3%|▎         | 9/300 [00:09<03:38,  1.33it/s, loss=0.001130]"
     ]
    },
    {
     "name": "stderr",
     "output_type": "stream",
     "text": [
      "\r",
      "  3%|▎         | 9/300 [00:09<03:38,  1.33it/s, loss=0.003934]"
     ]
    },
    {
     "name": "stderr",
     "output_type": "stream",
     "text": [
      "\r",
      "  5%|▌         | 16/300 [00:09<01:38,  2.89it/s, loss=0.003934]"
     ]
    },
    {
     "name": "stderr",
     "output_type": "stream",
     "text": [
      "\r",
      "  5%|▌         | 16/300 [00:09<01:38,  2.89it/s, loss=0.013488]"
     ]
    },
    {
     "name": "stderr",
     "output_type": "stream",
     "text": [
      "\r",
      "  5%|▌         | 16/300 [00:09<01:38,  2.89it/s, loss=0.016100]"
     ]
    },
    {
     "name": "stderr",
     "output_type": "stream",
     "text": [
      "\r",
      "  5%|▌         | 16/300 [00:09<01:38,  2.89it/s, loss=0.009127]"
     ]
    },
    {
     "name": "stderr",
     "output_type": "stream",
     "text": [
      "\r",
      "  5%|▌         | 16/300 [00:09<01:38,  2.89it/s, loss=0.001556]"
     ]
    },
    {
     "name": "stderr",
     "output_type": "stream",
     "text": [
      "\r",
      "  5%|▌         | 16/300 [00:10<01:38,  2.89it/s, loss=0.001622]"
     ]
    },
    {
     "name": "stderr",
     "output_type": "stream",
     "text": [
      "\r",
      "  5%|▌         | 16/300 [00:10<01:38,  2.89it/s, loss=0.007207]"
     ]
    },
    {
     "name": "stderr",
     "output_type": "stream",
     "text": [
      "\r",
      "  5%|▌         | 16/300 [00:10<01:38,  2.89it/s, loss=0.009955]"
     ]
    },
    {
     "name": "stderr",
     "output_type": "stream",
     "text": [
      "\r",
      "  8%|▊         | 23/300 [00:10<00:55,  4.97it/s, loss=0.009955]"
     ]
    },
    {
     "name": "stderr",
     "output_type": "stream",
     "text": [
      "\r",
      "  8%|▊         | 23/300 [00:10<00:55,  4.97it/s, loss=0.006496]"
     ]
    },
    {
     "name": "stderr",
     "output_type": "stream",
     "text": [
      "\r",
      "  8%|▊         | 23/300 [00:10<00:55,  4.97it/s, loss=0.001547]"
     ]
    },
    {
     "name": "stderr",
     "output_type": "stream",
     "text": [
      "\r",
      "  8%|▊         | 23/300 [00:10<00:55,  4.97it/s, loss=0.000903]"
     ]
    },
    {
     "name": "stderr",
     "output_type": "stream",
     "text": [
      "\r",
      "  8%|▊         | 23/300 [00:10<00:55,  4.97it/s, loss=0.004184]"
     ]
    },
    {
     "name": "stderr",
     "output_type": "stream",
     "text": [
      "\r",
      "  8%|▊         | 23/300 [00:10<00:55,  4.97it/s, loss=0.006213]"
     ]
    },
    {
     "name": "stderr",
     "output_type": "stream",
     "text": [
      "\r",
      "  8%|▊         | 23/300 [00:10<00:55,  4.97it/s, loss=0.004298]"
     ]
    },
    {
     "name": "stderr",
     "output_type": "stream",
     "text": [
      "\r",
      "  8%|▊         | 23/300 [00:10<00:55,  4.97it/s, loss=0.001191]"
     ]
    },
    {
     "name": "stderr",
     "output_type": "stream",
     "text": [
      "\r",
      " 10%|█         | 30/300 [00:10<00:34,  7.72it/s, loss=0.001191]"
     ]
    },
    {
     "name": "stderr",
     "output_type": "stream",
     "text": [
      "\r",
      " 10%|█         | 30/300 [00:10<00:34,  7.72it/s, loss=0.000741]"
     ]
    },
    {
     "name": "stderr",
     "output_type": "stream",
     "text": [
      "\r",
      " 10%|█         | 30/300 [00:10<00:34,  7.72it/s, loss=0.002797]"
     ]
    },
    {
     "name": "stderr",
     "output_type": "stream",
     "text": [
      "\r",
      " 10%|█         | 30/300 [00:10<00:34,  7.72it/s, loss=0.003993]"
     ]
    },
    {
     "name": "stderr",
     "output_type": "stream",
     "text": [
      "\r",
      " 10%|█         | 30/300 [00:10<00:34,  7.72it/s, loss=0.002671]"
     ]
    },
    {
     "name": "stderr",
     "output_type": "stream",
     "text": [
      "\r",
      " 10%|█         | 30/300 [00:10<00:34,  7.72it/s, loss=0.000793]"
     ]
    },
    {
     "name": "stderr",
     "output_type": "stream",
     "text": [
      "\r",
      " 10%|█         | 30/300 [00:10<00:34,  7.72it/s, loss=0.000765]"
     ]
    },
    {
     "name": "stderr",
     "output_type": "stream",
     "text": [
      "\r",
      " 10%|█         | 30/300 [00:10<00:34,  7.72it/s, loss=0.002130]"
     ]
    },
    {
     "name": "stderr",
     "output_type": "stream",
     "text": [
      "\r",
      " 12%|█▏        | 37/300 [00:10<00:23, 11.24it/s, loss=0.002130]"
     ]
    },
    {
     "name": "stderr",
     "output_type": "stream",
     "text": [
      "\r",
      " 12%|█▏        | 37/300 [00:10<00:23, 11.24it/s, loss=0.002621]"
     ]
    },
    {
     "name": "stderr",
     "output_type": "stream",
     "text": [
      "\r",
      " 12%|█▏        | 37/300 [00:10<00:23, 11.24it/s, loss=0.001561]"
     ]
    },
    {
     "name": "stderr",
     "output_type": "stream",
     "text": [
      "\r",
      " 12%|█▏        | 37/300 [00:10<00:23, 11.24it/s, loss=0.000547]"
     ]
    },
    {
     "name": "stderr",
     "output_type": "stream",
     "text": [
      "\r",
      " 12%|█▏        | 37/300 [00:10<00:23, 11.24it/s, loss=0.000864]"
     ]
    },
    {
     "name": "stderr",
     "output_type": "stream",
     "text": [
      "\r",
      " 12%|█▏        | 37/300 [00:10<00:23, 11.24it/s, loss=0.001721]"
     ]
    },
    {
     "name": "stderr",
     "output_type": "stream",
     "text": [
      "\r",
      " 12%|█▏        | 37/300 [00:10<00:23, 11.24it/s, loss=0.001694]"
     ]
    },
    {
     "name": "stderr",
     "output_type": "stream",
     "text": [
      "\r",
      " 12%|█▏        | 37/300 [00:10<00:23, 11.24it/s, loss=0.000878]"
     ]
    },
    {
     "name": "stderr",
     "output_type": "stream",
     "text": [
      "\r",
      " 15%|█▍        | 44/300 [00:10<00:16, 15.56it/s, loss=0.000878]"
     ]
    },
    {
     "name": "stderr",
     "output_type": "stream",
     "text": [
      "\r",
      " 15%|█▍        | 44/300 [00:10<00:16, 15.56it/s, loss=0.000504]"
     ]
    },
    {
     "name": "stderr",
     "output_type": "stream",
     "text": [
      "\r",
      " 15%|█▍        | 44/300 [00:10<00:16, 15.56it/s, loss=0.000963]"
     ]
    },
    {
     "name": "stderr",
     "output_type": "stream",
     "text": [
      "\r",
      " 15%|█▍        | 44/300 [00:10<00:16, 15.56it/s, loss=0.001359]"
     ]
    },
    {
     "name": "stderr",
     "output_type": "stream",
     "text": [
      "\r",
      " 15%|█▍        | 44/300 [00:10<00:16, 15.56it/s, loss=0.001044]"
     ]
    },
    {
     "name": "stderr",
     "output_type": "stream",
     "text": [
      "\r",
      " 15%|█▍        | 44/300 [00:10<00:16, 15.56it/s, loss=0.000553]"
     ]
    },
    {
     "name": "stderr",
     "output_type": "stream",
     "text": [
      "\r",
      " 15%|█▍        | 44/300 [00:10<00:16, 15.56it/s, loss=0.000604]"
     ]
    },
    {
     "name": "stderr",
     "output_type": "stream",
     "text": [
      "\r",
      " 15%|█▍        | 44/300 [00:10<00:16, 15.56it/s, loss=0.000974]"
     ]
    },
    {
     "name": "stderr",
     "output_type": "stream",
     "text": [
      "\r",
      " 17%|█▋        | 51/300 [00:10<00:12, 20.64it/s, loss=0.000974]"
     ]
    },
    {
     "name": "stderr",
     "output_type": "stream",
     "text": [
      "\r",
      " 17%|█▋        | 51/300 [00:10<00:12, 20.64it/s, loss=0.000990]"
     ]
    },
    {
     "name": "stderr",
     "output_type": "stream",
     "text": [
      "\r",
      " 17%|█▋        | 51/300 [00:10<00:12, 20.64it/s, loss=0.000646]"
     ]
    },
    {
     "name": "stderr",
     "output_type": "stream",
     "text": [
      "\r",
      " 17%|█▋        | 51/300 [00:10<00:12, 20.64it/s, loss=0.000504]"
     ]
    },
    {
     "name": "stderr",
     "output_type": "stream",
     "text": [
      "\r",
      " 17%|█▋        | 51/300 [00:10<00:12, 20.64it/s, loss=0.000717]"
     ]
    },
    {
     "name": "stderr",
     "output_type": "stream",
     "text": [
      "\r",
      " 17%|█▋        | 51/300 [00:10<00:12, 20.64it/s, loss=0.000851]"
     ]
    },
    {
     "name": "stderr",
     "output_type": "stream",
     "text": [
      "\r",
      " 17%|█▋        | 51/300 [00:10<00:12, 20.64it/s, loss=0.000676]"
     ]
    },
    {
     "name": "stderr",
     "output_type": "stream",
     "text": [
      "\r",
      " 17%|█▋        | 51/300 [00:10<00:12, 20.64it/s, loss=0.000501]"
     ]
    },
    {
     "name": "stderr",
     "output_type": "stream",
     "text": [
      "\r",
      " 19%|█▉        | 58/300 [00:10<00:09, 26.30it/s, loss=0.000501]"
     ]
    },
    {
     "name": "stderr",
     "output_type": "stream",
     "text": [
      "\r",
      " 19%|█▉        | 58/300 [00:10<00:09, 26.30it/s, loss=0.000586]"
     ]
    },
    {
     "name": "stderr",
     "output_type": "stream",
     "text": [
      "\r",
      " 19%|█▉        | 58/300 [00:10<00:09, 26.30it/s, loss=0.000724]"
     ]
    },
    {
     "name": "stderr",
     "output_type": "stream",
     "text": [
      "\r",
      " 19%|█▉        | 58/300 [00:10<00:09, 26.30it/s, loss=0.000657]"
     ]
    },
    {
     "name": "stderr",
     "output_type": "stream",
     "text": [
      "\r",
      " 19%|█▉        | 58/300 [00:10<00:09, 26.30it/s, loss=0.000514]"
     ]
    },
    {
     "name": "stderr",
     "output_type": "stream",
     "text": [
      "\r",
      " 19%|█▉        | 58/300 [00:10<00:09, 26.30it/s, loss=0.000530]"
     ]
    },
    {
     "name": "stderr",
     "output_type": "stream",
     "text": [
      "\r",
      " 19%|█▉        | 58/300 [00:10<00:09, 26.30it/s, loss=0.000635]"
     ]
    },
    {
     "name": "stderr",
     "output_type": "stream",
     "text": [
      "\r",
      " 19%|█▉        | 58/300 [00:10<00:09, 26.30it/s, loss=0.000621]"
     ]
    },
    {
     "name": "stderr",
     "output_type": "stream",
     "text": [
      "\r",
      " 22%|██▏       | 65/300 [00:10<00:07, 32.03it/s, loss=0.000621]"
     ]
    },
    {
     "name": "stderr",
     "output_type": "stream",
     "text": [
      "\r",
      " 22%|██▏       | 65/300 [00:10<00:07, 32.03it/s, loss=0.000520]"
     ]
    },
    {
     "name": "stderr",
     "output_type": "stream",
     "text": [
      "\r",
      " 22%|██▏       | 65/300 [00:10<00:07, 32.03it/s, loss=0.000509]"
     ]
    },
    {
     "name": "stderr",
     "output_type": "stream",
     "text": [
      "\r",
      " 22%|██▏       | 65/300 [00:10<00:07, 32.03it/s, loss=0.000580]"
     ]
    },
    {
     "name": "stderr",
     "output_type": "stream",
     "text": [
      "\r",
      " 22%|██▏       | 65/300 [00:10<00:07, 32.03it/s, loss=0.000585]"
     ]
    },
    {
     "name": "stderr",
     "output_type": "stream",
     "text": [
      "\r",
      " 22%|██▏       | 65/300 [00:10<00:07, 32.03it/s, loss=0.000519]"
     ]
    },
    {
     "name": "stderr",
     "output_type": "stream",
     "text": [
      "\r",
      " 22%|██▏       | 65/300 [00:10<00:07, 32.03it/s, loss=0.000502]"
     ]
    },
    {
     "name": "stderr",
     "output_type": "stream",
     "text": [
      "\r",
      " 22%|██▏       | 65/300 [00:10<00:07, 32.03it/s, loss=0.000549]"
     ]
    },
    {
     "name": "stderr",
     "output_type": "stream",
     "text": [
      "\r",
      " 24%|██▍       | 72/300 [00:10<00:06, 37.75it/s, loss=0.000549]"
     ]
    },
    {
     "name": "stderr",
     "output_type": "stream",
     "text": [
      "\r",
      " 24%|██▍       | 72/300 [00:10<00:06, 37.75it/s, loss=0.000558]"
     ]
    },
    {
     "name": "stderr",
     "output_type": "stream",
     "text": [
      "\r",
      " 24%|██▍       | 72/300 [00:10<00:06, 37.75it/s, loss=0.000513]"
     ]
    },
    {
     "name": "stderr",
     "output_type": "stream",
     "text": [
      "\r",
      " 24%|██▍       | 72/300 [00:10<00:06, 37.75it/s, loss=0.000500]"
     ]
    },
    {
     "name": "stderr",
     "output_type": "stream",
     "text": [
      "\r",
      " 24%|██▍       | 72/300 [00:10<00:06, 37.75it/s, loss=0.000531]"
     ]
    },
    {
     "name": "stderr",
     "output_type": "stream",
     "text": [
      "\r",
      " 24%|██▍       | 72/300 [00:10<00:06, 37.75it/s, loss=0.000537]"
     ]
    },
    {
     "name": "stderr",
     "output_type": "stream",
     "text": [
      "\r",
      " 24%|██▍       | 72/300 [00:10<00:06, 37.75it/s, loss=0.000508]"
     ]
    },
    {
     "name": "stderr",
     "output_type": "stream",
     "text": [
      "\r",
      " 24%|██▍       | 72/300 [00:10<00:06, 37.75it/s, loss=0.000499]"
     ]
    },
    {
     "name": "stderr",
     "output_type": "stream",
     "text": [
      "\r",
      " 26%|██▋       | 79/300 [00:10<00:05, 42.98it/s, loss=0.000499]"
     ]
    },
    {
     "name": "stderr",
     "output_type": "stream",
     "text": [
      "\r",
      " 26%|██▋       | 79/300 [00:10<00:05, 42.98it/s, loss=0.000520]"
     ]
    },
    {
     "name": "stderr",
     "output_type": "stream",
     "text": [
      "\r",
      " 26%|██▋       | 79/300 [00:10<00:05, 42.98it/s, loss=0.000523]"
     ]
    },
    {
     "name": "stderr",
     "output_type": "stream",
     "text": [
      "\r",
      " 26%|██▋       | 79/300 [00:10<00:05, 42.98it/s, loss=0.000503]"
     ]
    },
    {
     "name": "stderr",
     "output_type": "stream",
     "text": [
      "\r",
      " 26%|██▋       | 79/300 [00:10<00:05, 42.98it/s, loss=0.000499]"
     ]
    },
    {
     "name": "stderr",
     "output_type": "stream",
     "text": [
      "\r",
      " 26%|██▋       | 79/300 [00:10<00:05, 42.98it/s, loss=0.000514]"
     ]
    },
    {
     "name": "stderr",
     "output_type": "stream",
     "text": [
      "\r",
      " 26%|██▋       | 79/300 [00:11<00:05, 42.98it/s, loss=0.000514]"
     ]
    },
    {
     "name": "stderr",
     "output_type": "stream",
     "text": [
      "\r",
      " 26%|██▋       | 79/300 [00:11<00:05, 42.98it/s, loss=0.000500]"
     ]
    },
    {
     "name": "stderr",
     "output_type": "stream",
     "text": [
      "\r",
      " 29%|██▊       | 86/300 [00:11<00:04, 47.36it/s, loss=0.000500]"
     ]
    },
    {
     "name": "stderr",
     "output_type": "stream",
     "text": [
      "\r",
      " 29%|██▊       | 86/300 [00:11<00:04, 47.36it/s, loss=0.000499]"
     ]
    },
    {
     "name": "stderr",
     "output_type": "stream",
     "text": [
      "\r",
      " 29%|██▊       | 86/300 [00:11<00:04, 47.36it/s, loss=0.000509]"
     ]
    },
    {
     "name": "stderr",
     "output_type": "stream",
     "text": [
      "\r",
      " 29%|██▊       | 86/300 [00:11<00:04, 47.36it/s, loss=0.000507]"
     ]
    },
    {
     "name": "stderr",
     "output_type": "stream",
     "text": [
      "\r",
      " 29%|██▊       | 86/300 [00:11<00:04, 47.36it/s, loss=0.000498]"
     ]
    },
    {
     "name": "stderr",
     "output_type": "stream",
     "text": [
      "\r",
      " 29%|██▊       | 86/300 [00:11<00:04, 47.36it/s, loss=0.000500]"
     ]
    },
    {
     "name": "stderr",
     "output_type": "stream",
     "text": [
      "\r",
      " 29%|██▊       | 86/300 [00:11<00:04, 47.36it/s, loss=0.000506]"
     ]
    },
    {
     "name": "stderr",
     "output_type": "stream",
     "text": [
      "\r",
      " 29%|██▊       | 86/300 [00:11<00:04, 47.36it/s, loss=0.000502]"
     ]
    },
    {
     "name": "stderr",
     "output_type": "stream",
     "text": [
      "\r",
      " 31%|███       | 93/300 [00:11<00:04, 51.06it/s, loss=0.000502]"
     ]
    },
    {
     "name": "stderr",
     "output_type": "stream",
     "text": [
      "\r",
      " 31%|███       | 93/300 [00:11<00:04, 51.06it/s, loss=0.000497]"
     ]
    },
    {
     "name": "stderr",
     "output_type": "stream",
     "text": [
      "\r",
      " 31%|███       | 93/300 [00:11<00:04, 51.06it/s, loss=0.000500]"
     ]
    },
    {
     "name": "stderr",
     "output_type": "stream",
     "text": [
      "\r",
      " 31%|███       | 93/300 [00:11<00:04, 51.06it/s, loss=0.000503]"
     ]
    },
    {
     "name": "stderr",
     "output_type": "stream",
     "text": [
      "\r",
      " 31%|███       | 93/300 [00:11<00:04, 51.06it/s, loss=0.000499]"
     ]
    },
    {
     "name": "stderr",
     "output_type": "stream",
     "text": [
      "\r",
      " 31%|███       | 93/300 [00:11<00:04, 51.06it/s, loss=0.000497]"
     ]
    },
    {
     "name": "stderr",
     "output_type": "stream",
     "text": [
      "\r",
      " 31%|███       | 93/300 [00:11<00:04, 51.06it/s, loss=0.000500]"
     ]
    },
    {
     "name": "stderr",
     "output_type": "stream",
     "text": [
      "\r",
      " 31%|███       | 93/300 [00:11<00:04, 51.06it/s, loss=0.000501]"
     ]
    },
    {
     "name": "stderr",
     "output_type": "stream",
     "text": [
      "\r",
      " 33%|███▎      | 100/300 [00:11<00:03, 54.01it/s, loss=0.000501]"
     ]
    },
    {
     "name": "stderr",
     "output_type": "stream",
     "text": [
      "\r",
      " 33%|███▎      | 100/300 [00:11<00:03, 54.01it/s, loss=0.000498]"
     ]
    },
    {
     "name": "stderr",
     "output_type": "stream",
     "text": [
      "\r",
      " 33%|███▎      | 100/300 [00:11<00:03, 54.01it/s, loss=0.000497]"
     ]
    },
    {
     "name": "stderr",
     "output_type": "stream",
     "text": [
      "\r",
      " 33%|███▎      | 100/300 [00:11<00:03, 54.01it/s, loss=0.000500]"
     ]
    },
    {
     "name": "stderr",
     "output_type": "stream",
     "text": [
      "\r",
      " 33%|███▎      | 100/300 [00:11<00:03, 54.01it/s, loss=0.000499]"
     ]
    },
    {
     "name": "stderr",
     "output_type": "stream",
     "text": [
      "\r",
      " 33%|███▎      | 100/300 [00:11<00:03, 54.01it/s, loss=0.000497]"
     ]
    },
    {
     "name": "stderr",
     "output_type": "stream",
     "text": [
      "\r",
      " 33%|███▎      | 100/300 [00:11<00:03, 54.01it/s, loss=0.000498]"
     ]
    },
    {
     "name": "stderr",
     "output_type": "stream",
     "text": [
      "\r",
      " 33%|███▎      | 100/300 [00:11<00:03, 54.01it/s, loss=0.000499]"
     ]
    },
    {
     "name": "stderr",
     "output_type": "stream",
     "text": [
      "\r",
      " 36%|███▌      | 107/300 [00:11<00:03, 55.71it/s, loss=0.000499]"
     ]
    },
    {
     "name": "stderr",
     "output_type": "stream",
     "text": [
      "\r",
      " 36%|███▌      | 107/300 [00:11<00:03, 55.71it/s, loss=0.000498]"
     ]
    },
    {
     "name": "stderr",
     "output_type": "stream",
     "text": [
      "\r",
      " 36%|███▌      | 107/300 [00:11<00:03, 55.71it/s, loss=0.000497]"
     ]
    },
    {
     "name": "stderr",
     "output_type": "stream",
     "text": [
      "\r",
      " 36%|███▌      | 107/300 [00:11<00:03, 55.71it/s, loss=0.000498]"
     ]
    },
    {
     "name": "stderr",
     "output_type": "stream",
     "text": [
      "\r",
      " 36%|███▌      | 107/300 [00:11<00:03, 55.71it/s, loss=0.000498]"
     ]
    },
    {
     "name": "stderr",
     "output_type": "stream",
     "text": [
      "\r",
      " 36%|███▌      | 107/300 [00:11<00:03, 55.71it/s, loss=0.000497]"
     ]
    },
    {
     "name": "stderr",
     "output_type": "stream",
     "text": [
      "\r",
      " 36%|███▌      | 107/300 [00:11<00:03, 55.71it/s, loss=0.000497]"
     ]
    },
    {
     "name": "stderr",
     "output_type": "stream",
     "text": [
      "\r",
      " 36%|███▌      | 107/300 [00:11<00:03, 55.71it/s, loss=0.000498]"
     ]
    },
    {
     "name": "stderr",
     "output_type": "stream",
     "text": [
      "\r",
      " 38%|███▊      | 114/300 [00:11<00:03, 57.36it/s, loss=0.000498]"
     ]
    },
    {
     "name": "stderr",
     "output_type": "stream",
     "text": [
      "\r",
      " 38%|███▊      | 114/300 [00:11<00:03, 57.36it/s, loss=0.000497]"
     ]
    },
    {
     "name": "stderr",
     "output_type": "stream",
     "text": [
      "\r",
      " 38%|███▊      | 114/300 [00:11<00:03, 57.36it/s, loss=0.000497]"
     ]
    },
    {
     "name": "stderr",
     "output_type": "stream",
     "text": [
      "\r",
      " 38%|███▊      | 114/300 [00:11<00:03, 57.36it/s, loss=0.000497]"
     ]
    },
    {
     "name": "stderr",
     "output_type": "stream",
     "text": [
      "\r",
      " 38%|███▊      | 114/300 [00:11<00:03, 57.36it/s, loss=0.000498]"
     ]
    },
    {
     "name": "stderr",
     "output_type": "stream",
     "text": [
      "\r",
      " 38%|███▊      | 114/300 [00:11<00:03, 57.36it/s, loss=0.000497]"
     ]
    },
    {
     "name": "stderr",
     "output_type": "stream",
     "text": [
      "\r",
      " 38%|███▊      | 114/300 [00:11<00:03, 57.36it/s, loss=0.000497]"
     ]
    },
    {
     "name": "stderr",
     "output_type": "stream",
     "text": [
      "\r",
      " 38%|███▊      | 114/300 [00:11<00:03, 57.36it/s, loss=0.000497]"
     ]
    },
    {
     "name": "stderr",
     "output_type": "stream",
     "text": [
      "\r",
      " 40%|████      | 121/300 [00:11<00:03, 59.31it/s, loss=0.000497]"
     ]
    },
    {
     "name": "stderr",
     "output_type": "stream",
     "text": [
      "\r",
      " 40%|████      | 121/300 [00:11<00:03, 59.31it/s, loss=0.000497]"
     ]
    },
    {
     "name": "stderr",
     "output_type": "stream",
     "text": [
      "\r",
      " 40%|████      | 121/300 [00:11<00:03, 59.31it/s, loss=0.000497]"
     ]
    },
    {
     "name": "stderr",
     "output_type": "stream",
     "text": [
      "\r",
      " 40%|████      | 121/300 [00:11<00:03, 59.31it/s, loss=0.000497]"
     ]
    },
    {
     "name": "stderr",
     "output_type": "stream",
     "text": [
      "\r",
      " 40%|████      | 121/300 [00:11<00:03, 59.31it/s, loss=0.000497]"
     ]
    },
    {
     "name": "stderr",
     "output_type": "stream",
     "text": [
      "\r",
      " 40%|████      | 121/300 [00:11<00:03, 59.31it/s, loss=0.000497]"
     ]
    },
    {
     "name": "stderr",
     "output_type": "stream",
     "text": [
      "\r",
      " 40%|████      | 121/300 [00:11<00:03, 59.31it/s, loss=0.000497]"
     ]
    },
    {
     "name": "stderr",
     "output_type": "stream",
     "text": [
      "\r",
      " 40%|████      | 121/300 [00:11<00:03, 59.31it/s, loss=0.000497]"
     ]
    },
    {
     "name": "stderr",
     "output_type": "stream",
     "text": [
      "\r",
      " 43%|████▎     | 128/300 [00:11<00:02, 60.05it/s, loss=0.000497]"
     ]
    },
    {
     "name": "stderr",
     "output_type": "stream",
     "text": [
      "\r",
      " 43%|████▎     | 128/300 [00:11<00:02, 60.05it/s, loss=0.000497]"
     ]
    },
    {
     "name": "stderr",
     "output_type": "stream",
     "text": [
      "\r",
      " 43%|████▎     | 128/300 [00:11<00:02, 60.05it/s, loss=0.000497]"
     ]
    },
    {
     "name": "stderr",
     "output_type": "stream",
     "text": [
      "\r",
      " 43%|████▎     | 128/300 [00:11<00:02, 60.05it/s, loss=0.000497]"
     ]
    },
    {
     "name": "stderr",
     "output_type": "stream",
     "text": [
      "\r",
      " 43%|████▎     | 128/300 [00:11<00:02, 60.05it/s, loss=0.000497]"
     ]
    },
    {
     "name": "stderr",
     "output_type": "stream",
     "text": [
      "\r",
      " 43%|████▎     | 128/300 [00:11<00:02, 60.05it/s, loss=0.000497]"
     ]
    },
    {
     "name": "stderr",
     "output_type": "stream",
     "text": [
      "\r",
      " 43%|████▎     | 128/300 [00:11<00:02, 60.05it/s, loss=0.000497]"
     ]
    },
    {
     "name": "stderr",
     "output_type": "stream",
     "text": [
      "\r",
      " 43%|████▎     | 128/300 [00:11<00:02, 60.05it/s, loss=0.000497]"
     ]
    },
    {
     "name": "stderr",
     "output_type": "stream",
     "text": [
      "\r",
      " 45%|████▌     | 135/300 [00:11<00:02, 61.22it/s, loss=0.000497]"
     ]
    },
    {
     "name": "stderr",
     "output_type": "stream",
     "text": [
      "\r",
      " 45%|████▌     | 135/300 [00:11<00:02, 61.22it/s, loss=0.000497]"
     ]
    },
    {
     "name": "stderr",
     "output_type": "stream",
     "text": [
      "\r",
      " 45%|████▌     | 135/300 [00:11<00:02, 61.22it/s, loss=0.000497]"
     ]
    },
    {
     "name": "stderr",
     "output_type": "stream",
     "text": [
      "\r",
      " 45%|████▌     | 135/300 [00:11<00:02, 61.22it/s, loss=0.000497]"
     ]
    },
    {
     "name": "stderr",
     "output_type": "stream",
     "text": [
      "\r",
      " 45%|████▌     | 135/300 [00:11<00:02, 61.22it/s, loss=0.000497]"
     ]
    },
    {
     "name": "stderr",
     "output_type": "stream",
     "text": [
      "\r",
      " 45%|████▌     | 135/300 [00:11<00:02, 61.22it/s, loss=0.000497]"
     ]
    },
    {
     "name": "stderr",
     "output_type": "stream",
     "text": [
      "\r",
      " 45%|████▌     | 135/300 [00:11<00:02, 61.22it/s, loss=0.000497]"
     ]
    },
    {
     "name": "stderr",
     "output_type": "stream",
     "text": [
      "\r",
      " 45%|████▌     | 135/300 [00:11<00:02, 61.22it/s, loss=0.000497]"
     ]
    },
    {
     "name": "stderr",
     "output_type": "stream",
     "text": [
      "\r",
      " 47%|████▋     | 142/300 [00:11<00:02, 61.72it/s, loss=0.000497]"
     ]
    },
    {
     "name": "stderr",
     "output_type": "stream",
     "text": [
      "\r",
      " 47%|████▋     | 142/300 [00:11<00:02, 61.72it/s, loss=0.000497]"
     ]
    },
    {
     "name": "stderr",
     "output_type": "stream",
     "text": [
      "\r",
      " 47%|████▋     | 142/300 [00:11<00:02, 61.72it/s, loss=0.000497]"
     ]
    },
    {
     "name": "stderr",
     "output_type": "stream",
     "text": [
      "\r",
      " 47%|████▋     | 142/300 [00:11<00:02, 61.72it/s, loss=0.000497]"
     ]
    },
    {
     "name": "stderr",
     "output_type": "stream",
     "text": [
      "\r",
      " 47%|████▋     | 142/300 [00:11<00:02, 61.72it/s, loss=0.000497]"
     ]
    },
    {
     "name": "stderr",
     "output_type": "stream",
     "text": [
      "\r",
      " 47%|████▋     | 142/300 [00:12<00:02, 61.72it/s, loss=0.000497]"
     ]
    },
    {
     "name": "stderr",
     "output_type": "stream",
     "text": [
      "\r",
      " 47%|████▋     | 142/300 [00:12<00:02, 61.72it/s, loss=0.000497]"
     ]
    },
    {
     "name": "stderr",
     "output_type": "stream",
     "text": [
      "\r",
      " 47%|████▋     | 142/300 [00:12<00:02, 61.72it/s, loss=0.000497]"
     ]
    },
    {
     "name": "stderr",
     "output_type": "stream",
     "text": [
      "\r",
      " 50%|████▉     | 149/300 [00:12<00:02, 61.62it/s, loss=0.000497]"
     ]
    },
    {
     "name": "stderr",
     "output_type": "stream",
     "text": [
      "\r",
      " 50%|████▉     | 149/300 [00:12<00:02, 61.62it/s, loss=0.000497]"
     ]
    },
    {
     "name": "stderr",
     "output_type": "stream",
     "text": [
      "\r",
      " 50%|████▉     | 149/300 [00:12<00:02, 61.62it/s, loss=0.000497]"
     ]
    },
    {
     "name": "stderr",
     "output_type": "stream",
     "text": [
      "\r",
      " 50%|████▉     | 149/300 [00:12<00:02, 61.62it/s, loss=0.000497]"
     ]
    },
    {
     "name": "stderr",
     "output_type": "stream",
     "text": [
      "\r",
      " 50%|████▉     | 149/300 [00:12<00:02, 61.62it/s, loss=0.000497]"
     ]
    },
    {
     "name": "stderr",
     "output_type": "stream",
     "text": [
      "\r",
      " 50%|████▉     | 149/300 [00:12<00:02, 61.62it/s, loss=0.000497]"
     ]
    },
    {
     "name": "stderr",
     "output_type": "stream",
     "text": [
      "\r",
      " 50%|████▉     | 149/300 [00:12<00:02, 61.62it/s, loss=0.000497]"
     ]
    },
    {
     "name": "stderr",
     "output_type": "stream",
     "text": [
      "\r",
      " 50%|████▉     | 149/300 [00:12<00:02, 61.62it/s, loss=0.000497]"
     ]
    },
    {
     "name": "stderr",
     "output_type": "stream",
     "text": [
      "\r",
      " 52%|█████▏    | 156/300 [00:12<00:02, 61.57it/s, loss=0.000497]"
     ]
    },
    {
     "name": "stderr",
     "output_type": "stream",
     "text": [
      "\r",
      " 52%|█████▏    | 156/300 [00:12<00:02, 61.57it/s, loss=0.000497]"
     ]
    },
    {
     "name": "stderr",
     "output_type": "stream",
     "text": [
      "\r",
      " 52%|█████▏    | 156/300 [00:12<00:02, 61.57it/s, loss=0.000497]"
     ]
    },
    {
     "name": "stderr",
     "output_type": "stream",
     "text": [
      "\r",
      " 52%|█████▏    | 156/300 [00:12<00:02, 61.57it/s, loss=0.000497]"
     ]
    },
    {
     "name": "stderr",
     "output_type": "stream",
     "text": [
      "\r",
      " 52%|█████▏    | 156/300 [00:12<00:02, 61.57it/s, loss=0.000497]"
     ]
    },
    {
     "name": "stderr",
     "output_type": "stream",
     "text": [
      "\r",
      " 52%|█████▏    | 156/300 [00:12<00:02, 61.57it/s, loss=0.000497]"
     ]
    },
    {
     "name": "stderr",
     "output_type": "stream",
     "text": [
      "\r",
      " 52%|█████▏    | 156/300 [00:12<00:02, 61.57it/s, loss=0.000497]"
     ]
    },
    {
     "name": "stderr",
     "output_type": "stream",
     "text": [
      "\r",
      " 52%|█████▏    | 156/300 [00:12<00:02, 61.57it/s, loss=0.000497]"
     ]
    },
    {
     "name": "stderr",
     "output_type": "stream",
     "text": [
      "\r",
      " 54%|█████▍    | 163/300 [00:12<00:02, 61.65it/s, loss=0.000497]"
     ]
    },
    {
     "name": "stderr",
     "output_type": "stream",
     "text": [
      "\r",
      " 54%|█████▍    | 163/300 [00:12<00:02, 61.65it/s, loss=0.000497]"
     ]
    },
    {
     "name": "stderr",
     "output_type": "stream",
     "text": [
      "\r",
      " 54%|█████▍    | 163/300 [00:12<00:02, 61.65it/s, loss=0.000497]"
     ]
    },
    {
     "name": "stderr",
     "output_type": "stream",
     "text": [
      "\r",
      " 54%|█████▍    | 163/300 [00:12<00:02, 61.65it/s, loss=0.000497]"
     ]
    },
    {
     "name": "stderr",
     "output_type": "stream",
     "text": [
      "\r",
      " 54%|█████▍    | 163/300 [00:12<00:02, 61.65it/s, loss=0.000497]"
     ]
    },
    {
     "name": "stderr",
     "output_type": "stream",
     "text": [
      "\r",
      " 54%|█████▍    | 163/300 [00:12<00:02, 61.65it/s, loss=0.000497]"
     ]
    },
    {
     "name": "stderr",
     "output_type": "stream",
     "text": [
      "\r",
      " 54%|█████▍    | 163/300 [00:12<00:02, 61.65it/s, loss=0.000497]"
     ]
    },
    {
     "name": "stderr",
     "output_type": "stream",
     "text": [
      "\r",
      " 54%|█████▍    | 163/300 [00:12<00:02, 61.65it/s, loss=0.000497]"
     ]
    },
    {
     "name": "stderr",
     "output_type": "stream",
     "text": [
      "\r",
      " 57%|█████▋    | 170/300 [00:12<00:02, 61.12it/s, loss=0.000497]"
     ]
    },
    {
     "name": "stderr",
     "output_type": "stream",
     "text": [
      "\r",
      " 57%|█████▋    | 170/300 [00:12<00:02, 61.12it/s, loss=0.000497]"
     ]
    },
    {
     "name": "stderr",
     "output_type": "stream",
     "text": [
      "\r",
      " 57%|█████▋    | 170/300 [00:12<00:02, 61.12it/s, loss=0.000497]"
     ]
    },
    {
     "name": "stderr",
     "output_type": "stream",
     "text": [
      "\r",
      " 57%|█████▋    | 170/300 [00:12<00:02, 61.12it/s, loss=0.000497]"
     ]
    },
    {
     "name": "stderr",
     "output_type": "stream",
     "text": [
      "\r",
      " 57%|█████▋    | 170/300 [00:12<00:02, 61.12it/s, loss=0.000497]"
     ]
    },
    {
     "name": "stderr",
     "output_type": "stream",
     "text": [
      "\r",
      " 57%|█████▋    | 170/300 [00:12<00:02, 61.12it/s, loss=0.000497]"
     ]
    },
    {
     "name": "stderr",
     "output_type": "stream",
     "text": [
      "\r",
      " 57%|█████▋    | 170/300 [00:12<00:02, 61.12it/s, loss=0.000497]"
     ]
    },
    {
     "name": "stderr",
     "output_type": "stream",
     "text": [
      "\r",
      " 57%|█████▋    | 170/300 [00:12<00:02, 61.12it/s, loss=0.000497]"
     ]
    },
    {
     "name": "stderr",
     "output_type": "stream",
     "text": [
      "\r",
      " 59%|█████▉    | 177/300 [00:12<00:02, 60.74it/s, loss=0.000497]"
     ]
    },
    {
     "name": "stderr",
     "output_type": "stream",
     "text": [
      "\r",
      " 59%|█████▉    | 177/300 [00:12<00:02, 60.74it/s, loss=0.000497]"
     ]
    },
    {
     "name": "stderr",
     "output_type": "stream",
     "text": [
      "\r",
      " 59%|█████▉    | 177/300 [00:12<00:02, 60.74it/s, loss=0.000497]"
     ]
    },
    {
     "name": "stderr",
     "output_type": "stream",
     "text": [
      "\r",
      " 59%|█████▉    | 177/300 [00:12<00:02, 60.74it/s, loss=0.000497]"
     ]
    },
    {
     "name": "stderr",
     "output_type": "stream",
     "text": [
      "\r",
      " 59%|█████▉    | 177/300 [00:12<00:02, 60.74it/s, loss=0.000497]"
     ]
    },
    {
     "name": "stderr",
     "output_type": "stream",
     "text": [
      "\r",
      " 59%|█████▉    | 177/300 [00:12<00:02, 60.74it/s, loss=0.000497]"
     ]
    },
    {
     "name": "stderr",
     "output_type": "stream",
     "text": [
      "\r",
      " 59%|█████▉    | 177/300 [00:12<00:02, 60.74it/s, loss=0.000497]"
     ]
    },
    {
     "name": "stderr",
     "output_type": "stream",
     "text": [
      "\r",
      " 59%|█████▉    | 177/300 [00:12<00:02, 60.74it/s, loss=0.000497]"
     ]
    },
    {
     "name": "stderr",
     "output_type": "stream",
     "text": [
      "\r",
      " 61%|██████▏   | 184/300 [00:12<00:01, 61.08it/s, loss=0.000497]"
     ]
    },
    {
     "name": "stderr",
     "output_type": "stream",
     "text": [
      "\r",
      " 61%|██████▏   | 184/300 [00:12<00:01, 61.08it/s, loss=0.000497]"
     ]
    },
    {
     "name": "stderr",
     "output_type": "stream",
     "text": [
      "\r",
      " 61%|██████▏   | 184/300 [00:12<00:01, 61.08it/s, loss=0.000497]"
     ]
    },
    {
     "name": "stderr",
     "output_type": "stream",
     "text": [
      "\r",
      " 61%|██████▏   | 184/300 [00:12<00:01, 61.08it/s, loss=0.000497]"
     ]
    },
    {
     "name": "stderr",
     "output_type": "stream",
     "text": [
      "\r",
      " 61%|██████▏   | 184/300 [00:12<00:01, 61.08it/s, loss=0.000497]"
     ]
    },
    {
     "name": "stderr",
     "output_type": "stream",
     "text": [
      "\r",
      " 61%|██████▏   | 184/300 [00:12<00:01, 61.08it/s, loss=0.000497]"
     ]
    },
    {
     "name": "stderr",
     "output_type": "stream",
     "text": [
      "\r",
      " 61%|██████▏   | 184/300 [00:12<00:01, 61.08it/s, loss=0.000497]"
     ]
    },
    {
     "name": "stderr",
     "output_type": "stream",
     "text": [
      "\r",
      " 61%|██████▏   | 184/300 [00:12<00:01, 61.08it/s, loss=0.000497]"
     ]
    },
    {
     "name": "stderr",
     "output_type": "stream",
     "text": [
      "\r",
      " 64%|██████▎   | 191/300 [00:12<00:01, 60.60it/s, loss=0.000497]"
     ]
    },
    {
     "name": "stderr",
     "output_type": "stream",
     "text": [
      "\r",
      " 64%|██████▎   | 191/300 [00:12<00:01, 60.60it/s, loss=0.000497]"
     ]
    },
    {
     "name": "stderr",
     "output_type": "stream",
     "text": [
      "\r",
      " 64%|██████▎   | 191/300 [00:12<00:01, 60.60it/s, loss=0.000497]"
     ]
    },
    {
     "name": "stderr",
     "output_type": "stream",
     "text": [
      "\r",
      " 64%|██████▎   | 191/300 [00:12<00:01, 60.60it/s, loss=0.000497]"
     ]
    },
    {
     "name": "stderr",
     "output_type": "stream",
     "text": [
      "\r",
      " 64%|██████▎   | 191/300 [00:12<00:01, 60.60it/s, loss=0.000497]"
     ]
    },
    {
     "name": "stderr",
     "output_type": "stream",
     "text": [
      "\r",
      " 64%|██████▎   | 191/300 [00:12<00:01, 60.60it/s, loss=0.000497]"
     ]
    },
    {
     "name": "stderr",
     "output_type": "stream",
     "text": [
      "\r",
      " 64%|██████▎   | 191/300 [00:12<00:01, 60.60it/s, loss=0.000497]"
     ]
    },
    {
     "name": "stderr",
     "output_type": "stream",
     "text": [
      "\r",
      " 64%|██████▎   | 191/300 [00:12<00:01, 60.60it/s, loss=0.000497]"
     ]
    },
    {
     "name": "stderr",
     "output_type": "stream",
     "text": [
      "\r",
      " 66%|██████▌   | 198/300 [00:12<00:01, 61.21it/s, loss=0.000497]"
     ]
    },
    {
     "name": "stderr",
     "output_type": "stream",
     "text": [
      "\r",
      " 66%|██████▌   | 198/300 [00:12<00:01, 61.21it/s, loss=0.000497]"
     ]
    },
    {
     "name": "stderr",
     "output_type": "stream",
     "text": [
      "\r",
      " 66%|██████▌   | 198/300 [00:12<00:01, 61.21it/s, loss=0.000497]"
     ]
    },
    {
     "name": "stderr",
     "output_type": "stream",
     "text": [
      "\r",
      " 66%|██████▌   | 198/300 [00:12<00:01, 61.21it/s, loss=0.000497]"
     ]
    },
    {
     "name": "stderr",
     "output_type": "stream",
     "text": [
      "\r",
      " 66%|██████▌   | 198/300 [00:12<00:01, 61.21it/s, loss=0.000497]"
     ]
    },
    {
     "name": "stderr",
     "output_type": "stream",
     "text": [
      "\r",
      " 66%|██████▌   | 198/300 [00:12<00:01, 61.21it/s, loss=0.000497]"
     ]
    },
    {
     "name": "stderr",
     "output_type": "stream",
     "text": [
      "\r",
      " 66%|██████▌   | 198/300 [00:12<00:01, 61.21it/s, loss=0.000497]"
     ]
    },
    {
     "name": "stderr",
     "output_type": "stream",
     "text": [
      "\r",
      " 66%|██████▌   | 198/300 [00:12<00:01, 61.21it/s, loss=0.000497]"
     ]
    },
    {
     "name": "stderr",
     "output_type": "stream",
     "text": [
      "\r",
      " 68%|██████▊   | 205/300 [00:12<00:01, 61.53it/s, loss=0.000497]"
     ]
    },
    {
     "name": "stderr",
     "output_type": "stream",
     "text": [
      "\r",
      " 68%|██████▊   | 205/300 [00:12<00:01, 61.53it/s, loss=0.000497]"
     ]
    },
    {
     "name": "stderr",
     "output_type": "stream",
     "text": [
      "\r",
      " 68%|██████▊   | 205/300 [00:12<00:01, 61.53it/s, loss=0.000497]"
     ]
    },
    {
     "name": "stderr",
     "output_type": "stream",
     "text": [
      "\r",
      " 68%|██████▊   | 205/300 [00:13<00:01, 61.53it/s, loss=0.000497]"
     ]
    },
    {
     "name": "stderr",
     "output_type": "stream",
     "text": [
      "\r",
      " 68%|██████▊   | 205/300 [00:13<00:01, 61.53it/s, loss=0.000497]"
     ]
    },
    {
     "name": "stderr",
     "output_type": "stream",
     "text": [
      "\r",
      " 68%|██████▊   | 205/300 [00:13<00:01, 61.53it/s, loss=0.000497]"
     ]
    },
    {
     "name": "stderr",
     "output_type": "stream",
     "text": [
      "\r",
      " 68%|██████▊   | 205/300 [00:13<00:01, 61.53it/s, loss=0.000497]"
     ]
    },
    {
     "name": "stderr",
     "output_type": "stream",
     "text": [
      "\r",
      " 68%|██████▊   | 205/300 [00:13<00:01, 61.53it/s, loss=0.000497]"
     ]
    },
    {
     "name": "stderr",
     "output_type": "stream",
     "text": [
      "\r",
      " 71%|███████   | 212/300 [00:13<00:01, 61.05it/s, loss=0.000497]"
     ]
    },
    {
     "name": "stderr",
     "output_type": "stream",
     "text": [
      "\r",
      " 71%|███████   | 212/300 [00:13<00:01, 61.05it/s, loss=0.000497]"
     ]
    },
    {
     "name": "stderr",
     "output_type": "stream",
     "text": [
      "\r",
      " 71%|███████   | 212/300 [00:13<00:01, 61.05it/s, loss=0.000497]"
     ]
    },
    {
     "name": "stderr",
     "output_type": "stream",
     "text": [
      "\r",
      " 71%|███████   | 212/300 [00:13<00:01, 61.05it/s, loss=0.000497]"
     ]
    },
    {
     "name": "stderr",
     "output_type": "stream",
     "text": [
      "\r",
      " 71%|███████   | 212/300 [00:13<00:01, 61.05it/s, loss=0.000497]"
     ]
    },
    {
     "name": "stderr",
     "output_type": "stream",
     "text": [
      "\r",
      " 71%|███████   | 212/300 [00:13<00:01, 61.05it/s, loss=0.000497]"
     ]
    },
    {
     "name": "stderr",
     "output_type": "stream",
     "text": [
      "\r",
      " 71%|███████   | 212/300 [00:13<00:01, 61.05it/s, loss=0.000497]"
     ]
    },
    {
     "name": "stderr",
     "output_type": "stream",
     "text": [
      "\r",
      " 71%|███████   | 212/300 [00:13<00:01, 61.05it/s, loss=0.000497]"
     ]
    },
    {
     "name": "stderr",
     "output_type": "stream",
     "text": [
      "\r",
      " 73%|███████▎  | 219/300 [00:13<00:01, 61.21it/s, loss=0.000497]"
     ]
    },
    {
     "name": "stderr",
     "output_type": "stream",
     "text": [
      "\r",
      " 73%|███████▎  | 219/300 [00:13<00:01, 61.21it/s, loss=0.000497]"
     ]
    },
    {
     "name": "stderr",
     "output_type": "stream",
     "text": [
      "\r",
      " 73%|███████▎  | 219/300 [00:13<00:01, 61.21it/s, loss=0.000497]"
     ]
    },
    {
     "name": "stderr",
     "output_type": "stream",
     "text": [
      "\r",
      " 73%|███████▎  | 219/300 [00:13<00:01, 61.21it/s, loss=0.000497]"
     ]
    },
    {
     "name": "stderr",
     "output_type": "stream",
     "text": [
      "\r",
      " 73%|███████▎  | 219/300 [00:13<00:01, 61.21it/s, loss=0.000497]"
     ]
    },
    {
     "name": "stderr",
     "output_type": "stream",
     "text": [
      "\r",
      " 73%|███████▎  | 219/300 [00:13<00:01, 61.21it/s, loss=0.000497]"
     ]
    },
    {
     "name": "stderr",
     "output_type": "stream",
     "text": [
      "\r",
      " 73%|███████▎  | 219/300 [00:13<00:01, 61.21it/s, loss=0.000497]"
     ]
    },
    {
     "name": "stderr",
     "output_type": "stream",
     "text": [
      "\r",
      " 73%|███████▎  | 219/300 [00:13<00:01, 61.21it/s, loss=0.000497]"
     ]
    },
    {
     "name": "stderr",
     "output_type": "stream",
     "text": [
      "\r",
      " 75%|███████▌  | 226/300 [00:13<00:01, 60.41it/s, loss=0.000497]"
     ]
    },
    {
     "name": "stderr",
     "output_type": "stream",
     "text": [
      "\r",
      " 75%|███████▌  | 226/300 [00:13<00:01, 60.41it/s, loss=0.000497]"
     ]
    },
    {
     "name": "stderr",
     "output_type": "stream",
     "text": [
      "\r",
      " 75%|███████▌  | 226/300 [00:13<00:01, 60.41it/s, loss=0.000497]"
     ]
    },
    {
     "name": "stderr",
     "output_type": "stream",
     "text": [
      "\r",
      " 75%|███████▌  | 226/300 [00:13<00:01, 60.41it/s, loss=0.000497]"
     ]
    },
    {
     "name": "stderr",
     "output_type": "stream",
     "text": [
      "\r",
      " 75%|███████▌  | 226/300 [00:13<00:01, 60.41it/s, loss=0.000497]"
     ]
    },
    {
     "name": "stderr",
     "output_type": "stream",
     "text": [
      "\r",
      " 75%|███████▌  | 226/300 [00:13<00:01, 60.41it/s, loss=0.000497]"
     ]
    },
    {
     "name": "stderr",
     "output_type": "stream",
     "text": [
      "\r",
      " 75%|███████▌  | 226/300 [00:13<00:01, 60.41it/s, loss=0.000497]"
     ]
    },
    {
     "name": "stderr",
     "output_type": "stream",
     "text": [
      "\r",
      " 75%|███████▌  | 226/300 [00:13<00:01, 60.41it/s, loss=0.000497]"
     ]
    },
    {
     "name": "stderr",
     "output_type": "stream",
     "text": [
      "\r",
      " 78%|███████▊  | 233/300 [00:13<00:01, 59.75it/s, loss=0.000497]"
     ]
    },
    {
     "name": "stderr",
     "output_type": "stream",
     "text": [
      "\r",
      " 78%|███████▊  | 233/300 [00:13<00:01, 59.75it/s, loss=0.000497]"
     ]
    },
    {
     "name": "stderr",
     "output_type": "stream",
     "text": [
      "\r",
      " 78%|███████▊  | 233/300 [00:13<00:01, 59.75it/s, loss=0.000497]"
     ]
    },
    {
     "name": "stderr",
     "output_type": "stream",
     "text": [
      "\r",
      " 78%|███████▊  | 233/300 [00:13<00:01, 59.75it/s, loss=0.000497]"
     ]
    },
    {
     "name": "stderr",
     "output_type": "stream",
     "text": [
      "\r",
      " 78%|███████▊  | 233/300 [00:13<00:01, 59.75it/s, loss=0.000497]"
     ]
    },
    {
     "name": "stderr",
     "output_type": "stream",
     "text": [
      "\r",
      " 78%|███████▊  | 233/300 [00:13<00:01, 59.75it/s, loss=0.000497]"
     ]
    },
    {
     "name": "stderr",
     "output_type": "stream",
     "text": [
      "\r",
      " 78%|███████▊  | 233/300 [00:13<00:01, 59.75it/s, loss=0.000497]"
     ]
    },
    {
     "name": "stderr",
     "output_type": "stream",
     "text": [
      "\r",
      " 78%|███████▊  | 233/300 [00:13<00:01, 59.75it/s, loss=0.000497]"
     ]
    },
    {
     "name": "stderr",
     "output_type": "stream",
     "text": [
      "\r",
      " 80%|████████  | 240/300 [00:13<00:00, 60.66it/s, loss=0.000497]"
     ]
    },
    {
     "name": "stderr",
     "output_type": "stream",
     "text": [
      "\r",
      " 80%|████████  | 240/300 [00:13<00:00, 60.66it/s, loss=0.000497]"
     ]
    },
    {
     "name": "stderr",
     "output_type": "stream",
     "text": [
      "\r",
      " 80%|████████  | 240/300 [00:13<00:00, 60.66it/s, loss=0.000497]"
     ]
    },
    {
     "name": "stderr",
     "output_type": "stream",
     "text": [
      "\r",
      " 80%|████████  | 240/300 [00:13<00:00, 60.66it/s, loss=0.000497]"
     ]
    },
    {
     "name": "stderr",
     "output_type": "stream",
     "text": [
      "\r",
      " 80%|████████  | 240/300 [00:13<00:00, 60.66it/s, loss=0.000497]"
     ]
    },
    {
     "name": "stderr",
     "output_type": "stream",
     "text": [
      "\r",
      " 80%|████████  | 240/300 [00:13<00:00, 60.66it/s, loss=0.000497]"
     ]
    },
    {
     "name": "stderr",
     "output_type": "stream",
     "text": [
      "\r",
      " 80%|████████  | 240/300 [00:13<00:00, 60.66it/s, loss=0.000497]"
     ]
    },
    {
     "name": "stderr",
     "output_type": "stream",
     "text": [
      "\r",
      " 80%|████████  | 240/300 [00:13<00:00, 60.66it/s, loss=0.000497]"
     ]
    },
    {
     "name": "stderr",
     "output_type": "stream",
     "text": [
      "\r",
      " 82%|████████▏ | 247/300 [00:13<00:00, 60.94it/s, loss=0.000497]"
     ]
    },
    {
     "name": "stderr",
     "output_type": "stream",
     "text": [
      "\r",
      " 82%|████████▏ | 247/300 [00:13<00:00, 60.94it/s, loss=0.000497]"
     ]
    },
    {
     "name": "stderr",
     "output_type": "stream",
     "text": [
      "\r",
      " 82%|████████▏ | 247/300 [00:13<00:00, 60.94it/s, loss=0.000497]"
     ]
    },
    {
     "name": "stderr",
     "output_type": "stream",
     "text": [
      "\r",
      " 82%|████████▏ | 247/300 [00:13<00:00, 60.94it/s, loss=0.000497]"
     ]
    },
    {
     "name": "stderr",
     "output_type": "stream",
     "text": [
      "\r",
      " 82%|████████▏ | 247/300 [00:13<00:00, 60.94it/s, loss=0.000497]"
     ]
    },
    {
     "name": "stderr",
     "output_type": "stream",
     "text": [
      "\r",
      " 82%|████████▏ | 247/300 [00:13<00:00, 60.94it/s, loss=0.000497]"
     ]
    },
    {
     "name": "stderr",
     "output_type": "stream",
     "text": [
      "\r",
      " 82%|████████▏ | 247/300 [00:13<00:00, 60.94it/s, loss=0.000497]"
     ]
    },
    {
     "name": "stderr",
     "output_type": "stream",
     "text": [
      "\r",
      " 82%|████████▏ | 247/300 [00:13<00:00, 60.94it/s, loss=0.000497]"
     ]
    },
    {
     "name": "stderr",
     "output_type": "stream",
     "text": [
      "\r",
      " 85%|████████▍ | 254/300 [00:13<00:00, 60.69it/s, loss=0.000497]"
     ]
    },
    {
     "name": "stderr",
     "output_type": "stream",
     "text": [
      "\r",
      " 85%|████████▍ | 254/300 [00:13<00:00, 60.69it/s, loss=0.000497]"
     ]
    },
    {
     "name": "stderr",
     "output_type": "stream",
     "text": [
      "\r",
      " 85%|████████▍ | 254/300 [00:13<00:00, 60.69it/s, loss=0.000497]"
     ]
    },
    {
     "name": "stderr",
     "output_type": "stream",
     "text": [
      "\r",
      " 85%|████████▍ | 254/300 [00:13<00:00, 60.69it/s, loss=0.000497]"
     ]
    },
    {
     "name": "stderr",
     "output_type": "stream",
     "text": [
      "\r",
      " 85%|████████▍ | 254/300 [00:13<00:00, 60.69it/s, loss=0.000497]"
     ]
    },
    {
     "name": "stderr",
     "output_type": "stream",
     "text": [
      "\r",
      " 85%|████████▍ | 254/300 [00:13<00:00, 60.69it/s, loss=0.000497]"
     ]
    },
    {
     "name": "stderr",
     "output_type": "stream",
     "text": [
      "\r",
      " 85%|████████▍ | 254/300 [00:13<00:00, 60.69it/s, loss=0.000497]"
     ]
    },
    {
     "name": "stderr",
     "output_type": "stream",
     "text": [
      "\r",
      " 85%|████████▍ | 254/300 [00:13<00:00, 60.69it/s, loss=0.000497]"
     ]
    },
    {
     "name": "stderr",
     "output_type": "stream",
     "text": [
      "\r",
      " 87%|████████▋ | 261/300 [00:13<00:00, 61.86it/s, loss=0.000497]"
     ]
    },
    {
     "name": "stderr",
     "output_type": "stream",
     "text": [
      "\r",
      " 87%|████████▋ | 261/300 [00:13<00:00, 61.86it/s, loss=0.000497]"
     ]
    },
    {
     "name": "stderr",
     "output_type": "stream",
     "text": [
      "\r",
      " 87%|████████▋ | 261/300 [00:13<00:00, 61.86it/s, loss=0.000497]"
     ]
    },
    {
     "name": "stderr",
     "output_type": "stream",
     "text": [
      "\r",
      " 87%|████████▋ | 261/300 [00:13<00:00, 61.86it/s, loss=0.000497]"
     ]
    },
    {
     "name": "stderr",
     "output_type": "stream",
     "text": [
      "\r",
      " 87%|████████▋ | 261/300 [00:13<00:00, 61.86it/s, loss=0.000497]"
     ]
    },
    {
     "name": "stderr",
     "output_type": "stream",
     "text": [
      "\r",
      " 87%|████████▋ | 261/300 [00:13<00:00, 61.86it/s, loss=0.000497]"
     ]
    },
    {
     "name": "stderr",
     "output_type": "stream",
     "text": [
      "\r",
      " 87%|████████▋ | 261/300 [00:13<00:00, 61.86it/s, loss=0.000497]"
     ]
    },
    {
     "name": "stderr",
     "output_type": "stream",
     "text": [
      "\r",
      " 87%|████████▋ | 261/300 [00:13<00:00, 61.86it/s, loss=0.000497]"
     ]
    },
    {
     "name": "stderr",
     "output_type": "stream",
     "text": [
      "\r",
      " 89%|████████▉ | 268/300 [00:13<00:00, 61.89it/s, loss=0.000497]"
     ]
    },
    {
     "name": "stderr",
     "output_type": "stream",
     "text": [
      "\r",
      " 89%|████████▉ | 268/300 [00:14<00:00, 61.89it/s, loss=0.000497]"
     ]
    },
    {
     "name": "stderr",
     "output_type": "stream",
     "text": [
      "\r",
      " 89%|████████▉ | 268/300 [00:14<00:00, 61.89it/s, loss=0.000497]"
     ]
    },
    {
     "name": "stderr",
     "output_type": "stream",
     "text": [
      "\r",
      " 89%|████████▉ | 268/300 [00:14<00:00, 61.89it/s, loss=0.000497]"
     ]
    },
    {
     "name": "stderr",
     "output_type": "stream",
     "text": [
      "\r",
      " 89%|████████▉ | 268/300 [00:14<00:00, 61.89it/s, loss=0.000497]"
     ]
    },
    {
     "name": "stderr",
     "output_type": "stream",
     "text": [
      "\r",
      " 89%|████████▉ | 268/300 [00:14<00:00, 61.89it/s, loss=0.000497]"
     ]
    },
    {
     "name": "stderr",
     "output_type": "stream",
     "text": [
      "\r",
      " 89%|████████▉ | 268/300 [00:14<00:00, 61.89it/s, loss=0.000497]"
     ]
    },
    {
     "name": "stderr",
     "output_type": "stream",
     "text": [
      "\r",
      " 89%|████████▉ | 268/300 [00:14<00:00, 61.89it/s, loss=0.000497]"
     ]
    },
    {
     "name": "stderr",
     "output_type": "stream",
     "text": [
      "\r",
      " 92%|█████████▏| 275/300 [00:14<00:00, 61.94it/s, loss=0.000497]"
     ]
    },
    {
     "name": "stderr",
     "output_type": "stream",
     "text": [
      "\r",
      " 92%|█████████▏| 275/300 [00:14<00:00, 61.94it/s, loss=0.000497]"
     ]
    },
    {
     "name": "stderr",
     "output_type": "stream",
     "text": [
      "\r",
      " 92%|█████████▏| 275/300 [00:14<00:00, 61.94it/s, loss=0.000497]"
     ]
    },
    {
     "name": "stderr",
     "output_type": "stream",
     "text": [
      "\r",
      " 92%|█████████▏| 275/300 [00:14<00:00, 61.94it/s, loss=0.000497]"
     ]
    },
    {
     "name": "stderr",
     "output_type": "stream",
     "text": [
      "\r",
      " 92%|█████████▏| 275/300 [00:14<00:00, 61.94it/s, loss=0.000497]"
     ]
    },
    {
     "name": "stderr",
     "output_type": "stream",
     "text": [
      "\r",
      " 92%|█████████▏| 275/300 [00:14<00:00, 61.94it/s, loss=0.000497]"
     ]
    },
    {
     "name": "stderr",
     "output_type": "stream",
     "text": [
      "\r",
      " 92%|█████████▏| 275/300 [00:14<00:00, 61.94it/s, loss=0.000497]"
     ]
    },
    {
     "name": "stderr",
     "output_type": "stream",
     "text": [
      "\r",
      " 92%|█████████▏| 275/300 [00:14<00:00, 61.94it/s, loss=0.000497]"
     ]
    },
    {
     "name": "stderr",
     "output_type": "stream",
     "text": [
      "\r",
      " 94%|█████████▍| 282/300 [00:14<00:00, 62.13it/s, loss=0.000497]"
     ]
    },
    {
     "name": "stderr",
     "output_type": "stream",
     "text": [
      "\r",
      " 94%|█████████▍| 282/300 [00:14<00:00, 62.13it/s, loss=0.000497]"
     ]
    },
    {
     "name": "stderr",
     "output_type": "stream",
     "text": [
      "\r",
      " 94%|█████████▍| 282/300 [00:14<00:00, 62.13it/s, loss=0.000497]"
     ]
    },
    {
     "name": "stderr",
     "output_type": "stream",
     "text": [
      "\r",
      " 94%|█████████▍| 282/300 [00:14<00:00, 62.13it/s, loss=0.000497]"
     ]
    },
    {
     "name": "stderr",
     "output_type": "stream",
     "text": [
      "\r",
      " 94%|█████████▍| 282/300 [00:14<00:00, 62.13it/s, loss=0.000497]"
     ]
    },
    {
     "name": "stderr",
     "output_type": "stream",
     "text": [
      "\r",
      " 94%|█████████▍| 282/300 [00:14<00:00, 62.13it/s, loss=0.000497]"
     ]
    },
    {
     "name": "stderr",
     "output_type": "stream",
     "text": [
      "\r",
      " 94%|█████████▍| 282/300 [00:14<00:00, 62.13it/s, loss=0.000497]"
     ]
    },
    {
     "name": "stderr",
     "output_type": "stream",
     "text": [
      "\r",
      " 94%|█████████▍| 282/300 [00:14<00:00, 62.13it/s, loss=0.000497]"
     ]
    },
    {
     "name": "stderr",
     "output_type": "stream",
     "text": [
      "\r",
      " 96%|█████████▋| 289/300 [00:14<00:00, 62.28it/s, loss=0.000497]"
     ]
    },
    {
     "name": "stderr",
     "output_type": "stream",
     "text": [
      "\r",
      " 96%|█████████▋| 289/300 [00:14<00:00, 62.28it/s, loss=0.000497]"
     ]
    },
    {
     "name": "stderr",
     "output_type": "stream",
     "text": [
      "\r",
      " 96%|█████████▋| 289/300 [00:14<00:00, 62.28it/s, loss=0.000497]"
     ]
    },
    {
     "name": "stderr",
     "output_type": "stream",
     "text": [
      "\r",
      " 96%|█████████▋| 289/300 [00:14<00:00, 62.28it/s, loss=0.000497]"
     ]
    },
    {
     "name": "stderr",
     "output_type": "stream",
     "text": [
      "\r",
      " 96%|█████████▋| 289/300 [00:14<00:00, 62.28it/s, loss=0.000497]"
     ]
    },
    {
     "name": "stderr",
     "output_type": "stream",
     "text": [
      "\r",
      " 96%|█████████▋| 289/300 [00:14<00:00, 62.28it/s, loss=0.000497]"
     ]
    },
    {
     "name": "stderr",
     "output_type": "stream",
     "text": [
      "\r",
      " 96%|█████████▋| 289/300 [00:14<00:00, 62.28it/s, loss=0.000497]"
     ]
    },
    {
     "name": "stderr",
     "output_type": "stream",
     "text": [
      "\r",
      " 96%|█████████▋| 289/300 [00:14<00:00, 62.28it/s, loss=0.000497]"
     ]
    },
    {
     "name": "stderr",
     "output_type": "stream",
     "text": [
      "\r",
      " 99%|█████████▊| 296/300 [00:14<00:00, 61.38it/s, loss=0.000497]"
     ]
    },
    {
     "name": "stderr",
     "output_type": "stream",
     "text": [
      "\r",
      " 99%|█████████▊| 296/300 [00:14<00:00, 61.38it/s, loss=0.000497]"
     ]
    },
    {
     "name": "stderr",
     "output_type": "stream",
     "text": [
      "\r",
      " 99%|█████████▊| 296/300 [00:14<00:00, 61.38it/s, loss=0.000497]"
     ]
    },
    {
     "name": "stderr",
     "output_type": "stream",
     "text": [
      "\r",
      " 99%|█████████▊| 296/300 [00:14<00:00, 61.38it/s, loss=0.000497]"
     ]
    },
    {
     "name": "stderr",
     "output_type": "stream",
     "text": [
      "\r",
      " 99%|█████████▊| 296/300 [00:14<00:00, 61.38it/s, loss=0.000497]"
     ]
    },
    {
     "name": "stderr",
     "output_type": "stream",
     "text": [
      "\r",
      "100%|██████████| 300/300 [00:14<00:00, 20.68it/s, loss=0.000497]"
     ]
    },
    {
     "name": "stderr",
     "output_type": "stream",
     "text": [
      "\n"
     ]
    }
   ],
   "source": [
    "import tqdm\n",
    "\n",
    "range_ = tqdm.trange(300)\n",
    "for step in range_:\n",
    "    lossvalue, optim_state = train_step(step, optim_state)\n",
    "    range_.set_postfix(loss=f\"{lossvalue:.6f}\")"
   ]
  },
  {
   "cell_type": "code",
   "execution_count": 28,
   "id": "ca045b90-46c1-451b-a5bb-3969e4dbc80c",
   "metadata": {
    "execution": {
     "iopub.execute_input": "2022-06-15T17:11:12.624793Z",
     "iopub.status.busy": "2022-06-15T17:11:12.624365Z",
     "iopub.status.idle": "2022-06-15T17:11:12.629550Z",
     "shell.execute_reply": "2022-06-15T17:11:12.628987Z"
    }
   },
   "outputs": [
    {
     "data": {
      "text/plain": [
       "10.08127"
      ]
     },
     "execution_count": 28,
     "metadata": {},
     "output_type": "execute_result"
    }
   ],
   "source": [
    "delta_length = optim_params(optim_state)\n",
    "delta_length"
   ]
  },
  {
   "cell_type": "code",
   "execution_count": 29,
   "id": "31f258fd-e601-491c-8766-ac80553e9ed2",
   "metadata": {
    "execution": {
     "iopub.execute_input": "2022-06-15T17:11:12.631958Z",
     "iopub.status.busy": "2022-06-15T17:11:12.631745Z",
     "iopub.status.idle": "2022-06-15T17:11:12.740285Z",
     "shell.execute_reply": "2022-06-15T17:11:12.739681Z"
    }
   },
   "outputs": [
    {
     "data": {
      "image/png": "[encoded data removed]",
      "text/plain": [
       "<Figure size 432x288 with 1 Axes>"
      ]
     },
     "metadata": {
      "needs_background": "light"
     },
     "output_type": "display_data"
    }
   ],
   "source": [
    "S = mzi(wl=wl, top={\"length\": 15.0 + delta_length}, btm={\"length\": 15.0})\n",
    "plt.plot(wl * 1e3, abs(S[\"o1\", \"o4\"]) ** 2)\n",
    "plt.xlabel(\"λ [nm]\")\n",
    "plt.ylabel(\"T\")\n",
    "plt.ylim(-0.05, 1.05)\n",
    "plt.plot([1550, 1550], [0, 1])\n",
    "plt.show()"
   ]
  },
  {
   "cell_type": "markdown",
   "id": "5cfb9dc1-f146-4637-abbd-247948fe4142",
   "metadata": {},
   "source": [
    "The minimum of the MZI is perfectly located at 1550nm."
   ]
  },
  {
   "cell_type": "markdown",
   "id": "a5d13cb5-987b-440b-a719-d1ff67bbca5c",
   "metadata": {},
   "source": [
    "## Model fit\n",
    "\n",
    "You can fit a sax model to Sparameter FDTD simulation data."
   ]
  },
  {
   "cell_type": "code",
   "execution_count": 30,
   "id": "4c700aca-be96-4fe1-be90-46d148e0cc9d",
   "metadata": {
    "execution": {
     "iopub.execute_input": "2022-06-15T17:11:12.743405Z",
     "iopub.status.busy": "2022-06-15T17:11:12.742973Z",
     "iopub.status.idle": "2022-06-15T17:11:12.746582Z",
     "shell.execute_reply": "2022-06-15T17:11:12.746119Z"
    }
   },
   "outputs": [],
   "source": [
    "import tqdm\n",
    "import jax\n",
    "import jax.numpy as jnp\n",
    "import jax.example_libraries.optimizers as opt\n",
    "import matplotlib.pyplot as plt\n",
    "\n",
    "import gdsfactory as gf\n",
    "import gdsfactory.simulation.modes as gm\n",
    "import gdsfactory.simulation.sax as gs"
   ]
  },
  {
   "cell_type": "code",
   "execution_count": 31,
   "id": "b4de1790-fb61-466e-b2cb-0d5d3fff330a",
   "metadata": {
    "execution": {
     "iopub.execute_input": "2022-06-15T17:11:12.749058Z",
     "iopub.status.busy": "2022-06-15T17:11:12.748643Z",
     "iopub.status.idle": "2022-06-15T17:11:12.752599Z",
     "shell.execute_reply": "2022-06-15T17:11:12.752140Z"
    }
   },
   "outputs": [
    {
     "data": {
      "text/plain": [
       "PosixPath('/home/runner/work/gdsfactory/gdsfactory/gdslib/sp')"
      ]
     },
     "execution_count": 31,
     "metadata": {},
     "output_type": "execute_result"
    }
   ],
   "source": [
    "gf.config.sparameters_path"
   ]
  },
  {
   "cell_type": "code",
   "execution_count": 32,
   "id": "169a75b6-63a8-4892-8265-06347aa30775",
   "metadata": {
    "execution": {
     "iopub.execute_input": "2022-06-15T17:11:12.755276Z",
     "iopub.status.busy": "2022-06-15T17:11:12.754696Z",
     "iopub.status.idle": "2022-06-15T17:11:12.768352Z",
     "shell.execute_reply": "2022-06-15T17:11:12.767823Z"
    }
   },
   "outputs": [],
   "source": [
    "sd = gs.read.sdict_from_csv(\n",
    "    gf.config.sparameters_path / \"coupler\" / \"coupler_G224n_L20_S220.csv\",\n",
    "    xkey=\"wavelength_nm\",\n",
    "    prefix=\"S\",\n",
    "    xunits=1e-3,\n",
    ")"
   ]
  },
  {
   "cell_type": "code",
   "execution_count": 33,
   "id": "34eaf4a2-edb2-4dd1-9856-f1a1eb9b502d",
   "metadata": {
    "execution": {
     "iopub.execute_input": "2022-06-15T17:11:12.771575Z",
     "iopub.status.busy": "2022-06-15T17:11:12.771093Z",
     "iopub.status.idle": "2022-06-15T17:11:12.775028Z",
     "shell.execute_reply": "2022-06-15T17:11:12.774524Z"
    }
   },
   "outputs": [],
   "source": [
    "coupler_fdtd = gf.partial(\n",
    "    gs.read.sdict_from_csv,\n",
    "    filepath=gf.config.sparameters_path / \"coupler\" / \"coupler_G224n_L20_S220.csv\",\n",
    "    xkey=\"wavelength_nm\",\n",
    "    prefix=\"S\",\n",
    "    xunits=1e-3,\n",
    ")"
   ]
  },
  {
   "cell_type": "code",
   "execution_count": 34,
   "id": "cb664d7e-0b19-4ffb-a904-6b7104abdd0c",
   "metadata": {
    "execution": {
     "iopub.execute_input": "2022-06-15T17:11:12.777676Z",
     "iopub.status.busy": "2022-06-15T17:11:12.777201Z",
     "iopub.status.idle": "2022-06-15T17:11:12.933771Z",
     "shell.execute_reply": "2022-06-15T17:11:12.933178Z"
    }
   },
   "outputs": [
    {
     "data": {
      "text/plain": [
       "<AxesSubplot:title={'center':'o1'}, xlabel='wavelength (nm)', ylabel='|S (dB)|'>"
      ]
     },
     "execution_count": 34,
     "metadata": {},
     "output_type": "execute_result"
    },
    {
     "data": {
      "image/png": "[encoded data removed]",
      "text/plain": [
       "<Figure size 432x288 with 1 Axes>"
      ]
     },
     "metadata": {
      "needs_background": "light"
     },
     "output_type": "display_data"
    }
   ],
   "source": [
    "gs.plot_model(coupler_fdtd)"
   ]
  },
  {
   "cell_type": "markdown",
   "id": "1a1bd051-0525-48a8-83e5-8568f8bce8ce",
   "metadata": {},
   "source": [
    "## Model fit (linear regression)\n",
    "\n",
    "Lets fit the coupler spectrum with a linear regression `sklearn` fit"
   ]
  },
  {
   "cell_type": "code",
   "execution_count": 35,
   "id": "f634095b-d1f2-464a-9931-c8d252670eb8",
   "metadata": {
    "execution": {
     "iopub.execute_input": "2022-06-15T17:11:12.936830Z",
     "iopub.status.busy": "2022-06-15T17:11:12.936245Z",
     "iopub.status.idle": "2022-06-15T17:11:13.121730Z",
     "shell.execute_reply": "2022-06-15T17:11:13.121081Z"
    }
   },
   "outputs": [],
   "source": [
    "import sax\n",
    "import gdsfactory as gf\n",
    "import gdsfactory.simulation.sax as gs\n",
    "import jax\n",
    "import jax.numpy as jnp\n",
    "import matplotlib.pyplot as plt\n",
    "from scipy.constants import c\n",
    "from sklearn.linear_model import LinearRegression"
   ]
  },
  {
   "cell_type": "code",
   "execution_count": 36,
   "id": "e5484361-3df6-4e40-a947-60fa265f71a1",
   "metadata": {
    "execution": {
     "iopub.execute_input": "2022-06-15T17:11:13.126052Z",
     "iopub.status.busy": "2022-06-15T17:11:13.125309Z",
     "iopub.status.idle": "2022-06-15T17:11:13.214035Z",
     "shell.execute_reply": "2022-06-15T17:11:13.213384Z"
    }
   },
   "outputs": [],
   "source": [
    "f = jnp.linspace(c / 1.0e-6, c / 2.0e-6, 500) * 1e-12  # THz\n",
    "wl = c / (f * 1e12) * 1e6  # um\n",
    "\n",
    "filepath = gf.config.sparameters_path / \"coupler\" / \"coupler_G224n_L20_S220.csv\"\n",
    "coupler_fdtd = gf.partial(\n",
    "    gs.read.sdict_from_csv, filepath, xkey=\"wavelength_nm\", prefix=\"S\", xunits=1e-3\n",
    ")\n",
    "sd = coupler_fdtd(wl=wl)\n",
    "\n",
    "k = sd[\"o1\", \"o3\"]\n",
    "t = sd[\"o1\", \"o4\"]\n",
    "s = t + k\n",
    "a = t - k"
   ]
  },
  {
   "cell_type": "markdown",
   "id": "8cce6788-2af1-4c74-b5f0-4fcb45a8d5ea",
   "metadata": {},
   "source": [
    "Lets fit the symmetric (t+k) and antisymmetric (t-k) transmission\n",
    "\n",
    "### Symmetric"
   ]
  },
  {
   "cell_type": "code",
   "execution_count": 37,
   "id": "1adb28b5-b2ea-496a-b5e3-cf93fab11dcd",
   "metadata": {
    "execution": {
     "iopub.execute_input": "2022-06-15T17:11:13.218283Z",
     "iopub.status.busy": "2022-06-15T17:11:13.217718Z",
     "iopub.status.idle": "2022-06-15T17:11:13.511839Z",
     "shell.execute_reply": "2022-06-15T17:11:13.511175Z"
    }
   },
   "outputs": [
    {
     "name": "stderr",
     "output_type": "stream",
     "text": [
      "WARNING:matplotlib.legend:No artists with labels found to put in legend.  Note that artists whose label start with an underscore are ignored when legend() is called with no argument.\n"
     ]
    },
    {
     "data": {
      "image/png": "[encoded data removed]",
      "text/plain": [
       "<Figure size 432x288 with 1 Axes>"
      ]
     },
     "metadata": {
      "needs_background": "light"
     },
     "output_type": "display_data"
    }
   ],
   "source": [
    "plt.plot(wl, jnp.abs(s))\n",
    "plt.grid(True)\n",
    "plt.xlabel(\"Frequency [THz]\")\n",
    "plt.ylabel(\"Transmission\")\n",
    "plt.title(\"symmetric (transmission + coupling)\")\n",
    "plt.legend()\n",
    "plt.show()"
   ]
  },
  {
   "cell_type": "code",
   "execution_count": 38,
   "id": "70dec0b5-87c9-47a7-9450-a896c23dd7c1",
   "metadata": {
    "execution": {
     "iopub.execute_input": "2022-06-15T17:11:13.515144Z",
     "iopub.status.busy": "2022-06-15T17:11:13.514817Z",
     "iopub.status.idle": "2022-06-15T17:11:13.622879Z",
     "shell.execute_reply": "2022-06-15T17:11:13.622312Z"
    }
   },
   "outputs": [
    {
     "name": "stderr",
     "output_type": "stream",
     "text": [
      "WARNING:matplotlib.legend:No artists with labels found to put in legend.  Note that artists whose label start with an underscore are ignored when legend() is called with no argument.\n"
     ]
    },
    {
     "data": {
      "image/png": "[encoded data removed]",
      "text/plain": [
       "<Figure size 432x288 with 1 Axes>"
      ]
     },
     "metadata": {
      "needs_background": "light"
     },
     "output_type": "display_data"
    }
   ],
   "source": [
    "plt.plot(wl, jnp.abs(a))\n",
    "plt.grid(True)\n",
    "plt.xlabel(\"Frequency [THz]\")\n",
    "plt.ylabel(\"Transmission\")\n",
    "plt.title(\"anti-symmetric (transmission - coupling)\")\n",
    "plt.legend()\n",
    "plt.show()"
   ]
  },
  {
   "cell_type": "code",
   "execution_count": 39,
   "id": "f8934dca-7c86-4946-85b8-277d8b3ab6ba",
   "metadata": {
    "execution": {
     "iopub.execute_input": "2022-06-15T17:11:13.626344Z",
     "iopub.status.busy": "2022-06-15T17:11:13.626118Z",
     "iopub.status.idle": "2022-06-15T17:11:13.838388Z",
     "shell.execute_reply": "2022-06-15T17:11:13.837838Z"
    }
   },
   "outputs": [
    {
     "name": "stderr",
     "output_type": "stream",
     "text": [
      "WARNING:matplotlib.legend:No artists with labels found to put in legend.  Note that artists whose label start with an underscore are ignored when legend() is called with no argument.\n"
     ]
    },
    {
     "data": {
      "image/png": "[encoded data removed]",
      "text/plain": [
       "<Figure size 432x288 with 1 Axes>"
      ]
     },
     "metadata": {
      "needs_background": "light"
     },
     "output_type": "display_data"
    }
   ],
   "source": [
    "r = LinearRegression()\n",
    "fX = lambda x, _order=8: x[:, None] ** (\n",
    "    jnp.arange(_order)[None, :]\n",
    ")  # artificially create more 'features' (wl**2, wl**3, wl**4, ...)\n",
    "X = fX(wl)\n",
    "r.fit(X, jnp.abs(s))\n",
    "asm, bsm = r.coef_, r.intercept_\n",
    "fsm = lambda x: fX(x) @ asm + bsm  # fit symmetric module fiir\n",
    "\n",
    "plt.plot(wl, jnp.abs(s))\n",
    "plt.plot(wl, fsm(wl))\n",
    "plt.grid(True)\n",
    "plt.xlabel(\"Frequency [THz]\")\n",
    "plt.ylabel(\"Transmission\")\n",
    "plt.legend()\n",
    "plt.show()"
   ]
  },
  {
   "cell_type": "code",
   "execution_count": 40,
   "id": "966f429b-5e50-4053-b678-00377aa85fb8",
   "metadata": {
    "execution": {
     "iopub.execute_input": "2022-06-15T17:11:13.842523Z",
     "iopub.status.busy": "2022-06-15T17:11:13.841523Z",
     "iopub.status.idle": "2022-06-15T17:11:14.265860Z",
     "shell.execute_reply": "2022-06-15T17:11:14.265258Z"
    }
   },
   "outputs": [
    {
     "name": "stderr",
     "output_type": "stream",
     "text": [
      "WARNING:matplotlib.legend:No artists with labels found to put in legend.  Note that artists whose label start with an underscore are ignored when legend() is called with no argument.\n"
     ]
    },
    {
     "data": {
      "image/png": "[encoded data removed]",
      "text/plain": [
       "<Figure size 432x288 with 1 Axes>"
      ]
     },
     "metadata": {
      "needs_background": "light"
     },
     "output_type": "display_data"
    }
   ],
   "source": [
    "r = LinearRegression()\n",
    "r.fit(X, jnp.unwrap(jnp.angle(s)))\n",
    "asp, bsp = r.coef_, r.intercept_\n",
    "fsp = lambda x: fX(x) @ asp + bsp  # fit symmetric phase\n",
    "\n",
    "plt.plot(wl, jnp.unwrap(jnp.angle(s)))\n",
    "plt.plot(wl, fsp(wl))\n",
    "plt.grid(True)\n",
    "plt.xlabel(\"Frequency [THz]\")\n",
    "plt.ylabel(\"Angle [deg]\")\n",
    "plt.legend()\n",
    "plt.show()"
   ]
  },
  {
   "cell_type": "code",
   "execution_count": 41,
   "id": "62faeb50-e4b7-4f68-92ba-79ce4c74b370",
   "metadata": {
    "execution": {
     "iopub.execute_input": "2022-06-15T17:11:14.269158Z",
     "iopub.status.busy": "2022-06-15T17:11:14.268929Z",
     "iopub.status.idle": "2022-06-15T17:11:14.273348Z",
     "shell.execute_reply": "2022-06-15T17:11:14.272806Z"
    }
   },
   "outputs": [],
   "source": [
    "fs = lambda x: fsm(x) * jnp.exp(1j * fsp(x))"
   ]
  },
  {
   "cell_type": "markdown",
   "id": "415e725f-01a1-4309-937f-3d8f11fa9381",
   "metadata": {},
   "source": [
    "Lets fit the symmetric (t+k) and antisymmetric (t-k) transmission\n",
    "\n",
    "### Anti-Symmetric"
   ]
  },
  {
   "cell_type": "code",
   "execution_count": 42,
   "id": "c34f17c9-3f4e-4e07-a077-ebfd33dab49d",
   "metadata": {
    "execution": {
     "iopub.execute_input": "2022-06-15T17:11:14.276522Z",
     "iopub.status.busy": "2022-06-15T17:11:14.276303Z",
     "iopub.status.idle": "2022-06-15T17:11:14.395568Z",
     "shell.execute_reply": "2022-06-15T17:11:14.394992Z"
    }
   },
   "outputs": [
    {
     "name": "stderr",
     "output_type": "stream",
     "text": [
      "WARNING:matplotlib.legend:No artists with labels found to put in legend.  Note that artists whose label start with an underscore are ignored when legend() is called with no argument.\n"
     ]
    },
    {
     "data": {
      "image/png": "[encoded data removed]",
      "text/plain": [
       "<Figure size 432x288 with 1 Axes>"
      ]
     },
     "metadata": {
      "needs_background": "light"
     },
     "output_type": "display_data"
    }
   ],
   "source": [
    "r = LinearRegression()\n",
    "r.fit(X, jnp.abs(a))\n",
    "aam, bam = r.coef_, r.intercept_\n",
    "fam = lambda x: fX(x) @ aam + bam\n",
    "\n",
    "plt.plot(wl, jnp.abs(a))\n",
    "plt.plot(wl, fam(wl))\n",
    "plt.grid(True)\n",
    "plt.xlabel(\"Frequency [THz]\")\n",
    "plt.ylabel(\"Transmission\")\n",
    "plt.legend()\n",
    "plt.show()"
   ]
  },
  {
   "cell_type": "code",
   "execution_count": 43,
   "id": "d09113f6-558b-4529-9bff-a68ceda85204",
   "metadata": {
    "execution": {
     "iopub.execute_input": "2022-06-15T17:11:14.398927Z",
     "iopub.status.busy": "2022-06-15T17:11:14.398699Z",
     "iopub.status.idle": "2022-06-15T17:11:14.506904Z",
     "shell.execute_reply": "2022-06-15T17:11:14.506329Z"
    }
   },
   "outputs": [
    {
     "name": "stderr",
     "output_type": "stream",
     "text": [
      "WARNING:matplotlib.legend:No artists with labels found to put in legend.  Note that artists whose label start with an underscore are ignored when legend() is called with no argument.\n"
     ]
    },
    {
     "data": {
      "image/png": "[encoded data removed]",
      "text/plain": [
       "<Figure size 432x288 with 1 Axes>"
      ]
     },
     "metadata": {
      "needs_background": "light"
     },
     "output_type": "display_data"
    }
   ],
   "source": [
    "r = LinearRegression()\n",
    "r.fit(X, jnp.unwrap(jnp.angle(a)))\n",
    "aap, bap = r.coef_, r.intercept_\n",
    "fap = lambda x: fX(x) @ aap + bap\n",
    "\n",
    "plt.plot(wl, jnp.unwrap(jnp.angle(a)))\n",
    "plt.plot(wl, fap(wl))\n",
    "plt.grid(True)\n",
    "plt.xlabel(\"Frequency [THz]\")\n",
    "plt.ylabel(\"Angle [deg]\")\n",
    "plt.legend()\n",
    "plt.show()"
   ]
  },
  {
   "cell_type": "code",
   "execution_count": 44,
   "id": "5ef257ed-0dd8-4754-81e8-3226e39e335d",
   "metadata": {
    "execution": {
     "iopub.execute_input": "2022-06-15T17:11:14.510244Z",
     "iopub.status.busy": "2022-06-15T17:11:14.510018Z",
     "iopub.status.idle": "2022-06-15T17:11:14.513994Z",
     "shell.execute_reply": "2022-06-15T17:11:14.513453Z"
    }
   },
   "outputs": [],
   "source": [
    "fa = lambda x: fam(x) * jnp.exp(1j * fap(x))"
   ]
  },
  {
   "cell_type": "markdown",
   "id": "b050be26-aec0-4e1c-b9f7-0ff55857ed7a",
   "metadata": {},
   "source": [
    "### Total"
   ]
  },
  {
   "cell_type": "code",
   "execution_count": 45,
   "id": "23a6debb-d8b1-4883-a4c8-1a3edaf21509",
   "metadata": {
    "execution": {
     "iopub.execute_input": "2022-06-15T17:11:14.517164Z",
     "iopub.status.busy": "2022-06-15T17:11:14.516945Z",
     "iopub.status.idle": "2022-06-15T17:11:14.730703Z",
     "shell.execute_reply": "2022-06-15T17:11:14.730117Z"
    }
   },
   "outputs": [
    {
     "data": {
      "text/plain": [
       "Text(0, 0.5, 'Transmission')"
      ]
     },
     "execution_count": 45,
     "metadata": {},
     "output_type": "execute_result"
    },
    {
     "data": {
      "image/png": "[encoded data removed]",
      "text/plain": [
       "<Figure size 432x288 with 1 Axes>"
      ]
     },
     "metadata": {
      "needs_background": "light"
     },
     "output_type": "display_data"
    }
   ],
   "source": [
    "t_ = 0.5 * (fs(wl) + fa(wl))\n",
    "\n",
    "plt.plot(wl, jnp.abs(t))\n",
    "plt.plot(wl, jnp.abs(t_))\n",
    "plt.xlabel(\"Frequency [THz]\")\n",
    "plt.ylabel(\"Transmission\")"
   ]
  },
  {
   "cell_type": "code",
   "execution_count": 46,
   "id": "fcde546f-ba9f-44e6-8c11-a012c90326f8",
   "metadata": {
    "execution": {
     "iopub.execute_input": "2022-06-15T17:11:14.734205Z",
     "iopub.status.busy": "2022-06-15T17:11:14.733976Z",
     "iopub.status.idle": "2022-06-15T17:11:14.858624Z",
     "shell.execute_reply": "2022-06-15T17:11:14.858039Z"
    }
   },
   "outputs": [
    {
     "data": {
      "text/plain": [
       "Text(0, 0.5, 'Coupling')"
      ]
     },
     "execution_count": 46,
     "metadata": {},
     "output_type": "execute_result"
    },
    {
     "data": {
      "image/png": "[encoded data removed]",
      "text/plain": [
       "<Figure size 432x288 with 1 Axes>"
      ]
     },
     "metadata": {
      "needs_background": "light"
     },
     "output_type": "display_data"
    }
   ],
   "source": [
    "k_ = 0.5 * (fs(wl) - fa(wl))\n",
    "\n",
    "plt.plot(wl, jnp.abs(k))\n",
    "plt.plot(wl, jnp.abs(k_))\n",
    "plt.xlabel(\"Frequency [THz]\")\n",
    "plt.ylabel(\"Coupling\")"
   ]
  },
  {
   "cell_type": "code",
   "execution_count": 47,
   "id": "3a31d6a7-909e-46b7-b593-33cce3986bf4",
   "metadata": {
    "execution": {
     "iopub.execute_input": "2022-06-15T17:11:14.862097Z",
     "iopub.status.busy": "2022-06-15T17:11:14.861875Z",
     "iopub.status.idle": "2022-06-15T17:11:14.867252Z",
     "shell.execute_reply": "2022-06-15T17:11:14.866725Z"
    }
   },
   "outputs": [],
   "source": [
    "@jax.jit\n",
    "def coupler(wl=1.5):\n",
    "    wl = jnp.asarray(wl)\n",
    "    wl_shape = wl.shape\n",
    "    wl = wl.ravel()\n",
    "    t = (0.5 * (fs(wl) + fa(wl))).reshape(*wl_shape)\n",
    "    k = (0.5 * (fs(wl) - fa(wl))).reshape(*wl_shape)\n",
    "    sdict = {\n",
    "        (\"o1\", \"o4\"): t,\n",
    "        (\"o1\", \"o3\"): k,\n",
    "        (\"o2\", \"o3\"): k,\n",
    "        (\"o2\", \"o4\"): t,\n",
    "    }\n",
    "    return sax.reciprocal(sdict)"
   ]
  },
  {
   "cell_type": "code",
   "execution_count": 48,
   "id": "1c27fdcf-9287-4e7d-b75a-86806ebc048e",
   "metadata": {
    "execution": {
     "iopub.execute_input": "2022-06-15T17:11:14.870412Z",
     "iopub.status.busy": "2022-06-15T17:11:14.870192Z",
     "iopub.status.idle": "2022-06-15T17:11:15.416957Z",
     "shell.execute_reply": "2022-06-15T17:11:15.415830Z"
    }
   },
   "outputs": [
    {
     "data": {
      "image/png": "[encoded data removed]",
      "text/plain": [
       "<Figure size 864x216 with 2 Axes>"
      ]
     },
     "metadata": {
      "needs_background": "light"
     },
     "output_type": "display_data"
    }
   ],
   "source": [
    "f = jnp.linspace(c / 1.0e-6, c / 2.0e-6, 500) * 1e-12  # THz\n",
    "wl = c / (f * 1e12) * 1e6  # um\n",
    "\n",
    "filepath = gf.config.sparameters_path / \"coupler\" / \"coupler_G224n_L20_S220.csv\"\n",
    "coupler_fdtd = gf.partial(\n",
    "    gs.read.sdict_from_csv, filepath, xkey=\"wavelength_nm\", prefix=\"S\", xunits=1e-3\n",
    ")\n",
    "sd = coupler_fdtd(wl=wl)\n",
    "sd_ = coupler(wl=wl)\n",
    "\n",
    "T = jnp.abs(sd[\"o1\", \"o4\"]) ** 2\n",
    "K = jnp.abs(sd[\"o1\", \"o3\"]) ** 2\n",
    "T_ = jnp.abs(sd_[\"o1\", \"o4\"]) ** 2\n",
    "K_ = jnp.abs(sd_[\"o1\", \"o3\"]) ** 2\n",
    "dP = jnp.unwrap(jnp.angle(sd[\"o1\", \"o3\"]) - jnp.angle(sd[\"o1\", \"o4\"]))\n",
    "dP_ = jnp.unwrap(jnp.angle(sd_[\"o1\", \"o3\"]) - jnp.angle(sd_[\"o1\", \"o4\"]))\n",
    "\n",
    "plt.figure(figsize=(12, 3))\n",
    "plt.plot(wl, T, label=\"T (fdtd)\", c=\"C0\", ls=\":\", lw=\"6\")\n",
    "plt.plot(wl, T_, label=\"T (model)\", c=\"C0\")\n",
    "\n",
    "plt.plot(wl, K, label=\"K (fdtd)\", c=\"C1\", ls=\":\", lw=\"6\")\n",
    "plt.plot(wl, K_, label=\"K (model)\", c=\"C1\")\n",
    "\n",
    "plt.ylim(-0.05, 1.05)\n",
    "plt.grid(True)\n",
    "\n",
    "plt.twinx()\n",
    "plt.plot(wl, dP, label=\"ΔΦ (fdtd)\", color=\"C2\", ls=\":\", lw=\"6\")\n",
    "plt.plot(wl, dP_, label=\"ΔΦ (model)\", color=\"C2\")\n",
    "\n",
    "plt.xlabel(\"Frequency [THz]\")\n",
    "plt.ylabel(\"Transmission\")\n",
    "plt.figlegend(bbox_to_anchor=(1.08, 0.9))\n",
    "plt.savefig(\"fdtd_vs_model.png\", bbox_inches=\"tight\")\n",
    "plt.show()"
   ]
  },
  {
   "cell_type": "markdown",
   "id": "6fc2a468-3275-4a26-a0c8-c99a10e90df2",
   "metadata": {},
   "source": [
    "## SAX gdsfactory Compatibility\n",
    "> From Layout to Circuit Model\n",
    "\n",
    "If you define your SAX S parameter models for your components, you can directly simulate your circuits from gdsfactory"
   ]
  },
  {
   "cell_type": "code",
   "execution_count": 49,
   "id": "dfa5715c-dd06-4cae-a391-2230080a4283",
   "metadata": {
    "execution": {
     "iopub.execute_input": "2022-06-15T17:11:15.420457Z",
     "iopub.status.busy": "2022-06-15T17:11:15.419980Z",
     "iopub.status.idle": "2022-06-15T17:11:15.425339Z",
     "shell.execute_reply": "2022-06-15T17:11:15.424816Z"
    }
   },
   "outputs": [],
   "source": [
    "import matplotlib.pyplot as plt\n",
    "import numpy as np\n",
    "import jax.numpy as jnp\n",
    "from omegaconf import OmegaConf\n",
    "import sax\n",
    "from pprint import pprint\n",
    "\n",
    "import gdsfactory as gf\n",
    "from gdsfactory.get_netlist import get_netlist as _get_netlist"
   ]
  },
  {
   "cell_type": "code",
   "execution_count": 50,
   "id": "80da2a80-cfbe-442a-a201-7263fda8c6df",
   "metadata": {
    "execution": {
     "iopub.execute_input": "2022-06-15T17:11:15.428422Z",
     "iopub.status.busy": "2022-06-15T17:11:15.428118Z",
     "iopub.status.idle": "2022-06-15T17:11:15.751211Z",
     "shell.execute_reply": "2022-06-15T17:11:15.750628Z"
    }
   },
   "outputs": [
    {
     "data": {
      "image/png": "[encoded data removed]",
      "text/plain": [
       "<Figure size 432x288 with 1 Axes>"
      ]
     },
     "metadata": {
      "needs_background": "light"
     },
     "output_type": "display_data"
    },
    {
     "data": {
      "text/html": [
       "mzi: uid 6, ports ['o1', 'o2'], aliases [], 0 polygons, 20 references"
      ],
      "text/plain": [
       "mzi: uid 6, ports ['o1', 'o2'], aliases [], 0 polygons, 20 references"
      ]
     },
     "execution_count": 50,
     "metadata": {},
     "output_type": "execute_result"
    }
   ],
   "source": [
    "mzi = gf.components.mzi(delta_length=10)\n",
    "mzi"
   ]
  },
  {
   "cell_type": "code",
   "execution_count": 51,
   "id": "64287264-61d0-4d77-96cc-8401a140f3a0",
   "metadata": {
    "execution": {
     "iopub.execute_input": "2022-06-15T17:11:15.754046Z",
     "iopub.status.busy": "2022-06-15T17:11:15.753811Z",
     "iopub.status.idle": "2022-06-15T17:11:15.801529Z",
     "shell.execute_reply": "2022-06-15T17:11:15.800857Z"
    }
   },
   "outputs": [
    {
     "name": "stdout",
     "output_type": "stream",
     "text": [
      "{'bend_euler_20p624_5p5,o1': 'mmi1x2_2p75_0p0,o2',\n",
      " 'bend_euler_20p624_5p5,o2': 'straight_length2_25p5_11p625,o1',\n",
      " 'bend_euler_20p624_m5p5,o1': 'mmi1x2_2p75_0p0,o3',\n",
      " 'bend_euler_20p624_m5p5,o2': 'straight_length7_25p5_m14p125,o1',\n",
      " 'bend_euler_30p376_17p75,o1': 'straight_length0p1_35p55_22p625,o1',\n",
      " 'bend_euler_30p376_17p75,o2': 'straight_length2_25p5_11p625,o2',\n",
      " 'bend_euler_30p376_m22p749,o1': 'straight_length7_25p5_m14p125,o2',\n",
      " 'bend_euler_30p376_m22p749,o2': 'straight_length0p1_35p55_m27p625,o1',\n",
      " 'bend_euler_40p816_17p75,o1': 'straight_381a0e44_35p646_22p625,o2',\n",
      " 'bend_euler_40p816_17p75,o2': 'straight_814c0ee5_45p691_11p625,o1',\n",
      " 'bend_euler_40p816_m22p749,o1': 'straight_381a0e44_35p646_m27p625,o2',\n",
      " 'bend_euler_40p816_m22p749,o2': 'straight_687d5eec_45p691_m14p125,o1',\n",
      " 'bend_euler_50p567_5p5,o1': 'straight_814c0ee5_45p691_11p625,o2',\n",
      " 'bend_euler_50p567_5p5,o2': 'straight_77b336e2_55p696_0p625,o1',\n",
      " 'bend_euler_50p567_m5p5,o1': 'straight_687d5eec_45p691_m14p125,o2',\n",
      " 'bend_euler_50p567_m5p5,o2': 'straight_77b336e2_55p696_m0p625,o1',\n",
      " 'mmi1x2_68p451_0p0,o2': 'straight_77b336e2_55p696_0p625,o2',\n",
      " 'mmi1x2_68p451_0p0,o3': 'straight_77b336e2_55p696_m0p625,o2',\n",
      " 'straight_381a0e44_35p646_22p625,o1': 'straight_length0p1_35p55_22p625,o2',\n",
      " 'straight_381a0e44_35p646_m27p625,o1': 'straight_length0p1_35p55_m27p625,o2'}\n"
     ]
    }
   ],
   "source": [
    "netlist = mzi.get_netlist_dict()\n",
    "pprint(netlist[\"connections\"])"
   ]
  },
  {
   "cell_type": "markdown",
   "id": "2aa882fe-6b2e-499e-8370-e33e5a14f486",
   "metadata": {},
   "source": [
    "The netlist has three different components:\n",
    "\n",
    "1. straight\n",
    "2. mmi1x2\n",
    "3. bend_euler\n",
    "\n",
    "You need models for each subcomponents to simulate the Component."
   ]
  },
  {
   "cell_type": "code",
   "execution_count": 52,
   "id": "4f497b61-d519-48cc-8a22-c6f51ede482f",
   "metadata": {
    "execution": {
     "iopub.execute_input": "2022-06-15T17:11:15.804276Z",
     "iopub.status.busy": "2022-06-15T17:11:15.804064Z",
     "iopub.status.idle": "2022-06-15T17:11:15.809356Z",
     "shell.execute_reply": "2022-06-15T17:11:15.808721Z"
    }
   },
   "outputs": [],
   "source": [
    "def straight(wl=1.5, length=10.0, neff=2.4) -> sax.SDict:\n",
    "    wl0 = 1.5  # center wavelength for which the waveguide model is defined\n",
    "    return sax.reciprocal({(\"o1\", \"o2\"): jnp.exp(2j * jnp.pi * neff * length / wl)})\n",
    "\n",
    "\n",
    "def mmi1x2():\n",
    "    \"\"\"Assumes a perfect 1x2 splitter\"\"\"\n",
    "    return sax.reciprocal(\n",
    "        {\n",
    "            (\"o1\", \"o2\"): 0.5**0.5,\n",
    "            (\"o1\", \"o3\"): 0.5**0.5,\n",
    "        }\n",
    "    )\n",
    "\n",
    "\n",
    "def bend_euler(wl=1.5, length=20.0):\n",
    "    \"\"\" \"Let's assume a reduced transmission for the euler bend compared to a straight\"\"\"\n",
    "    return {k: 0.99 * v for k, v in straight(wl=wl, length=length).items()}"
   ]
  },
  {
   "cell_type": "code",
   "execution_count": 53,
   "id": "c05bf3d4-e3b9-483f-a6ac-002dec46bb90",
   "metadata": {
    "execution": {
     "iopub.execute_input": "2022-06-15T17:11:15.811954Z",
     "iopub.status.busy": "2022-06-15T17:11:15.811748Z",
     "iopub.status.idle": "2022-06-15T17:11:15.836753Z",
     "shell.execute_reply": "2022-06-15T17:11:15.836091Z"
    }
   },
   "outputs": [],
   "source": [
    "circuit = sax.circuit_from_netlist(\n",
    "    netlist=netlist,\n",
    "    models={\n",
    "        \"bend_euler\": bend_euler,\n",
    "        \"mmi1x2\": mmi1x2,\n",
    "        \"straight\": straight,\n",
    "    },\n",
    ")"
   ]
  },
  {
   "cell_type": "code",
   "execution_count": 54,
   "id": "3267aaac-1af2-4cae-8b87-9abb7338068a",
   "metadata": {
    "execution": {
     "iopub.execute_input": "2022-06-15T17:11:15.839495Z",
     "iopub.status.busy": "2022-06-15T17:11:15.839274Z",
     "iopub.status.idle": "2022-06-15T17:11:17.883055Z",
     "shell.execute_reply": "2022-06-15T17:11:17.882523Z"
    }
   },
   "outputs": [
    {
     "data": {
      "image/png": "[encoded data removed]",
      "text/plain": [
       "<Figure size 1008x288 with 1 Axes>"
      ]
     },
     "metadata": {
      "needs_background": "light"
     },
     "output_type": "display_data"
    }
   ],
   "source": [
    "wl = np.linspace(1.5, 1.6)\n",
    "S = circuit(wl=wl)\n",
    "\n",
    "plt.figure(figsize=(14, 4))\n",
    "plt.title(\"MZI\")\n",
    "plt.plot(1e3 * wl, jnp.abs(S[\"o1\", \"o2\"]) ** 2)\n",
    "plt.xlabel(\"λ [nm]\")\n",
    "plt.ylabel(\"T\")\n",
    "plt.grid(True)\n",
    "plt.show()"
   ]
  },
  {
   "cell_type": "code",
   "execution_count": 55,
   "id": "980c2aa4-edca-4663-8777-193cbd6f1ece",
   "metadata": {
    "execution": {
     "iopub.execute_input": "2022-06-15T17:11:17.886582Z",
     "iopub.status.busy": "2022-06-15T17:11:17.886144Z",
     "iopub.status.idle": "2022-06-15T17:11:18.190744Z",
     "shell.execute_reply": "2022-06-15T17:11:18.190130Z"
    }
   },
   "outputs": [
    {
     "data": {
      "image/png": "[encoded data removed]",
      "text/plain": [
       "<Figure size 432x288 with 1 Axes>"
      ]
     },
     "metadata": {
      "needs_background": "light"
     },
     "output_type": "display_data"
    },
    {
     "data": {
      "text/html": [
       "mzi_delta_length20: uid 20, ports ['o1', 'o2'], aliases [], 0 polygons, 20 references"
      ],
      "text/plain": [
       "mzi_delta_length20: uid 20, ports ['o1', 'o2'], aliases [], 0 polygons, 20 references"
      ]
     },
     "execution_count": 55,
     "metadata": {},
     "output_type": "execute_result"
    }
   ],
   "source": [
    "mzi = gf.components.mzi(delta_length=20) # Double the length, reduces FSR by 1/2\n",
    "mzi"
   ]
  },
  {
   "cell_type": "code",
   "execution_count": 56,
   "id": "e0661af0-0131-41fd-a197-9bcc9d04996a",
   "metadata": {
    "execution": {
     "iopub.execute_input": "2022-06-15T17:11:18.193580Z",
     "iopub.status.busy": "2022-06-15T17:11:18.193224Z",
     "iopub.status.idle": "2022-06-15T17:11:20.238107Z",
     "shell.execute_reply": "2022-06-15T17:11:20.237578Z"
    }
   },
   "outputs": [
    {
     "data": {
      "image/png": "[encoded data removed]",
      "text/plain": [
       "<Figure size 1008x288 with 1 Axes>"
      ]
     },
     "metadata": {
      "needs_background": "light"
     },
     "output_type": "display_data"
    }
   ],
   "source": [
    "circuit = sax.circuit_from_netlist(\n",
    "    netlist=mzi.get_netlist_dict(),\n",
    "    models={\n",
    "        \"bend_euler\": bend_euler,\n",
    "        \"mmi1x2\": mmi1x2,\n",
    "        \"straight\": straight,\n",
    "    },\n",
    ")\n",
    "\n",
    "wl = np.linspace(1.5, 1.6, 256)\n",
    "S = circuit(wl=wl)\n",
    "\n",
    "plt.figure(figsize=(14, 4))\n",
    "plt.title(\"MZI\")\n",
    "plt.plot(1e3 * wl, jnp.abs(S[\"o1\", \"o2\"]) ** 2)\n",
    "plt.xlabel(\"λ [nm]\")\n",
    "plt.ylabel(\"T\")\n",
    "plt.grid(True)\n",
    "plt.show()"
   ]
  },
  {
   "cell_type": "code",
   "execution_count": null,
   "id": "6651c231",
   "metadata": {},
   "outputs": [],
   "source": []
  }
 ],
 "metadata": {
  "kernelspec": {
   "display_name": "Python 3 (ipykernel)",
   "language": "python",
   "name": "python3"
  },
  "language_info": {
   "codemirror_mode": {
    "name": "ipython",
    "version": 3
   },
   "file_extension": ".py",
   "mimetype": "text/x-python",
   "name": "python",
   "nbconvert_exporter": "python",
   "pygments_lexer": "ipython3",
   "version": "3.9.13"
  }
 },
 "nbformat": 4,
 "nbformat_minor": 5
}
